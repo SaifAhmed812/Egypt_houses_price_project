{
 "cells": [
  {
   "cell_type": "markdown",
   "metadata": {},
   "source": [
    "<a id=\"2\"></a>\n",
    "# <p style=\"padding:10px;background-color:#00A08B;margin:0;color:White;font-family:newtimeroman;font-size:100%;text-align:center;border-radius: 15px 50px;overflow:hidden;font-weight:500\">Importing libraries</p>"
   ]
  },
  {
   "cell_type": "code",
   "execution_count": 119,
   "metadata": {},
   "outputs": [],
   "source": [
    "import numpy as np\n",
    "import pandas as pd\n",
    "import plotly.express as px\n",
    "import seaborn as sns\n",
    "import matplotlib.pyplot as plt\n",
    "import plotly.io as pio\n",
    "from   plotly.subplots import make_subplots"
   ]
  },
  {
   "cell_type": "code",
   "execution_count": 120,
   "metadata": {},
   "outputs": [],
   "source": [
    "df = pd.read_csv(\"Egypt_Houses_Price.csv\")"
   ]
  },
  {
   "cell_type": "code",
   "execution_count": 121,
   "metadata": {},
   "outputs": [
    {
     "data": {
      "text/html": [
       "<div>\n",
       "<style scoped>\n",
       "    .dataframe tbody tr th:only-of-type {\n",
       "        vertical-align: middle;\n",
       "    }\n",
       "\n",
       "    .dataframe tbody tr th {\n",
       "        vertical-align: top;\n",
       "    }\n",
       "\n",
       "    .dataframe thead th {\n",
       "        text-align: right;\n",
       "    }\n",
       "</style>\n",
       "<table border=\"1\" class=\"dataframe\">\n",
       "  <thead>\n",
       "    <tr style=\"text-align: right;\">\n",
       "      <th></th>\n",
       "      <th>Type</th>\n",
       "      <th>Price</th>\n",
       "      <th>Bedrooms</th>\n",
       "      <th>Bathrooms</th>\n",
       "      <th>Area</th>\n",
       "      <th>Furnished</th>\n",
       "      <th>Level</th>\n",
       "      <th>Compound</th>\n",
       "      <th>Payment_Option</th>\n",
       "      <th>Delivery_Date</th>\n",
       "      <th>Delivery_Term</th>\n",
       "      <th>City</th>\n",
       "    </tr>\n",
       "  </thead>\n",
       "  <tbody>\n",
       "    <tr>\n",
       "      <th>0</th>\n",
       "      <td>Duplex</td>\n",
       "      <td>4000000</td>\n",
       "      <td>3.0</td>\n",
       "      <td>3.0</td>\n",
       "      <td>400.0</td>\n",
       "      <td>No</td>\n",
       "      <td>7</td>\n",
       "      <td>Unknown</td>\n",
       "      <td>Cash</td>\n",
       "      <td>Ready to move</td>\n",
       "      <td>Finished</td>\n",
       "      <td>Nasr City</td>\n",
       "    </tr>\n",
       "    <tr>\n",
       "      <th>1</th>\n",
       "      <td>Apartment</td>\n",
       "      <td>4000000</td>\n",
       "      <td>3.0</td>\n",
       "      <td>3.0</td>\n",
       "      <td>160.0</td>\n",
       "      <td>No</td>\n",
       "      <td>10+</td>\n",
       "      <td>Unknown</td>\n",
       "      <td>Cash</td>\n",
       "      <td>Ready to move</td>\n",
       "      <td>Finished</td>\n",
       "      <td>Camp Caesar</td>\n",
       "    </tr>\n",
       "    <tr>\n",
       "      <th>2</th>\n",
       "      <td>Apartment</td>\n",
       "      <td>2250000</td>\n",
       "      <td>3.0</td>\n",
       "      <td>2.0</td>\n",
       "      <td>165.0</td>\n",
       "      <td>No</td>\n",
       "      <td>1</td>\n",
       "      <td>Unknown</td>\n",
       "      <td>Cash</td>\n",
       "      <td>Ready to move</td>\n",
       "      <td>Finished</td>\n",
       "      <td>Smoha</td>\n",
       "    </tr>\n",
       "    <tr>\n",
       "      <th>3</th>\n",
       "      <td>Apartment</td>\n",
       "      <td>1900000</td>\n",
       "      <td>3.0</td>\n",
       "      <td>2.0</td>\n",
       "      <td>230.0</td>\n",
       "      <td>No</td>\n",
       "      <td>10</td>\n",
       "      <td>Unknown</td>\n",
       "      <td>Cash</td>\n",
       "      <td>Ready to move</td>\n",
       "      <td>Finished</td>\n",
       "      <td>Nasr City</td>\n",
       "    </tr>\n",
       "    <tr>\n",
       "      <th>4</th>\n",
       "      <td>Apartment</td>\n",
       "      <td>5800000</td>\n",
       "      <td>2.0</td>\n",
       "      <td>3.0</td>\n",
       "      <td>160.0</td>\n",
       "      <td>No</td>\n",
       "      <td>Ground</td>\n",
       "      <td>Eastown</td>\n",
       "      <td>Cash</td>\n",
       "      <td>Ready to move</td>\n",
       "      <td>Semi Finished</td>\n",
       "      <td>New Cairo - El Tagamoa</td>\n",
       "    </tr>\n",
       "    <tr>\n",
       "      <th>...</th>\n",
       "      <td>...</td>\n",
       "      <td>...</td>\n",
       "      <td>...</td>\n",
       "      <td>...</td>\n",
       "      <td>...</td>\n",
       "      <td>...</td>\n",
       "      <td>...</td>\n",
       "      <td>...</td>\n",
       "      <td>...</td>\n",
       "      <td>...</td>\n",
       "      <td>...</td>\n",
       "      <td>...</td>\n",
       "    </tr>\n",
       "    <tr>\n",
       "      <th>27356</th>\n",
       "      <td>Town House</td>\n",
       "      <td>890000</td>\n",
       "      <td>3.0</td>\n",
       "      <td>2.0</td>\n",
       "      <td>240.0</td>\n",
       "      <td>Unknown</td>\n",
       "      <td>Unknown</td>\n",
       "      <td>Unknown</td>\n",
       "      <td>Unknown Payment</td>\n",
       "      <td>Unknown</td>\n",
       "      <td>Unknown</td>\n",
       "      <td>North Coast</td>\n",
       "    </tr>\n",
       "    <tr>\n",
       "      <th>27357</th>\n",
       "      <td>Town House</td>\n",
       "      <td>4000000</td>\n",
       "      <td>4.0</td>\n",
       "      <td>3.0</td>\n",
       "      <td>218.0</td>\n",
       "      <td>Unknown</td>\n",
       "      <td>Unknown</td>\n",
       "      <td>Unknown</td>\n",
       "      <td>Cash or Installment</td>\n",
       "      <td>Unknown</td>\n",
       "      <td>Finished</td>\n",
       "      <td>New Cairo - El Tagamoa</td>\n",
       "    </tr>\n",
       "    <tr>\n",
       "      <th>27358</th>\n",
       "      <td>Twin House</td>\n",
       "      <td>13800000</td>\n",
       "      <td>3.0</td>\n",
       "      <td>4.0</td>\n",
       "      <td>308.0</td>\n",
       "      <td>No</td>\n",
       "      <td>Unknown</td>\n",
       "      <td>Cairo Festival City</td>\n",
       "      <td>Cash</td>\n",
       "      <td>Ready to move</td>\n",
       "      <td>Semi Finished</td>\n",
       "      <td>New Cairo - El Tagamoa</td>\n",
       "    </tr>\n",
       "    <tr>\n",
       "      <th>27359</th>\n",
       "      <td>Stand Alone Villa</td>\n",
       "      <td>35000000</td>\n",
       "      <td>4.0</td>\n",
       "      <td>4.0</td>\n",
       "      <td>478.0</td>\n",
       "      <td>Unknown</td>\n",
       "      <td>Unknown</td>\n",
       "      <td>Unknown</td>\n",
       "      <td>Unknown Payment</td>\n",
       "      <td>Unknown</td>\n",
       "      <td>Finished</td>\n",
       "      <td>Mokattam</td>\n",
       "    </tr>\n",
       "    <tr>\n",
       "      <th>27360</th>\n",
       "      <td>Stand Alone Villa</td>\n",
       "      <td>4800000</td>\n",
       "      <td>5.0</td>\n",
       "      <td>5.0</td>\n",
       "      <td>NaN</td>\n",
       "      <td>No</td>\n",
       "      <td>Unknown</td>\n",
       "      <td>Unknown</td>\n",
       "      <td>Cash</td>\n",
       "      <td>Unknown</td>\n",
       "      <td>Finished</td>\n",
       "      <td>Sheikh Zayed</td>\n",
       "    </tr>\n",
       "  </tbody>\n",
       "</table>\n",
       "<p>27361 rows × 12 columns</p>\n",
       "</div>"
      ],
      "text/plain": [
       "                    Type     Price Bedrooms Bathrooms   Area Furnished  \\\n",
       "0                 Duplex   4000000      3.0       3.0  400.0        No   \n",
       "1              Apartment   4000000      3.0       3.0  160.0        No   \n",
       "2              Apartment   2250000      3.0       2.0  165.0        No   \n",
       "3              Apartment   1900000      3.0       2.0  230.0        No   \n",
       "4              Apartment   5800000      2.0       3.0  160.0        No   \n",
       "...                  ...       ...      ...       ...    ...       ...   \n",
       "27356         Town House    890000      3.0       2.0  240.0   Unknown   \n",
       "27357         Town House   4000000      4.0       3.0  218.0   Unknown   \n",
       "27358         Twin House  13800000      3.0       4.0  308.0        No   \n",
       "27359  Stand Alone Villa  35000000      4.0       4.0  478.0   Unknown   \n",
       "27360  Stand Alone Villa   4800000      5.0       5.0    NaN        No   \n",
       "\n",
       "         Level             Compound       Payment_Option  Delivery_Date  \\\n",
       "0            7              Unknown                 Cash  Ready to move   \n",
       "1          10+              Unknown                 Cash  Ready to move   \n",
       "2            1              Unknown                 Cash  Ready to move   \n",
       "3           10              Unknown                 Cash  Ready to move   \n",
       "4       Ground              Eastown                 Cash  Ready to move   \n",
       "...        ...                  ...                  ...            ...   \n",
       "27356  Unknown              Unknown      Unknown Payment        Unknown   \n",
       "27357  Unknown              Unknown  Cash or Installment        Unknown   \n",
       "27358  Unknown  Cairo Festival City                 Cash  Ready to move   \n",
       "27359  Unknown              Unknown      Unknown Payment        Unknown   \n",
       "27360  Unknown              Unknown                 Cash        Unknown   \n",
       "\n",
       "       Delivery_Term                    City  \n",
       "0           Finished               Nasr City  \n",
       "1           Finished             Camp Caesar  \n",
       "2           Finished                   Smoha  \n",
       "3           Finished               Nasr City  \n",
       "4      Semi Finished  New Cairo - El Tagamoa  \n",
       "...              ...                     ...  \n",
       "27356       Unknown              North Coast  \n",
       "27357       Finished  New Cairo - El Tagamoa  \n",
       "27358  Semi Finished  New Cairo - El Tagamoa  \n",
       "27359       Finished                Mokattam  \n",
       "27360       Finished            Sheikh Zayed  \n",
       "\n",
       "[27361 rows x 12 columns]"
      ]
     },
     "execution_count": 121,
     "metadata": {},
     "output_type": "execute_result"
    }
   ],
   "source": [
    "df"
   ]
  },
  {
   "cell_type": "code",
   "execution_count": 122,
   "metadata": {},
   "outputs": [
    {
     "name": "stdout",
     "output_type": "stream",
     "text": [
      "<class 'pandas.core.frame.DataFrame'>\n",
      "RangeIndex: 27361 entries, 0 to 27360\n",
      "Data columns (total 12 columns):\n",
      " #   Column          Non-Null Count  Dtype \n",
      "---  ------          --------------  ----- \n",
      " 0   Type            27361 non-null  object\n",
      " 1   Price           27359 non-null  object\n",
      " 2   Bedrooms        27158 non-null  object\n",
      " 3   Bathrooms       27190 non-null  object\n",
      " 4   Area            26890 non-null  object\n",
      " 5   Furnished       27361 non-null  object\n",
      " 6   Level           27361 non-null  object\n",
      " 7   Compound        27361 non-null  object\n",
      " 8   Payment_Option  27361 non-null  object\n",
      " 9   Delivery_Date   27361 non-null  object\n",
      " 10  Delivery_Term   27361 non-null  object\n",
      " 11  City            27361 non-null  object\n",
      "dtypes: object(12)\n",
      "memory usage: 2.5+ MB\n"
     ]
    }
   ],
   "source": [
    "df.info()"
   ]
  },
  {
   "cell_type": "markdown",
   "metadata": {},
   "source": [
    "<a id=\"1\"></a>\n",
    "# <p style=\"padding:10px;background-color:#00A08B;margin:0;color:White;font-family:Georgia;font-size:100%;text-align:center;border-radius: 15px 50px;overflow:hidden;font-weight:500\">Cleaning Data</p>"
   ]
  },
  {
   "cell_type": "code",
   "execution_count": 123,
   "metadata": {},
   "outputs": [],
   "source": [
    "df.replace(\"Unknown\", np.nan , inplace =True)\n",
    "df.replace(\"Unknown \", np.nan , inplace =True)"
   ]
  },
  {
   "cell_type": "code",
   "execution_count": 124,
   "metadata": {},
   "outputs": [],
   "source": [
    "df.dropna(inplace = True)"
   ]
  },
  {
   "cell_type": "code",
   "execution_count": 125,
   "metadata": {},
   "outputs": [],
   "source": [
    "df = df.convert_dtypes()"
   ]
  },
  {
   "cell_type": "code",
   "execution_count": 126,
   "metadata": {},
   "outputs": [],
   "source": [
    "df[\"Price\"] = df.Price.astype(\"int32\")\n",
    "df[\"Bedrooms\"] = df.Bedrooms.astype(\"float32\")\n",
    "df[\"Bathrooms\"] = df.Bathrooms.astype(\"float32\")\n",
    "df[\"Area\"] = df.Area.astype(\"float32\")"
   ]
  },
  {
   "cell_type": "code",
   "execution_count": 127,
   "metadata": {},
   "outputs": [
    {
     "data": {
      "text/html": [
       "<div>\n",
       "<style scoped>\n",
       "    .dataframe tbody tr th:only-of-type {\n",
       "        vertical-align: middle;\n",
       "    }\n",
       "\n",
       "    .dataframe tbody tr th {\n",
       "        vertical-align: top;\n",
       "    }\n",
       "\n",
       "    .dataframe thead th {\n",
       "        text-align: right;\n",
       "    }\n",
       "</style>\n",
       "<table border=\"1\" class=\"dataframe\">\n",
       "  <thead>\n",
       "    <tr style=\"text-align: right;\">\n",
       "      <th></th>\n",
       "      <th>Type</th>\n",
       "      <th>Price</th>\n",
       "      <th>Bedrooms</th>\n",
       "      <th>Bathrooms</th>\n",
       "      <th>Area</th>\n",
       "      <th>Furnished</th>\n",
       "      <th>Level</th>\n",
       "      <th>Compound</th>\n",
       "      <th>Payment_Option</th>\n",
       "      <th>Delivery_Date</th>\n",
       "      <th>Delivery_Term</th>\n",
       "      <th>City</th>\n",
       "    </tr>\n",
       "  </thead>\n",
       "  <tbody>\n",
       "    <tr>\n",
       "      <th>0</th>\n",
       "      <td>Apartment</td>\n",
       "      <td>5800000</td>\n",
       "      <td>2.0</td>\n",
       "      <td>3.0</td>\n",
       "      <td>160.0</td>\n",
       "      <td>No</td>\n",
       "      <td>Ground</td>\n",
       "      <td>Eastown</td>\n",
       "      <td>Cash</td>\n",
       "      <td>Ready to move</td>\n",
       "      <td>Semi Finished</td>\n",
       "      <td>New Cairo - El Tagamoa</td>\n",
       "    </tr>\n",
       "    <tr>\n",
       "      <th>1</th>\n",
       "      <td>Apartment</td>\n",
       "      <td>1844900</td>\n",
       "      <td>4.0</td>\n",
       "      <td>3.0</td>\n",
       "      <td>222.0</td>\n",
       "      <td>No</td>\n",
       "      <td>1</td>\n",
       "      <td>Beit Al Watan</td>\n",
       "      <td>Cash or Installment</td>\n",
       "      <td>2024</td>\n",
       "      <td>Semi Finished</td>\n",
       "      <td>New Cairo - El Tagamoa</td>\n",
       "    </tr>\n",
       "    <tr>\n",
       "      <th>2</th>\n",
       "      <td>Duplex</td>\n",
       "      <td>3900000</td>\n",
       "      <td>5.0</td>\n",
       "      <td>5.0</td>\n",
       "      <td>290.0</td>\n",
       "      <td>No</td>\n",
       "      <td>Highest</td>\n",
       "      <td>Jayd</td>\n",
       "      <td>Unknown Payment</td>\n",
       "      <td>Ready to move</td>\n",
       "      <td>Finished</td>\n",
       "      <td>New Cairo - El Tagamoa</td>\n",
       "    </tr>\n",
       "    <tr>\n",
       "      <th>3</th>\n",
       "      <td>Apartment</td>\n",
       "      <td>1650000</td>\n",
       "      <td>2.0</td>\n",
       "      <td>2.0</td>\n",
       "      <td>144.0</td>\n",
       "      <td>No</td>\n",
       "      <td>1</td>\n",
       "      <td>Zayed 2000</td>\n",
       "      <td>Unknown Payment</td>\n",
       "      <td>Ready to move</td>\n",
       "      <td>Finished</td>\n",
       "      <td>Sheikh Zayed</td>\n",
       "    </tr>\n",
       "    <tr>\n",
       "      <th>4</th>\n",
       "      <td>Apartment</td>\n",
       "      <td>309825</td>\n",
       "      <td>4.0</td>\n",
       "      <td>3.0</td>\n",
       "      <td>153.0</td>\n",
       "      <td>No</td>\n",
       "      <td>1</td>\n",
       "      <td>Beit Al Watan</td>\n",
       "      <td>Cash or Installment</td>\n",
       "      <td>2024</td>\n",
       "      <td>Semi Finished</td>\n",
       "      <td>New Cairo - El Tagamoa</td>\n",
       "    </tr>\n",
       "    <tr>\n",
       "      <th>...</th>\n",
       "      <td>...</td>\n",
       "      <td>...</td>\n",
       "      <td>...</td>\n",
       "      <td>...</td>\n",
       "      <td>...</td>\n",
       "      <td>...</td>\n",
       "      <td>...</td>\n",
       "      <td>...</td>\n",
       "      <td>...</td>\n",
       "      <td>...</td>\n",
       "      <td>...</td>\n",
       "      <td>...</td>\n",
       "    </tr>\n",
       "    <tr>\n",
       "      <th>5081</th>\n",
       "      <td>Chalet</td>\n",
       "      <td>2800000</td>\n",
       "      <td>3.0</td>\n",
       "      <td>2.0</td>\n",
       "      <td>129.0</td>\n",
       "      <td>No</td>\n",
       "      <td>2</td>\n",
       "      <td>Jefaira</td>\n",
       "      <td>Installment</td>\n",
       "      <td>soon</td>\n",
       "      <td>Finished</td>\n",
       "      <td>North Coast</td>\n",
       "    </tr>\n",
       "    <tr>\n",
       "      <th>5082</th>\n",
       "      <td>Standalone Villa</td>\n",
       "      <td>10695000</td>\n",
       "      <td>5.0</td>\n",
       "      <td>4.0</td>\n",
       "      <td>304.0</td>\n",
       "      <td>No</td>\n",
       "      <td>Ground</td>\n",
       "      <td>Bianchi</td>\n",
       "      <td>Cash or Installment</td>\n",
       "      <td>soon</td>\n",
       "      <td>Finished</td>\n",
       "      <td>North Coast</td>\n",
       "    </tr>\n",
       "    <tr>\n",
       "      <th>5083</th>\n",
       "      <td>Chalet</td>\n",
       "      <td>3300000</td>\n",
       "      <td>3.0</td>\n",
       "      <td>3.0</td>\n",
       "      <td>170.0</td>\n",
       "      <td>No</td>\n",
       "      <td>Ground</td>\n",
       "      <td>Jefaira</td>\n",
       "      <td>Installment</td>\n",
       "      <td>soon</td>\n",
       "      <td>Finished</td>\n",
       "      <td>North Coast</td>\n",
       "    </tr>\n",
       "    <tr>\n",
       "      <th>5084</th>\n",
       "      <td>Twin house</td>\n",
       "      <td>4700000</td>\n",
       "      <td>4.0</td>\n",
       "      <td>4.0</td>\n",
       "      <td>340.0</td>\n",
       "      <td>No</td>\n",
       "      <td>Ground</td>\n",
       "      <td>Jefaira</td>\n",
       "      <td>Installment</td>\n",
       "      <td>soon</td>\n",
       "      <td>Not Finished</td>\n",
       "      <td>North Coast</td>\n",
       "    </tr>\n",
       "    <tr>\n",
       "      <th>5085</th>\n",
       "      <td>Chalet</td>\n",
       "      <td>2800000</td>\n",
       "      <td>3.0</td>\n",
       "      <td>2.0</td>\n",
       "      <td>113.0</td>\n",
       "      <td>No</td>\n",
       "      <td>1</td>\n",
       "      <td>Mountain View North Coast</td>\n",
       "      <td>Cash</td>\n",
       "      <td>Ready to move</td>\n",
       "      <td>Semi Finished</td>\n",
       "      <td>North Coast</td>\n",
       "    </tr>\n",
       "  </tbody>\n",
       "</table>\n",
       "<p>5086 rows × 12 columns</p>\n",
       "</div>"
      ],
      "text/plain": [
       "                  Type     Price  Bedrooms  Bathrooms   Area Furnished  \\\n",
       "0            Apartment   5800000       2.0        3.0  160.0        No   \n",
       "1            Apartment   1844900       4.0        3.0  222.0        No   \n",
       "2               Duplex   3900000       5.0        5.0  290.0        No   \n",
       "3            Apartment   1650000       2.0        2.0  144.0        No   \n",
       "4            Apartment    309825       4.0        3.0  153.0        No   \n",
       "...                ...       ...       ...        ...    ...       ...   \n",
       "5081            Chalet   2800000       3.0        2.0  129.0        No   \n",
       "5082  Standalone Villa  10695000       5.0        4.0  304.0        No   \n",
       "5083            Chalet   3300000       3.0        3.0  170.0        No   \n",
       "5084        Twin house   4700000       4.0        4.0  340.0        No   \n",
       "5085            Chalet   2800000       3.0        2.0  113.0        No   \n",
       "\n",
       "        Level                   Compound       Payment_Option  Delivery_Date  \\\n",
       "0      Ground                    Eastown                 Cash  Ready to move   \n",
       "1           1              Beit Al Watan  Cash or Installment           2024   \n",
       "2     Highest                       Jayd      Unknown Payment  Ready to move   \n",
       "3           1                 Zayed 2000      Unknown Payment  Ready to move   \n",
       "4           1              Beit Al Watan  Cash or Installment           2024   \n",
       "...       ...                        ...                  ...            ...   \n",
       "5081        2                    Jefaira          Installment           soon   \n",
       "5082   Ground                    Bianchi  Cash or Installment           soon   \n",
       "5083   Ground                    Jefaira          Installment           soon   \n",
       "5084   Ground                    Jefaira          Installment           soon   \n",
       "5085        1  Mountain View North Coast                 Cash  Ready to move   \n",
       "\n",
       "      Delivery_Term                    City  \n",
       "0     Semi Finished  New Cairo - El Tagamoa  \n",
       "1     Semi Finished  New Cairo - El Tagamoa  \n",
       "2          Finished  New Cairo - El Tagamoa  \n",
       "3          Finished            Sheikh Zayed  \n",
       "4     Semi Finished  New Cairo - El Tagamoa  \n",
       "...             ...                     ...  \n",
       "5081       Finished             North Coast  \n",
       "5082       Finished             North Coast  \n",
       "5083       Finished             North Coast  \n",
       "5084   Not Finished             North Coast  \n",
       "5085  Semi Finished             North Coast  \n",
       "\n",
       "[5086 rows x 12 columns]"
      ]
     },
     "execution_count": 127,
     "metadata": {},
     "output_type": "execute_result"
    }
   ],
   "source": [
    "df = df.reset_index()\n",
    "df.drop(\"index\" ,inplace =True ,axis =1)\n",
    "df"
   ]
  },
  {
   "cell_type": "code",
   "execution_count": 128,
   "metadata": {},
   "outputs": [
    {
     "name": "stdout",
     "output_type": "stream",
     "text": [
      "<class 'pandas.core.frame.DataFrame'>\n",
      "RangeIndex: 5086 entries, 0 to 5085\n",
      "Data columns (total 12 columns):\n",
      " #   Column          Non-Null Count  Dtype  \n",
      "---  ------          --------------  -----  \n",
      " 0   Type            5086 non-null   string \n",
      " 1   Price           5086 non-null   int32  \n",
      " 2   Bedrooms        5086 non-null   float32\n",
      " 3   Bathrooms       5086 non-null   float32\n",
      " 4   Area            5086 non-null   float32\n",
      " 5   Furnished       5086 non-null   string \n",
      " 6   Level           5086 non-null   string \n",
      " 7   Compound        5086 non-null   string \n",
      " 8   Payment_Option  5086 non-null   string \n",
      " 9   Delivery_Date   5086 non-null   string \n",
      " 10  Delivery_Term   5086 non-null   string \n",
      " 11  City            5086 non-null   string \n",
      "dtypes: float32(3), int32(1), string(8)\n",
      "memory usage: 397.5 KB\n"
     ]
    }
   ],
   "source": [
    "df.info()"
   ]
  },
  {
   "cell_type": "code",
   "execution_count": 129,
   "metadata": {},
   "outputs": [
    {
     "data": {
      "text/html": [
       "<div>\n",
       "<style scoped>\n",
       "    .dataframe tbody tr th:only-of-type {\n",
       "        vertical-align: middle;\n",
       "    }\n",
       "\n",
       "    .dataframe tbody tr th {\n",
       "        vertical-align: top;\n",
       "    }\n",
       "\n",
       "    .dataframe thead th {\n",
       "        text-align: right;\n",
       "    }\n",
       "</style>\n",
       "<table border=\"1\" class=\"dataframe\">\n",
       "  <thead>\n",
       "    <tr style=\"text-align: right;\">\n",
       "      <th></th>\n",
       "      <th>Price</th>\n",
       "      <th>Bedrooms</th>\n",
       "      <th>Bathrooms</th>\n",
       "      <th>Area</th>\n",
       "    </tr>\n",
       "  </thead>\n",
       "  <tbody>\n",
       "    <tr>\n",
       "      <th>count</th>\n",
       "      <td>5.086000e+03</td>\n",
       "      <td>5086.000000</td>\n",
       "      <td>5086.000000</td>\n",
       "      <td>5086.000000</td>\n",
       "    </tr>\n",
       "    <tr>\n",
       "      <th>mean</th>\n",
       "      <td>3.367970e+06</td>\n",
       "      <td>2.762878</td>\n",
       "      <td>2.326386</td>\n",
       "      <td>161.170471</td>\n",
       "    </tr>\n",
       "    <tr>\n",
       "      <th>std</th>\n",
       "      <td>3.711141e+06</td>\n",
       "      <td>0.855091</td>\n",
       "      <td>0.951749</td>\n",
       "      <td>86.515350</td>\n",
       "    </tr>\n",
       "    <tr>\n",
       "      <th>min</th>\n",
       "      <td>3.000000e+04</td>\n",
       "      <td>1.000000</td>\n",
       "      <td>1.000000</td>\n",
       "      <td>12.000000</td>\n",
       "    </tr>\n",
       "    <tr>\n",
       "      <th>25%</th>\n",
       "      <td>1.550000e+06</td>\n",
       "      <td>2.000000</td>\n",
       "      <td>2.000000</td>\n",
       "      <td>110.000000</td>\n",
       "    </tr>\n",
       "    <tr>\n",
       "      <th>50%</th>\n",
       "      <td>2.500000e+06</td>\n",
       "      <td>3.000000</td>\n",
       "      <td>2.000000</td>\n",
       "      <td>143.000000</td>\n",
       "    </tr>\n",
       "    <tr>\n",
       "      <th>75%</th>\n",
       "      <td>3.997500e+06</td>\n",
       "      <td>3.000000</td>\n",
       "      <td>3.000000</td>\n",
       "      <td>185.000000</td>\n",
       "    </tr>\n",
       "    <tr>\n",
       "      <th>max</th>\n",
       "      <td>6.500000e+07</td>\n",
       "      <td>9.000000</td>\n",
       "      <td>10.000000</td>\n",
       "      <td>950.000000</td>\n",
       "    </tr>\n",
       "  </tbody>\n",
       "</table>\n",
       "</div>"
      ],
      "text/plain": [
       "              Price     Bedrooms    Bathrooms         Area\n",
       "count  5.086000e+03  5086.000000  5086.000000  5086.000000\n",
       "mean   3.367970e+06     2.762878     2.326386   161.170471\n",
       "std    3.711141e+06     0.855091     0.951749    86.515350\n",
       "min    3.000000e+04     1.000000     1.000000    12.000000\n",
       "25%    1.550000e+06     2.000000     2.000000   110.000000\n",
       "50%    2.500000e+06     3.000000     2.000000   143.000000\n",
       "75%    3.997500e+06     3.000000     3.000000   185.000000\n",
       "max    6.500000e+07     9.000000    10.000000   950.000000"
      ]
     },
     "execution_count": 129,
     "metadata": {},
     "output_type": "execute_result"
    }
   ],
   "source": [
    "df.describe()"
   ]
  },
  {
   "cell_type": "code",
   "execution_count": 130,
   "metadata": {},
   "outputs": [
    {
     "data": {
      "text/plain": [
       "(5081, 12)"
      ]
     },
     "execution_count": 130,
     "metadata": {},
     "output_type": "execute_result"
    }
   ],
   "source": [
    "index = df[df.City == \"(View phone number)\"].index\n",
    "df.drop(index,axis =0 ,inplace =True)\n",
    "df.shape"
   ]
  },
  {
   "cell_type": "markdown",
   "metadata": {},
   "source": [
    "<a id=\"1\"></a>\n",
    "# <p style=\"padding:10px;background-color:#00A08B;margin:0;color:White;font-family:Georgia;font-size:100%;text-align:center;border-radius: 15px 50px;overflow:hidden;font-weight:500\">Visualization</p>"
   ]
  },
  {
   "cell_type": "markdown",
   "metadata": {},
   "source": [
    "# what is the most frequent city in the data?"
   ]
  },
  {
   "cell_type": "code",
   "execution_count": 131,
   "metadata": {},
   "outputs": [
    {
     "data": {
      "application/vnd.plotly.v1+json": {
       "config": {
        "plotlyServerURL": "https://plot.ly"
       },
       "data": [
        {
         "alignmentgroup": "True",
         "bingroup": "y",
         "hovertemplate": "count=%{x}<br>City=%{y}<extra></extra>",
         "legendgroup": "",
         "marker": {
          "color": "rgb(27,158,119)",
          "pattern": {
           "shape": ""
          }
         },
         "name": "",
         "nbinsy": 100,
         "offsetgroup": "",
         "orientation": "h",
         "showlegend": false,
         "type": "histogram",
         "xaxis": "x",
         "y": [
          "New Cairo - El Tagamoa",
          "New Cairo - El Tagamoa",
          "New Cairo - El Tagamoa",
          "Sheikh Zayed",
          "New Cairo - El Tagamoa",
          "New Cairo - El Tagamoa",
          "Zahraa Al Maadi",
          "Nasr City",
          "6th of October",
          "Kafr al-Sheikh City",
          "Sheikh Zayed",
          "New Capital City",
          "Imbaba",
          "New Cairo - El Tagamoa",
          "Shorouk City",
          "New Cairo - El Tagamoa",
          "Sheikh Zayed",
          "Madinaty",
          "Sheikh Zayed",
          "New Cairo - El Tagamoa",
          "Sheikh Zayed",
          "Sheikh Zayed",
          "New Cairo - El Tagamoa",
          "New Cairo - El Tagamoa",
          "Madinaty",
          "Madinaty",
          "Madinaty",
          "Madinaty",
          "Madinaty",
          "Madinaty",
          "New Cairo - El Tagamoa",
          "Sheikh Zayed",
          "6th of October",
          "6th of October",
          "6th of October",
          "6th of October",
          "Obour City",
          "Rehab City",
          "Madinaty",
          "New Cairo - El Tagamoa",
          "Sheikh Zayed",
          "Sheikh Zayed",
          "6th of October",
          "Sheikh Zayed",
          "Hadayek 6th of October",
          "Madinaty",
          "Sheikh Zayed",
          "New Capital City",
          "New Cairo - El Tagamoa",
          "Shorouk City",
          "Mokattam",
          "Katameya",
          "Madinaty",
          "Rehab City",
          "New Cairo - El Tagamoa",
          "Rehab City",
          "New Cairo - El Tagamoa",
          "New Cairo - El Tagamoa",
          "New Cairo - El Tagamoa",
          "Rehab City",
          "Madinaty",
          "Qasr al-Nil",
          "New Cairo - El Tagamoa",
          "Rehab City",
          "Madinaty",
          "New Cairo - El Tagamoa",
          "Katameya",
          "Sheikh Zayed",
          "Sheikh Zayed",
          "New Cairo - El Tagamoa",
          "Sheikh Zayed",
          "New Cairo - El Tagamoa",
          "New Cairo - El Tagamoa",
          "New Cairo - El Tagamoa",
          "Sheikh Zayed",
          "New Cairo - El Tagamoa",
          "New Cairo - El Tagamoa",
          "New Cairo - El Tagamoa",
          "Madinaty",
          "New Cairo - El Tagamoa",
          "New Cairo - El Tagamoa",
          "New Cairo - El Tagamoa",
          "New Cairo - El Tagamoa",
          "New Cairo - El Tagamoa",
          "Sheikh Zayed",
          "New Cairo - El Tagamoa",
          "New Cairo - El Tagamoa",
          "Madinaty",
          "New Cairo - El Tagamoa",
          "New Cairo - El Tagamoa",
          "New Cairo - El Tagamoa",
          "Ismailia City",
          "New Cairo - El Tagamoa",
          "Shorouk City",
          "New Cairo - El Tagamoa",
          "New Cairo - El Tagamoa",
          "Sheikh Zayed",
          "New Cairo - El Tagamoa",
          "New Cairo - El Tagamoa",
          "New Cairo - El Tagamoa",
          "New Cairo - El Tagamoa",
          "New Cairo - El Tagamoa",
          "New Cairo - El Tagamoa",
          "New Cairo - El Tagamoa",
          "New Cairo - El Tagamoa",
          "New Heliopolis",
          "New Cairo - El Tagamoa",
          "New Cairo - El Tagamoa",
          "Madinaty",
          "New Cairo - El Tagamoa",
          "Madinaty",
          "Sheikh Zayed",
          "New Cairo - El Tagamoa",
          "Sheikh Zayed",
          "Sheikh Zayed",
          "New Capital City",
          "New Cairo - El Tagamoa",
          "New Cairo - El Tagamoa",
          "New Cairo - El Tagamoa",
          "New Capital City",
          "New Cairo - El Tagamoa",
          "6th of October",
          "New Cairo - El Tagamoa",
          "New Cairo - El Tagamoa",
          "New Capital City",
          "New Cairo - El Tagamoa",
          "New Cairo - El Tagamoa",
          "Madinaty",
          "Rehab City",
          "New Cairo - El Tagamoa",
          "New Cairo - El Tagamoa",
          "New Cairo - El Tagamoa",
          "New Cairo - El Tagamoa",
          "New Cairo - El Tagamoa",
          "New Cairo - El Tagamoa",
          "New Cairo - El Tagamoa",
          "New Cairo - El Tagamoa",
          "6th of October",
          "New Cairo - El Tagamoa",
          "New Cairo - El Tagamoa",
          "New Cairo - El Tagamoa",
          "Madinaty",
          "6th of October",
          "Sheikh Zayed",
          "6th of October",
          "New Cairo - El Tagamoa",
          "New Cairo - El Tagamoa",
          "Badr City",
          "New Cairo - El Tagamoa",
          "Madinaty",
          "New Cairo - El Tagamoa",
          "Madinaty",
          "6th of October",
          "New Cairo - El Tagamoa",
          "Rehab City",
          "Sheikh Zayed",
          "Madinaty",
          "6th of October",
          "Madinaty",
          "Rehab City",
          "New Cairo - El Tagamoa",
          "New Cairo - El Tagamoa",
          "Madinaty",
          "New Cairo - El Tagamoa",
          "Sheikh Zayed",
          "New Cairo - El Tagamoa",
          "6th of October",
          "New Cairo - El Tagamoa",
          "New Capital City",
          "Smoha",
          "New Cairo - El Tagamoa",
          "Smoha",
          "New Cairo - El Tagamoa",
          "Nasr City",
          "Rehab City",
          "New Cairo - El Tagamoa",
          "New Cairo - El Tagamoa",
          "Sheikh Zayed",
          "New Cairo - El Tagamoa",
          "Rehab City",
          "Dokki",
          "Mokattam",
          "Nakheel",
          "New Cairo - El Tagamoa",
          "6th of October",
          "Mokattam",
          "6th of October",
          "Nakheel",
          "Sheikh Zayed",
          "New Cairo - El Tagamoa",
          "New Cairo - El Tagamoa",
          "Rehab City",
          "6th of October",
          "New Cairo - El Tagamoa",
          "Madinaty",
          "6th of October",
          "New Cairo - El Tagamoa",
          "New Cairo - El Tagamoa",
          "Mokattam",
          "Shorouk City",
          "6th of October",
          "New Capital City",
          "Rehab City",
          "Rehab City",
          "New Cairo - El Tagamoa",
          "Madinaty",
          "Damietta City",
          "New Cairo - El Tagamoa",
          "New Cairo - El Tagamoa",
          "New Capital City",
          "New Cairo - El Tagamoa",
          "New Cairo - El Tagamoa",
          "New Cairo - El Tagamoa",
          "New Cairo - El Tagamoa",
          "New Cairo - El Tagamoa",
          "Madinaty",
          "Madinaty",
          "New Cairo - El Tagamoa",
          "Ras al-Bar",
          "New Cairo - El Tagamoa",
          "New Cairo - El Tagamoa",
          "New Cairo - El Tagamoa",
          "Madinaty",
          "New Cairo - El Tagamoa",
          "Shorouk City",
          "New Cairo - El Tagamoa",
          "New Cairo - El Tagamoa",
          "Sheikh Zayed",
          "New Cairo - El Tagamoa",
          "New Cairo - El Tagamoa",
          "New Cairo - El Tagamoa",
          "New Cairo - El Tagamoa",
          "New Cairo - El Tagamoa",
          "New Cairo - El Tagamoa",
          "New Cairo - El Tagamoa",
          "New Cairo - El Tagamoa",
          "New Cairo - El Tagamoa",
          "New Cairo - El Tagamoa",
          "New Cairo - El Tagamoa",
          "New Cairo - El Tagamoa",
          "New Cairo - El Tagamoa",
          "New Cairo - El Tagamoa",
          "New Cairo - El Tagamoa",
          "New Cairo - El Tagamoa",
          "New Cairo - El Tagamoa",
          "New Cairo - El Tagamoa",
          "New Cairo - El Tagamoa",
          "New Cairo - El Tagamoa",
          "New Cairo - El Tagamoa",
          "New Cairo - El Tagamoa",
          "Hadayek 6th of October",
          "Madinaty",
          "Madinaty",
          "New Cairo - El Tagamoa",
          "6th of October",
          "6th of October",
          "Hadayek 6th of October",
          "Cleopatra",
          "Madinaty",
          "New Cairo - El Tagamoa",
          "Madinaty",
          "Madinaty",
          "Madinaty",
          "Madinaty",
          "Madinaty",
          "New Cairo - El Tagamoa",
          "6th of October",
          "Sheikh Zayed",
          "Sheikh Zayed",
          "Sheikh Zayed",
          "Sheikh Zayed",
          "Sheikh Zayed",
          "Sheikh Zayed",
          "New Cairo - El Tagamoa",
          "6th of October",
          "New Cairo - El Tagamoa",
          "New Cairo - El Tagamoa",
          "New Cairo - El Tagamoa",
          "Madinaty",
          "Madinaty",
          "Madinaty",
          "Madinaty",
          "Madinaty",
          "Madinaty",
          "Sheikh Zayed",
          "Sheikh Zayed",
          "New Capital City",
          "New Cairo - El Tagamoa",
          "Madinaty",
          "6th of October",
          "Madinaty",
          "Madinaty",
          "Madinaty",
          "Rehab City",
          "New Cairo - El Tagamoa",
          "Madinaty",
          "Madinaty",
          "New Cairo - El Tagamoa",
          "Dokki",
          "New Cairo - El Tagamoa",
          "New Cairo - El Tagamoa",
          "Mohandessin",
          "Moharam Bik",
          "Rehab City",
          "New Cairo - El Tagamoa",
          "New Capital City",
          "New Cairo - El Tagamoa",
          "New Cairo - El Tagamoa",
          "New Cairo - El Tagamoa",
          "New Cairo - El Tagamoa",
          "New Cairo - El Tagamoa",
          "6th of October",
          "6th of October",
          "New Cairo - El Tagamoa",
          "New Cairo - El Tagamoa",
          "New Capital City",
          "New Capital City",
          "New Capital City",
          "New Capital City",
          "New Cairo - El Tagamoa",
          "Nasr City",
          "6th of October",
          "6th of October",
          "6th of October",
          "New Capital City",
          "New Capital City",
          "New Capital City",
          "New Capital City",
          "New Capital City",
          "New Capital City",
          "New Capital City",
          "New Capital City",
          "New Capital City",
          "New Cairo - El Tagamoa",
          "New Cairo - El Tagamoa",
          "New Cairo - El Tagamoa",
          "New Cairo - El Tagamoa",
          "New Cairo - El Tagamoa",
          "Shorouk City",
          "Shorouk City",
          "6th of October",
          "New Cairo - El Tagamoa",
          "New Cairo - El Tagamoa",
          "New Cairo - El Tagamoa",
          "Zamalek",
          "Hadayek 6th of October",
          "New Cairo - El Tagamoa",
          "New Cairo - El Tagamoa",
          "Mokattam",
          "New Capital City",
          "Shorouk City",
          "6th of October",
          "New Cairo - El Tagamoa",
          "New Cairo - El Tagamoa",
          "New Cairo - El Tagamoa",
          "New Capital City",
          "6th of October",
          "6th of October",
          "New Cairo - El Tagamoa",
          "6th of October",
          "New Cairo - El Tagamoa",
          "6th of October",
          "New Capital City",
          "Madinaty",
          "6th of October",
          "Madinaty",
          "New Cairo - El Tagamoa",
          "New Cairo - El Tagamoa",
          "Sheikh Zayed",
          "New Cairo - El Tagamoa",
          "New Cairo - El Tagamoa",
          "Glim",
          "Madinaty",
          "Sheikh Zayed",
          "New Cairo - El Tagamoa",
          "Madinaty",
          "New Cairo - El Tagamoa",
          "New Cairo - El Tagamoa",
          "6th of October",
          "New Cairo - El Tagamoa",
          "New Cairo - El Tagamoa",
          "Sheraton",
          "New Cairo - El Tagamoa",
          "Sheikh Zayed",
          "Rehab City",
          "Camp Caesar",
          "New Cairo - El Tagamoa",
          "New Cairo - El Tagamoa",
          "Madinaty",
          "New Cairo - El Tagamoa",
          "Madinaty",
          "New Cairo - El Tagamoa",
          "New Capital City",
          "Madinaty",
          "New Cairo - El Tagamoa",
          "New Cairo - El Tagamoa",
          "Madinaty",
          "New Cairo - El Tagamoa",
          "New Cairo - El Tagamoa",
          "Rehab City",
          "New Cairo - El Tagamoa",
          "New Capital City",
          "New Cairo - El Tagamoa",
          "New Cairo - El Tagamoa",
          "New Cairo - El Tagamoa",
          "New Cairo - El Tagamoa",
          "New Cairo - El Tagamoa",
          "Sheikh Zayed",
          "Sheikh Zayed",
          "Sheikh Zayed",
          "New Cairo - El Tagamoa",
          "New Cairo - El Tagamoa",
          "New Cairo - El Tagamoa",
          "New Cairo - El Tagamoa",
          "New Cairo - El Tagamoa",
          "Hadayek al-Ahram",
          "Smoha",
          "Rehab City",
          "New Cairo - El Tagamoa",
          "Gianaclis",
          "New Cairo - El Tagamoa",
          "Sheikh Zayed",
          "New Cairo - El Tagamoa",
          "New Cairo - El Tagamoa",
          "Madinaty",
          "Hadayek 6th of October",
          "New Cairo - El Tagamoa",
          "Madinaty",
          "Madinaty",
          "New Cairo - El Tagamoa",
          "Rehab City",
          "Rehab City",
          "Rehab City",
          "Madinaty",
          "Sheikh Zayed",
          "New Cairo - El Tagamoa",
          "Rehab City",
          "Madinaty",
          "New Cairo - El Tagamoa",
          "Sheikh Zayed",
          "Almazah",
          "New Cairo - El Tagamoa",
          "New Cairo - El Tagamoa",
          "San Stefano",
          "Shorouk City",
          "Shorouk City",
          "New Cairo - El Tagamoa",
          "Shorouk City",
          "Mostakbal City",
          "New Capital City",
          "Hadayek 6th of October",
          "Sheikh Zayed",
          "New Cairo - El Tagamoa",
          "Kafr Abdo",
          "Sheikh Zayed",
          "New Cairo - El Tagamoa",
          "Hadayek 6th of October",
          "Rehab City",
          "Madinaty",
          "New Cairo - El Tagamoa",
          "Sheikh Zayed",
          "New Cairo - El Tagamoa",
          "New Cairo - El Tagamoa",
          "Madinaty",
          "Madinaty",
          "New Cairo - El Tagamoa",
          "New Capital City",
          "Rehab City",
          "New Cairo - El Tagamoa",
          "Madinaty",
          "New Cairo - El Tagamoa",
          "Katameya",
          "Sheikh Zayed",
          "Madinaty",
          "Rehab City",
          "Rehab City",
          "New Cairo - El Tagamoa",
          "Shorouk City",
          "New Cairo - El Tagamoa",
          "Zahraa Al Maadi",
          "New Cairo - El Tagamoa",
          "Mokattam",
          "Zahraa Al Maadi",
          "Zahraa Al Maadi",
          "Mostakbal City",
          "New Cairo - El Tagamoa",
          "Shorouk City",
          "Rehab City",
          "New Cairo - El Tagamoa",
          "New Cairo - El Tagamoa",
          "New Cairo - El Tagamoa",
          "Nakheel",
          "6th of October",
          "New Cairo - El Tagamoa",
          "New Cairo - El Tagamoa",
          "New Cairo - El Tagamoa",
          "New Cairo - El Tagamoa",
          "New Cairo - El Tagamoa",
          "New Cairo - El Tagamoa",
          "New Cairo - El Tagamoa",
          "New Cairo - El Tagamoa",
          "6th of October",
          "Heliopolis",
          "Sheikh Zayed",
          "New Cairo - El Tagamoa",
          "Madinaty",
          "New Cairo - El Tagamoa",
          "New Cairo - El Tagamoa",
          "Madinaty",
          "New Cairo - El Tagamoa",
          "Rehab City",
          "New Cairo - El Tagamoa",
          "Sheikh Zayed",
          "Obour City",
          "New Cairo - El Tagamoa",
          "New Cairo - El Tagamoa",
          "6th of October",
          "Madinaty",
          "Obour City",
          "New Cairo - El Tagamoa",
          "New Cairo - El Tagamoa",
          "New Cairo - El Tagamoa",
          "New Cairo - El Tagamoa",
          "New Cairo - El Tagamoa",
          "New Cairo - El Tagamoa",
          "Rehab City",
          "Madinaty",
          "Rehab City",
          "New Cairo - El Tagamoa",
          "Rehab City",
          "Hadayek 6th of October",
          "New Cairo - El Tagamoa",
          "Madinaty",
          "Nasr City",
          "New Cairo - El Tagamoa",
          "New Cairo - El Tagamoa",
          "Rehab City",
          "Shorouk City",
          "New Cairo - El Tagamoa",
          "New Cairo - El Tagamoa",
          "New Cairo - El Tagamoa",
          "New Cairo - El Tagamoa",
          "Sheikh Zayed",
          "New Cairo - El Tagamoa",
          "Obour City",
          "New Cairo - El Tagamoa",
          "New Cairo - El Tagamoa",
          "Madinaty",
          "Madinaty",
          "Madinaty",
          "New Cairo - El Tagamoa",
          "Rehab City",
          "New Cairo - El Tagamoa",
          "New Cairo - El Tagamoa",
          "New Cairo - El Tagamoa",
          "New Cairo - El Tagamoa",
          "New Capital City",
          "Madinaty",
          "6th of October",
          "Rehab City",
          "New Cairo - El Tagamoa",
          "New Cairo - El Tagamoa",
          "New Cairo - El Tagamoa",
          "New Cairo - El Tagamoa",
          "New Cairo - El Tagamoa",
          "Madinaty",
          "Sheraton",
          "Madinaty",
          "Rehab City",
          "6th of October",
          "New Cairo - El Tagamoa",
          "New Cairo - El Tagamoa",
          "Madinaty",
          "New Cairo - El Tagamoa",
          "New Cairo - El Tagamoa",
          "Madinaty",
          "Rehab City",
          "6th of October",
          "New Cairo - El Tagamoa",
          "Madinaty",
          "Rehab City",
          "New Capital City",
          "6th of October",
          "New Cairo - El Tagamoa",
          "Madinaty",
          "Hadayek 6th of October",
          "New Cairo - El Tagamoa",
          "New Cairo - El Tagamoa",
          "Badr City",
          "6th of October",
          "Madinaty",
          "New Cairo - El Tagamoa",
          "Rehab City",
          "Madinaty",
          "Shorouk City",
          "Rehab City",
          "Madinaty",
          "New Cairo - El Tagamoa",
          "Madinaty",
          "New Cairo - El Tagamoa",
          "New Cairo - El Tagamoa",
          "New Cairo - El Tagamoa",
          "6th of October",
          "New Cairo - El Tagamoa",
          "New Cairo - El Tagamoa",
          "New Cairo - El Tagamoa",
          "New Cairo - El Tagamoa",
          "New Cairo - El Tagamoa",
          "Rehab City",
          "Sheikh Zayed",
          "New Cairo - El Tagamoa",
          "New Cairo - El Tagamoa",
          "New Cairo - El Tagamoa",
          "New Cairo - El Tagamoa",
          "New Cairo - El Tagamoa",
          "New Cairo - El Tagamoa",
          "New Cairo - El Tagamoa",
          "Maadi",
          "New Nozha",
          "New Cairo - El Tagamoa",
          "Nasr City",
          "Mokattam",
          "Mokattam",
          "Zahraa Al Maadi",
          "New Cairo - El Tagamoa",
          "6th of October",
          "Madinaty",
          "Madinaty",
          "Madinaty",
          "Rehab City",
          "Madinaty",
          "Madinaty",
          "New Cairo - El Tagamoa",
          "6th of October",
          "Rehab City",
          "Madinaty",
          "Madinaty",
          "Madinaty",
          "Sheikh Zayed",
          "6th of October",
          "Maamoura",
          "Rehab City",
          "6th of October",
          "Maadi",
          "Hadayek 6th of October",
          "6th of October",
          "New Cairo - El Tagamoa",
          "Madinaty",
          "Rehab City",
          "New Cairo - El Tagamoa",
          "Hadayek 6th of October",
          "New Cairo - El Tagamoa",
          "Shorouk City",
          "Shorouk City",
          "New Cairo - El Tagamoa",
          "New Cairo - El Tagamoa",
          "6th of October",
          "Rehab City",
          "Nakheel",
          "New Cairo - El Tagamoa",
          "6th of October",
          "Madinaty",
          "Madinaty",
          "Madinaty",
          "Madinaty",
          "6th of October",
          "Hadayek 6th of October",
          "Madinaty",
          "Maadi",
          "Maadi",
          "Madinaty",
          "Sheikh Zayed",
          "Madinaty",
          "Rehab City",
          "Madinaty",
          "Madinaty",
          "New Cairo - El Tagamoa",
          "Sheikh Zayed",
          "New Nozha",
          "6th of October",
          "New Cairo - El Tagamoa",
          "6th of October",
          "Madinaty",
          "Nakheel",
          "New Cairo - El Tagamoa",
          "Nakheel",
          "New Cairo - El Tagamoa",
          "New Cairo - El Tagamoa",
          "Rehab City",
          "New Cairo - El Tagamoa",
          "Rehab City",
          "Madinaty",
          "Madinaty",
          "New Cairo - El Tagamoa",
          "Madinaty",
          "New Cairo - El Tagamoa",
          "New Cairo - El Tagamoa",
          "New Cairo - El Tagamoa",
          "New Cairo - El Tagamoa",
          "Mokattam",
          "Madinaty",
          "Hadayek 6th of October",
          "Hadayek 6th of October",
          "New Cairo - El Tagamoa",
          "Madinaty",
          "New Cairo - El Tagamoa",
          "Sidi Beshr",
          "New Cairo - El Tagamoa",
          "Madinaty",
          "Mansura",
          "Katameya",
          "Madinaty",
          "New Capital City",
          "6th of October",
          "Madinaty",
          "Sheikh Zayed",
          "Sheikh Zayed",
          "Sheikh Zayed",
          "New Cairo - El Tagamoa",
          "Maadi",
          "Sheikh Zayed",
          "Sheikh Zayed",
          "Sheikh Zayed",
          "Mostakbal City",
          "Sheikh Zayed",
          "Madinaty",
          "Rehab City",
          "Rehab City",
          "Sheikh Zayed",
          "Rehab City",
          "Sheikh Zayed",
          "Sheikh Zayed",
          "6th of October",
          "New Cairo - El Tagamoa",
          "Madinaty",
          "Gianaclis",
          "Hadayek 6th of October",
          "Madinaty",
          "Madinaty",
          "Madinaty",
          "New Cairo - El Tagamoa",
          "Asyut City",
          "6th of October",
          "New Cairo - El Tagamoa",
          "New Cairo - El Tagamoa",
          "New Cairo - El Tagamoa",
          "New Cairo - El Tagamoa",
          "New Cairo - El Tagamoa",
          "Madinaty",
          "6th of October",
          "Maamoura",
          "New Cairo - El Tagamoa",
          "Sheikh Zayed",
          "New Cairo - El Tagamoa",
          "Sheikh Zayed",
          "Kafr Abdo",
          "Sheikh Zayed",
          "6th of October",
          "New Cairo - El Tagamoa",
          "Sheikh Zayed",
          "Sheikh Zayed",
          "Sheikh Zayed",
          "Sheikh Zayed",
          "Sheikh Zayed",
          "Sheikh Zayed",
          "6th of October",
          "Kafr Abdo",
          "Sheikh Zayed",
          "Sheikh Zayed",
          "Sheikh Zayed",
          "Sheikh Zayed",
          "Sheikh Zayed",
          "Katameya",
          "Faisal",
          "Madinaty",
          "Rehab City",
          "New Cairo - El Tagamoa",
          "Sheikh Zayed",
          "Madinaty",
          "Madinaty",
          "Rehab City",
          "Obour City",
          "New Cairo - El Tagamoa",
          "Nasr City",
          "6th of October",
          "6th of October",
          "Madinaty",
          "New Cairo - El Tagamoa",
          "New Cairo - El Tagamoa",
          "New Cairo - El Tagamoa",
          "Madinaty",
          "New Cairo - El Tagamoa",
          "Madinaty",
          "Madinaty",
          "Mokattam",
          "Madinaty",
          "6th of October",
          "Sheikh Zayed",
          "New Cairo - El Tagamoa",
          "New Cairo - El Tagamoa",
          "Azarita",
          "Obour City",
          "Madinaty",
          "New Capital City",
          "New Cairo - El Tagamoa",
          "New Cairo - El Tagamoa",
          "New Capital City",
          "Obour City",
          "Rehab City",
          "Rehab City",
          "Rehab City",
          "New Cairo - El Tagamoa",
          "Madinaty",
          "Hadayek al-Ahram",
          "New Capital City",
          "New Cairo - El Tagamoa",
          "New Capital City",
          "New Cairo - El Tagamoa",
          "New Cairo - El Tagamoa",
          "New Cairo - El Tagamoa",
          "New Cairo - El Tagamoa",
          "Madinaty",
          "New Cairo - El Tagamoa",
          "New Cairo - El Tagamoa",
          "Madinaty",
          "New Cairo - El Tagamoa",
          "New Capital City",
          "New Cairo - El Tagamoa",
          "New Cairo - El Tagamoa",
          "New Cairo - El Tagamoa",
          "New Cairo - El Tagamoa",
          "New Cairo - El Tagamoa",
          "New Cairo - El Tagamoa",
          "New Cairo - El Tagamoa",
          "New Cairo - El Tagamoa",
          "Madinaty",
          "New Cairo - El Tagamoa",
          "Mostakbal City",
          "Madinaty",
          "Nasr City",
          "Madinaty",
          "New Cairo - El Tagamoa",
          "New Cairo - El Tagamoa",
          "Sheikh Zayed",
          "New Cairo - El Tagamoa",
          "New Cairo - El Tagamoa",
          "New Cairo - El Tagamoa",
          "Rehab City",
          "Madinaty",
          "Madinaty",
          "6th of October",
          "Sheikh Zayed",
          "Madinaty",
          "New Cairo - El Tagamoa",
          "New Cairo - El Tagamoa",
          "New Cairo - El Tagamoa",
          "6th of October",
          "Heliopolis",
          "New Cairo - El Tagamoa",
          "New Cairo - El Tagamoa",
          "New Cairo - El Tagamoa",
          "Rehab City",
          "Madinaty",
          "Sheikh Zayed",
          "New Cairo - El Tagamoa",
          "New Cairo - El Tagamoa",
          "New Cairo - El Tagamoa",
          "Madinaty",
          "New Cairo - El Tagamoa",
          "Madinaty",
          "New Capital City",
          "New Cairo - El Tagamoa",
          "New Cairo - El Tagamoa",
          "Madinaty",
          "Sheikh Zayed",
          "Miami",
          "Obour City",
          "New Cairo - El Tagamoa",
          "New Cairo - El Tagamoa",
          "Madinaty",
          "Rehab City",
          "New Capital City",
          "Mokattam",
          "Mokattam",
          "New Cairo - El Tagamoa",
          "New Capital City",
          "Sheikh Zayed",
          "New Cairo - El Tagamoa",
          "Stanley",
          "Laurent",
          "6th of October",
          "New Cairo - El Tagamoa",
          "New Cairo - El Tagamoa",
          "Rehab City",
          "Madinaty",
          "New Cairo - El Tagamoa",
          "Sheikh Zayed",
          "Sheikh Zayed",
          "Sheikh Zayed",
          "Madinaty",
          "Madinaty",
          "Obour City",
          "6th of October",
          "New Cairo - El Tagamoa",
          "Mostakbal City",
          "New Cairo - El Tagamoa",
          "New Cairo - El Tagamoa",
          "New Cairo - El Tagamoa",
          "New Cairo - El Tagamoa",
          "6th of October",
          "New Cairo - El Tagamoa",
          "New Cairo - El Tagamoa",
          "New Cairo - El Tagamoa",
          "Hadayek 6th of October",
          "New Capital City",
          "New Capital City",
          "New Cairo - El Tagamoa",
          "New Cairo - El Tagamoa",
          "Madinaty",
          "Rehab City",
          "Glim",
          "Rehab City",
          "New Cairo - El Tagamoa",
          "New Cairo - El Tagamoa",
          "Shorouk City",
          "New Cairo - El Tagamoa",
          "Rehab City",
          "Madinaty",
          "Sheikh Zayed",
          "New Mansoura",
          "Madinaty",
          "New Cairo - El Tagamoa",
          "Madinaty",
          "New Cairo - El Tagamoa",
          "6th of October",
          "Madinaty",
          "New Cairo - El Tagamoa",
          "Madinaty",
          "New Heliopolis",
          "Madinaty",
          "Madinaty",
          "6th of October",
          "New Capital City",
          "Obour City",
          "New Cairo - El Tagamoa",
          "New Heliopolis",
          "Madinaty",
          "6th of October",
          "Madinaty",
          "6th of October",
          "New Cairo - El Tagamoa",
          "New Cairo - El Tagamoa",
          "Rehab City",
          "Madinaty",
          "Madinaty",
          "New Cairo - El Tagamoa",
          "Madinaty",
          "New Cairo - El Tagamoa",
          "Madinaty",
          "Mostakbal City",
          "New Cairo - El Tagamoa",
          "Madinaty",
          "Sheikh Zayed",
          "New Cairo - El Tagamoa",
          "Mostakbal City",
          "Mostakbal City",
          "Mostakbal City",
          "Mostakbal City",
          "New Capital City",
          "Mostakbal City",
          "Sheikh Zayed",
          "Sheikh Zayed",
          "New Cairo - El Tagamoa",
          "Madinaty",
          "New Cairo - El Tagamoa",
          "Madinaty",
          "New Cairo - El Tagamoa",
          "New Cairo - El Tagamoa",
          "New Cairo - El Tagamoa",
          "New Cairo - El Tagamoa",
          "New Cairo - El Tagamoa",
          "New Cairo - El Tagamoa",
          "New Cairo - El Tagamoa",
          "Maadi",
          "6th of October",
          "Madinaty",
          "Madinaty",
          "Madinaty",
          "New Capital City",
          "New Cairo - El Tagamoa",
          "Madinaty",
          "New Cairo - El Tagamoa",
          "New Cairo - El Tagamoa",
          "Madinaty",
          "Ras al-Bar",
          "New Capital City",
          "6th of October",
          "New Cairo - El Tagamoa",
          "New Cairo - El Tagamoa",
          "New Capital City",
          "New Cairo - El Tagamoa",
          "New Capital City",
          "Maadi",
          "New Cairo - El Tagamoa",
          "Madinaty",
          "Maadi",
          "Ismailia City",
          "6th of October",
          "New Cairo - El Tagamoa",
          "Maadi",
          "Ismailia City",
          "New Cairo - El Tagamoa",
          "Badr City",
          "Maadi",
          "6th of October",
          "Maadi",
          "Sheikh Zayed",
          "Rehab City",
          "6th of October",
          "6th of October",
          "6th of October",
          "Hadayek 6th of October",
          "6th of October",
          "Hadayek 6th of October",
          "Maadi",
          "Hadayek 6th of October",
          "6th of October",
          "New Cairo - El Tagamoa",
          "Laurent",
          "Shorouk City",
          "New Cairo - El Tagamoa",
          "New Cairo - El Tagamoa",
          "6th of October",
          "6th of October",
          "New Cairo - El Tagamoa",
          "New Capital City",
          "New Capital City",
          "New Capital City",
          "New Cairo - El Tagamoa",
          "Madinaty",
          "Madinaty",
          "6th of October",
          "New Cairo - El Tagamoa",
          "Sheikh Zayed",
          "New Capital City",
          "New Capital City",
          "New Capital City",
          "New Capital City",
          "Madinaty",
          "New Cairo - El Tagamoa",
          "Sheikh Zayed",
          "New Cairo - El Tagamoa",
          "New Cairo - El Tagamoa",
          "New Cairo - El Tagamoa",
          "Dhahria",
          "New Cairo - El Tagamoa",
          "New Cairo - El Tagamoa",
          "Madinaty",
          "Hadayek 6th of October",
          "New Cairo - El Tagamoa",
          "New Cairo - El Tagamoa",
          "New Cairo - El Tagamoa",
          "Maadi",
          "New Cairo - El Tagamoa",
          "New Cairo - El Tagamoa",
          "New Cairo - El Tagamoa",
          "Madinaty",
          "New Capital City",
          "New Cairo - El Tagamoa",
          "New Cairo - El Tagamoa",
          "Rehab City",
          "New Cairo - El Tagamoa",
          "New Cairo - El Tagamoa",
          "New Capital City",
          "Sheikh Zayed",
          "New Cairo - El Tagamoa",
          "New Cairo - El Tagamoa",
          "Madinaty",
          "New Cairo - El Tagamoa",
          "New Cairo - El Tagamoa",
          "Sheikh Zayed",
          "Sheikh Zayed",
          "Madinaty",
          "New Capital City",
          "Madinaty",
          "6th of October",
          "New Cairo - El Tagamoa",
          "New Cairo - El Tagamoa",
          "Madinaty",
          "Madinaty",
          "New Capital City",
          "Sheikh Zayed",
          "Asafra",
          "Mostakbal City",
          "Sheikh Zayed",
          "Madinaty",
          "New Cairo - El Tagamoa",
          "Madinaty",
          "Madinaty",
          "New Cairo - El Tagamoa",
          "New Cairo - El Tagamoa",
          "Madinaty",
          "Madinaty",
          "Madinaty",
          "Madinaty",
          "Zahraa Al Maadi",
          "6th of October",
          "New Cairo - El Tagamoa",
          "6th of October",
          "Madinaty",
          "New Cairo - El Tagamoa",
          "New Cairo - El Tagamoa",
          "Madinaty",
          "Sheikh Zayed",
          "Madinaty",
          "6th of October",
          "Madinaty",
          "New Cairo - El Tagamoa",
          "6th of October",
          "Sheikh Zayed",
          "Madinaty",
          "Almazah",
          "Sheikh Zayed",
          "Sheikh Zayed",
          "Madinaty",
          "Madinaty",
          "Katameya",
          "Katameya",
          "Katameya",
          "Katameya",
          "Katameya",
          "New Cairo - El Tagamoa",
          "New Cairo - El Tagamoa",
          "New Cairo - El Tagamoa",
          "New Cairo - El Tagamoa",
          "New Cairo - El Tagamoa",
          "New Cairo - El Tagamoa",
          "New Cairo - El Tagamoa",
          "New Cairo - El Tagamoa",
          "New Cairo - El Tagamoa",
          "Katameya",
          "Katameya",
          "New Cairo - El Tagamoa",
          "New Cairo - El Tagamoa",
          "New Cairo - El Tagamoa",
          "New Cairo - El Tagamoa",
          "New Cairo - El Tagamoa",
          "New Cairo - El Tagamoa",
          "New Cairo - El Tagamoa",
          "Madinaty",
          "Madinaty",
          "Madinaty",
          "Madinaty",
          "Madinaty",
          "Rehab City",
          "Rehab City",
          "Rehab City",
          "Rehab City",
          "Katameya",
          "Rehab City",
          "Sheikh Zayed",
          "6th of October",
          "Rehab City",
          "Madinaty",
          "Zahraa Al Maadi",
          "Madinaty",
          "Madinaty",
          "Amreya",
          "New Cairo - El Tagamoa",
          "Hadayek al-Ahram",
          "Obour City",
          "New Cairo - El Tagamoa",
          "Madinaty",
          "Almazah",
          "Rehab City",
          "Madinaty",
          "New Capital City",
          "Madinaty",
          "New Cairo - El Tagamoa",
          "Rehab City",
          "Madinaty",
          "Madinaty",
          "New Cairo - El Tagamoa",
          "Madinaty",
          "Cleopatra",
          "Sheikh Zayed",
          "Mostakbal City",
          "Nasr City",
          "Rehab City",
          "Hurghada",
          "Sheikh Zayed",
          "Nasr City",
          "New Capital City",
          "Madinaty",
          "Sheikh Zayed",
          "New Cairo - El Tagamoa",
          "New Cairo - El Tagamoa",
          "Madinaty",
          "New Cairo - El Tagamoa",
          "6th of October",
          "6th of October",
          "Madinaty",
          "Nakheel",
          "Madinaty",
          "New Cairo - El Tagamoa",
          "Katameya",
          "Madinaty",
          "New Cairo - El Tagamoa",
          "New Cairo - El Tagamoa",
          "New Cairo - El Tagamoa",
          "New Cairo - El Tagamoa",
          "New Cairo - El Tagamoa",
          "New Cairo - El Tagamoa",
          "New Cairo - El Tagamoa",
          "New Cairo - El Tagamoa",
          "Rehab City",
          "New Cairo - El Tagamoa",
          "New Cairo - El Tagamoa",
          "Rehab City",
          "Madinaty",
          "Rehab City",
          "New Capital City",
          "New Capital City",
          "New Cairo - El Tagamoa",
          "New Cairo - El Tagamoa",
          "New Cairo - El Tagamoa",
          "New Cairo - El Tagamoa",
          "Madinaty",
          "Madinaty",
          "Sheikh Zayed",
          "New Cairo - El Tagamoa",
          "6th of October",
          "New Cairo - El Tagamoa",
          "New Cairo - El Tagamoa",
          "New Cairo - El Tagamoa",
          "New Cairo - El Tagamoa",
          "Madinaty",
          "New Cairo - El Tagamoa",
          "New Cairo - El Tagamoa",
          "Madinaty",
          "New Cairo - El Tagamoa",
          "Madinaty",
          "Madinaty",
          "New Cairo - El Tagamoa",
          "New Cairo - El Tagamoa",
          "Rehab City",
          "New Cairo - El Tagamoa",
          "Sheikh Zayed",
          "6th of October",
          "Madinaty",
          "6th of October",
          "Sheikh Zayed",
          "Sheikh Zayed",
          "Sheikh Zayed",
          "Sheikh Zayed",
          "New Cairo - El Tagamoa",
          "New Cairo - El Tagamoa",
          "Heliopolis",
          "New Nozha",
          "New Cairo - El Tagamoa",
          "New Cairo - El Tagamoa",
          "New Cairo - El Tagamoa",
          "New Cairo - El Tagamoa",
          "New Cairo - El Tagamoa",
          "New Cairo - El Tagamoa",
          "New Cairo - El Tagamoa",
          "New Cairo - El Tagamoa",
          "New Cairo - El Tagamoa",
          "Madinaty",
          "Madinaty",
          "New Cairo - El Tagamoa",
          "Madinaty",
          "Madinaty",
          "Shorouk City",
          "Madinaty",
          "Shorouk City",
          "New Nozha",
          "New Cairo - El Tagamoa",
          "New Cairo - El Tagamoa",
          "New Cairo - El Tagamoa",
          "Madinaty",
          "Badr City",
          "Madinaty",
          "Madinaty",
          "Madinaty",
          "Sheikh Zayed",
          "Rehab City",
          "Obour City",
          "Nasr City",
          "Madinaty",
          "Hadayek 6th of October",
          "6th of October",
          "Sheikh Zayed",
          "Hadayek 6th of October",
          "Madinaty",
          "Nasr City",
          "Rehab City",
          "New Heliopolis",
          "Madinaty",
          "Madinaty",
          "Madinaty",
          "Madinaty",
          "New Cairo - El Tagamoa",
          "Madinaty",
          "Rehab City",
          "Sheikh Zayed",
          "Madinaty",
          "Madinaty",
          "Madinaty",
          "Zahraa Al Maadi",
          "Shorouk City",
          "Maadi",
          "Sheikh Zayed",
          "New Cairo - El Tagamoa",
          "Mokattam",
          "10th of Ramadan",
          "6th of October",
          "Hadayek 6th of October",
          "6th of October",
          "Sheikh Zayed",
          "Madinaty",
          "Haram",
          "Madinaty",
          "6th of October",
          "Rehab City",
          "Shorouk City",
          "New Cairo - El Tagamoa",
          "New Capital City",
          "New Capital City",
          "New Capital City",
          "New Cairo - El Tagamoa",
          "New Cairo - El Tagamoa",
          "Madinaty",
          "Shorouk City",
          "Madinaty",
          "Madinaty",
          "Hadayek 6th of October",
          "Madinaty",
          "New Cairo - El Tagamoa",
          "New Cairo - El Tagamoa",
          "Rehab City",
          "6th of October",
          "New Cairo - El Tagamoa",
          "New Cairo - El Tagamoa",
          "New Cairo - El Tagamoa",
          "New Cairo - El Tagamoa",
          "Zahraa Al Maadi",
          "Shorouk City",
          "Madinaty",
          "Madinaty",
          "Madinaty",
          "Madinaty",
          "Madinaty",
          "New Capital City",
          "Mostakbal City",
          "Madinaty",
          "New Cairo - El Tagamoa",
          "Nasr City",
          "New Cairo - El Tagamoa",
          "New Cairo - El Tagamoa",
          "Madinaty",
          "Madinaty",
          "Madinaty",
          "Madinaty",
          "6th of October",
          "Hadayek al-Ahram",
          "Madinaty",
          "Hadayek 6th of October",
          "Shorouk City",
          "Rehab City",
          "New Capital City",
          "Rehab City",
          "Mostakbal City",
          "New Cairo - El Tagamoa",
          "New Cairo - El Tagamoa",
          "Zahraa Al Maadi",
          "Madinaty",
          "New Cairo - El Tagamoa",
          "New Cairo - El Tagamoa",
          "Madinaty",
          "New Cairo - El Tagamoa",
          "New Cairo - El Tagamoa",
          "New Cairo - El Tagamoa",
          "New Cairo - El Tagamoa",
          "New Cairo - El Tagamoa",
          "New Cairo - El Tagamoa",
          "New Cairo - El Tagamoa",
          "New Cairo - El Tagamoa",
          "New Cairo - El Tagamoa",
          "Haram",
          "New Cairo - El Tagamoa",
          "New Cairo - El Tagamoa",
          "New Cairo - El Tagamoa",
          "New Cairo - El Tagamoa",
          "Sheikh Zayed",
          "6th of October",
          "Sheikh Zayed",
          "New Cairo - El Tagamoa",
          "Mokattam",
          "6th of October",
          "Azarita",
          "New Cairo - El Tagamoa",
          "New Cairo - El Tagamoa",
          "New Cairo - El Tagamoa",
          "New Cairo - El Tagamoa",
          "New Cairo - El Tagamoa",
          "New Cairo - El Tagamoa",
          "New Cairo - El Tagamoa",
          "New Cairo - El Tagamoa",
          "6th of October",
          "New Cairo - El Tagamoa",
          "New Cairo - El Tagamoa",
          "Mostakbal City",
          "New Cairo - El Tagamoa",
          "New Cairo - El Tagamoa",
          "Madinaty",
          "Madinaty",
          "Maadi",
          "New Cairo - El Tagamoa",
          "Ain Shams",
          "Katameya",
          "6th of October",
          "Nasr City",
          "Madinaty",
          "Madinaty",
          "New Cairo - El Tagamoa",
          "New Cairo - El Tagamoa",
          "Nasr City",
          "New Cairo - El Tagamoa",
          "Madinaty",
          "Madinaty",
          "Sheikh Zayed",
          "Rehab City",
          "6th of October",
          "Sheikh Zayed",
          "Sheikh Zayed",
          "Madinaty",
          "Hadayek al-Ahram",
          "Shorouk City",
          "New Cairo - El Tagamoa",
          "New Cairo - El Tagamoa",
          "Sheikh Zayed",
          "Madinaty",
          "Sheikh Zayed",
          "Maadi",
          "6th of October",
          "Madinaty",
          "6th of October",
          "6th of October",
          "Madinaty",
          "6th of October",
          "Madinaty",
          "Nasr City",
          "Sheikh Zayed",
          "Madinaty",
          "Hadayek 6th of October",
          "Nasr City",
          "6th of October",
          "Sheikh Zayed",
          "6th of October",
          "New Capital City",
          "New Cairo - El Tagamoa",
          "New Cairo - El Tagamoa",
          "6th of October",
          "Smoha",
          "New Capital City",
          "Smoha",
          "New Cairo - El Tagamoa",
          "New Cairo - El Tagamoa",
          "New Cairo - El Tagamoa",
          "Sheraton",
          "New Cairo - El Tagamoa",
          "New Cairo - El Tagamoa",
          "Mostakbal City",
          "Madinaty",
          "New Cairo - El Tagamoa",
          "New Cairo - El Tagamoa",
          "Hadayek 6th of October",
          "Madinaty",
          "Sheikh Zayed",
          "Sheikh Zayed",
          "Hadayek 6th of October",
          "New Cairo - El Tagamoa",
          "Sheikh Zayed",
          "Hadayek 6th of October",
          "6th of October",
          "New Cairo - El Tagamoa",
          "New Cairo - El Tagamoa",
          "New Cairo - El Tagamoa",
          "New Cairo - El Tagamoa",
          "Sheikh Zayed",
          "Madinaty",
          "New Cairo - El Tagamoa",
          "New Capital City",
          "New Cairo - El Tagamoa",
          "New Cairo - El Tagamoa",
          "New Cairo - El Tagamoa",
          "Heliopolis",
          "Rehab City",
          "New Cairo - El Tagamoa",
          "New Cairo - El Tagamoa",
          "Sheikh Zayed",
          "New Cairo - El Tagamoa",
          "New Cairo - El Tagamoa",
          "New Cairo - El Tagamoa",
          "New Cairo - El Tagamoa",
          "New Cairo - El Tagamoa",
          "New Cairo - El Tagamoa",
          "New Cairo - El Tagamoa",
          "New Cairo - El Tagamoa",
          "Mostakbal City",
          "New Cairo - El Tagamoa",
          "Madinaty",
          "New Heliopolis",
          "New Cairo - El Tagamoa",
          "New Cairo - El Tagamoa",
          "New Cairo - El Tagamoa",
          "New Cairo - El Tagamoa",
          "Madinaty",
          "New Cairo - El Tagamoa",
          "6th of October",
          "Rehab City",
          "New Cairo - El Tagamoa",
          "Madinaty",
          "Madinaty",
          "New Cairo - El Tagamoa",
          "6th of October",
          "New Cairo - El Tagamoa",
          "New Cairo - El Tagamoa",
          "6th of October",
          "Madinaty",
          "6th of October",
          "Rehab City",
          "New Cairo - El Tagamoa",
          "New Cairo - El Tagamoa",
          "Sheikh Zayed",
          "Madinaty",
          "Sheikh Zayed",
          "Madinaty",
          "Madinaty",
          "Madinaty",
          "New Cairo - El Tagamoa",
          "Madinaty",
          "New Cairo - El Tagamoa",
          "New Cairo - El Tagamoa",
          "New Cairo - El Tagamoa",
          "Rehab City",
          "Smoha",
          "Madinaty",
          "New Cairo - El Tagamoa",
          "Rehab City",
          "New Cairo - El Tagamoa",
          "New Cairo - El Tagamoa",
          "Madinaty",
          "New Cairo - El Tagamoa",
          "6th of October",
          "New Cairo - El Tagamoa",
          "New Mansoura",
          "New Cairo - El Tagamoa",
          "Mandara",
          "Glim",
          "Camp Caesar",
          "Smoha",
          "New Mansoura",
          "Madinaty",
          "Obour City",
          "Sheikh Zayed",
          "Sheikh Zayed",
          "New Cairo - El Tagamoa",
          "6th of October",
          "New Cairo - El Tagamoa",
          "Sheikh Zayed",
          "Madinaty",
          "Madinaty",
          "Madinaty",
          "Madinaty",
          "Madinaty",
          "Madinaty",
          "Madinaty",
          "Madinaty",
          "Ismailia City",
          "Madinaty",
          "Madinaty",
          "Rehab City",
          "Rehab City",
          "Rehab City",
          "Madinaty",
          "Madinaty",
          "Madinaty",
          "Rehab City",
          "New Cairo - El Tagamoa",
          "Madinaty",
          "Zahraa Al Maadi",
          "Madinaty",
          "Boulaq",
          "Madinaty",
          "New Cairo - El Tagamoa",
          "Madinaty",
          "New Cairo - El Tagamoa",
          "Rehab City",
          "Madinaty",
          "Rehab City",
          "Rehab City",
          "Rehab City",
          "6th of October",
          "Sheikh Zayed",
          "New Cairo - El Tagamoa",
          "New Cairo - El Tagamoa",
          "New Cairo - El Tagamoa",
          "New Mansoura",
          "Madinaty",
          "Madinaty",
          "New Cairo - El Tagamoa",
          "Madinaty",
          "Laurent",
          "Madinaty",
          "Madinaty",
          "Madinaty",
          "New Cairo - El Tagamoa",
          "Rehab City",
          "Madinaty",
          "New Cairo - El Tagamoa",
          "New Cairo - El Tagamoa",
          "Mostakbal City",
          "Madinaty",
          "Heliopolis",
          "Madinaty",
          "Rehab City",
          "New Cairo - El Tagamoa",
          "Madinaty",
          "Madinaty",
          "New Cairo - El Tagamoa",
          "Madinaty",
          "Shorouk City",
          "New Capital City",
          "Shorouk City",
          "Madinaty",
          "New Cairo - El Tagamoa",
          "New Cairo - El Tagamoa",
          "New Cairo - El Tagamoa",
          "Madinaty",
          "New Cairo - El Tagamoa",
          "6th of October",
          "Madinaty",
          "6th of October",
          "Rehab City",
          "6th of October",
          "New Cairo - El Tagamoa",
          "New Cairo - El Tagamoa",
          "Hadayek 6th of October",
          "Madinaty",
          "6th of October",
          "Heliopolis",
          "Shorouk City",
          "Sheikh Zayed",
          "Sheikh Zayed",
          "Haram",
          "New Cairo - El Tagamoa",
          "New Cairo - El Tagamoa",
          "Rehab City",
          "Hadayek 6th of October",
          "New Cairo - El Tagamoa",
          "Mokattam",
          "Rehab City",
          "New Cairo - El Tagamoa",
          "Madinaty",
          "Mokattam",
          "New Cairo - El Tagamoa",
          "Hadayek 6th of October",
          "New Cairo - El Tagamoa",
          "New Capital City",
          "6th of October",
          "Madinaty",
          "New Cairo - El Tagamoa",
          "Madinaty",
          "New Capital City",
          "New Cairo - El Tagamoa",
          "Hadayek 6th of October",
          "Zamalek",
          "New Cairo - El Tagamoa",
          "New Cairo - El Tagamoa",
          "Sheikh Zayed",
          "Madinaty",
          "Obour City",
          "New Cairo - El Tagamoa",
          "Moharam Bik",
          "New Cairo - El Tagamoa",
          "Madinaty",
          "New Capital City",
          "New Cairo - El Tagamoa",
          "New Cairo - El Tagamoa",
          "New Cairo - El Tagamoa",
          "6th of October",
          "New Capital City",
          "Hadayek 6th of October",
          "Rehab City",
          "Madinaty",
          "Rehab City",
          "Sheikh Zayed",
          "Haram",
          "Sheikh Zayed",
          "Nasr City",
          "Hadayek 6th of October",
          "Rehab City",
          "Sheikh Zayed",
          "6th of October",
          "Rehab City",
          "Shorouk City",
          "Madinaty",
          "Obour City",
          "6th of October",
          "New Cairo - El Tagamoa",
          "6th of October",
          "New Cairo - El Tagamoa",
          "New Capital City",
          "New Cairo - El Tagamoa",
          "New Cairo - El Tagamoa",
          "New Cairo - El Tagamoa",
          "New Cairo - El Tagamoa",
          "6th of October",
          "New Cairo - El Tagamoa",
          "New Cairo - El Tagamoa",
          "Sheraton",
          "New Cairo - El Tagamoa",
          "Shorouk City",
          "Nasr City",
          "Shorouk City",
          "6th of October",
          "New Cairo - El Tagamoa",
          "Obour City",
          "6th of October",
          "Sheikh Zayed",
          "Rehab City",
          "6th of October",
          "Madinaty",
          "6th of October",
          "Shorouk City",
          "Sheikh Zayed",
          "New Cairo - El Tagamoa",
          "New Cairo - El Tagamoa",
          "Sheikh Zayed",
          "Madinaty",
          "Madinaty",
          "Madinaty",
          "6th of October",
          "Sheikh Zayed",
          "New Cairo - El Tagamoa",
          "New Cairo - El Tagamoa",
          "Rehab City",
          "Sidi Gaber",
          "New Cairo - El Tagamoa",
          "Shorouk City",
          "Madinaty",
          "New Cairo - El Tagamoa",
          "New Cairo - El Tagamoa",
          "New Cairo - El Tagamoa",
          "Madinaty",
          "New Cairo - El Tagamoa",
          "New Cairo - El Tagamoa",
          "New Capital City",
          "New Nozha",
          "New Cairo - El Tagamoa",
          "New Cairo - El Tagamoa",
          "Obour City",
          "Rehab City",
          "Sheikh Zayed",
          "6th of October",
          "New Cairo - El Tagamoa",
          "New Cairo - El Tagamoa",
          "New Cairo - El Tagamoa",
          "Madinaty",
          "Madinaty",
          "Sheikh Zayed",
          "New Cairo - El Tagamoa",
          "New Cairo - El Tagamoa",
          "Shorouk City",
          "Heliopolis",
          "New Cairo - El Tagamoa",
          "Madinaty",
          "Madinaty",
          "New Cairo - El Tagamoa",
          "Madinaty",
          "North Coast",
          "New Cairo - El Tagamoa",
          "Badr City",
          "Shorouk City",
          "Shorouk City",
          "New Capital City",
          "Madinaty",
          "6th of October",
          "Rehab City",
          "New Cairo - El Tagamoa",
          "New Cairo - El Tagamoa",
          "6th of October",
          "New Capital City",
          "Madinaty",
          "Hadayek 6th of October",
          "Madinaty",
          "New Cairo - El Tagamoa",
          "New Cairo - El Tagamoa",
          "Madinaty",
          "Madinaty",
          "6th of October",
          "New Cairo - El Tagamoa",
          "New Beni Suef",
          "New Cairo - El Tagamoa",
          "New Capital City",
          "6th of October",
          "New Cairo - El Tagamoa",
          "New Capital City",
          "New Cairo - El Tagamoa",
          "New Cairo - El Tagamoa",
          "Madinaty",
          "New Cairo - El Tagamoa",
          "Rehab City",
          "Nasr City",
          "New Cairo - El Tagamoa",
          "New Cairo - El Tagamoa",
          "New Cairo - El Tagamoa",
          "New Capital City",
          "New Cairo - El Tagamoa",
          "New Cairo - El Tagamoa",
          "New Cairo - El Tagamoa",
          "New Capital City",
          "New Cairo - El Tagamoa",
          "New Capital City",
          "New Capital City",
          "Rehab City",
          "Rehab City",
          "Rehab City",
          "6th of October",
          "Rehab City",
          "New Cairo - El Tagamoa",
          "New Cairo - El Tagamoa",
          "New Capital City",
          "6th of October",
          "Hadayek 6th of October",
          "New Cairo - El Tagamoa",
          "New Cairo - El Tagamoa",
          "Mokattam",
          "New Cairo - El Tagamoa",
          "New Cairo - El Tagamoa",
          "New Cairo - El Tagamoa",
          "Shorouk City",
          "Hadayek al-Ahram",
          "New Cairo - El Tagamoa",
          "6th of October",
          "Shorouk City",
          "New Cairo - El Tagamoa",
          "6th of October",
          "New Cairo - El Tagamoa",
          "New Cairo - El Tagamoa",
          "New Cairo - El Tagamoa",
          "New Cairo - El Tagamoa",
          "New Cairo - El Tagamoa",
          "Madinaty",
          "New Capital City",
          "New Cairo - El Tagamoa",
          "New Cairo - El Tagamoa",
          "New Cairo - El Tagamoa",
          "Mostakbal City",
          "New Cairo - El Tagamoa",
          "Madinaty",
          "Sheikh Zayed",
          "6th of October",
          "New Cairo - El Tagamoa",
          "Rehab City",
          "New Cairo - El Tagamoa",
          "New Cairo - El Tagamoa",
          "6th of October",
          "Mostakbal City",
          "Miami",
          "6th of October",
          "Sheikh Zayed",
          "New Capital City",
          "Sheikh Zayed",
          "Sheikh Zayed",
          "6th of October",
          "New Cairo - El Tagamoa",
          "New Cairo - El Tagamoa",
          "Madinaty",
          "New Capital City",
          "Sheikh Zayed",
          "New Cairo - El Tagamoa",
          "Sheikh Zayed",
          "6th of October",
          "Sheikh Zayed",
          "Sheikh Zayed",
          "New Cairo - El Tagamoa",
          "6th of October",
          "Sheikh Zayed",
          "New Cairo - El Tagamoa",
          "6th of October",
          "New Cairo - El Tagamoa",
          "New Cairo - El Tagamoa",
          "Sheikh Zayed",
          "New Cairo - El Tagamoa",
          "New Cairo - El Tagamoa",
          "New Cairo - El Tagamoa",
          "New Cairo - El Tagamoa",
          "New Cairo - El Tagamoa",
          "New Cairo - El Tagamoa",
          "New Cairo - El Tagamoa",
          "New Cairo - El Tagamoa",
          "New Cairo - El Tagamoa",
          "New Cairo - El Tagamoa",
          "New Cairo - El Tagamoa",
          "Madinaty",
          "New Cairo - El Tagamoa",
          "New Cairo - El Tagamoa",
          "New Cairo - El Tagamoa",
          "Shorouk City",
          "Sheikh Zayed",
          "6th of October",
          "New Cairo - El Tagamoa",
          "Nasr City",
          "New Cairo - El Tagamoa",
          "Shorouk City",
          "New Cairo - El Tagamoa",
          "Sheikh Zayed",
          "Shorouk City",
          "Madinaty",
          "New Cairo - El Tagamoa",
          "New Cairo - El Tagamoa",
          "New Cairo - El Tagamoa",
          "Sheraton",
          "Madinaty",
          "New Cairo - El Tagamoa",
          "Madinaty",
          "New Cairo - El Tagamoa",
          "New Cairo - El Tagamoa",
          "New Cairo - El Tagamoa",
          "New Cairo - El Tagamoa",
          "New Cairo - El Tagamoa",
          "6th of October",
          "New Cairo - El Tagamoa",
          "New Cairo - El Tagamoa",
          "New Cairo - El Tagamoa",
          "Rehab City",
          "Madinaty",
          "6th of October",
          "New Cairo - El Tagamoa",
          "New Cairo - El Tagamoa",
          "New Cairo - El Tagamoa",
          "Shorouk City",
          "Rehab City",
          "Hadayek 6th of October",
          "Madinaty",
          "6th of October",
          "Madinaty",
          "New Cairo - El Tagamoa",
          "New Cairo - El Tagamoa",
          "Sheikh Zayed",
          "Rehab City",
          "Maadi",
          "6th of October",
          "New Cairo - El Tagamoa",
          "New Cairo - El Tagamoa",
          "New Cairo - El Tagamoa",
          "6th of October",
          "6th of October",
          "New Cairo - El Tagamoa",
          "Shorouk City",
          "Madinaty",
          "6th of October",
          "New Cairo - El Tagamoa",
          "New Capital City",
          "6th of October",
          "Madinaty",
          "6th of October",
          "Shorouk City",
          "6th of October",
          "Rehab City",
          "New Cairo - El Tagamoa",
          "Sheikh Zayed",
          "Madinaty",
          "Rehab City",
          "Sheikh Zayed",
          "New Cairo - El Tagamoa",
          "Madinaty",
          "New Cairo - El Tagamoa",
          "New Cairo - El Tagamoa",
          "Madinaty",
          "Madinaty",
          "Maadi",
          "Obour City",
          "Madinaty",
          "New Capital City",
          "New Cairo - El Tagamoa",
          "Shorouk City",
          "Shorouk City",
          "Sheikh Zayed",
          "Rehab City",
          "New Cairo - El Tagamoa",
          "New Cairo - El Tagamoa",
          "Madinaty",
          "Sheikh Zayed",
          "New Cairo - El Tagamoa",
          "Madinaty",
          "Madinaty",
          "Nasr City",
          "Madinaty",
          "6th of October",
          "Sheikh Zayed",
          "Shorouk City",
          "New Cairo - El Tagamoa",
          "Sheikh Zayed",
          "New Cairo - El Tagamoa",
          "New Cairo - El Tagamoa",
          "Madinaty",
          "Madinaty",
          "Heliopolis",
          "Mostakbal City",
          "New Cairo - El Tagamoa",
          "New Cairo - El Tagamoa",
          "Sheraton",
          "Sheikh Zayed",
          "Sheikh Zayed",
          "New Cairo - El Tagamoa",
          "New Cairo - El Tagamoa",
          "New Nozha",
          "New Cairo - El Tagamoa",
          "Madinaty",
          "New Nozha",
          "New Cairo - El Tagamoa",
          "New Cairo - El Tagamoa",
          "6th of October",
          "Nasr City",
          "New Cairo - El Tagamoa",
          "New Cairo - El Tagamoa",
          "New Capital City",
          "Madinaty",
          "6th of October",
          "Nasr City",
          "New Cairo - El Tagamoa",
          "New Cairo - El Tagamoa",
          "New Cairo - El Tagamoa",
          "New Cairo - El Tagamoa",
          "Bahray - Anfoshy",
          "New Capital City",
          "New Cairo - El Tagamoa",
          "New Cairo - El Tagamoa",
          "Nasr City",
          "Sheikh Zayed",
          "New Cairo - El Tagamoa",
          "Madinaty",
          "Madinaty",
          "New Cairo - El Tagamoa",
          "New Cairo - El Tagamoa",
          "New Cairo - El Tagamoa",
          "Sheikh Zayed",
          "Sheikh Zayed",
          "Madinaty",
          "New Cairo - El Tagamoa",
          "Madinaty",
          "New Cairo - El Tagamoa",
          "Madinaty",
          "New Cairo - El Tagamoa",
          "New Cairo - El Tagamoa",
          "Sheikh Zayed",
          "Sheikh Zayed",
          "New Cairo - El Tagamoa",
          "New Capital City",
          "Mostakbal City",
          "Maadi",
          "Nasr City",
          "Madinaty",
          "Glim",
          "Madinaty",
          "Sheikh Zayed",
          "New Cairo - El Tagamoa",
          "Madinaty",
          "Madinaty",
          "Mokattam",
          "6th of October",
          "Sheikh Zayed",
          "Sheikh Zayed",
          "New Cairo - El Tagamoa",
          "New Cairo - El Tagamoa",
          "Madinaty",
          "New Cairo - El Tagamoa",
          "New Cairo - El Tagamoa",
          "New Cairo - El Tagamoa",
          "New Cairo - El Tagamoa",
          "6th of October",
          "Madinaty",
          "Madinaty",
          "Madinaty",
          "Sheikh Zayed",
          "New Cairo - El Tagamoa",
          "New Cairo - El Tagamoa",
          "Madinaty",
          "Madinaty",
          "New Cairo - El Tagamoa",
          "New Cairo - El Tagamoa",
          "New Cairo - El Tagamoa",
          "Mokattam",
          "Shorouk City",
          "New Cairo - El Tagamoa",
          "Madinaty",
          "Madinaty",
          "Obour City",
          "New Cairo - El Tagamoa",
          "Madinaty",
          "Mokattam",
          "New Cairo - El Tagamoa",
          "Rehab City",
          "Zahraa Al Maadi",
          "Zahraa Al Maadi",
          "New Cairo - El Tagamoa",
          "Zahraa Al Maadi",
          "Mokattam",
          "Mokattam",
          "Rehab City",
          "Rehab City",
          "Rehab City",
          "New Cairo - El Tagamoa",
          "Sheikh Zayed",
          "Sheikh Zayed",
          "Sheikh Zayed",
          "New Cairo - El Tagamoa",
          "Madinaty",
          "6th of October",
          "New Cairo - El Tagamoa",
          "Madinaty",
          "New Cairo - El Tagamoa",
          "6th of October",
          "New Cairo - El Tagamoa",
          "New Cairo - El Tagamoa",
          "New Cairo - El Tagamoa",
          "New Cairo - El Tagamoa",
          "Madinaty",
          "New Cairo - El Tagamoa",
          "New Cairo - El Tagamoa",
          "New Cairo - El Tagamoa",
          "New Cairo - El Tagamoa",
          "New Cairo - El Tagamoa",
          "New Cairo - El Tagamoa",
          "Madinaty",
          "Sheikh Zayed",
          "New Cairo - El Tagamoa",
          "6th of October",
          "Madinaty",
          "Maadi",
          "Zahraa Al Maadi",
          "Zahraa Al Maadi",
          "New Cairo - El Tagamoa",
          "Zahraa Al Maadi",
          "Mokattam",
          "Mokattam",
          "New Cairo - El Tagamoa",
          "Madinaty",
          "Mokattam",
          "Madinaty",
          "Rehab City",
          "New Cairo - El Tagamoa",
          "Madinaty",
          "New Cairo - El Tagamoa",
          "6th of October",
          "New Cairo - El Tagamoa",
          "Sheikh Zayed",
          "Madinaty",
          "Sheikh Zayed",
          "6th of October",
          "New Cairo - El Tagamoa",
          "New Cairo - El Tagamoa",
          "6th of October",
          "New Cairo - El Tagamoa",
          "Zamalek",
          "New Cairo - El Tagamoa",
          "Heliopolis",
          "6th of October",
          "Madinaty",
          "New Cairo - El Tagamoa",
          "New Cairo - El Tagamoa",
          "New Cairo - El Tagamoa",
          "New Cairo - El Tagamoa",
          "Heliopolis",
          "Mokattam",
          "New Cairo - El Tagamoa",
          "New Cairo - El Tagamoa",
          "Madinaty",
          "Rehab City",
          "New Cairo - El Tagamoa",
          "Mohandessin",
          "New Cairo - El Tagamoa",
          "New Cairo - El Tagamoa",
          "New Cairo - El Tagamoa",
          "New Cairo - El Tagamoa",
          "Madinaty",
          "Asafra",
          "New Cairo - El Tagamoa",
          "Sheraton",
          "Madinaty",
          "Madinaty",
          "Madinaty",
          "Hadayek 6th of October",
          "Madinaty",
          "Madinaty",
          "New Cairo - El Tagamoa",
          "6th of October",
          "New Cairo - El Tagamoa",
          "Sheikh Zayed",
          "Madinaty",
          "Sheikh Zayed",
          "New Cairo - El Tagamoa",
          "6th of October",
          "New Cairo - El Tagamoa",
          "Madinaty",
          "6th of October",
          "Rehab City",
          "Madinaty",
          "New Cairo - El Tagamoa",
          "Madinaty",
          "6th of October",
          "New Cairo - El Tagamoa",
          "Madinaty",
          "Sheikh Zayed",
          "New Cairo - El Tagamoa",
          "6th of October",
          "Rehab City",
          "6th of October",
          "Madinaty",
          "Sheikh Zayed",
          "Sheikh Zayed",
          "Madinaty",
          "Nakheel",
          "Sheikh Zayed",
          "Sheikh Zayed",
          "New Cairo - El Tagamoa",
          "New Cairo - El Tagamoa",
          "New Cairo - El Tagamoa",
          "New Cairo - El Tagamoa",
          "New Cairo - El Tagamoa",
          "New Capital City",
          "Sheikh Zayed",
          "Madinaty",
          "Madinaty",
          "Madinaty",
          "New Cairo - El Tagamoa",
          "Madinaty",
          "Madinaty",
          "Madinaty",
          "Madinaty",
          "Madinaty",
          "Madinaty",
          "Madinaty",
          "Madinaty",
          "Madinaty",
          "New Cairo - El Tagamoa",
          "Nakheel",
          "Garden City",
          "New Cairo - El Tagamoa",
          "Salam City",
          "Madinaty",
          "New Cairo - El Tagamoa",
          "New Cairo - El Tagamoa",
          "New Cairo - El Tagamoa",
          "New Cairo - El Tagamoa",
          "Sheikh Zayed",
          "Madinaty",
          "Madinaty",
          "Zahraa Al Maadi",
          "Madinaty",
          "Shorouk City",
          "New Capital City",
          "New Cairo - El Tagamoa",
          "New Cairo - El Tagamoa",
          "New Cairo - El Tagamoa",
          "New Cairo - El Tagamoa",
          "New Cairo - El Tagamoa",
          "New Cairo - El Tagamoa",
          "Madinaty",
          "Sheikh Zayed",
          "6th of October",
          "New Cairo - El Tagamoa",
          "New Cairo - El Tagamoa",
          "New Cairo - El Tagamoa",
          "New Damietta",
          "New Capital City",
          "New Cairo - El Tagamoa",
          "Sheikh Zayed",
          "New Cairo - El Tagamoa",
          "New Cairo - El Tagamoa",
          "New Cairo - El Tagamoa",
          "New Cairo - El Tagamoa",
          "New Cairo - El Tagamoa",
          "Tanta",
          "Nasr City",
          "New Cairo - El Tagamoa",
          "Nasr City",
          "Seyouf",
          "New Cairo - El Tagamoa",
          "New Capital City",
          "6th of October",
          "New Cairo - El Tagamoa",
          "Sheikh Zayed",
          "Madinaty",
          "Mostakbal City",
          "New Capital City",
          "Madinaty",
          "Rehab City",
          "Madinaty",
          "Sheikh Zayed",
          "Sheikh Zayed",
          "Sheikh Zayed",
          "Sheikh Zayed",
          "Madinaty",
          "New Cairo - El Tagamoa",
          "Madinaty",
          "Madinaty",
          "New Cairo - El Tagamoa",
          "New Cairo - El Tagamoa",
          "New Cairo - El Tagamoa",
          "Sheikh Zayed",
          "New Cairo - El Tagamoa",
          "New Cairo - El Tagamoa",
          "Sheikh Zayed",
          "New Cairo - El Tagamoa",
          "6th of October",
          "6th of October",
          "Madinaty",
          "Madinaty",
          "Madinaty",
          "New Cairo - El Tagamoa",
          "New Cairo - El Tagamoa",
          "Madinaty",
          "New Cairo - El Tagamoa",
          "Shorouk City",
          "Madinaty",
          "Madinaty",
          "Sheikh Zayed",
          "New Cairo - El Tagamoa",
          "New Cairo - El Tagamoa",
          "Sheikh Zayed",
          "Shorouk City",
          "6th of October",
          "Sheikh Zayed",
          "New Cairo - El Tagamoa",
          "New Capital City",
          "Rehab City",
          "Madinaty",
          "Madinaty",
          "New Cairo - El Tagamoa",
          "Madinaty",
          "Sheikh Zayed",
          "New Capital City",
          "New Cairo - El Tagamoa",
          "New Cairo - El Tagamoa",
          "New Cairo - El Tagamoa",
          "New Cairo - El Tagamoa",
          "Sheikh Zayed",
          "Mokattam",
          "Mokattam",
          "Mokattam",
          "Mokattam",
          "Mokattam",
          "Mokattam",
          "Mokattam",
          "Mokattam",
          "Mokattam",
          "Mokattam",
          "Mokattam",
          "Mokattam",
          "Mokattam",
          "Mokattam",
          "Mokattam",
          "Sheikh Zayed",
          "New Cairo - El Tagamoa",
          "Madinaty",
          "Rehab City",
          "6th of October",
          "Sheikh Zayed",
          "New Cairo - El Tagamoa",
          "Madinaty",
          "6th of October",
          "Madinaty",
          "New Capital City",
          "Mostakbal City",
          "New Cairo - El Tagamoa",
          "New Cairo - El Tagamoa",
          "Madinaty",
          "New Cairo - El Tagamoa",
          "Madinaty",
          "Madinaty",
          "Nakheel",
          "Madinaty",
          "New Cairo - El Tagamoa",
          "Madinaty",
          "Madinaty",
          "New Cairo - El Tagamoa",
          "6th of October",
          "Madinaty",
          "Madinaty",
          "Madinaty",
          "Madinaty",
          "New Cairo - El Tagamoa",
          "New Cairo - El Tagamoa",
          "New Cairo - El Tagamoa",
          "New Cairo - El Tagamoa",
          "New Cairo - El Tagamoa",
          "New Cairo - El Tagamoa",
          "New Cairo - El Tagamoa",
          "New Cairo - El Tagamoa",
          "New Cairo - El Tagamoa",
          "Sheikh Zayed",
          "Madinaty",
          "Madinaty",
          "Madinaty",
          "Madinaty",
          "Madinaty",
          "Madinaty",
          "New Cairo - El Tagamoa",
          "New Capital City",
          "New Cairo - El Tagamoa",
          "New Cairo - El Tagamoa",
          "New Cairo - El Tagamoa",
          "New Cairo - El Tagamoa",
          "Madinaty",
          "Madinaty",
          "New Cairo - El Tagamoa",
          "6th of October",
          "New Cairo - El Tagamoa",
          "Madinaty",
          "6th of October",
          "New Cairo - El Tagamoa",
          "Madinaty",
          "Madinaty",
          "Madinaty",
          "New Cairo - El Tagamoa",
          "New Cairo - El Tagamoa",
          "New Cairo - El Tagamoa",
          "Sheikh Zayed",
          "New Cairo - El Tagamoa",
          "New Cairo - El Tagamoa",
          "Madinaty",
          "New Cairo - El Tagamoa",
          "6th of October",
          "New Cairo - El Tagamoa",
          "Sheikh Zayed",
          "New Cairo - El Tagamoa",
          "New Cairo - El Tagamoa",
          "Rehab City",
          "Madinaty",
          "Madinaty",
          "Katameya",
          "New Cairo - El Tagamoa",
          "New Cairo - El Tagamoa",
          "6th of October",
          "Madinaty",
          "Hadayek 6th of October",
          "Madinaty",
          "New Cairo - El Tagamoa",
          "6th of October",
          "Rehab City",
          "New Cairo - El Tagamoa",
          "New Cairo - El Tagamoa",
          "Madinaty",
          "New Cairo - El Tagamoa",
          "Mokattam",
          "Mokattam",
          "Madinaty",
          "New Cairo - El Tagamoa",
          "6th of October",
          "New Capital City",
          "New Capital City",
          "Madinaty",
          "Madinaty",
          "New Cairo - El Tagamoa",
          "Madinaty",
          "6th of October",
          "New Cairo - El Tagamoa",
          "New Cairo - El Tagamoa",
          "New Damietta",
          "Madinaty",
          "Alamein",
          "6th of October",
          "Rehab City",
          "Mokattam",
          "Mokattam",
          "Nasr City",
          "Mokattam",
          "6th of October",
          "Mokattam",
          "New Cairo - El Tagamoa",
          "Mokattam",
          "Rehab City",
          "Mokattam",
          "New Cairo - El Tagamoa",
          "New Cairo - El Tagamoa",
          "New Cairo - El Tagamoa",
          "New Cairo - El Tagamoa",
          "New Cairo - El Tagamoa",
          "New Cairo - El Tagamoa",
          "Madinaty",
          "New Capital City",
          "Sheikh Zayed",
          "6th of October",
          "Sheikh Zayed",
          "New Cairo - El Tagamoa",
          "Nasr City",
          "Madinaty",
          "Madinaty",
          "New Capital City",
          "New Cairo - El Tagamoa",
          "New Cairo - El Tagamoa",
          "Madinaty",
          "Mansura",
          "Sheikh Zayed",
          "Madinaty",
          "New Capital City",
          "Sheikh Zayed",
          "New Cairo - El Tagamoa",
          "New Cairo - El Tagamoa",
          "New Cairo - El Tagamoa",
          "New Cairo - El Tagamoa",
          "New Cairo - El Tagamoa",
          "Sheikh Zayed",
          "New Cairo - El Tagamoa",
          "New Cairo - El Tagamoa",
          "New Cairo - El Tagamoa",
          "Shorouk City",
          "New Cairo - El Tagamoa",
          "New Cairo - El Tagamoa",
          "New Cairo - El Tagamoa",
          "Mokattam",
          "New Cairo - El Tagamoa",
          "New Cairo - El Tagamoa",
          "New Cairo - El Tagamoa",
          "New Capital City",
          "Mokattam",
          "New Cairo - El Tagamoa",
          "Mokattam",
          "New Cairo - El Tagamoa",
          "New Cairo - El Tagamoa",
          "Mokattam",
          "Mokattam",
          "New Cairo - El Tagamoa",
          "New Cairo - El Tagamoa",
          "New Cairo - El Tagamoa",
          "New Cairo - El Tagamoa",
          "New Cairo - El Tagamoa",
          "New Cairo - El Tagamoa",
          "Rehab City",
          "New Cairo - El Tagamoa",
          "New Cairo - El Tagamoa",
          "New Cairo - El Tagamoa",
          "New Cairo - El Tagamoa",
          "New Cairo - El Tagamoa",
          "New Cairo - El Tagamoa",
          "New Cairo - El Tagamoa",
          "Sheikh Zayed",
          "Shorouk City",
          "Shorouk City",
          "New Cairo - El Tagamoa",
          "Madinaty",
          "New Cairo - El Tagamoa",
          "New Cairo - El Tagamoa",
          "Mohandessin",
          "Shorouk City",
          "Madinaty",
          "New Cairo - El Tagamoa",
          "Madinaty",
          "New Cairo - El Tagamoa",
          "New Cairo - El Tagamoa",
          "Madinaty",
          "New Cairo - El Tagamoa",
          "New Cairo - El Tagamoa",
          "Sheikh Zayed",
          "Smoha",
          "Madinaty",
          "New Cairo - El Tagamoa",
          "New Cairo - El Tagamoa",
          "Rehab City",
          "Sheikh Zayed",
          "Sheikh Zayed",
          "6th of October",
          "Madinaty",
          "Madinaty",
          "New Cairo - El Tagamoa",
          "Madinaty",
          "New Cairo - El Tagamoa",
          "New Cairo - El Tagamoa",
          "Sheikh Zayed",
          "Sheikh Zayed",
          "New Cairo - El Tagamoa",
          "Madinaty",
          "Madinaty",
          "New Capital City",
          "New Cairo - El Tagamoa",
          "New Cairo - El Tagamoa",
          "New Cairo - El Tagamoa",
          "New Cairo - El Tagamoa",
          "Warraq",
          "New Cairo - El Tagamoa",
          "Sheikh Zayed",
          "6th of October",
          "New Cairo - El Tagamoa",
          "New Cairo - El Tagamoa",
          "Sheikh Zayed",
          "New Cairo - El Tagamoa",
          "New Cairo - El Tagamoa",
          "Mostakbal City",
          "Madinaty",
          "New Cairo - El Tagamoa",
          "Madinaty",
          "6th of October",
          "Obour City",
          "Sheikh Zayed",
          "New Cairo - El Tagamoa",
          "New Cairo - El Tagamoa",
          "Almazah",
          "Sheikh Zayed",
          "New Cairo - El Tagamoa",
          "Sheikh Zayed",
          "6th of October",
          "New Cairo - El Tagamoa",
          "Sheikh Zayed",
          "New Cairo - El Tagamoa",
          "Madinaty",
          "New Cairo - El Tagamoa",
          "Rehab City",
          "New Cairo - El Tagamoa",
          "Sheikh Zayed",
          "Sheikh Zayed",
          "New Cairo - El Tagamoa",
          "New Capital City",
          "Maadi",
          "New Cairo - El Tagamoa",
          "Madinaty",
          "New Cairo - El Tagamoa",
          "New Cairo - El Tagamoa",
          "New Cairo - El Tagamoa",
          "6th of October",
          "6th of October",
          "Smoha",
          "New Cairo - El Tagamoa",
          "New Cairo - El Tagamoa",
          "New Cairo - El Tagamoa",
          "New Cairo - El Tagamoa",
          "Hadayek 6th of October",
          "New Cairo - El Tagamoa",
          "Madinaty",
          "New Cairo - El Tagamoa",
          "Madinaty",
          "Madinaty",
          "Obour City",
          "New Cairo - El Tagamoa",
          "Madinaty",
          "Madinaty",
          "Rehab City",
          "New Cairo - El Tagamoa",
          "Sheikh Zayed",
          "New Cairo - El Tagamoa",
          "New Cairo - El Tagamoa",
          "Madinaty",
          "New Cairo - El Tagamoa",
          "New Cairo - El Tagamoa",
          "6th of October",
          "Zahraa Al Maadi",
          "Madinaty",
          "New Cairo - El Tagamoa",
          "New Cairo - El Tagamoa",
          "Madinaty",
          "New Cairo - El Tagamoa",
          "New Cairo - El Tagamoa",
          "New Cairo - El Tagamoa",
          "New Cairo - El Tagamoa",
          "Hadayek 6th of October",
          "New Cairo - El Tagamoa",
          "New Cairo - El Tagamoa",
          "6th of October",
          "New Cairo - El Tagamoa",
          "6th of October",
          "6th of October",
          "Madinaty",
          "Mokattam",
          "New Cairo - El Tagamoa",
          "6th of October",
          "New Cairo - El Tagamoa",
          "New Cairo - El Tagamoa",
          "Helmeyat El Zaytoun",
          "New Cairo - El Tagamoa",
          "Zahraa Al Maadi",
          "New Cairo - El Tagamoa",
          "New Cairo - El Tagamoa",
          "Madinaty",
          "Sheikh Zayed",
          "Maadi",
          "New Cairo - El Tagamoa",
          "New Cairo - El Tagamoa",
          "New Cairo - El Tagamoa",
          "Hadayek 6th of October",
          "Sheikh Zayed",
          "New Cairo - El Tagamoa",
          "New Cairo - El Tagamoa",
          "Sheikh Zayed",
          "Madinaty",
          "New Cairo - El Tagamoa",
          "6th of October",
          "New Cairo - El Tagamoa",
          "Madinaty",
          "Katameya",
          "Gouna",
          "6th of October",
          "6th of October",
          "Madinaty",
          "New Cairo - El Tagamoa",
          "Obour City",
          "Mostakbal City",
          "6th of October",
          "New Cairo - El Tagamoa",
          "6th of October",
          "Rehab City",
          "Shorouk City",
          "Madinaty",
          "Maadi",
          "Rehab City",
          "New Cairo - El Tagamoa",
          "Madinaty",
          "Sheikh Zayed",
          "New Cairo - El Tagamoa",
          "Madinaty",
          "New Cairo - El Tagamoa",
          "Shorouk City",
          "6th of October",
          "New Cairo - El Tagamoa",
          "New Cairo - El Tagamoa",
          "New Cairo - El Tagamoa",
          "Madinaty",
          "New Capital City",
          "New Cairo - El Tagamoa",
          "Obour City",
          "Madinaty",
          "Hadayek 6th of October",
          "New Cairo - El Tagamoa",
          "Madinaty",
          "Madinaty",
          "New Cairo - El Tagamoa",
          "Madinaty",
          "Maadi",
          "Sheikh Zayed",
          "Sheikh Zayed",
          "Hadayek 6th of October",
          "New Cairo - El Tagamoa",
          "New Cairo - El Tagamoa",
          "6th of October",
          "New Cairo - El Tagamoa",
          "Zagazig",
          "New Cairo - El Tagamoa",
          "New Cairo - El Tagamoa",
          "Madinaty",
          "Madinaty",
          "New Cairo - El Tagamoa",
          "Madinaty",
          "6th of October",
          "Madinaty",
          "Maadi",
          "Sheikh Zayed",
          "Madinaty",
          "6th of October",
          "Nasr City",
          "6th of October",
          "Heliopolis",
          "Maadi",
          "Sidi Beshr",
          "Madinaty",
          "New Cairo - El Tagamoa",
          "New Cairo - El Tagamoa",
          "New Cairo - El Tagamoa",
          "6th of October",
          "Rehab City",
          "Sheikh Zayed",
          "New Cairo - El Tagamoa",
          "Rehab City",
          "New Cairo - El Tagamoa",
          "New Cairo - El Tagamoa",
          "New Cairo - El Tagamoa",
          "New Cairo - El Tagamoa",
          "New Cairo - El Tagamoa",
          "Madinaty",
          "New Cairo - El Tagamoa",
          "New Cairo - El Tagamoa",
          "Sheikh Zayed",
          "Haram",
          "New Cairo - El Tagamoa",
          "Rehab City",
          "Ain Sukhna",
          "Marsa Matrouh",
          "Agami",
          "Ras Sedr",
          "North Coast",
          "Ain Sukhna",
          "Ras Sedr",
          "North Coast",
          "North Coast",
          "North Coast",
          "North Coast",
          "Ras Sedr",
          "Ras Sedr",
          "Ras Sedr",
          "North Coast",
          "North Coast",
          "Ain Sukhna",
          "North Coast",
          "North Coast",
          "Ras Sedr",
          "Ras Sedr",
          "Ain Sukhna",
          "Ain Sukhna",
          "North Coast",
          "Ras Sedr",
          "Hurghada",
          "North Coast",
          "North Coast",
          "North Coast",
          "North Coast",
          "Ras Sedr",
          "Alamein",
          "North Coast",
          "Ain Sukhna",
          "Ras Sedr",
          "North Coast",
          "Ras Sedr",
          "North Coast",
          "Ain Sukhna",
          "North Coast",
          "North Coast",
          "North Coast",
          "Alamein",
          "North Coast",
          "North Coast",
          "North Coast",
          "North Coast",
          "Ras Sedr",
          "North Coast",
          "North Coast",
          "North Coast",
          "North Coast",
          "North Coast",
          "North Coast",
          "North Coast",
          "North Coast",
          "North Coast",
          "North Coast",
          "North Coast",
          "Ras Sedr",
          "Ras Sedr",
          "Ras Sedr",
          "Ras Sedr",
          "Ras Sedr",
          "Ras Sedr",
          "North Coast",
          "Hurghada",
          "North Coast",
          "North Coast",
          "North Coast",
          "North Coast",
          "Ras Sedr",
          "North Coast",
          "North Coast",
          "New Cairo - El Tagamoa",
          "North Coast",
          "North Coast",
          "North Coast",
          "North Coast",
          "North Coast",
          "North Coast",
          "North Coast",
          "North Coast",
          "North Coast",
          "North Coast",
          "North Coast",
          "North Coast",
          "Ain Sukhna",
          "North Coast",
          "North Coast",
          "Marsa Matrouh",
          "North Coast",
          "Ain Sukhna",
          "Ain Sukhna",
          "North Coast",
          "North Coast",
          "North Coast",
          "North Coast",
          "North Coast",
          "North Coast",
          "Ain Sukhna",
          "North Coast",
          "Ain Sukhna",
          "North Coast",
          "North Coast",
          "North Coast",
          "North Coast",
          "North Coast",
          "North Coast",
          "North Coast",
          "Ain Sukhna",
          "Ain Sukhna",
          "North Coast",
          "Ain Sukhna",
          "Ras Sedr",
          "Ras Sedr",
          "Ras Sedr",
          "Ras Sedr",
          "Ras Sedr",
          "Ras Sedr",
          "Ras Sedr",
          "Ras Sedr",
          "Ras Sedr",
          "Ras Sedr",
          "Ras Sedr",
          "Ras Sedr",
          "North Coast",
          "North Coast",
          "North Coast",
          "North Coast",
          "North Coast",
          "North Coast",
          "North Coast",
          "North Coast",
          "North Coast",
          "Ain Sukhna",
          "Ain Sukhna",
          "North Coast",
          "North Coast",
          "North Coast",
          "Ain Sukhna",
          "North Coast",
          "Ain Sukhna",
          "North Coast",
          "Ain Sukhna",
          "Ain Sukhna",
          "Ain Sukhna",
          "North Coast",
          "North Coast",
          "North Coast",
          "Ain Sukhna",
          "North Coast",
          "North Coast",
          "North Coast",
          "North Coast",
          "North Coast",
          "North Coast",
          "Ain Sukhna",
          "North Coast",
          "North Coast",
          "Ain Sukhna",
          "North Coast",
          "North Coast",
          "North Coast",
          "North Coast",
          "North Coast",
          "North Coast",
          "North Coast",
          "Ain Sukhna",
          "North Coast",
          "North Coast",
          "Heliopolis",
          "Ain Sukhna",
          "Ain Sukhna",
          "North Coast",
          "North Coast",
          "Ain Sukhna",
          "Agami",
          "North Coast",
          "Ain Sukhna",
          "North Coast",
          "North Coast",
          "Dabaa",
          "Ain Sukhna",
          "Ain Sukhna",
          "Ain Sukhna",
          "North Coast",
          "Ain Sukhna",
          "Ras Sedr",
          "North Coast",
          "North Coast",
          "North Coast",
          "North Coast",
          "North Coast",
          "Ain Sukhna",
          "North Coast",
          "Ain Sukhna",
          "Nasr City",
          "Ain Sukhna",
          "North Coast",
          "North Coast",
          "North Coast",
          "Almazah",
          "North Coast",
          "North Coast",
          "North Coast",
          "North Coast",
          "Ain Sukhna",
          "North Coast",
          "North Coast",
          "North Coast",
          "North Coast",
          "Ain Sukhna",
          "Ain Sukhna",
          "Ain Sukhna",
          "North Coast",
          "North Coast",
          "North Coast",
          "North Coast",
          "North Coast",
          "Ras Sedr",
          "North Coast",
          "North Coast",
          "Ras Sedr",
          "North Coast",
          "Ain Sukhna",
          "North Coast",
          "North Coast",
          "North Coast",
          "North Coast",
          "North Coast",
          "North Coast",
          "North Coast",
          "North Coast",
          "North Coast",
          "Sharm al-Sheikh",
          "Ain Sukhna",
          "North Coast",
          "North Coast",
          "North Coast",
          "North Coast",
          "North Coast",
          "North Coast",
          "North Coast",
          "North Coast",
          "Ras Sedr",
          "Gouna",
          "North Coast",
          "North Coast",
          "Alamein",
          "Ain Sukhna",
          "Ain Sukhna",
          "North Coast",
          "North Coast",
          "North Coast",
          "North Coast",
          "North Coast",
          "Ain Sukhna",
          "Ain Sukhna",
          "North Coast",
          "North Coast",
          "North Coast",
          "Ain Sukhna",
          "North Coast",
          "North Coast",
          "Ras Sedr",
          "Haram",
          "North Coast",
          "North Coast",
          "North Coast",
          "North Coast",
          "North Coast",
          "North Coast",
          "North Coast",
          "North Coast",
          "North Coast",
          "Ain Sukhna",
          "Ain Sukhna",
          "Ain Sukhna",
          "North Coast",
          "North Coast",
          "North Coast",
          "Ain Sukhna",
          "Zagazig",
          "Mohandessin",
          "North Coast",
          "North Coast",
          "Ain Sukhna",
          "North Coast",
          "North Coast",
          "North Coast",
          "North Coast",
          "North Coast",
          "Ain Sukhna",
          "North Coast",
          "North Coast",
          "North Coast",
          "Ain Sukhna",
          "North Coast",
          "Ain Sukhna",
          "Ain Sukhna",
          "Ain Sukhna",
          "Ain Sukhna",
          "Shorouk City",
          "North Coast",
          "North Coast",
          "North Coast",
          "North Coast",
          "Ain Sukhna",
          "North Coast",
          "Ain Sukhna",
          "North Coast",
          "Alamein",
          "Ain Sukhna",
          "Ain Sukhna",
          "Kafr Abdo",
          "North Coast",
          "North Coast",
          "Ain Sukhna",
          "North Coast",
          "Ain Sukhna",
          "Ain Sukhna",
          "North Coast",
          "Ain Sukhna",
          "Ain Sukhna",
          "North Coast",
          "Ras Sedr",
          "Ain Sukhna",
          "North Coast",
          "Ras Sedr",
          "Ain Sukhna",
          "North Coast",
          "Ain Sukhna",
          "Ain Sukhna",
          "North Coast",
          "Ain Sukhna",
          "North Coast",
          "North Coast",
          "Sheikh Zayed",
          "North Coast",
          "North Coast",
          "North Coast",
          "Ain Sukhna",
          "Ain Sukhna",
          "North Coast",
          "North Coast",
          "North Coast",
          "Ain Sukhna",
          "Ain Sukhna",
          "Ain Sukhna",
          "Ain Sukhna",
          "North Coast",
          "Ain Sukhna",
          "North Coast",
          "Ain Sukhna",
          "Alamein",
          "Ras Sedr",
          "North Coast",
          "North Coast",
          "North Coast",
          "North Coast",
          "North Coast",
          "North Coast",
          "North Coast",
          "North Coast",
          "North Coast",
          "North Coast",
          "North Coast",
          "Ain Sukhna",
          "Ain Sukhna",
          "North Coast",
          "North Coast",
          "Ain Sukhna",
          "North Coast",
          "New Cairo - El Tagamoa",
          "North Coast",
          "Ain Sukhna",
          "Ain Sukhna",
          "North Coast",
          "Ain Sukhna",
          "Ain Sukhna",
          "Ain Sukhna",
          "Ain Sukhna",
          "New Cairo - El Tagamoa",
          "North Coast",
          "North Coast",
          "North Coast",
          "Ain Sukhna",
          "North Coast",
          "Heliopolis",
          "Ain Sukhna",
          "North Coast",
          "Ain Sukhna",
          "Ain Sukhna",
          "New Cairo - El Tagamoa",
          "Ain Sukhna",
          "Alamein",
          "Marsa Matrouh",
          "Ras Sedr",
          "North Coast",
          "North Coast",
          "North Coast",
          "North Coast",
          "North Coast",
          "North Coast",
          "North Coast",
          "North Coast",
          "North Coast",
          "North Coast",
          "North Coast",
          "North Coast",
          "North Coast",
          "North Coast",
          "Alamein",
          "North Coast",
          "North Coast",
          "North Coast",
          "North Coast",
          "North Coast",
          "North Coast",
          "North Coast",
          "North Coast",
          "North Coast",
          "North Coast",
          "North Coast",
          "North Coast",
          "North Coast",
          "Ain Sukhna",
          "Ain Sukhna",
          "North Coast",
          "North Coast",
          "Ain Sukhna",
          "North Coast",
          "North Coast",
          "North Coast",
          "North Coast",
          "North Coast",
          "Ain Sukhna",
          "North Coast",
          "North Coast",
          "North Coast",
          "North Coast",
          "North Coast",
          "North Coast",
          "North Coast",
          "Ain Sukhna",
          "North Coast",
          "North Coast",
          "Ain Sukhna",
          "North Coast",
          "New Cairo - El Tagamoa",
          "North Coast",
          "North Coast",
          "Ain Sukhna",
          "North Coast",
          "Ain Sukhna",
          "Ras Sedr",
          "Ras Sedr",
          "Ain Sukhna",
          "North Coast",
          "North Coast",
          "North Coast",
          "North Coast",
          "North Coast",
          "North Coast",
          "North Coast",
          "Ras Sedr",
          "North Coast",
          "Ras Sedr",
          "North Coast",
          "North Coast",
          "North Coast",
          "Ain Sukhna",
          "Ras Sedr",
          "Ras Sedr",
          "Ras Sedr",
          "North Coast",
          "North Coast",
          "North Coast",
          "Ain Sukhna",
          "Ras Sedr",
          "Ras Sedr",
          "Ras Sedr",
          "Ras Sedr",
          "Ain Sukhna",
          "North Coast",
          "Ain Sukhna",
          "North Coast",
          "North Coast",
          "Ras Sedr",
          "Ain Sukhna",
          "Ain Sukhna",
          "North Coast",
          "Ras Sedr",
          "North Coast",
          "Ras Sedr",
          "Ras Sedr",
          "North Coast",
          "Ras Sedr",
          "North Coast",
          "North Coast",
          "Ras Sedr",
          "Ain Sukhna",
          "North Coast",
          "Ain Sukhna",
          "North Coast",
          "New Cairo - El Tagamoa",
          "Ras Sedr",
          "Ain Sukhna",
          "Ras Sedr",
          "Ras Sedr",
          "Ain Sukhna",
          "Ain Sukhna",
          "Ras Sedr",
          "Ras Sedr",
          "Ras Sedr",
          "Ras Sedr",
          "Ras Sedr",
          "Ras Sedr",
          "Ras Sedr",
          "Alamein",
          "Ras Sedr",
          "Ras Sedr",
          "Ain Sukhna",
          "Ras Sedr",
          "Ras Sedr",
          "Ain Sukhna",
          "Ain Sukhna",
          "Ain Sukhna",
          "Ain Sukhna",
          "Ain Sukhna",
          "Ras Sedr",
          "Ras Sedr",
          "Ras Sedr",
          "Ras Sedr",
          "Ras Sedr",
          "Ras Sedr",
          "Ras Sedr",
          "Ras Sedr",
          "Ras Sedr",
          "Ras Sedr",
          "Ain Sukhna",
          "Ain Sukhna",
          "North Coast",
          "North Coast",
          "North Coast",
          "North Coast",
          "Ras Sedr",
          "North Coast",
          "North Coast",
          "North Coast",
          "North Coast",
          "North Coast",
          "North Coast",
          "North Coast",
          "Alamein",
          "North Coast",
          "North Coast",
          "North Coast",
          "North Coast",
          "North Coast",
          "North Coast",
          "North Coast",
          "North Coast",
          "Ain Sukhna",
          "North Coast",
          "North Coast",
          "North Coast",
          "North Coast",
          "North Coast",
          "New Cairo - El Tagamoa",
          "North Coast",
          "Ain Sukhna",
          "North Coast",
          "North Coast",
          "North Coast",
          "North Coast",
          "North Coast",
          "North Coast",
          "North Coast",
          "Ain Sukhna",
          "North Coast",
          "North Coast",
          "Ain Sukhna",
          "Ain Sukhna",
          "North Coast",
          "Ain Sukhna",
          "North Coast",
          "Alamein",
          "North Coast",
          "North Coast",
          "North Coast",
          "North Coast",
          "North Coast",
          "North Coast",
          "North Coast",
          "North Coast",
          "North Coast",
          "North Coast",
          "North Coast",
          "North Coast",
          "North Coast",
          "North Coast",
          "North Coast",
          "Ain Sukhna",
          "Ain Sukhna",
          "Ain Sukhna",
          "North Coast",
          "Ain Sukhna",
          "North Coast",
          "North Coast",
          "North Coast",
          "North Coast",
          "North Coast",
          "North Coast",
          "North Coast",
          "Alamein",
          "North Coast",
          "North Coast",
          "North Coast",
          "North Coast",
          "North Coast",
          "North Coast",
          "Ain Sukhna",
          "North Coast",
          "North Coast",
          "North Coast",
          "North Coast",
          "North Coast",
          "North Coast",
          "North Coast",
          "North Coast",
          "North Coast",
          "North Coast",
          "North Coast",
          "North Coast",
          "North Coast",
          "North Coast",
          "North Coast",
          "North Coast",
          "North Coast",
          "North Coast",
          "North Coast",
          "North Coast",
          "North Coast",
          "North Coast",
          "North Coast",
          "Ain Sukhna",
          "New Cairo - El Tagamoa",
          "Ain Sukhna",
          "North Coast",
          "Ain Sukhna",
          "North Coast",
          "New Cairo - El Tagamoa",
          "North Coast",
          "North Coast",
          "North Coast",
          "North Coast",
          "North Coast",
          "North Coast",
          "North Coast",
          "North Coast",
          "Ain Sukhna",
          "North Coast",
          "North Coast",
          "North Coast",
          "New Cairo - El Tagamoa",
          "North Coast",
          "North Coast",
          "North Coast",
          "North Coast",
          "North Coast",
          "Alamein",
          "North Coast",
          "Ain Sukhna",
          "Ain Sukhna",
          "Ain Sukhna",
          "North Coast",
          "North Coast",
          "Ain Sukhna",
          "Ain Sukhna",
          "Ain Sukhna",
          "Ain Sukhna",
          "Ain Sukhna",
          "Ras Sedr",
          "Ain Sukhna",
          "North Coast",
          "North Coast",
          "Ain Sukhna",
          "North Coast",
          "Ain Sukhna",
          "Alamein",
          "New Cairo - El Tagamoa",
          "Ain Sukhna",
          "North Coast",
          "Ain Sukhna",
          "North Coast",
          "North Coast",
          "New Cairo - El Tagamoa",
          "New Cairo - El Tagamoa",
          "Ain Sukhna",
          "North Coast",
          "North Coast",
          "North Coast",
          "New Cairo - El Tagamoa",
          "Ain Sukhna",
          "North Coast",
          "North Coast",
          "North Coast",
          "Ain Sukhna",
          "Ain Sukhna",
          "Hurghada",
          "North Coast",
          "North Coast",
          "Ain Sukhna",
          "Ain Sukhna",
          "Ain Sukhna",
          "Ain Sukhna",
          "Ain Sukhna",
          "Ain Sukhna",
          "North Coast",
          "North Coast",
          "Ain Sukhna",
          "North Coast",
          "Ain Sukhna",
          "Ain Sukhna",
          "Ain Sukhna",
          "North Coast",
          "New Cairo - El Tagamoa",
          "North Coast",
          "Ain Sukhna",
          "North Coast",
          "North Coast",
          "Ain Sukhna",
          "North Coast",
          "North Coast",
          "North Coast",
          "New Cairo - El Tagamoa",
          "North Coast",
          "North Coast",
          "North Coast",
          "North Coast",
          "Ain Sukhna",
          "North Coast",
          "North Coast",
          "North Coast",
          "Ain Sukhna",
          "North Coast",
          "Hurghada",
          "Ain Sukhna",
          "Ain Sukhna",
          "North Coast",
          "New Cairo - El Tagamoa",
          "Ain Sukhna",
          "North Coast",
          "Ain Sukhna",
          "North Coast",
          "New Cairo - El Tagamoa",
          "North Coast",
          "North Coast",
          "Marsa Matrouh",
          "North Coast",
          "North Coast",
          "North Coast",
          "North Coast",
          "North Coast",
          "North Coast",
          "North Coast",
          "North Coast",
          "North Coast",
          "North Coast",
          "North Coast",
          "North Coast",
          "North Coast",
          "North Coast",
          "North Coast",
          "North Coast",
          "North Coast",
          "North Coast",
          "North Coast",
          "North Coast",
          "North Coast",
          "North Coast",
          "North Coast",
          "North Coast",
          "North Coast",
          "North Coast",
          "North Coast",
          "North Coast",
          "North Coast",
          "North Coast",
          "North Coast",
          "North Coast",
          "North Coast",
          "Alamein",
          "Ain Sukhna",
          "Ras Sedr",
          "New Cairo - El Tagamoa",
          "North Coast",
          "Al Manial",
          "North Coast",
          "Ras Sedr",
          "North Coast",
          "North Coast",
          "North Coast",
          "North Coast",
          "North Coast",
          "North Coast",
          "North Coast",
          "North Coast",
          "North Coast",
          "North Coast",
          "North Coast",
          "North Coast",
          "North Coast",
          "Ras Sedr",
          "Ain Sukhna",
          "North Coast",
          "North Coast",
          "North Coast",
          "North Coast",
          "North Coast",
          "Ain Sukhna",
          "North Coast",
          "North Coast",
          "North Coast",
          "Ain Sukhna",
          "North Coast",
          "North Coast",
          "North Coast",
          "North Coast",
          "Ain Sukhna",
          "North Coast",
          "North Coast",
          "North Coast",
          "Ain Sukhna",
          "North Coast",
          "Ain Sukhna",
          "North Coast",
          "Ain Sukhna",
          "North Coast",
          "Ain Sukhna",
          "North Coast",
          "Ain Sukhna",
          "Ain Sukhna",
          "Ain Sukhna",
          "Mostakbal City",
          "North Coast",
          "North Coast",
          "North Coast",
          "North Coast",
          "North Coast",
          "New Cairo - El Tagamoa",
          "North Coast",
          "New Cairo - El Tagamoa",
          "Ain Sukhna",
          "North Coast",
          "North Coast",
          "North Coast",
          "North Coast",
          "North Coast",
          "North Coast",
          "North Coast",
          "North Coast",
          "North Coast",
          "Ain Sukhna",
          "North Coast",
          "North Coast",
          "Ain Sukhna",
          "Ain Sukhna",
          "Ain Sukhna",
          "North Coast",
          "North Coast",
          "Ain Sukhna",
          "Ain Sukhna",
          "Ain Sukhna",
          "North Coast",
          "New Capital City",
          "North Coast",
          "North Coast",
          "Ain Sukhna",
          "North Coast",
          "North Coast",
          "North Coast",
          "Ain Sukhna",
          "Ain Sukhna",
          "North Coast",
          "North Coast",
          "North Coast",
          "North Coast",
          "Ain Sukhna",
          "North Coast",
          "Ain Sukhna",
          "North Coast",
          "North Coast",
          "North Coast",
          "Ras Sedr",
          "Ain Sukhna",
          "Alamein",
          "North Coast",
          "North Coast",
          "Ain Sukhna",
          "New Cairo - El Tagamoa",
          "North Coast",
          "North Coast",
          "Ain Sukhna",
          "Alamein",
          "North Coast",
          "Ain Sukhna",
          "Ain Sukhna",
          "Maadi",
          "North Coast",
          "Ain Sukhna",
          "North Coast",
          "Ain Sukhna",
          "Alamein",
          "Ain Sukhna",
          "Sheikh Zayed",
          "Ain Sukhna",
          "Ain Sukhna",
          "North Coast",
          "North Coast",
          "Ain Sukhna",
          "North Coast",
          "North Coast",
          "North Coast",
          "North Coast",
          "North Coast",
          "North Coast",
          "Ain Sukhna",
          "Ain Sukhna",
          "North Coast",
          "Ain Sukhna",
          "Ras Sedr",
          "Ain Sukhna",
          "Ain Sukhna",
          "Ain Sukhna",
          "Ain Sukhna",
          "Alamein",
          "Ain Sukhna",
          "North Coast",
          "Ain Sukhna",
          "Ain Sukhna",
          "Ain Sukhna",
          "North Coast",
          "North Coast",
          "North Coast",
          "North Coast",
          "North Coast",
          "North Coast",
          "Ain Sukhna",
          "Ain Sukhna",
          "North Coast",
          "North Coast",
          "North Coast",
          "North Coast",
          "North Coast",
          "North Coast",
          "North Coast",
          "North Coast",
          "North Coast",
          "Ain Sukhna",
          "North Coast",
          "North Coast",
          "North Coast",
          "Ain Sukhna",
          "North Coast",
          "Ain Sukhna",
          "North Coast",
          "North Coast",
          "North Coast",
          "North Coast",
          "North Coast",
          "North Coast",
          "Ain Sukhna",
          "Alamein",
          "Alamein",
          "North Coast",
          "Ain Sukhna",
          "North Coast",
          "Alamein",
          "North Coast",
          "North Coast",
          "North Coast",
          "North Coast",
          "North Coast",
          "North Coast",
          "North Coast",
          "North Coast",
          "New Cairo - El Tagamoa",
          "North Coast",
          "North Coast",
          "Ain Sukhna",
          "Ain Sukhna",
          "Ain Sukhna",
          "Ain Sukhna",
          "Ain Sukhna",
          "North Coast",
          "North Coast",
          "Hammam",
          "North Coast",
          "North Coast",
          "North Coast",
          "North Coast",
          "Zahraa Al Maadi",
          "North Coast",
          "North Coast",
          "North Coast",
          "North Coast",
          "Ain Sukhna",
          "Ain Sukhna",
          "North Coast",
          "North Coast",
          "North Coast",
          "Ain Sukhna",
          "Ain Sukhna",
          "Ain Sukhna",
          "Ain Sukhna",
          "Ain Sukhna",
          "Ain Sukhna",
          "North Coast",
          "Nasr City",
          "North Coast",
          "North Coast",
          "Ain Sukhna",
          "North Coast",
          "North Coast",
          "North Coast",
          "North Coast",
          "North Coast",
          "North Coast",
          "North Coast",
          "Ain Sukhna",
          "North Coast",
          "North Coast",
          "Ain Sukhna",
          "Ain Sukhna",
          "North Coast",
          "Ain Sukhna",
          "North Coast",
          "North Coast",
          "Ain Sukhna",
          "North Coast",
          "Ain Sukhna",
          "North Coast",
          "North Coast",
          "North Coast",
          "North Coast",
          "Ain Sukhna",
          "North Coast",
          "Ain Sukhna",
          "North Coast",
          "North Coast",
          "Ain Sukhna",
          "North Coast",
          "North Coast",
          "North Coast",
          "North Coast",
          "North Coast",
          "Alamein",
          "North Coast",
          "Ain Sukhna",
          "North Coast",
          "Alamein",
          "Ain Sukhna",
          "North Coast",
          "North Coast",
          "Ain Sukhna",
          "North Coast",
          "North Coast",
          "North Coast",
          "North Coast",
          "North Coast",
          "North Coast",
          "North Coast",
          "North Coast",
          "North Coast",
          "North Coast",
          "North Coast",
          "North Coast",
          "North Coast",
          "North Coast",
          "North Coast",
          "North Coast",
          "North Coast",
          "North Coast",
          "North Coast",
          "North Coast",
          "North Coast",
          "North Coast",
          "Ain Sukhna",
          "North Coast",
          "Ain Sukhna",
          "New Cairo - El Tagamoa",
          "New Cairo - El Tagamoa",
          "North Coast",
          "North Coast",
          "New Cairo - El Tagamoa",
          "New Cairo - El Tagamoa",
          "North Coast",
          "North Coast",
          "North Coast",
          "North Coast",
          "Ain Sukhna",
          "North Coast",
          "North Coast",
          "North Coast",
          "North Coast",
          "North Coast",
          "North Coast",
          "North Coast",
          "North Coast",
          "Alamein",
          "North Coast",
          "North Coast",
          "North Coast",
          "North Coast",
          "North Coast",
          "North Coast",
          "North Coast",
          "North Coast",
          "North Coast",
          "North Coast",
          "North Coast",
          "North Coast",
          "Ain Sukhna",
          "North Coast",
          "North Coast",
          "North Coast",
          "North Coast",
          "North Coast",
          "North Coast",
          "North Coast",
          "North Coast",
          "North Coast",
          "North Coast",
          "North Coast",
          "North Coast",
          "North Coast",
          "Alamein",
          "North Coast",
          "North Coast",
          "Ain Sukhna",
          "North Coast",
          "North Coast",
          "North Coast",
          "North Coast",
          "North Coast",
          "North Coast",
          "North Coast",
          "North Coast",
          "Ain Sukhna",
          "North Coast",
          "North Coast",
          "North Coast",
          "Ain Sukhna",
          "North Coast",
          "Heliopolis",
          "North Coast",
          "North Coast",
          "North Coast",
          "North Coast",
          "Marsa Matrouh",
          "North Coast",
          "North Coast",
          "New Cairo - El Tagamoa",
          "Ain Sukhna",
          "North Coast",
          "Ain Sukhna",
          "Ras Sedr",
          "Ain Sukhna",
          "Ain Sukhna",
          "North Coast",
          "North Coast",
          "North Coast",
          "North Coast",
          "North Coast",
          "North Coast",
          "Hammam",
          "North Coast",
          "North Coast",
          "North Coast",
          "North Coast",
          "North Coast",
          "North Coast",
          "North Coast",
          "Ain Sukhna",
          "North Coast",
          "North Coast",
          "North Coast",
          "New Cairo - El Tagamoa",
          "Ain Sukhna",
          "North Coast",
          "Ain Sukhna",
          "North Coast",
          "North Coast",
          "North Coast",
          "North Coast",
          "North Coast",
          "North Coast",
          "North Coast",
          "North Coast",
          "North Coast",
          "North Coast",
          "Alamein",
          "North Coast",
          "North Coast",
          "North Coast",
          "Ras Sedr",
          "Gouna",
          "North Coast",
          "North Coast",
          "6th of October",
          "North Coast",
          "North Coast",
          "North Coast",
          "North Coast",
          "Ain Sukhna",
          "North Coast",
          "North Coast",
          "Zahraa Al Maadi",
          "Alamein",
          "North Coast",
          "North Coast",
          "Hadayek 6th of October",
          "North Coast",
          "North Coast",
          "North Coast",
          "Alamein",
          "Ain Sukhna",
          "Ain Sukhna",
          "North Coast",
          "North Coast",
          "New Cairo - El Tagamoa",
          "North Coast",
          "North Coast",
          "Ain Sukhna",
          "Ain Sukhna",
          "North Coast",
          "North Coast",
          "North Coast",
          "North Coast",
          "North Coast",
          "North Coast",
          "North Coast",
          "North Coast",
          "North Coast",
          "North Coast",
          "North Coast",
          "North Coast",
          "North Coast",
          "North Coast",
          "North Coast",
          "North Coast",
          "North Coast",
          "Ain Sukhna",
          "North Coast",
          "Ain Sukhna",
          "North Coast",
          "North Coast",
          "North Coast",
          "North Coast",
          "Ain Sukhna",
          "North Coast",
          "Ain Sukhna",
          "Ain Sukhna",
          "Ain Sukhna",
          "North Coast",
          "North Coast",
          "Ain Sukhna",
          "North Coast",
          "Ain Sukhna",
          "New Cairo - El Tagamoa",
          "Ain Sukhna",
          "North Coast",
          "Ain Sukhna",
          "Ain Sukhna",
          "Ain Sukhna",
          "North Coast",
          "North Coast",
          "Ain Sukhna",
          "Ain Sukhna",
          "Ain Sukhna",
          "Ain Sukhna",
          "Ain Sukhna",
          "Ain Sukhna",
          "Ain Sukhna",
          "Ain Sukhna",
          "North Coast",
          "Ain Sukhna",
          "North Coast",
          "North Coast",
          "Ain Sukhna",
          "North Coast",
          "Ain Sukhna",
          "Ain Sukhna",
          "Ain Sukhna",
          "Ain Sukhna",
          "New Cairo - El Tagamoa",
          "Ain Sukhna",
          "Ain Sukhna",
          "New Cairo - El Tagamoa",
          "Ain Sukhna",
          "Ain Sukhna",
          "Ain Sukhna",
          "Ain Sukhna",
          "Ain Sukhna",
          "Smoha",
          "Ain Sukhna",
          "Ain Sukhna",
          "Ain Sukhna",
          "Ain Sukhna",
          "Ain Sukhna",
          "New Cairo - El Tagamoa",
          "Ain Sukhna",
          "Ain Sukhna",
          "North Coast",
          "North Coast",
          "North Coast",
          "Ain Sukhna",
          "North Coast",
          "North Coast",
          "North Coast",
          "North Coast",
          "North Coast",
          "New Cairo - El Tagamoa",
          "North Coast",
          "North Coast",
          "North Coast",
          "Ain Sukhna",
          "North Coast",
          "North Coast",
          "North Coast",
          "North Coast",
          "North Coast",
          "North Coast",
          "North Coast",
          "North Coast",
          "Ain Sukhna",
          "North Coast",
          "North Coast",
          "Ain Sukhna",
          "North Coast",
          "North Coast",
          "North Coast",
          "North Coast",
          "North Coast",
          "North Coast",
          "North Coast",
          "North Coast",
          "Sheikh Zayed",
          "North Coast",
          "Ain Sukhna",
          "Ras Sedr",
          "North Coast",
          "North Coast",
          "North Coast",
          "North Coast",
          "North Coast",
          "North Coast",
          "Ain Sukhna",
          "Ain Sukhna",
          "Ain Sukhna",
          "Ain Sukhna",
          "Ain Sukhna",
          "Ain Sukhna",
          "Ain Sukhna",
          "North Coast",
          "North Coast",
          "Ain Sukhna",
          "North Coast",
          "North Coast",
          "North Coast",
          "North Coast",
          "North Coast",
          "North Coast",
          "North Coast",
          "North Coast",
          "North Coast",
          "North Coast",
          "North Coast",
          "North Coast",
          "North Coast",
          "North Coast",
          "North Coast",
          "North Coast",
          "North Coast",
          "North Coast",
          "North Coast",
          "North Coast",
          "North Coast",
          "North Coast",
          "North Coast",
          "North Coast",
          "North Coast",
          "Ain Sukhna",
          "North Coast",
          "North Coast",
          "North Coast",
          "North Coast",
          "North Coast",
          "North Coast",
          "Marsa Matrouh",
          "North Coast",
          "North Coast",
          "Borg al-Arab",
          "Ain Sukhna",
          "North Coast",
          "Ain Sukhna",
          "North Coast",
          "North Coast",
          "Alamein",
          "North Coast",
          "North Coast",
          "North Coast",
          "North Coast",
          "North Coast",
          "North Coast",
          "North Coast",
          "North Coast",
          "North Coast",
          "North Coast",
          "North Coast",
          "North Coast",
          "North Coast",
          "North Coast",
          "New Cairo - El Tagamoa",
          "North Coast",
          "North Coast",
          "North Coast",
          "North Coast",
          "North Coast",
          "North Coast",
          "North Coast",
          "North Coast",
          "North Coast",
          "North Coast",
          "North Coast",
          "North Coast",
          "North Coast",
          "North Coast",
          "North Coast",
          "North Coast",
          "North Coast",
          "North Coast",
          "New Cairo - El Tagamoa",
          "North Coast",
          "North Coast",
          "Ain Sukhna",
          "North Coast",
          "North Coast",
          "North Coast",
          "North Coast",
          "North Coast",
          "North Coast",
          "North Coast",
          "North Coast",
          "North Coast",
          "North Coast",
          "North Coast",
          "North Coast",
          "North Coast",
          "North Coast",
          "North Coast",
          "North Coast",
          "North Coast",
          "North Coast",
          "North Coast",
          "North Coast",
          "North Coast",
          "North Coast",
          "Ain Sukhna",
          "North Coast",
          "North Coast",
          "North Coast",
          "New Cairo - El Tagamoa",
          "Ain Sukhna",
          "Alamein",
          "North Coast",
          "Ain Sukhna",
          "North Coast",
          "North Coast",
          "North Coast",
          "North Coast",
          "North Coast",
          "North Coast",
          "North Coast",
          "Ain Sukhna",
          "6th of October",
          "North Coast",
          "North Coast",
          "North Coast",
          "North Coast",
          "North Coast",
          "North Coast",
          "North Coast",
          "North Coast",
          "North Coast",
          "North Coast",
          "New Cairo - El Tagamoa",
          "North Coast",
          "North Coast",
          "North Coast",
          "North Coast",
          "North Coast",
          "Ain Sukhna",
          "Ain Sukhna",
          "Ain Sukhna",
          "North Coast",
          "Borg al-Arab",
          "Ain Sukhna",
          "North Coast",
          "North Coast",
          "North Coast",
          "Ain Sukhna",
          "North Coast",
          "North Coast",
          "North Coast",
          "North Coast",
          "Ain Sukhna",
          "North Coast",
          "North Coast",
          "Ain Sukhna",
          "North Coast",
          "North Coast",
          "Dabaa",
          "Alamein",
          "North Coast",
          "North Coast",
          "North Coast",
          "North Coast",
          "Ain Sukhna",
          "Ain Sukhna",
          "North Coast",
          "North Coast",
          "North Coast",
          "North Coast",
          "North Coast",
          "North Coast",
          "North Coast",
          "North Coast",
          "Rehab City",
          "Ain Sukhna",
          "North Coast",
          "New Cairo - El Tagamoa",
          "Ain Sukhna",
          "Ain Sukhna",
          "North Coast",
          "Ain Sukhna",
          "North Coast",
          "North Coast",
          "North Coast",
          "Ain Sukhna",
          "Ain Sukhna",
          "North Coast",
          "North Coast",
          "North Coast",
          "Madinaty",
          "Ain Sukhna",
          "Ain Sukhna",
          "Ain Sukhna",
          "Ain Sukhna",
          "North Coast",
          "North Coast",
          "North Coast",
          "Ain Sukhna",
          "Ain Sukhna",
          "North Coast",
          "North Coast",
          "North Coast",
          "North Coast",
          "North Coast",
          "North Coast",
          "North Coast",
          "North Coast",
          "North Coast",
          "North Coast",
          "Ain Sukhna",
          "New Cairo - El Tagamoa",
          "North Coast",
          "North Coast",
          "North Coast",
          "North Coast",
          "Ain Sukhna",
          "Ain Sukhna",
          "North Coast",
          "North Coast",
          "Ain Sukhna",
          "North Coast",
          "North Coast",
          "North Coast",
          "North Coast",
          "Ain Sukhna",
          "Alamein",
          "North Coast",
          "North Coast",
          "North Coast",
          "Ain Sukhna",
          "North Coast",
          "North Coast",
          "Ain Sukhna",
          "North Coast",
          "North Coast",
          "Ain Sukhna",
          "North Coast",
          "North Coast",
          "North Coast",
          "North Coast",
          "North Coast",
          "North Coast",
          "North Coast",
          "North Coast",
          "North Coast",
          "Alamein",
          "North Coast",
          "North Coast",
          "North Coast",
          "North Coast",
          "Ain Sukhna",
          "Ain Sukhna",
          "North Coast",
          "North Coast",
          "Ain Sukhna",
          "Ain Sukhna",
          "Ain Sukhna",
          "Ain Sukhna",
          "Ain Sukhna",
          "North Coast",
          "Ain Sukhna",
          "Alamein",
          "Ain Sukhna",
          "North Coast",
          "Ain Sukhna",
          "Ain Sukhna",
          "North Coast",
          "Ain Sukhna",
          "Alamein",
          "North Coast",
          "North Coast",
          "Ain Sukhna",
          "Ain Sukhna",
          "North Coast",
          "Ain Sukhna",
          "North Coast",
          "North Coast",
          "Gouna",
          "North Coast",
          "North Coast",
          "North Coast",
          "North Coast",
          "North Coast",
          "Ain Sukhna",
          "North Coast",
          "North Coast",
          "North Coast",
          "North Coast",
          "North Coast",
          "North Coast",
          "North Coast",
          "North Coast",
          "Ain Sukhna",
          "Ain Sukhna",
          "Ain Sukhna",
          "Ain Sukhna",
          "North Coast",
          "Hammam",
          "Ain Sukhna",
          "North Coast",
          "North Coast",
          "North Coast",
          "Abu Talat",
          "North Coast",
          "North Coast",
          "North Coast",
          "North Coast",
          "Ain Sukhna",
          "Ain Sukhna",
          "North Coast",
          "Ain Sukhna",
          "North Coast",
          "Ain Sukhna",
          "North Coast",
          "Alamein",
          "North Coast",
          "North Coast",
          "North Coast",
          "North Coast",
          "North Coast",
          "North Coast",
          "North Coast",
          "North Coast",
          "North Coast",
          "North Coast",
          "North Coast",
          "North Coast",
          "North Coast",
          "North Coast",
          "Giza District",
          "Alamein",
          "North Coast",
          "North Coast",
          "North Coast",
          "North Coast",
          "Ain Sukhna",
          "North Coast",
          "North Coast",
          "North Coast",
          "North Coast",
          "North Coast",
          "North Coast",
          "North Coast",
          "North Coast",
          "North Coast",
          "North Coast",
          "North Coast",
          "North Coast",
          "Ain Sukhna",
          "North Coast",
          "North Coast",
          "Ain Sukhna",
          "Ain Sukhna",
          "North Coast",
          "North Coast",
          "North Coast",
          "New Cairo - El Tagamoa",
          "North Coast",
          "North Coast",
          "Ain Sukhna",
          "Ain Sukhna",
          "North Coast",
          "North Coast",
          "Ain Sukhna",
          "North Coast",
          "Ain Sukhna",
          "Ain Sukhna",
          "Ain Sukhna",
          "North Coast",
          "Alamein",
          "North Coast",
          "North Coast",
          "North Coast",
          "North Coast",
          "North Coast",
          "North Coast",
          "North Coast",
          "North Coast",
          "North Coast",
          "North Coast",
          "North Coast",
          "Ain Sukhna",
          "North Coast",
          "Ain Sukhna",
          "North Coast",
          "Ain Sukhna",
          "Ain Sukhna",
          "Ain Sukhna",
          "Ain Sukhna",
          "Ain Sukhna",
          "Ain Sukhna",
          "North Coast",
          "North Coast",
          "North Coast",
          "North Coast",
          "North Coast",
          "North Coast",
          "North Coast",
          "North Coast",
          "North Coast",
          "Hurghada",
          "North Coast",
          "North Coast",
          "Ain Sukhna",
          "North Coast",
          "North Coast",
          "North Coast",
          "North Coast",
          "Ain Sukhna",
          "North Coast",
          "Zahraa Al Maadi",
          "North Coast",
          "North Coast",
          "Ain Sukhna",
          "North Coast",
          "Ain Sukhna",
          "Ain Sukhna",
          "North Coast",
          "North Coast",
          "Ain Sukhna",
          "Ain Sukhna",
          "Ain Sukhna",
          "North Coast",
          "Ain Sukhna",
          "North Coast",
          "Ain Sukhna",
          "Ain Sukhna",
          "North Coast",
          "North Coast",
          "North Coast",
          "Ain Sukhna",
          "North Coast",
          "North Coast",
          "Ain Sukhna",
          "North Coast",
          "North Coast",
          "North Coast",
          "North Coast",
          "North Coast",
          "North Coast",
          "Ain Sukhna",
          "Abu Talat",
          "North Coast",
          "Marsa Matrouh",
          "North Coast",
          "North Coast",
          "North Coast",
          "North Coast",
          "North Coast",
          "North Coast",
          "North Coast",
          "North Coast",
          "North Coast",
          "North Coast",
          "North Coast",
          "North Coast",
          "Ain Sukhna",
          "North Coast",
          "Ain Sukhna",
          "North Coast",
          "North Coast",
          "North Coast",
          "North Coast",
          "North Coast",
          "North Coast",
          "Ain Sukhna",
          "North Coast",
          "Ain Sukhna",
          "New Cairo - El Tagamoa",
          "Ain Sukhna",
          "North Coast",
          "Ain Sukhna",
          "North Coast",
          "North Coast",
          "North Coast",
          "Alamein",
          "North Coast",
          "North Coast",
          "North Coast",
          "North Coast",
          "North Coast",
          "North Coast",
          "Ain Sukhna",
          "North Coast",
          "Ain Sukhna",
          "North Coast",
          "North Coast",
          "North Coast",
          "Ain Sukhna",
          "North Coast",
          "North Coast",
          "Ain Sukhna",
          "Ain Sukhna",
          "Ain Sukhna",
          "North Coast",
          "North Coast",
          "North Coast",
          "North Coast",
          "North Coast",
          "North Coast",
          "West Somid",
          "North Coast",
          "North Coast",
          "North Coast",
          "Ain Sukhna",
          "North Coast",
          "North Coast",
          "Borg al-Arab",
          "North Coast",
          "North Coast",
          "Ain Sukhna",
          "North Coast",
          "North Coast",
          "North Coast",
          "North Coast",
          "North Coast",
          "North Coast",
          "Kafr Abdo",
          "North Coast",
          "North Coast",
          "North Coast",
          "North Coast",
          "North Coast",
          "North Coast",
          "North Coast",
          "North Coast",
          "North Coast",
          "North Coast",
          "North Coast",
          "North Coast",
          "North Coast",
          "North Coast",
          "North Coast",
          "Ain Sukhna",
          "North Coast",
          "Ain Sukhna",
          "North Coast",
          "North Coast",
          "North Coast",
          "North Coast",
          "North Coast",
          "North Coast",
          "North Coast",
          "North Coast",
          "North Coast",
          "Ain Sukhna",
          "North Coast",
          "Ain Sukhna",
          "North Coast",
          "North Coast",
          "Ain Sukhna",
          "North Coast",
          "Ain Sukhna",
          "North Coast",
          "Ain Sukhna",
          "North Coast",
          "Ain Sukhna",
          "Ain Sukhna",
          "North Coast",
          "Ain Sukhna",
          "Ain Sukhna",
          "North Coast",
          "North Coast",
          "North Coast",
          "Gouna",
          "North Coast",
          "Ain Sukhna",
          "Ain Sukhna",
          "North Coast",
          "North Coast",
          "North Coast",
          "North Coast",
          "Ain Sukhna",
          "Ain Sukhna",
          "Ain Sukhna",
          "North Coast",
          "Ain Sukhna",
          "North Coast",
          "Gouna",
          "North Coast",
          "North Coast",
          "North Coast",
          "North Coast",
          "North Coast",
          "North Coast",
          "Ain Sukhna",
          "North Coast",
          "North Coast",
          "North Coast",
          "North Coast",
          "North Coast",
          "Ain Sukhna",
          "North Coast",
          "North Coast",
          "North Coast",
          "North Coast",
          "North Coast",
          "North Coast",
          "North Coast",
          "North Coast",
          "North Coast",
          "Gouna",
          "Gouna",
          "North Coast",
          "Alamein",
          "North Coast",
          "North Coast",
          "North Coast",
          "North Coast",
          "North Coast",
          "North Coast",
          "Ain Sukhna",
          "North Coast",
          "North Coast",
          "Sheikh Zayed",
          "North Coast",
          "North Coast",
          "North Coast",
          "North Coast",
          "North Coast",
          "North Coast",
          "North Coast",
          "North Coast",
          "North Coast",
          "North Coast",
          "North Coast",
          "North Coast",
          "North Coast",
          "Ain Sukhna",
          "North Coast",
          "Ain Sukhna",
          "Ain Sukhna",
          "North Coast",
          "North Coast",
          "North Coast",
          "Ain Sukhna",
          "North Coast",
          "North Coast",
          "North Coast",
          "North Coast",
          "Ain Sukhna",
          "North Coast",
          "Ataba",
          "Ain Sukhna",
          "North Coast",
          "Nasr City",
          "North Coast",
          "North Coast",
          "Ain Sukhna",
          "Ain Sukhna",
          "North Coast",
          "Ain Sukhna",
          "Alamein",
          "North Coast",
          "Ain Sukhna",
          "North Coast",
          "North Coast",
          "North Coast",
          "North Coast",
          "North Coast",
          "North Coast",
          "Ain Sukhna",
          "North Coast",
          "North Coast",
          "Ain Sukhna",
          "Ain Sukhna",
          "North Coast",
          "North Coast",
          "North Coast",
          "North Coast",
          "Ain Sukhna",
          "Ain Sukhna",
          "Ain Sukhna",
          "Ain Sukhna",
          "Ain Sukhna",
          "North Coast",
          "North Coast",
          "Ain Sukhna",
          "Ain Sukhna",
          "Ain Sukhna",
          "Ain Sukhna",
          "Ain Sukhna",
          "North Coast",
          "Ain Sukhna",
          "Ain Sukhna",
          "Ain Sukhna",
          "Ain Sukhna",
          "Ain Sukhna",
          "Ain Sukhna",
          "North Coast",
          "Ain Sukhna",
          "North Coast",
          "North Coast",
          "North Coast",
          "North Coast",
          "North Coast",
          "North Coast",
          "North Coast",
          "Ain Sukhna",
          "North Coast",
          "North Coast",
          "North Coast",
          "North Coast",
          "North Coast",
          "North Coast",
          "North Coast",
          "Ain Sukhna",
          "Ain Sukhna",
          "Ain Sukhna",
          "Ain Sukhna",
          "Ain Sukhna",
          "North Coast",
          "North Coast",
          "Ain Sukhna",
          "Ras Sedr",
          "North Coast",
          "Ain Sukhna",
          "Alamein",
          "North Coast",
          "New Cairo - El Tagamoa",
          "North Coast",
          "North Coast",
          "Ain Sukhna",
          "North Coast",
          "North Coast",
          "North Coast",
          "North Coast",
          "North Coast",
          "North Coast",
          "Ain Sukhna",
          "Ain Sukhna",
          "North Coast",
          "Ain Sukhna",
          "North Coast",
          "North Coast",
          "Ain Sukhna",
          "North Coast",
          "North Coast",
          "New Cairo - El Tagamoa",
          "Hammam",
          "North Coast",
          "North Coast",
          "New Cairo - El Tagamoa",
          "North Coast",
          "Ain Sukhna",
          "Ain Sukhna",
          "New Cairo - El Tagamoa",
          "New Cairo - El Tagamoa",
          "North Coast",
          "North Coast",
          "North Coast",
          "New Cairo - El Tagamoa",
          "North Coast",
          "Ain Sukhna",
          "Alamein",
          "North Coast",
          "Marsa Matrouh",
          "North Coast",
          "Ain Sukhna",
          "North Coast",
          "Ras Sedr",
          "Ain Sukhna",
          "Ain Sukhna",
          "North Coast",
          "North Coast",
          "North Coast",
          "Ras Sedr",
          "North Coast",
          "Ain Sukhna",
          "Ain Sukhna",
          "Ain Sukhna",
          "North Coast",
          "Ain Sukhna",
          "Ain Sukhna",
          "North Coast",
          "North Coast",
          "North Coast",
          "Ain Sukhna",
          "Ras Sedr",
          "Ras Sedr",
          "Ain Sukhna",
          "North Coast",
          "Ain Sukhna",
          "New Cairo - El Tagamoa",
          "New Cairo - El Tagamoa",
          "Ain Sukhna",
          "North Coast",
          "North Coast",
          "Ain Sukhna",
          "Ain Sukhna",
          "Ain Sukhna",
          "Ain Sukhna",
          "Ain Sukhna",
          "North Coast",
          "North Coast",
          "North Coast",
          "Ain Sukhna",
          "Ain Sukhna",
          "North Coast",
          "North Coast",
          "North Coast",
          "North Coast",
          "North Coast",
          "Ain Sukhna",
          "North Coast",
          "Ain Sukhna",
          "North Coast",
          "Ain Sukhna",
          "North Coast",
          "North Coast",
          "North Coast",
          "New Cairo - El Tagamoa",
          "North Coast",
          "North Coast",
          "North Coast",
          "North Coast",
          "North Coast",
          "Ain Sukhna",
          "North Coast",
          "North Coast",
          "North Coast",
          "Ain Sukhna",
          "North Coast",
          "Ain Sukhna",
          "North Coast",
          "North Coast",
          "North Coast",
          "North Coast",
          "Ain Sukhna",
          "North Coast",
          "North Coast",
          "North Coast",
          "Ain Sukhna",
          "North Coast",
          "North Coast",
          "North Coast",
          "North Coast",
          "North Coast",
          "North Coast",
          "North Coast",
          "North Coast",
          "North Coast",
          "New Cairo - El Tagamoa",
          "New Cairo - El Tagamoa",
          "North Coast",
          "North Coast",
          "Ain Sukhna",
          "North Coast",
          "North Coast",
          "Ain Sukhna",
          "Ain Sukhna",
          "Ain Sukhna",
          "North Coast",
          "North Coast",
          "North Coast",
          "North Coast",
          "North Coast",
          "North Coast",
          "North Coast",
          "North Coast",
          "North Coast",
          "North Coast",
          "North Coast",
          "Ain Sukhna",
          "North Coast",
          "New Cairo - El Tagamoa",
          "New Cairo - El Tagamoa",
          "Ain Sukhna",
          "Ain Sukhna",
          "North Coast",
          "North Coast",
          "North Coast",
          "Ain Sukhna",
          "North Coast",
          "North Coast",
          "North Coast",
          "North Coast",
          "Ain Sukhna",
          "North Coast",
          "Ain Sukhna",
          "North Coast",
          "North Coast",
          "North Coast",
          "Ain Sukhna",
          "North Coast",
          "North Coast",
          "North Coast",
          "North Coast",
          "North Coast",
          "North Coast",
          "North Coast",
          "North Coast",
          "North Coast",
          "Ain Sukhna",
          "North Coast",
          "Ain Sukhna",
          "Ain Sukhna",
          "Ain Sukhna",
          "Ain Sukhna",
          "Ain Sukhna",
          "North Coast",
          "North Coast",
          "North Coast",
          "Ras Sedr",
          "North Coast",
          "North Coast",
          "North Coast",
          "North Coast",
          "North Coast",
          "North Coast",
          "North Coast",
          "North Coast",
          "North Coast",
          "North Coast",
          "North Coast",
          "Ain Sukhna",
          "North Coast",
          "Ain Sukhna",
          "North Coast",
          "North Coast",
          "Alamein",
          "North Coast",
          "North Coast",
          "North Coast",
          "North Coast",
          "North Coast"
         ],
         "yaxis": "y"
        }
       ],
       "layout": {
        "barmode": "relative",
        "legend": {
         "tracegroupgap": 0
        },
        "template": {
         "data": {
          "bar": [
           {
            "error_x": {
             "color": "#2a3f5f"
            },
            "error_y": {
             "color": "#2a3f5f"
            },
            "marker": {
             "line": {
              "color": "#E5ECF6",
              "width": 0.5
             },
             "pattern": {
              "fillmode": "overlay",
              "size": 10,
              "solidity": 0.2
             }
            },
            "type": "bar"
           }
          ],
          "barpolar": [
           {
            "marker": {
             "line": {
              "color": "#E5ECF6",
              "width": 0.5
             },
             "pattern": {
              "fillmode": "overlay",
              "size": 10,
              "solidity": 0.2
             }
            },
            "type": "barpolar"
           }
          ],
          "carpet": [
           {
            "aaxis": {
             "endlinecolor": "#2a3f5f",
             "gridcolor": "white",
             "linecolor": "white",
             "minorgridcolor": "white",
             "startlinecolor": "#2a3f5f"
            },
            "baxis": {
             "endlinecolor": "#2a3f5f",
             "gridcolor": "white",
             "linecolor": "white",
             "minorgridcolor": "white",
             "startlinecolor": "#2a3f5f"
            },
            "type": "carpet"
           }
          ],
          "choropleth": [
           {
            "colorbar": {
             "outlinewidth": 0,
             "ticks": ""
            },
            "type": "choropleth"
           }
          ],
          "contour": [
           {
            "colorbar": {
             "outlinewidth": 0,
             "ticks": ""
            },
            "colorscale": [
             [
              0,
              "#0d0887"
             ],
             [
              0.1111111111111111,
              "#46039f"
             ],
             [
              0.2222222222222222,
              "#7201a8"
             ],
             [
              0.3333333333333333,
              "#9c179e"
             ],
             [
              0.4444444444444444,
              "#bd3786"
             ],
             [
              0.5555555555555556,
              "#d8576b"
             ],
             [
              0.6666666666666666,
              "#ed7953"
             ],
             [
              0.7777777777777778,
              "#fb9f3a"
             ],
             [
              0.8888888888888888,
              "#fdca26"
             ],
             [
              1,
              "#f0f921"
             ]
            ],
            "type": "contour"
           }
          ],
          "contourcarpet": [
           {
            "colorbar": {
             "outlinewidth": 0,
             "ticks": ""
            },
            "type": "contourcarpet"
           }
          ],
          "heatmap": [
           {
            "colorbar": {
             "outlinewidth": 0,
             "ticks": ""
            },
            "colorscale": [
             [
              0,
              "#0d0887"
             ],
             [
              0.1111111111111111,
              "#46039f"
             ],
             [
              0.2222222222222222,
              "#7201a8"
             ],
             [
              0.3333333333333333,
              "#9c179e"
             ],
             [
              0.4444444444444444,
              "#bd3786"
             ],
             [
              0.5555555555555556,
              "#d8576b"
             ],
             [
              0.6666666666666666,
              "#ed7953"
             ],
             [
              0.7777777777777778,
              "#fb9f3a"
             ],
             [
              0.8888888888888888,
              "#fdca26"
             ],
             [
              1,
              "#f0f921"
             ]
            ],
            "type": "heatmap"
           }
          ],
          "heatmapgl": [
           {
            "colorbar": {
             "outlinewidth": 0,
             "ticks": ""
            },
            "colorscale": [
             [
              0,
              "#0d0887"
             ],
             [
              0.1111111111111111,
              "#46039f"
             ],
             [
              0.2222222222222222,
              "#7201a8"
             ],
             [
              0.3333333333333333,
              "#9c179e"
             ],
             [
              0.4444444444444444,
              "#bd3786"
             ],
             [
              0.5555555555555556,
              "#d8576b"
             ],
             [
              0.6666666666666666,
              "#ed7953"
             ],
             [
              0.7777777777777778,
              "#fb9f3a"
             ],
             [
              0.8888888888888888,
              "#fdca26"
             ],
             [
              1,
              "#f0f921"
             ]
            ],
            "type": "heatmapgl"
           }
          ],
          "histogram": [
           {
            "marker": {
             "pattern": {
              "fillmode": "overlay",
              "size": 10,
              "solidity": 0.2
             }
            },
            "type": "histogram"
           }
          ],
          "histogram2d": [
           {
            "colorbar": {
             "outlinewidth": 0,
             "ticks": ""
            },
            "colorscale": [
             [
              0,
              "#0d0887"
             ],
             [
              0.1111111111111111,
              "#46039f"
             ],
             [
              0.2222222222222222,
              "#7201a8"
             ],
             [
              0.3333333333333333,
              "#9c179e"
             ],
             [
              0.4444444444444444,
              "#bd3786"
             ],
             [
              0.5555555555555556,
              "#d8576b"
             ],
             [
              0.6666666666666666,
              "#ed7953"
             ],
             [
              0.7777777777777778,
              "#fb9f3a"
             ],
             [
              0.8888888888888888,
              "#fdca26"
             ],
             [
              1,
              "#f0f921"
             ]
            ],
            "type": "histogram2d"
           }
          ],
          "histogram2dcontour": [
           {
            "colorbar": {
             "outlinewidth": 0,
             "ticks": ""
            },
            "colorscale": [
             [
              0,
              "#0d0887"
             ],
             [
              0.1111111111111111,
              "#46039f"
             ],
             [
              0.2222222222222222,
              "#7201a8"
             ],
             [
              0.3333333333333333,
              "#9c179e"
             ],
             [
              0.4444444444444444,
              "#bd3786"
             ],
             [
              0.5555555555555556,
              "#d8576b"
             ],
             [
              0.6666666666666666,
              "#ed7953"
             ],
             [
              0.7777777777777778,
              "#fb9f3a"
             ],
             [
              0.8888888888888888,
              "#fdca26"
             ],
             [
              1,
              "#f0f921"
             ]
            ],
            "type": "histogram2dcontour"
           }
          ],
          "mesh3d": [
           {
            "colorbar": {
             "outlinewidth": 0,
             "ticks": ""
            },
            "type": "mesh3d"
           }
          ],
          "parcoords": [
           {
            "line": {
             "colorbar": {
              "outlinewidth": 0,
              "ticks": ""
             }
            },
            "type": "parcoords"
           }
          ],
          "pie": [
           {
            "automargin": true,
            "type": "pie"
           }
          ],
          "scatter": [
           {
            "fillpattern": {
             "fillmode": "overlay",
             "size": 10,
             "solidity": 0.2
            },
            "type": "scatter"
           }
          ],
          "scatter3d": [
           {
            "line": {
             "colorbar": {
              "outlinewidth": 0,
              "ticks": ""
             }
            },
            "marker": {
             "colorbar": {
              "outlinewidth": 0,
              "ticks": ""
             }
            },
            "type": "scatter3d"
           }
          ],
          "scattercarpet": [
           {
            "marker": {
             "colorbar": {
              "outlinewidth": 0,
              "ticks": ""
             }
            },
            "type": "scattercarpet"
           }
          ],
          "scattergeo": [
           {
            "marker": {
             "colorbar": {
              "outlinewidth": 0,
              "ticks": ""
             }
            },
            "type": "scattergeo"
           }
          ],
          "scattergl": [
           {
            "marker": {
             "colorbar": {
              "outlinewidth": 0,
              "ticks": ""
             }
            },
            "type": "scattergl"
           }
          ],
          "scattermapbox": [
           {
            "marker": {
             "colorbar": {
              "outlinewidth": 0,
              "ticks": ""
             }
            },
            "type": "scattermapbox"
           }
          ],
          "scatterpolar": [
           {
            "marker": {
             "colorbar": {
              "outlinewidth": 0,
              "ticks": ""
             }
            },
            "type": "scatterpolar"
           }
          ],
          "scatterpolargl": [
           {
            "marker": {
             "colorbar": {
              "outlinewidth": 0,
              "ticks": ""
             }
            },
            "type": "scatterpolargl"
           }
          ],
          "scatterternary": [
           {
            "marker": {
             "colorbar": {
              "outlinewidth": 0,
              "ticks": ""
             }
            },
            "type": "scatterternary"
           }
          ],
          "surface": [
           {
            "colorbar": {
             "outlinewidth": 0,
             "ticks": ""
            },
            "colorscale": [
             [
              0,
              "#0d0887"
             ],
             [
              0.1111111111111111,
              "#46039f"
             ],
             [
              0.2222222222222222,
              "#7201a8"
             ],
             [
              0.3333333333333333,
              "#9c179e"
             ],
             [
              0.4444444444444444,
              "#bd3786"
             ],
             [
              0.5555555555555556,
              "#d8576b"
             ],
             [
              0.6666666666666666,
              "#ed7953"
             ],
             [
              0.7777777777777778,
              "#fb9f3a"
             ],
             [
              0.8888888888888888,
              "#fdca26"
             ],
             [
              1,
              "#f0f921"
             ]
            ],
            "type": "surface"
           }
          ],
          "table": [
           {
            "cells": {
             "fill": {
              "color": "#EBF0F8"
             },
             "line": {
              "color": "white"
             }
            },
            "header": {
             "fill": {
              "color": "#C8D4E3"
             },
             "line": {
              "color": "white"
             }
            },
            "type": "table"
           }
          ]
         },
         "layout": {
          "annotationdefaults": {
           "arrowcolor": "#2a3f5f",
           "arrowhead": 0,
           "arrowwidth": 1
          },
          "autotypenumbers": "strict",
          "coloraxis": {
           "colorbar": {
            "outlinewidth": 0,
            "ticks": ""
           }
          },
          "colorscale": {
           "diverging": [
            [
             0,
             "#8e0152"
            ],
            [
             0.1,
             "#c51b7d"
            ],
            [
             0.2,
             "#de77ae"
            ],
            [
             0.3,
             "#f1b6da"
            ],
            [
             0.4,
             "#fde0ef"
            ],
            [
             0.5,
             "#f7f7f7"
            ],
            [
             0.6,
             "#e6f5d0"
            ],
            [
             0.7,
             "#b8e186"
            ],
            [
             0.8,
             "#7fbc41"
            ],
            [
             0.9,
             "#4d9221"
            ],
            [
             1,
             "#276419"
            ]
           ],
           "sequential": [
            [
             0,
             "#0d0887"
            ],
            [
             0.1111111111111111,
             "#46039f"
            ],
            [
             0.2222222222222222,
             "#7201a8"
            ],
            [
             0.3333333333333333,
             "#9c179e"
            ],
            [
             0.4444444444444444,
             "#bd3786"
            ],
            [
             0.5555555555555556,
             "#d8576b"
            ],
            [
             0.6666666666666666,
             "#ed7953"
            ],
            [
             0.7777777777777778,
             "#fb9f3a"
            ],
            [
             0.8888888888888888,
             "#fdca26"
            ],
            [
             1,
             "#f0f921"
            ]
           ],
           "sequentialminus": [
            [
             0,
             "#0d0887"
            ],
            [
             0.1111111111111111,
             "#46039f"
            ],
            [
             0.2222222222222222,
             "#7201a8"
            ],
            [
             0.3333333333333333,
             "#9c179e"
            ],
            [
             0.4444444444444444,
             "#bd3786"
            ],
            [
             0.5555555555555556,
             "#d8576b"
            ],
            [
             0.6666666666666666,
             "#ed7953"
            ],
            [
             0.7777777777777778,
             "#fb9f3a"
            ],
            [
             0.8888888888888888,
             "#fdca26"
            ],
            [
             1,
             "#f0f921"
            ]
           ]
          },
          "colorway": [
           "#636efa",
           "#EF553B",
           "#00cc96",
           "#ab63fa",
           "#FFA15A",
           "#19d3f3",
           "#FF6692",
           "#B6E880",
           "#FF97FF",
           "#FECB52"
          ],
          "font": {
           "color": "#2a3f5f"
          },
          "geo": {
           "bgcolor": "white",
           "lakecolor": "white",
           "landcolor": "#E5ECF6",
           "showlakes": true,
           "showland": true,
           "subunitcolor": "white"
          },
          "hoverlabel": {
           "align": "left"
          },
          "hovermode": "closest",
          "mapbox": {
           "style": "light"
          },
          "paper_bgcolor": "white",
          "plot_bgcolor": "#E5ECF6",
          "polar": {
           "angularaxis": {
            "gridcolor": "white",
            "linecolor": "white",
            "ticks": ""
           },
           "bgcolor": "#E5ECF6",
           "radialaxis": {
            "gridcolor": "white",
            "linecolor": "white",
            "ticks": ""
           }
          },
          "scene": {
           "xaxis": {
            "backgroundcolor": "#E5ECF6",
            "gridcolor": "white",
            "gridwidth": 2,
            "linecolor": "white",
            "showbackground": true,
            "ticks": "",
            "zerolinecolor": "white"
           },
           "yaxis": {
            "backgroundcolor": "#E5ECF6",
            "gridcolor": "white",
            "gridwidth": 2,
            "linecolor": "white",
            "showbackground": true,
            "ticks": "",
            "zerolinecolor": "white"
           },
           "zaxis": {
            "backgroundcolor": "#E5ECF6",
            "gridcolor": "white",
            "gridwidth": 2,
            "linecolor": "white",
            "showbackground": true,
            "ticks": "",
            "zerolinecolor": "white"
           }
          },
          "shapedefaults": {
           "line": {
            "color": "#2a3f5f"
           }
          },
          "ternary": {
           "aaxis": {
            "gridcolor": "white",
            "linecolor": "white",
            "ticks": ""
           },
           "baxis": {
            "gridcolor": "white",
            "linecolor": "white",
            "ticks": ""
           },
           "bgcolor": "#E5ECF6",
           "caxis": {
            "gridcolor": "white",
            "linecolor": "white",
            "ticks": ""
           }
          },
          "title": {
           "x": 0.05
          },
          "xaxis": {
           "automargin": true,
           "gridcolor": "white",
           "linecolor": "white",
           "ticks": "",
           "title": {
            "standoff": 15
           },
           "zerolinecolor": "white",
           "zerolinewidth": 2
          },
          "yaxis": {
           "automargin": true,
           "gridcolor": "white",
           "linecolor": "white",
           "ticks": "",
           "title": {
            "standoff": 15
           },
           "zerolinecolor": "white",
           "zerolinewidth": 2
          }
         }
        },
        "title": {
         "text": "Units avalability according to the location"
        },
        "xaxis": {
         "anchor": "y",
         "domain": [
          0,
          1
         ],
         "title": {
          "text": "count"
         }
        },
        "yaxis": {
         "anchor": "x",
         "domain": [
          0,
          1
         ],
         "title": {
          "text": "City"
         }
        }
       }
      },
      "text/html": [
       "<div>                            <div id=\"35d83204-7cd2-4e13-9502-72eada0d5396\" class=\"plotly-graph-div\" style=\"height:525px; width:100%;\"></div>            <script type=\"text/javascript\">                require([\"plotly\"], function(Plotly) {                    window.PLOTLYENV=window.PLOTLYENV || {};                                    if (document.getElementById(\"35d83204-7cd2-4e13-9502-72eada0d5396\")) {                    Plotly.newPlot(                        \"35d83204-7cd2-4e13-9502-72eada0d5396\",                        [{\"alignmentgroup\":\"True\",\"bingroup\":\"y\",\"hovertemplate\":\"count=%{x}\\u003cbr\\u003eCity=%{y}\\u003cextra\\u003e\\u003c\\u002fextra\\u003e\",\"legendgroup\":\"\",\"marker\":{\"color\":\"rgb(27,158,119)\",\"pattern\":{\"shape\":\"\"}},\"name\":\"\",\"nbinsy\":100,\"offsetgroup\":\"\",\"orientation\":\"h\",\"showlegend\":false,\"xaxis\":\"x\",\"y\":[\"New Cairo - El Tagamoa\",\"New Cairo - El Tagamoa\",\"New Cairo - El Tagamoa\",\"Sheikh Zayed\",\"New Cairo - El Tagamoa\",\"New Cairo - El Tagamoa\",\"Zahraa Al Maadi\",\"Nasr City\",\"6th of October\",\"Kafr al-Sheikh City\",\"Sheikh Zayed\",\"New Capital City\",\"Imbaba\",\"New Cairo - El Tagamoa\",\"Shorouk City\",\"New Cairo - El Tagamoa\",\"Sheikh Zayed\",\"Madinaty\",\"Sheikh Zayed\",\"New Cairo - El Tagamoa\",\"Sheikh Zayed\",\"Sheikh Zayed\",\"New Cairo - El Tagamoa\",\"New Cairo - El Tagamoa\",\"Madinaty\",\"Madinaty\",\"Madinaty\",\"Madinaty\",\"Madinaty\",\"Madinaty\",\"New Cairo - El Tagamoa\",\"Sheikh Zayed\",\"6th of October\",\"6th of October\",\"6th of October\",\"6th of October\",\"Obour City\",\"Rehab City\",\"Madinaty\",\"New Cairo - El Tagamoa\",\"Sheikh Zayed\",\"Sheikh Zayed\",\"6th of October\",\"Sheikh Zayed\",\"Hadayek 6th of October\",\"Madinaty\",\"Sheikh Zayed\",\"New Capital City\",\"New Cairo - El Tagamoa\",\"Shorouk City\",\"Mokattam\",\"Katameya\",\"Madinaty\",\"Rehab City\",\"New Cairo - El Tagamoa\",\"Rehab City\",\"New Cairo - El Tagamoa\",\"New Cairo - El Tagamoa\",\"New Cairo - El Tagamoa\",\"Rehab City\",\"Madinaty\",\"Qasr al-Nil\",\"New Cairo - El Tagamoa\",\"Rehab City\",\"Madinaty\",\"New Cairo - El Tagamoa\",\"Katameya\",\"Sheikh Zayed\",\"Sheikh Zayed\",\"New Cairo - El Tagamoa\",\"Sheikh Zayed\",\"New Cairo - El Tagamoa\",\"New Cairo - El Tagamoa\",\"New Cairo - El Tagamoa\",\"Sheikh Zayed\",\"New Cairo - El Tagamoa\",\"New Cairo - El Tagamoa\",\"New Cairo - El Tagamoa\",\"Madinaty\",\"New Cairo - El Tagamoa\",\"New Cairo - El Tagamoa\",\"New Cairo - El Tagamoa\",\"New Cairo - El Tagamoa\",\"New Cairo - El Tagamoa\",\"Sheikh Zayed\",\"New Cairo - El Tagamoa\",\"New Cairo - El Tagamoa\",\"Madinaty\",\"New Cairo - El Tagamoa\",\"New Cairo - El Tagamoa\",\"New Cairo - El Tagamoa\",\"Ismailia City\",\"New Cairo - El Tagamoa\",\"Shorouk City\",\"New Cairo - El Tagamoa\",\"New Cairo - El Tagamoa\",\"Sheikh Zayed\",\"New Cairo - El Tagamoa\",\"New Cairo - El Tagamoa\",\"New Cairo - El Tagamoa\",\"New Cairo - El Tagamoa\",\"New Cairo - El Tagamoa\",\"New Cairo - El Tagamoa\",\"New Cairo - El Tagamoa\",\"New Cairo - El Tagamoa\",\"New Heliopolis\",\"New Cairo - El Tagamoa\",\"New Cairo - El Tagamoa\",\"Madinaty\",\"New Cairo - El Tagamoa\",\"Madinaty\",\"Sheikh Zayed\",\"New Cairo - El Tagamoa\",\"Sheikh Zayed\",\"Sheikh Zayed\",\"New Capital City\",\"New Cairo - El Tagamoa\",\"New Cairo - El Tagamoa\",\"New Cairo - El Tagamoa\",\"New Capital City\",\"New Cairo - El Tagamoa\",\"6th of October\",\"New Cairo - El Tagamoa\",\"New Cairo - El Tagamoa\",\"New Capital City\",\"New Cairo - El Tagamoa\",\"New Cairo - El Tagamoa\",\"Madinaty\",\"Rehab City\",\"New Cairo - El Tagamoa\",\"New Cairo - El Tagamoa\",\"New Cairo - El Tagamoa\",\"New Cairo - El Tagamoa\",\"New Cairo - El Tagamoa\",\"New Cairo - El Tagamoa\",\"New Cairo - El Tagamoa\",\"New Cairo - El Tagamoa\",\"6th of October\",\"New Cairo - El Tagamoa\",\"New Cairo - El Tagamoa\",\"New Cairo - El Tagamoa\",\"Madinaty\",\"6th of October\",\"Sheikh Zayed\",\"6th of October\",\"New Cairo - El Tagamoa\",\"New Cairo - El Tagamoa\",\"Badr City\",\"New Cairo - El Tagamoa\",\"Madinaty\",\"New Cairo - El Tagamoa\",\"Madinaty\",\"6th of October\",\"New Cairo - El Tagamoa\",\"Rehab City\",\"Sheikh Zayed\",\"Madinaty\",\"6th of October\",\"Madinaty\",\"Rehab City\",\"New Cairo - El Tagamoa\",\"New Cairo - El Tagamoa\",\"Madinaty\",\"New Cairo - El Tagamoa\",\"Sheikh Zayed\",\"New Cairo - El Tagamoa\",\"6th of October\",\"New Cairo - El Tagamoa\",\"New Capital City\",\"Smoha\",\"New Cairo - El Tagamoa\",\"Smoha\",\"New Cairo - El Tagamoa\",\"Nasr City\",\"Rehab City\",\"New Cairo - El Tagamoa\",\"New Cairo - El Tagamoa\",\"Sheikh Zayed\",\"New Cairo - El Tagamoa\",\"Rehab City\",\"Dokki\",\"Mokattam\",\"Nakheel\",\"New Cairo - El Tagamoa\",\"6th of October\",\"Mokattam\",\"6th of October\",\"Nakheel\",\"Sheikh Zayed\",\"New Cairo - El Tagamoa\",\"New Cairo - El Tagamoa\",\"Rehab City\",\"6th of October\",\"New Cairo - El Tagamoa\",\"Madinaty\",\"6th of October\",\"New Cairo - El Tagamoa\",\"New Cairo - El Tagamoa\",\"Mokattam\",\"Shorouk City\",\"6th of October\",\"New Capital City\",\"Rehab City\",\"Rehab City\",\"New Cairo - El Tagamoa\",\"Madinaty\",\"Damietta City\",\"New Cairo - El Tagamoa\",\"New Cairo - El Tagamoa\",\"New Capital City\",\"New Cairo - El Tagamoa\",\"New Cairo - El Tagamoa\",\"New Cairo - El Tagamoa\",\"New Cairo - El Tagamoa\",\"New Cairo - El Tagamoa\",\"Madinaty\",\"Madinaty\",\"New Cairo - El Tagamoa\",\"Ras al-Bar\",\"New Cairo - El Tagamoa\",\"New Cairo - El Tagamoa\",\"New Cairo - El Tagamoa\",\"Madinaty\",\"New Cairo - El Tagamoa\",\"Shorouk City\",\"New Cairo - El Tagamoa\",\"New Cairo - El Tagamoa\",\"Sheikh Zayed\",\"New Cairo - El Tagamoa\",\"New Cairo - El Tagamoa\",\"New Cairo - El Tagamoa\",\"New Cairo - El Tagamoa\",\"New Cairo - El Tagamoa\",\"New Cairo - El Tagamoa\",\"New Cairo - El Tagamoa\",\"New Cairo - El Tagamoa\",\"New Cairo - El Tagamoa\",\"New Cairo - El Tagamoa\",\"New Cairo - El Tagamoa\",\"New Cairo - El Tagamoa\",\"New Cairo - El Tagamoa\",\"New Cairo - El Tagamoa\",\"New Cairo - El Tagamoa\",\"New Cairo - El Tagamoa\",\"New Cairo - El Tagamoa\",\"New Cairo - El Tagamoa\",\"New Cairo - El Tagamoa\",\"New Cairo - El Tagamoa\",\"New Cairo - El Tagamoa\",\"New Cairo - El Tagamoa\",\"Hadayek 6th of October\",\"Madinaty\",\"Madinaty\",\"New Cairo - El Tagamoa\",\"6th of October\",\"6th of October\",\"Hadayek 6th of October\",\"Cleopatra\",\"Madinaty\",\"New Cairo - El Tagamoa\",\"Madinaty\",\"Madinaty\",\"Madinaty\",\"Madinaty\",\"Madinaty\",\"New Cairo - El Tagamoa\",\"6th of October\",\"Sheikh Zayed\",\"Sheikh Zayed\",\"Sheikh Zayed\",\"Sheikh Zayed\",\"Sheikh Zayed\",\"Sheikh Zayed\",\"New Cairo - El Tagamoa\",\"6th of October\",\"New Cairo - El Tagamoa\",\"New Cairo - El Tagamoa\",\"New Cairo - El Tagamoa\",\"Madinaty\",\"Madinaty\",\"Madinaty\",\"Madinaty\",\"Madinaty\",\"Madinaty\",\"Sheikh Zayed\",\"Sheikh Zayed\",\"New Capital City\",\"New Cairo - El Tagamoa\",\"Madinaty\",\"6th of October\",\"Madinaty\",\"Madinaty\",\"Madinaty\",\"Rehab City\",\"New Cairo - El Tagamoa\",\"Madinaty\",\"Madinaty\",\"New Cairo - El Tagamoa\",\"Dokki\",\"New Cairo - El Tagamoa\",\"New Cairo - El Tagamoa\",\"Mohandessin\",\"Moharam Bik\",\"Rehab City\",\"New Cairo - El Tagamoa\",\"New Capital City\",\"New Cairo - El Tagamoa\",\"New Cairo - El Tagamoa\",\"New Cairo - El Tagamoa\",\"New Cairo - El Tagamoa\",\"New Cairo - El Tagamoa\",\"6th of October\",\"6th of October\",\"New Cairo - El Tagamoa\",\"New Cairo - El Tagamoa\",\"New Capital City\",\"New Capital City\",\"New Capital City\",\"New Capital City\",\"New Cairo - El Tagamoa\",\"Nasr City\",\"6th of October\",\"6th of October\",\"6th of October\",\"New Capital City\",\"New Capital City\",\"New Capital City\",\"New Capital City\",\"New Capital City\",\"New Capital City\",\"New Capital City\",\"New Capital City\",\"New Capital City\",\"New Cairo - El Tagamoa\",\"New Cairo - El Tagamoa\",\"New Cairo - El Tagamoa\",\"New Cairo - El Tagamoa\",\"New Cairo - El Tagamoa\",\"Shorouk City\",\"Shorouk City\",\"6th of October\",\"New Cairo - El Tagamoa\",\"New Cairo - El Tagamoa\",\"New Cairo - El Tagamoa\",\"Zamalek\",\"Hadayek 6th of October\",\"New Cairo - El Tagamoa\",\"New Cairo - El Tagamoa\",\"Mokattam\",\"New Capital City\",\"Shorouk City\",\"6th of October\",\"New Cairo - El Tagamoa\",\"New Cairo - El Tagamoa\",\"New Cairo - El Tagamoa\",\"New Capital City\",\"6th of October\",\"6th of October\",\"New Cairo - El Tagamoa\",\"6th of October\",\"New Cairo - El Tagamoa\",\"6th of October\",\"New Capital City\",\"Madinaty\",\"6th of October\",\"Madinaty\",\"New Cairo - El Tagamoa\",\"New Cairo - El Tagamoa\",\"Sheikh Zayed\",\"New Cairo - El Tagamoa\",\"New Cairo - El Tagamoa\",\"Glim\",\"Madinaty\",\"Sheikh Zayed\",\"New Cairo - El Tagamoa\",\"Madinaty\",\"New Cairo - El Tagamoa\",\"New Cairo - El Tagamoa\",\"6th of October\",\"New Cairo - El Tagamoa\",\"New Cairo - El Tagamoa\",\"Sheraton\",\"New Cairo - El Tagamoa\",\"Sheikh Zayed\",\"Rehab City\",\"Camp Caesar\",\"New Cairo - El Tagamoa\",\"New Cairo - El Tagamoa\",\"Madinaty\",\"New Cairo - El Tagamoa\",\"Madinaty\",\"New Cairo - El Tagamoa\",\"New Capital City\",\"Madinaty\",\"New Cairo - El Tagamoa\",\"New Cairo - El Tagamoa\",\"Madinaty\",\"New Cairo - El Tagamoa\",\"New Cairo - El Tagamoa\",\"Rehab City\",\"New Cairo - El Tagamoa\",\"New Capital City\",\"New Cairo - El Tagamoa\",\"New Cairo - El Tagamoa\",\"New Cairo - El Tagamoa\",\"New Cairo - El Tagamoa\",\"New Cairo - El Tagamoa\",\"Sheikh Zayed\",\"Sheikh Zayed\",\"Sheikh Zayed\",\"New Cairo - El Tagamoa\",\"New Cairo - El Tagamoa\",\"New Cairo - El Tagamoa\",\"New Cairo - El Tagamoa\",\"New Cairo - El Tagamoa\",\"Hadayek al-Ahram\",\"Smoha\",\"Rehab City\",\"New Cairo - El Tagamoa\",\"Gianaclis\",\"New Cairo - El Tagamoa\",\"Sheikh Zayed\",\"New Cairo - El Tagamoa\",\"New Cairo - El Tagamoa\",\"Madinaty\",\"Hadayek 6th of October\",\"New Cairo - El Tagamoa\",\"Madinaty\",\"Madinaty\",\"New Cairo - El Tagamoa\",\"Rehab City\",\"Rehab City\",\"Rehab City\",\"Madinaty\",\"Sheikh Zayed\",\"New Cairo - El Tagamoa\",\"Rehab City\",\"Madinaty\",\"New Cairo - El Tagamoa\",\"Sheikh Zayed\",\"Almazah\",\"New Cairo - El Tagamoa\",\"New Cairo - El Tagamoa\",\"San Stefano\",\"Shorouk City\",\"Shorouk City\",\"New Cairo - El Tagamoa\",\"Shorouk City\",\"Mostakbal City\",\"New Capital City\",\"Hadayek 6th of October\",\"Sheikh Zayed\",\"New Cairo - El Tagamoa\",\"Kafr Abdo\",\"Sheikh Zayed\",\"New Cairo - El Tagamoa\",\"Hadayek 6th of October\",\"Rehab City\",\"Madinaty\",\"New Cairo - El Tagamoa\",\"Sheikh Zayed\",\"New Cairo - El Tagamoa\",\"New Cairo - El Tagamoa\",\"Madinaty\",\"Madinaty\",\"New Cairo - El Tagamoa\",\"New Capital City\",\"Rehab City\",\"New Cairo - El Tagamoa\",\"Madinaty\",\"New Cairo - El Tagamoa\",\"Katameya\",\"Sheikh Zayed\",\"Madinaty\",\"Rehab City\",\"Rehab City\",\"New Cairo - El Tagamoa\",\"Shorouk City\",\"New Cairo - El Tagamoa\",\"Zahraa Al Maadi\",\"New Cairo - El Tagamoa\",\"Mokattam\",\"Zahraa Al Maadi\",\"Zahraa Al Maadi\",\"Mostakbal City\",\"New Cairo - El Tagamoa\",\"Shorouk City\",\"Rehab City\",\"New Cairo - El Tagamoa\",\"New Cairo - El Tagamoa\",\"New Cairo - El Tagamoa\",\"Nakheel\",\"6th of October\",\"New Cairo - El Tagamoa\",\"New Cairo - El Tagamoa\",\"New Cairo - El Tagamoa\",\"New Cairo - El Tagamoa\",\"New Cairo - El Tagamoa\",\"New Cairo - El Tagamoa\",\"New Cairo - El Tagamoa\",\"New Cairo - El Tagamoa\",\"6th of October\",\"Heliopolis\",\"Sheikh Zayed\",\"New Cairo - El Tagamoa\",\"Madinaty\",\"New Cairo - El Tagamoa\",\"New Cairo - El Tagamoa\",\"Madinaty\",\"New Cairo - El Tagamoa\",\"Rehab City\",\"New Cairo - El Tagamoa\",\"Sheikh Zayed\",\"Obour City\",\"New Cairo - El Tagamoa\",\"New Cairo - El Tagamoa\",\"6th of October\",\"Madinaty\",\"Obour City\",\"New Cairo - El Tagamoa\",\"New Cairo - El Tagamoa\",\"New Cairo - El Tagamoa\",\"New Cairo - El Tagamoa\",\"New Cairo - El Tagamoa\",\"New Cairo - El Tagamoa\",\"Rehab City\",\"Madinaty\",\"Rehab City\",\"New Cairo - El Tagamoa\",\"Rehab City\",\"Hadayek 6th of October\",\"New Cairo - El Tagamoa\",\"Madinaty\",\"Nasr City\",\"New Cairo - El Tagamoa\",\"New Cairo - El Tagamoa\",\"Rehab City\",\"Shorouk City\",\"New Cairo - El Tagamoa\",\"New Cairo - El Tagamoa\",\"New Cairo - El Tagamoa\",\"New Cairo - El Tagamoa\",\"Sheikh Zayed\",\"New Cairo - El Tagamoa\",\"Obour City\",\"New Cairo - El Tagamoa\",\"New Cairo - El Tagamoa\",\"Madinaty\",\"Madinaty\",\"Madinaty\",\"New Cairo - El Tagamoa\",\"Rehab City\",\"New Cairo - El Tagamoa\",\"New Cairo - El Tagamoa\",\"New Cairo - El Tagamoa\",\"New Cairo - El Tagamoa\",\"New Capital City\",\"Madinaty\",\"6th of October\",\"Rehab City\",\"New Cairo - El Tagamoa\",\"New Cairo - El Tagamoa\",\"New Cairo - El Tagamoa\",\"New Cairo - El Tagamoa\",\"New Cairo - El Tagamoa\",\"Madinaty\",\"Sheraton\",\"Madinaty\",\"Rehab City\",\"6th of October\",\"New Cairo - El Tagamoa\",\"New Cairo - El Tagamoa\",\"Madinaty\",\"New Cairo - El Tagamoa\",\"New Cairo - El Tagamoa\",\"Madinaty\",\"Rehab City\",\"6th of October\",\"New Cairo - El Tagamoa\",\"Madinaty\",\"Rehab City\",\"New Capital City\",\"6th of October\",\"New Cairo - El Tagamoa\",\"Madinaty\",\"Hadayek 6th of October\",\"New Cairo - El Tagamoa\",\"New Cairo - El Tagamoa\",\"Badr City\",\"6th of October\",\"Madinaty\",\"New Cairo - El Tagamoa\",\"Rehab City\",\"Madinaty\",\"Shorouk City\",\"Rehab City\",\"Madinaty\",\"New Cairo - El Tagamoa\",\"Madinaty\",\"New Cairo - El Tagamoa\",\"New Cairo - El Tagamoa\",\"New Cairo - El Tagamoa\",\"6th of October\",\"New Cairo - El Tagamoa\",\"New Cairo - El Tagamoa\",\"New Cairo - El Tagamoa\",\"New Cairo - El Tagamoa\",\"New Cairo - El Tagamoa\",\"Rehab City\",\"Sheikh Zayed\",\"New Cairo - El Tagamoa\",\"New Cairo - El Tagamoa\",\"New Cairo - El Tagamoa\",\"New Cairo - El Tagamoa\",\"New Cairo - El Tagamoa\",\"New Cairo - El Tagamoa\",\"New Cairo - El Tagamoa\",\"Maadi\",\"New Nozha\",\"New Cairo - El Tagamoa\",\"Nasr City\",\"Mokattam\",\"Mokattam\",\"Zahraa Al Maadi\",\"New Cairo - El Tagamoa\",\"6th of October\",\"Madinaty\",\"Madinaty\",\"Madinaty\",\"Rehab City\",\"Madinaty\",\"Madinaty\",\"New Cairo - El Tagamoa\",\"6th of October\",\"Rehab City\",\"Madinaty\",\"Madinaty\",\"Madinaty\",\"Sheikh Zayed\",\"6th of October\",\"Maamoura\",\"Rehab City\",\"6th of October\",\"Maadi\",\"Hadayek 6th of October\",\"6th of October\",\"New Cairo - El Tagamoa\",\"Madinaty\",\"Rehab City\",\"New Cairo - El Tagamoa\",\"Hadayek 6th of October\",\"New Cairo - El Tagamoa\",\"Shorouk City\",\"Shorouk City\",\"New Cairo - El Tagamoa\",\"New Cairo - El Tagamoa\",\"6th of October\",\"Rehab City\",\"Nakheel\",\"New Cairo - El Tagamoa\",\"6th of October\",\"Madinaty\",\"Madinaty\",\"Madinaty\",\"Madinaty\",\"6th of October\",\"Hadayek 6th of October\",\"Madinaty\",\"Maadi\",\"Maadi\",\"Madinaty\",\"Sheikh Zayed\",\"Madinaty\",\"Rehab City\",\"Madinaty\",\"Madinaty\",\"New Cairo - El Tagamoa\",\"Sheikh Zayed\",\"New Nozha\",\"6th of October\",\"New Cairo - El Tagamoa\",\"6th of October\",\"Madinaty\",\"Nakheel\",\"New Cairo - El Tagamoa\",\"Nakheel\",\"New Cairo - El Tagamoa\",\"New Cairo - El Tagamoa\",\"Rehab City\",\"New Cairo - El Tagamoa\",\"Rehab City\",\"Madinaty\",\"Madinaty\",\"New Cairo - El Tagamoa\",\"Madinaty\",\"New Cairo - El Tagamoa\",\"New Cairo - El Tagamoa\",\"New Cairo - El Tagamoa\",\"New Cairo - El Tagamoa\",\"Mokattam\",\"Madinaty\",\"Hadayek 6th of October\",\"Hadayek 6th of October\",\"New Cairo - El Tagamoa\",\"Madinaty\",\"New Cairo - El Tagamoa\",\"Sidi Beshr\",\"New Cairo - El Tagamoa\",\"Madinaty\",\"Mansura\",\"Katameya\",\"Madinaty\",\"New Capital City\",\"6th of October\",\"Madinaty\",\"Sheikh Zayed\",\"Sheikh Zayed\",\"Sheikh Zayed\",\"New Cairo - El Tagamoa\",\"Maadi\",\"Sheikh Zayed\",\"Sheikh Zayed\",\"Sheikh Zayed\",\"Mostakbal City\",\"Sheikh Zayed\",\"Madinaty\",\"Rehab City\",\"Rehab City\",\"Sheikh Zayed\",\"Rehab City\",\"Sheikh Zayed\",\"Sheikh Zayed\",\"6th of October\",\"New Cairo - El Tagamoa\",\"Madinaty\",\"Gianaclis\",\"Hadayek 6th of October\",\"Madinaty\",\"Madinaty\",\"Madinaty\",\"New Cairo - El Tagamoa\",\"Asyut City\",\"6th of October\",\"New Cairo - El Tagamoa\",\"New Cairo - El Tagamoa\",\"New Cairo - El Tagamoa\",\"New Cairo - El Tagamoa\",\"New Cairo - El Tagamoa\",\"Madinaty\",\"6th of October\",\"Maamoura\",\"New Cairo - El Tagamoa\",\"Sheikh Zayed\",\"New Cairo - El Tagamoa\",\"Sheikh Zayed\",\"Kafr Abdo\",\"Sheikh Zayed\",\"6th of October\",\"New Cairo - El Tagamoa\",\"Sheikh Zayed\",\"Sheikh Zayed\",\"Sheikh Zayed\",\"Sheikh Zayed\",\"Sheikh Zayed\",\"Sheikh Zayed\",\"6th of October\",\"Kafr Abdo\",\"Sheikh Zayed\",\"Sheikh Zayed\",\"Sheikh Zayed\",\"Sheikh Zayed\",\"Sheikh Zayed\",\"Katameya\",\"Faisal\",\"Madinaty\",\"Rehab City\",\"New Cairo - El Tagamoa\",\"Sheikh Zayed\",\"Madinaty\",\"Madinaty\",\"Rehab City\",\"Obour City\",\"New Cairo - El Tagamoa\",\"Nasr City\",\"6th of October\",\"6th of October\",\"Madinaty\",\"New Cairo - El Tagamoa\",\"New Cairo - El Tagamoa\",\"New Cairo - El Tagamoa\",\"Madinaty\",\"New Cairo - El Tagamoa\",\"Madinaty\",\"Madinaty\",\"Mokattam\",\"Madinaty\",\"6th of October\",\"Sheikh Zayed\",\"New Cairo - El Tagamoa\",\"New Cairo - El Tagamoa\",\"Azarita\",\"Obour City\",\"Madinaty\",\"New Capital City\",\"New Cairo - El Tagamoa\",\"New Cairo - El Tagamoa\",\"New Capital City\",\"Obour City\",\"Rehab City\",\"Rehab City\",\"Rehab City\",\"New Cairo - El Tagamoa\",\"Madinaty\",\"Hadayek al-Ahram\",\"New Capital City\",\"New Cairo - El Tagamoa\",\"New Capital City\",\"New Cairo - El Tagamoa\",\"New Cairo - El Tagamoa\",\"New Cairo - El Tagamoa\",\"New Cairo - El Tagamoa\",\"Madinaty\",\"New Cairo - El Tagamoa\",\"New Cairo - El Tagamoa\",\"Madinaty\",\"New Cairo - El Tagamoa\",\"New Capital City\",\"New Cairo - El Tagamoa\",\"New Cairo - El Tagamoa\",\"New Cairo - El Tagamoa\",\"New Cairo - El Tagamoa\",\"New Cairo - El Tagamoa\",\"New Cairo - El Tagamoa\",\"New Cairo - El Tagamoa\",\"New Cairo - El Tagamoa\",\"Madinaty\",\"New Cairo - El Tagamoa\",\"Mostakbal City\",\"Madinaty\",\"Nasr City\",\"Madinaty\",\"New Cairo - El Tagamoa\",\"New Cairo - El Tagamoa\",\"Sheikh Zayed\",\"New Cairo - El Tagamoa\",\"New Cairo - El Tagamoa\",\"New Cairo - El Tagamoa\",\"Rehab City\",\"Madinaty\",\"Madinaty\",\"6th of October\",\"Sheikh Zayed\",\"Madinaty\",\"New Cairo - El Tagamoa\",\"New Cairo - El Tagamoa\",\"New Cairo - El Tagamoa\",\"6th of October\",\"Heliopolis\",\"New Cairo - El Tagamoa\",\"New Cairo - El Tagamoa\",\"New Cairo - El Tagamoa\",\"Rehab City\",\"Madinaty\",\"Sheikh Zayed\",\"New Cairo - El Tagamoa\",\"New Cairo - El Tagamoa\",\"New Cairo - El Tagamoa\",\"Madinaty\",\"New Cairo - El Tagamoa\",\"Madinaty\",\"New Capital City\",\"New Cairo - El Tagamoa\",\"New Cairo - El Tagamoa\",\"Madinaty\",\"Sheikh Zayed\",\"Miami\",\"Obour City\",\"New Cairo - El Tagamoa\",\"New Cairo - El Tagamoa\",\"Madinaty\",\"Rehab City\",\"New Capital City\",\"Mokattam\",\"Mokattam\",\"New Cairo - El Tagamoa\",\"New Capital City\",\"Sheikh Zayed\",\"New Cairo - El Tagamoa\",\"Stanley\",\"Laurent\",\"6th of October\",\"New Cairo - El Tagamoa\",\"New Cairo - El Tagamoa\",\"Rehab City\",\"Madinaty\",\"New Cairo - El Tagamoa\",\"Sheikh Zayed\",\"Sheikh Zayed\",\"Sheikh Zayed\",\"Madinaty\",\"Madinaty\",\"Obour City\",\"6th of October\",\"New Cairo - El Tagamoa\",\"Mostakbal City\",\"New Cairo - El Tagamoa\",\"New Cairo - El Tagamoa\",\"New Cairo - El Tagamoa\",\"New Cairo - El Tagamoa\",\"6th of October\",\"New Cairo - El Tagamoa\",\"New Cairo - El Tagamoa\",\"New Cairo - El Tagamoa\",\"Hadayek 6th of October\",\"New Capital City\",\"New Capital City\",\"New Cairo - El Tagamoa\",\"New Cairo - El Tagamoa\",\"Madinaty\",\"Rehab City\",\"Glim\",\"Rehab City\",\"New Cairo - El Tagamoa\",\"New Cairo - El Tagamoa\",\"Shorouk City\",\"New Cairo - El Tagamoa\",\"Rehab City\",\"Madinaty\",\"Sheikh Zayed\",\"New Mansoura\",\"Madinaty\",\"New Cairo - El Tagamoa\",\"Madinaty\",\"New Cairo - El Tagamoa\",\"6th of October\",\"Madinaty\",\"New Cairo - El Tagamoa\",\"Madinaty\",\"New Heliopolis\",\"Madinaty\",\"Madinaty\",\"6th of October\",\"New Capital City\",\"Obour City\",\"New Cairo - El Tagamoa\",\"New Heliopolis\",\"Madinaty\",\"6th of October\",\"Madinaty\",\"6th of October\",\"New Cairo - El Tagamoa\",\"New Cairo - El Tagamoa\",\"Rehab City\",\"Madinaty\",\"Madinaty\",\"New Cairo - El Tagamoa\",\"Madinaty\",\"New Cairo - El Tagamoa\",\"Madinaty\",\"Mostakbal City\",\"New Cairo - El Tagamoa\",\"Madinaty\",\"Sheikh Zayed\",\"New Cairo - El Tagamoa\",\"Mostakbal City\",\"Mostakbal City\",\"Mostakbal City\",\"Mostakbal City\",\"New Capital City\",\"Mostakbal City\",\"Sheikh Zayed\",\"Sheikh Zayed\",\"New Cairo - El Tagamoa\",\"Madinaty\",\"New Cairo - El Tagamoa\",\"Madinaty\",\"New Cairo - El Tagamoa\",\"New Cairo - El Tagamoa\",\"New Cairo - El Tagamoa\",\"New Cairo - El Tagamoa\",\"New Cairo - El Tagamoa\",\"New Cairo - El Tagamoa\",\"New Cairo - El Tagamoa\",\"Maadi\",\"6th of October\",\"Madinaty\",\"Madinaty\",\"Madinaty\",\"New Capital City\",\"New Cairo - El Tagamoa\",\"Madinaty\",\"New Cairo - El Tagamoa\",\"New Cairo - El Tagamoa\",\"Madinaty\",\"Ras al-Bar\",\"New Capital City\",\"6th of October\",\"New Cairo - El Tagamoa\",\"New Cairo - El Tagamoa\",\"New Capital City\",\"New Cairo - El Tagamoa\",\"New Capital City\",\"Maadi\",\"New Cairo - El Tagamoa\",\"Madinaty\",\"Maadi\",\"Ismailia City\",\"6th of October\",\"New Cairo - El Tagamoa\",\"Maadi\",\"Ismailia City\",\"New Cairo - El Tagamoa\",\"Badr City\",\"Maadi\",\"6th of October\",\"Maadi\",\"Sheikh Zayed\",\"Rehab City\",\"6th of October\",\"6th of October\",\"6th of October\",\"Hadayek 6th of October\",\"6th of October\",\"Hadayek 6th of October\",\"Maadi\",\"Hadayek 6th of October\",\"6th of October\",\"New Cairo - El Tagamoa\",\"Laurent\",\"Shorouk City\",\"New Cairo - El Tagamoa\",\"New Cairo - El Tagamoa\",\"6th of October\",\"6th of October\",\"New Cairo - El Tagamoa\",\"New Capital City\",\"New Capital City\",\"New Capital City\",\"New Cairo - El Tagamoa\",\"Madinaty\",\"Madinaty\",\"6th of October\",\"New Cairo - El Tagamoa\",\"Sheikh Zayed\",\"New Capital City\",\"New Capital City\",\"New Capital City\",\"New Capital City\",\"Madinaty\",\"New Cairo - El Tagamoa\",\"Sheikh Zayed\",\"New Cairo - El Tagamoa\",\"New Cairo - El Tagamoa\",\"New Cairo - El Tagamoa\",\"Dhahria\",\"New Cairo - El Tagamoa\",\"New Cairo - El Tagamoa\",\"Madinaty\",\"Hadayek 6th of October\",\"New Cairo - El Tagamoa\",\"New Cairo - El Tagamoa\",\"New Cairo - El Tagamoa\",\"Maadi\",\"New Cairo - El Tagamoa\",\"New Cairo - El Tagamoa\",\"New Cairo - El Tagamoa\",\"Madinaty\",\"New Capital City\",\"New Cairo - El Tagamoa\",\"New Cairo - El Tagamoa\",\"Rehab City\",\"New Cairo - El Tagamoa\",\"New Cairo - El Tagamoa\",\"New Capital City\",\"Sheikh Zayed\",\"New Cairo - El Tagamoa\",\"New Cairo - El Tagamoa\",\"Madinaty\",\"New Cairo - El Tagamoa\",\"New Cairo - El Tagamoa\",\"Sheikh Zayed\",\"Sheikh Zayed\",\"Madinaty\",\"New Capital City\",\"Madinaty\",\"6th of October\",\"New Cairo - El Tagamoa\",\"New Cairo - El Tagamoa\",\"Madinaty\",\"Madinaty\",\"New Capital City\",\"Sheikh Zayed\",\"Asafra\",\"Mostakbal City\",\"Sheikh Zayed\",\"Madinaty\",\"New Cairo - El Tagamoa\",\"Madinaty\",\"Madinaty\",\"New Cairo - El Tagamoa\",\"New Cairo - El Tagamoa\",\"Madinaty\",\"Madinaty\",\"Madinaty\",\"Madinaty\",\"Zahraa Al Maadi\",\"6th of October\",\"New Cairo - El Tagamoa\",\"6th of October\",\"Madinaty\",\"New Cairo - El Tagamoa\",\"New Cairo - El Tagamoa\",\"Madinaty\",\"Sheikh Zayed\",\"Madinaty\",\"6th of October\",\"Madinaty\",\"New Cairo - El Tagamoa\",\"6th of October\",\"Sheikh Zayed\",\"Madinaty\",\"Almazah\",\"Sheikh Zayed\",\"Sheikh Zayed\",\"Madinaty\",\"Madinaty\",\"Katameya\",\"Katameya\",\"Katameya\",\"Katameya\",\"Katameya\",\"New Cairo - El Tagamoa\",\"New Cairo - El Tagamoa\",\"New Cairo - El Tagamoa\",\"New Cairo - El Tagamoa\",\"New Cairo - El Tagamoa\",\"New Cairo - El Tagamoa\",\"New Cairo - El Tagamoa\",\"New Cairo - El Tagamoa\",\"New Cairo - El Tagamoa\",\"Katameya\",\"Katameya\",\"New Cairo - El Tagamoa\",\"New Cairo - El Tagamoa\",\"New Cairo - El Tagamoa\",\"New Cairo - El Tagamoa\",\"New Cairo - El Tagamoa\",\"New Cairo - El Tagamoa\",\"New Cairo - El Tagamoa\",\"Madinaty\",\"Madinaty\",\"Madinaty\",\"Madinaty\",\"Madinaty\",\"Rehab City\",\"Rehab City\",\"Rehab City\",\"Rehab City\",\"Katameya\",\"Rehab City\",\"Sheikh Zayed\",\"6th of October\",\"Rehab City\",\"Madinaty\",\"Zahraa Al Maadi\",\"Madinaty\",\"Madinaty\",\"Amreya\",\"New Cairo - El Tagamoa\",\"Hadayek al-Ahram\",\"Obour City\",\"New Cairo - El Tagamoa\",\"Madinaty\",\"Almazah\",\"Rehab City\",\"Madinaty\",\"New Capital City\",\"Madinaty\",\"New Cairo - El Tagamoa\",\"Rehab City\",\"Madinaty\",\"Madinaty\",\"New Cairo - El Tagamoa\",\"Madinaty\",\"Cleopatra\",\"Sheikh Zayed\",\"Mostakbal City\",\"Nasr City\",\"Rehab City\",\"Hurghada\",\"Sheikh Zayed\",\"Nasr City\",\"New Capital City\",\"Madinaty\",\"Sheikh Zayed\",\"New Cairo - El Tagamoa\",\"New Cairo - El Tagamoa\",\"Madinaty\",\"New Cairo - El Tagamoa\",\"6th of October\",\"6th of October\",\"Madinaty\",\"Nakheel\",\"Madinaty\",\"New Cairo - El Tagamoa\",\"Katameya\",\"Madinaty\",\"New Cairo - El Tagamoa\",\"New Cairo - El Tagamoa\",\"New Cairo - El Tagamoa\",\"New Cairo - El Tagamoa\",\"New Cairo - El Tagamoa\",\"New Cairo - El Tagamoa\",\"New Cairo - El Tagamoa\",\"New Cairo - El Tagamoa\",\"Rehab City\",\"New Cairo - El Tagamoa\",\"New Cairo - El Tagamoa\",\"Rehab City\",\"Madinaty\",\"Rehab City\",\"New Capital City\",\"New Capital City\",\"New Cairo - El Tagamoa\",\"New Cairo - El Tagamoa\",\"New Cairo - El Tagamoa\",\"New Cairo - El Tagamoa\",\"Madinaty\",\"Madinaty\",\"Sheikh Zayed\",\"New Cairo - El Tagamoa\",\"6th of October\",\"New Cairo - El Tagamoa\",\"New Cairo - El Tagamoa\",\"New Cairo - El Tagamoa\",\"New Cairo - El Tagamoa\",\"Madinaty\",\"New Cairo - El Tagamoa\",\"New Cairo - El Tagamoa\",\"Madinaty\",\"New Cairo - El Tagamoa\",\"Madinaty\",\"Madinaty\",\"New Cairo - El Tagamoa\",\"New Cairo - El Tagamoa\",\"Rehab City\",\"New Cairo - El Tagamoa\",\"Sheikh Zayed\",\"6th of October\",\"Madinaty\",\"6th of October\",\"Sheikh Zayed\",\"Sheikh Zayed\",\"Sheikh Zayed\",\"Sheikh Zayed\",\"New Cairo - El Tagamoa\",\"New Cairo - El Tagamoa\",\"Heliopolis\",\"New Nozha\",\"New Cairo - El Tagamoa\",\"New Cairo - El Tagamoa\",\"New Cairo - El Tagamoa\",\"New Cairo - El Tagamoa\",\"New Cairo - El Tagamoa\",\"New Cairo - El Tagamoa\",\"New Cairo - El Tagamoa\",\"New Cairo - El Tagamoa\",\"New Cairo - El Tagamoa\",\"Madinaty\",\"Madinaty\",\"New Cairo - El Tagamoa\",\"Madinaty\",\"Madinaty\",\"Shorouk City\",\"Madinaty\",\"Shorouk City\",\"New Nozha\",\"New Cairo - El Tagamoa\",\"New Cairo - El Tagamoa\",\"New Cairo - El Tagamoa\",\"Madinaty\",\"Badr City\",\"Madinaty\",\"Madinaty\",\"Madinaty\",\"Sheikh Zayed\",\"Rehab City\",\"Obour City\",\"Nasr City\",\"Madinaty\",\"Hadayek 6th of October\",\"6th of October\",\"Sheikh Zayed\",\"Hadayek 6th of October\",\"Madinaty\",\"Nasr City\",\"Rehab City\",\"New Heliopolis\",\"Madinaty\",\"Madinaty\",\"Madinaty\",\"Madinaty\",\"New Cairo - El Tagamoa\",\"Madinaty\",\"Rehab City\",\"Sheikh Zayed\",\"Madinaty\",\"Madinaty\",\"Madinaty\",\"Zahraa Al Maadi\",\"Shorouk City\",\"Maadi\",\"Sheikh Zayed\",\"New Cairo - El Tagamoa\",\"Mokattam\",\"10th of Ramadan\",\"6th of October\",\"Hadayek 6th of October\",\"6th of October\",\"Sheikh Zayed\",\"Madinaty\",\"Haram\",\"Madinaty\",\"6th of October\",\"Rehab City\",\"Shorouk City\",\"New Cairo - El Tagamoa\",\"New Capital City\",\"New Capital City\",\"New Capital City\",\"New Cairo - El Tagamoa\",\"New Cairo - El Tagamoa\",\"Madinaty\",\"Shorouk City\",\"Madinaty\",\"Madinaty\",\"Hadayek 6th of October\",\"Madinaty\",\"New Cairo - El Tagamoa\",\"New Cairo - El Tagamoa\",\"Rehab City\",\"6th of October\",\"New Cairo - El Tagamoa\",\"New Cairo - El Tagamoa\",\"New Cairo - El Tagamoa\",\"New Cairo - El Tagamoa\",\"Zahraa Al Maadi\",\"Shorouk City\",\"Madinaty\",\"Madinaty\",\"Madinaty\",\"Madinaty\",\"Madinaty\",\"New Capital City\",\"Mostakbal City\",\"Madinaty\",\"New Cairo - El Tagamoa\",\"Nasr City\",\"New Cairo - El Tagamoa\",\"New Cairo - El Tagamoa\",\"Madinaty\",\"Madinaty\",\"Madinaty\",\"Madinaty\",\"6th of October\",\"Hadayek al-Ahram\",\"Madinaty\",\"Hadayek 6th of October\",\"Shorouk City\",\"Rehab City\",\"New Capital City\",\"Rehab City\",\"Mostakbal City\",\"New Cairo - El Tagamoa\",\"New Cairo - El Tagamoa\",\"Zahraa Al Maadi\",\"Madinaty\",\"New Cairo - El Tagamoa\",\"New Cairo - El Tagamoa\",\"Madinaty\",\"New Cairo - El Tagamoa\",\"New Cairo - El Tagamoa\",\"New Cairo - El Tagamoa\",\"New Cairo - El Tagamoa\",\"New Cairo - El Tagamoa\",\"New Cairo - El Tagamoa\",\"New Cairo - El Tagamoa\",\"New Cairo - El Tagamoa\",\"New Cairo - El Tagamoa\",\"Haram\",\"New Cairo - El Tagamoa\",\"New Cairo - El Tagamoa\",\"New Cairo - El Tagamoa\",\"New Cairo - El Tagamoa\",\"Sheikh Zayed\",\"6th of October\",\"Sheikh Zayed\",\"New Cairo - El Tagamoa\",\"Mokattam\",\"6th of October\",\"Azarita\",\"New Cairo - El Tagamoa\",\"New Cairo - El Tagamoa\",\"New Cairo - El Tagamoa\",\"New Cairo - El Tagamoa\",\"New Cairo - El Tagamoa\",\"New Cairo - El Tagamoa\",\"New Cairo - El Tagamoa\",\"New Cairo - El Tagamoa\",\"6th of October\",\"New Cairo - El Tagamoa\",\"New Cairo - El Tagamoa\",\"Mostakbal City\",\"New Cairo - El Tagamoa\",\"New Cairo - El Tagamoa\",\"Madinaty\",\"Madinaty\",\"Maadi\",\"New Cairo - El Tagamoa\",\"Ain Shams\",\"Katameya\",\"6th of October\",\"Nasr City\",\"Madinaty\",\"Madinaty\",\"New Cairo - El Tagamoa\",\"New Cairo - El Tagamoa\",\"Nasr City\",\"New Cairo - El Tagamoa\",\"Madinaty\",\"Madinaty\",\"Sheikh Zayed\",\"Rehab City\",\"6th of October\",\"Sheikh Zayed\",\"Sheikh Zayed\",\"Madinaty\",\"Hadayek al-Ahram\",\"Shorouk City\",\"New Cairo - El Tagamoa\",\"New Cairo - El Tagamoa\",\"Sheikh Zayed\",\"Madinaty\",\"Sheikh Zayed\",\"Maadi\",\"6th of October\",\"Madinaty\",\"6th of October\",\"6th of October\",\"Madinaty\",\"6th of October\",\"Madinaty\",\"Nasr City\",\"Sheikh Zayed\",\"Madinaty\",\"Hadayek 6th of October\",\"Nasr City\",\"6th of October\",\"Sheikh Zayed\",\"6th of October\",\"New Capital City\",\"New Cairo - El Tagamoa\",\"New Cairo - El Tagamoa\",\"6th of October\",\"Smoha\",\"New Capital City\",\"Smoha\",\"New Cairo - El Tagamoa\",\"New Cairo - El Tagamoa\",\"New Cairo - El Tagamoa\",\"Sheraton\",\"New Cairo - El Tagamoa\",\"New Cairo - El Tagamoa\",\"Mostakbal City\",\"Madinaty\",\"New Cairo - El Tagamoa\",\"New Cairo - El Tagamoa\",\"Hadayek 6th of October\",\"Madinaty\",\"Sheikh Zayed\",\"Sheikh Zayed\",\"Hadayek 6th of October\",\"New Cairo - El Tagamoa\",\"Sheikh Zayed\",\"Hadayek 6th of October\",\"6th of October\",\"New Cairo - El Tagamoa\",\"New Cairo - El Tagamoa\",\"New Cairo - El Tagamoa\",\"New Cairo - El Tagamoa\",\"Sheikh Zayed\",\"Madinaty\",\"New Cairo - El Tagamoa\",\"New Capital City\",\"New Cairo - El Tagamoa\",\"New Cairo - El Tagamoa\",\"New Cairo - El Tagamoa\",\"Heliopolis\",\"Rehab City\",\"New Cairo - El Tagamoa\",\"New Cairo - El Tagamoa\",\"Sheikh Zayed\",\"New Cairo - El Tagamoa\",\"New Cairo - El Tagamoa\",\"New Cairo - El Tagamoa\",\"New Cairo - El Tagamoa\",\"New Cairo - El Tagamoa\",\"New Cairo - El Tagamoa\",\"New Cairo - El Tagamoa\",\"New Cairo - El Tagamoa\",\"Mostakbal City\",\"New Cairo - El Tagamoa\",\"Madinaty\",\"New Heliopolis\",\"New Cairo - El Tagamoa\",\"New Cairo - El Tagamoa\",\"New Cairo - El Tagamoa\",\"New Cairo - El Tagamoa\",\"Madinaty\",\"New Cairo - El Tagamoa\",\"6th of October\",\"Rehab City\",\"New Cairo - El Tagamoa\",\"Madinaty\",\"Madinaty\",\"New Cairo - El Tagamoa\",\"6th of October\",\"New Cairo - El Tagamoa\",\"New Cairo - El Tagamoa\",\"6th of October\",\"Madinaty\",\"6th of October\",\"Rehab City\",\"New Cairo - El Tagamoa\",\"New Cairo - El Tagamoa\",\"Sheikh Zayed\",\"Madinaty\",\"Sheikh Zayed\",\"Madinaty\",\"Madinaty\",\"Madinaty\",\"New Cairo - El Tagamoa\",\"Madinaty\",\"New Cairo - El Tagamoa\",\"New Cairo - El Tagamoa\",\"New Cairo - El Tagamoa\",\"Rehab City\",\"Smoha\",\"Madinaty\",\"New Cairo - El Tagamoa\",\"Rehab City\",\"New Cairo - El Tagamoa\",\"New Cairo - El Tagamoa\",\"Madinaty\",\"New Cairo - El Tagamoa\",\"6th of October\",\"New Cairo - El Tagamoa\",\"New Mansoura\",\"New Cairo - El Tagamoa\",\"Mandara\",\"Glim\",\"Camp Caesar\",\"Smoha\",\"New Mansoura\",\"Madinaty\",\"Obour City\",\"Sheikh Zayed\",\"Sheikh Zayed\",\"New Cairo - El Tagamoa\",\"6th of October\",\"New Cairo - El Tagamoa\",\"Sheikh Zayed\",\"Madinaty\",\"Madinaty\",\"Madinaty\",\"Madinaty\",\"Madinaty\",\"Madinaty\",\"Madinaty\",\"Madinaty\",\"Ismailia City\",\"Madinaty\",\"Madinaty\",\"Rehab City\",\"Rehab City\",\"Rehab City\",\"Madinaty\",\"Madinaty\",\"Madinaty\",\"Rehab City\",\"New Cairo - El Tagamoa\",\"Madinaty\",\"Zahraa Al Maadi\",\"Madinaty\",\"Boulaq\",\"Madinaty\",\"New Cairo - El Tagamoa\",\"Madinaty\",\"New Cairo - El Tagamoa\",\"Rehab City\",\"Madinaty\",\"Rehab City\",\"Rehab City\",\"Rehab City\",\"6th of October\",\"Sheikh Zayed\",\"New Cairo - El Tagamoa\",\"New Cairo - El Tagamoa\",\"New Cairo - El Tagamoa\",\"New Mansoura\",\"Madinaty\",\"Madinaty\",\"New Cairo - El Tagamoa\",\"Madinaty\",\"Laurent\",\"Madinaty\",\"Madinaty\",\"Madinaty\",\"New Cairo - El Tagamoa\",\"Rehab City\",\"Madinaty\",\"New Cairo - El Tagamoa\",\"New Cairo - El Tagamoa\",\"Mostakbal City\",\"Madinaty\",\"Heliopolis\",\"Madinaty\",\"Rehab City\",\"New Cairo - El Tagamoa\",\"Madinaty\",\"Madinaty\",\"New Cairo - El Tagamoa\",\"Madinaty\",\"Shorouk City\",\"New Capital City\",\"Shorouk City\",\"Madinaty\",\"New Cairo - El Tagamoa\",\"New Cairo - El Tagamoa\",\"New Cairo - El Tagamoa\",\"Madinaty\",\"New Cairo - El Tagamoa\",\"6th of October\",\"Madinaty\",\"6th of October\",\"Rehab City\",\"6th of October\",\"New Cairo - El Tagamoa\",\"New Cairo - El Tagamoa\",\"Hadayek 6th of October\",\"Madinaty\",\"6th of October\",\"Heliopolis\",\"Shorouk City\",\"Sheikh Zayed\",\"Sheikh Zayed\",\"Haram\",\"New Cairo - El Tagamoa\",\"New Cairo - El Tagamoa\",\"Rehab City\",\"Hadayek 6th of October\",\"New Cairo - El Tagamoa\",\"Mokattam\",\"Rehab City\",\"New Cairo - El Tagamoa\",\"Madinaty\",\"Mokattam\",\"New Cairo - El Tagamoa\",\"Hadayek 6th of October\",\"New Cairo - El Tagamoa\",\"New Capital City\",\"6th of October\",\"Madinaty\",\"New Cairo - El Tagamoa\",\"Madinaty\",\"New Capital City\",\"New Cairo - El Tagamoa\",\"Hadayek 6th of October\",\"Zamalek\",\"New Cairo - El Tagamoa\",\"New Cairo - El Tagamoa\",\"Sheikh Zayed\",\"Madinaty\",\"Obour City\",\"New Cairo - El Tagamoa\",\"Moharam Bik\",\"New Cairo - El Tagamoa\",\"Madinaty\",\"New Capital City\",\"New Cairo - El Tagamoa\",\"New Cairo - El Tagamoa\",\"New Cairo - El Tagamoa\",\"6th of October\",\"New Capital City\",\"Hadayek 6th of October\",\"Rehab City\",\"Madinaty\",\"Rehab City\",\"Sheikh Zayed\",\"Haram\",\"Sheikh Zayed\",\"Nasr City\",\"Hadayek 6th of October\",\"Rehab City\",\"Sheikh Zayed\",\"6th of October\",\"Rehab City\",\"Shorouk City\",\"Madinaty\",\"Obour City\",\"6th of October\",\"New Cairo - El Tagamoa\",\"6th of October\",\"New Cairo - El Tagamoa\",\"New Capital City\",\"New Cairo - El Tagamoa\",\"New Cairo - El Tagamoa\",\"New Cairo - El Tagamoa\",\"New Cairo - El Tagamoa\",\"6th of October\",\"New Cairo - El Tagamoa\",\"New Cairo - El Tagamoa\",\"Sheraton\",\"New Cairo - El Tagamoa\",\"Shorouk City\",\"Nasr City\",\"Shorouk City\",\"6th of October\",\"New Cairo - El Tagamoa\",\"Obour City\",\"6th of October\",\"Sheikh Zayed\",\"Rehab City\",\"6th of October\",\"Madinaty\",\"6th of October\",\"Shorouk City\",\"Sheikh Zayed\",\"New Cairo - El Tagamoa\",\"New Cairo - El Tagamoa\",\"Sheikh Zayed\",\"Madinaty\",\"Madinaty\",\"Madinaty\",\"6th of October\",\"Sheikh Zayed\",\"New Cairo - El Tagamoa\",\"New Cairo - El Tagamoa\",\"Rehab City\",\"Sidi Gaber\",\"New Cairo - El Tagamoa\",\"Shorouk City\",\"Madinaty\",\"New Cairo - El Tagamoa\",\"New Cairo - El Tagamoa\",\"New Cairo - El Tagamoa\",\"Madinaty\",\"New Cairo - El Tagamoa\",\"New Cairo - El Tagamoa\",\"New Capital City\",\"New Nozha\",\"New Cairo - El Tagamoa\",\"New Cairo - El Tagamoa\",\"Obour City\",\"Rehab City\",\"Sheikh Zayed\",\"6th of October\",\"New Cairo - El Tagamoa\",\"New Cairo - El Tagamoa\",\"New Cairo - El Tagamoa\",\"Madinaty\",\"Madinaty\",\"Sheikh Zayed\",\"New Cairo - El Tagamoa\",\"New Cairo - El Tagamoa\",\"Shorouk City\",\"Heliopolis\",\"New Cairo - El Tagamoa\",\"Madinaty\",\"Madinaty\",\"New Cairo - El Tagamoa\",\"Madinaty\",\"North Coast\",\"New Cairo - El Tagamoa\",\"Badr City\",\"Shorouk City\",\"Shorouk City\",\"New Capital City\",\"Madinaty\",\"6th of October\",\"Rehab City\",\"New Cairo - El Tagamoa\",\"New Cairo - El Tagamoa\",\"6th of October\",\"New Capital City\",\"Madinaty\",\"Hadayek 6th of October\",\"Madinaty\",\"New Cairo - El Tagamoa\",\"New Cairo - El Tagamoa\",\"Madinaty\",\"Madinaty\",\"6th of October\",\"New Cairo - El Tagamoa\",\"New Beni Suef\",\"New Cairo - El Tagamoa\",\"New Capital City\",\"6th of October\",\"New Cairo - El Tagamoa\",\"New Capital City\",\"New Cairo - El Tagamoa\",\"New Cairo - El Tagamoa\",\"Madinaty\",\"New Cairo - El Tagamoa\",\"Rehab City\",\"Nasr City\",\"New Cairo - El Tagamoa\",\"New Cairo - El Tagamoa\",\"New Cairo - El Tagamoa\",\"New Capital City\",\"New Cairo - El Tagamoa\",\"New Cairo - El Tagamoa\",\"New Cairo - El Tagamoa\",\"New Capital City\",\"New Cairo - El Tagamoa\",\"New Capital City\",\"New Capital City\",\"Rehab City\",\"Rehab City\",\"Rehab City\",\"6th of October\",\"Rehab City\",\"New Cairo - El Tagamoa\",\"New Cairo - El Tagamoa\",\"New Capital City\",\"6th of October\",\"Hadayek 6th of October\",\"New Cairo - El Tagamoa\",\"New Cairo - El Tagamoa\",\"Mokattam\",\"New Cairo - El Tagamoa\",\"New Cairo - El Tagamoa\",\"New Cairo - El Tagamoa\",\"Shorouk City\",\"Hadayek al-Ahram\",\"New Cairo - El Tagamoa\",\"6th of October\",\"Shorouk City\",\"New Cairo - El Tagamoa\",\"6th of October\",\"New Cairo - El Tagamoa\",\"New Cairo - El Tagamoa\",\"New Cairo - El Tagamoa\",\"New Cairo - El Tagamoa\",\"New Cairo - El Tagamoa\",\"Madinaty\",\"New Capital City\",\"New Cairo - El Tagamoa\",\"New Cairo - El Tagamoa\",\"New Cairo - El Tagamoa\",\"Mostakbal City\",\"New Cairo - El Tagamoa\",\"Madinaty\",\"Sheikh Zayed\",\"6th of October\",\"New Cairo - El Tagamoa\",\"Rehab City\",\"New Cairo - El Tagamoa\",\"New Cairo - El Tagamoa\",\"6th of October\",\"Mostakbal City\",\"Miami\",\"6th of October\",\"Sheikh Zayed\",\"New Capital City\",\"Sheikh Zayed\",\"Sheikh Zayed\",\"6th of October\",\"New Cairo - El Tagamoa\",\"New Cairo - El Tagamoa\",\"Madinaty\",\"New Capital City\",\"Sheikh Zayed\",\"New Cairo - El Tagamoa\",\"Sheikh Zayed\",\"6th of October\",\"Sheikh Zayed\",\"Sheikh Zayed\",\"New Cairo - El Tagamoa\",\"6th of October\",\"Sheikh Zayed\",\"New Cairo - El Tagamoa\",\"6th of October\",\"New Cairo - El Tagamoa\",\"New Cairo - El Tagamoa\",\"Sheikh Zayed\",\"New Cairo - El Tagamoa\",\"New Cairo - El Tagamoa\",\"New Cairo - El Tagamoa\",\"New Cairo - El Tagamoa\",\"New Cairo - El Tagamoa\",\"New Cairo - El Tagamoa\",\"New Cairo - El Tagamoa\",\"New Cairo - El Tagamoa\",\"New Cairo - El Tagamoa\",\"New Cairo - El Tagamoa\",\"New Cairo - El Tagamoa\",\"Madinaty\",\"New Cairo - El Tagamoa\",\"New Cairo - El Tagamoa\",\"New Cairo - El Tagamoa\",\"Shorouk City\",\"Sheikh Zayed\",\"6th of October\",\"New Cairo - El Tagamoa\",\"Nasr City\",\"New Cairo - El Tagamoa\",\"Shorouk City\",\"New Cairo - El Tagamoa\",\"Sheikh Zayed\",\"Shorouk City\",\"Madinaty\",\"New Cairo - El Tagamoa\",\"New Cairo - El Tagamoa\",\"New Cairo - El Tagamoa\",\"Sheraton\",\"Madinaty\",\"New Cairo - El Tagamoa\",\"Madinaty\",\"New Cairo - El Tagamoa\",\"New Cairo - El Tagamoa\",\"New Cairo - El Tagamoa\",\"New Cairo - El Tagamoa\",\"New Cairo - El Tagamoa\",\"6th of October\",\"New Cairo - El Tagamoa\",\"New Cairo - El Tagamoa\",\"New Cairo - El Tagamoa\",\"Rehab City\",\"Madinaty\",\"6th of October\",\"New Cairo - El Tagamoa\",\"New Cairo - El Tagamoa\",\"New Cairo - El Tagamoa\",\"Shorouk City\",\"Rehab City\",\"Hadayek 6th of October\",\"Madinaty\",\"6th of October\",\"Madinaty\",\"New Cairo - El Tagamoa\",\"New Cairo - El Tagamoa\",\"Sheikh Zayed\",\"Rehab City\",\"Maadi\",\"6th of October\",\"New Cairo - El Tagamoa\",\"New Cairo - El Tagamoa\",\"New Cairo - El Tagamoa\",\"6th of October\",\"6th of October\",\"New Cairo - El Tagamoa\",\"Shorouk City\",\"Madinaty\",\"6th of October\",\"New Cairo - El Tagamoa\",\"New Capital City\",\"6th of October\",\"Madinaty\",\"6th of October\",\"Shorouk City\",\"6th of October\",\"Rehab City\",\"New Cairo - El Tagamoa\",\"Sheikh Zayed\",\"Madinaty\",\"Rehab City\",\"Sheikh Zayed\",\"New Cairo - El Tagamoa\",\"Madinaty\",\"New Cairo - El Tagamoa\",\"New Cairo - El Tagamoa\",\"Madinaty\",\"Madinaty\",\"Maadi\",\"Obour City\",\"Madinaty\",\"New Capital City\",\"New Cairo - El Tagamoa\",\"Shorouk City\",\"Shorouk City\",\"Sheikh Zayed\",\"Rehab City\",\"New Cairo - El Tagamoa\",\"New Cairo - El Tagamoa\",\"Madinaty\",\"Sheikh Zayed\",\"New Cairo - El Tagamoa\",\"Madinaty\",\"Madinaty\",\"Nasr City\",\"Madinaty\",\"6th of October\",\"Sheikh Zayed\",\"Shorouk City\",\"New Cairo - El Tagamoa\",\"Sheikh Zayed\",\"New Cairo - El Tagamoa\",\"New Cairo - El Tagamoa\",\"Madinaty\",\"Madinaty\",\"Heliopolis\",\"Mostakbal City\",\"New Cairo - El Tagamoa\",\"New Cairo - El Tagamoa\",\"Sheraton\",\"Sheikh Zayed\",\"Sheikh Zayed\",\"New Cairo - El Tagamoa\",\"New Cairo - El Tagamoa\",\"New Nozha\",\"New Cairo - El Tagamoa\",\"Madinaty\",\"New Nozha\",\"New Cairo - El Tagamoa\",\"New Cairo - El Tagamoa\",\"6th of October\",\"Nasr City\",\"New Cairo - El Tagamoa\",\"New Cairo - El Tagamoa\",\"New Capital City\",\"Madinaty\",\"6th of October\",\"Nasr City\",\"New Cairo - El Tagamoa\",\"New Cairo - El Tagamoa\",\"New Cairo - El Tagamoa\",\"New Cairo - El Tagamoa\",\"Bahray - Anfoshy\",\"New Capital City\",\"New Cairo - El Tagamoa\",\"New Cairo - El Tagamoa\",\"Nasr City\",\"Sheikh Zayed\",\"New Cairo - El Tagamoa\",\"Madinaty\",\"Madinaty\",\"New Cairo - El Tagamoa\",\"New Cairo - El Tagamoa\",\"New Cairo - El Tagamoa\",\"Sheikh Zayed\",\"Sheikh Zayed\",\"Madinaty\",\"New Cairo - El Tagamoa\",\"Madinaty\",\"New Cairo - El Tagamoa\",\"Madinaty\",\"New Cairo - El Tagamoa\",\"New Cairo - El Tagamoa\",\"Sheikh Zayed\",\"Sheikh Zayed\",\"New Cairo - El Tagamoa\",\"New Capital City\",\"Mostakbal City\",\"Maadi\",\"Nasr City\",\"Madinaty\",\"Glim\",\"Madinaty\",\"Sheikh Zayed\",\"New Cairo - El Tagamoa\",\"Madinaty\",\"Madinaty\",\"Mokattam\",\"6th of October\",\"Sheikh Zayed\",\"Sheikh Zayed\",\"New Cairo - El Tagamoa\",\"New Cairo - El Tagamoa\",\"Madinaty\",\"New Cairo - El Tagamoa\",\"New Cairo - El Tagamoa\",\"New Cairo - El Tagamoa\",\"New Cairo - El Tagamoa\",\"6th of October\",\"Madinaty\",\"Madinaty\",\"Madinaty\",\"Sheikh Zayed\",\"New Cairo - El Tagamoa\",\"New Cairo - El Tagamoa\",\"Madinaty\",\"Madinaty\",\"New Cairo - El Tagamoa\",\"New Cairo - El Tagamoa\",\"New Cairo - El Tagamoa\",\"Mokattam\",\"Shorouk City\",\"New Cairo - El Tagamoa\",\"Madinaty\",\"Madinaty\",\"Obour City\",\"New Cairo - El Tagamoa\",\"Madinaty\",\"Mokattam\",\"New Cairo - El Tagamoa\",\"Rehab City\",\"Zahraa Al Maadi\",\"Zahraa Al Maadi\",\"New Cairo - El Tagamoa\",\"Zahraa Al Maadi\",\"Mokattam\",\"Mokattam\",\"Rehab City\",\"Rehab City\",\"Rehab City\",\"New Cairo - El Tagamoa\",\"Sheikh Zayed\",\"Sheikh Zayed\",\"Sheikh Zayed\",\"New Cairo - El Tagamoa\",\"Madinaty\",\"6th of October\",\"New Cairo - El Tagamoa\",\"Madinaty\",\"New Cairo - El Tagamoa\",\"6th of October\",\"New Cairo - El Tagamoa\",\"New Cairo - El Tagamoa\",\"New Cairo - El Tagamoa\",\"New Cairo - El Tagamoa\",\"Madinaty\",\"New Cairo - El Tagamoa\",\"New Cairo - El Tagamoa\",\"New Cairo - El Tagamoa\",\"New Cairo - El Tagamoa\",\"New Cairo - El Tagamoa\",\"New Cairo - El Tagamoa\",\"Madinaty\",\"Sheikh Zayed\",\"New Cairo - El Tagamoa\",\"6th of October\",\"Madinaty\",\"Maadi\",\"Zahraa Al Maadi\",\"Zahraa Al Maadi\",\"New Cairo - El Tagamoa\",\"Zahraa Al Maadi\",\"Mokattam\",\"Mokattam\",\"New Cairo - El Tagamoa\",\"Madinaty\",\"Mokattam\",\"Madinaty\",\"Rehab City\",\"New Cairo - El Tagamoa\",\"Madinaty\",\"New Cairo - El Tagamoa\",\"6th of October\",\"New Cairo - El Tagamoa\",\"Sheikh Zayed\",\"Madinaty\",\"Sheikh Zayed\",\"6th of October\",\"New Cairo - El Tagamoa\",\"New Cairo - El Tagamoa\",\"6th of October\",\"New Cairo - El Tagamoa\",\"Zamalek\",\"New Cairo - El Tagamoa\",\"Heliopolis\",\"6th of October\",\"Madinaty\",\"New Cairo - El Tagamoa\",\"New Cairo - El Tagamoa\",\"New Cairo - El Tagamoa\",\"New Cairo - El Tagamoa\",\"Heliopolis\",\"Mokattam\",\"New Cairo - El Tagamoa\",\"New Cairo - El Tagamoa\",\"Madinaty\",\"Rehab City\",\"New Cairo - El Tagamoa\",\"Mohandessin\",\"New Cairo - El Tagamoa\",\"New Cairo - El Tagamoa\",\"New Cairo - El Tagamoa\",\"New Cairo - El Tagamoa\",\"Madinaty\",\"Asafra\",\"New Cairo - El Tagamoa\",\"Sheraton\",\"Madinaty\",\"Madinaty\",\"Madinaty\",\"Hadayek 6th of October\",\"Madinaty\",\"Madinaty\",\"New Cairo - El Tagamoa\",\"6th of October\",\"New Cairo - El Tagamoa\",\"Sheikh Zayed\",\"Madinaty\",\"Sheikh Zayed\",\"New Cairo - El Tagamoa\",\"6th of October\",\"New Cairo - El Tagamoa\",\"Madinaty\",\"6th of October\",\"Rehab City\",\"Madinaty\",\"New Cairo - El Tagamoa\",\"Madinaty\",\"6th of October\",\"New Cairo - El Tagamoa\",\"Madinaty\",\"Sheikh Zayed\",\"New Cairo - El Tagamoa\",\"6th of October\",\"Rehab City\",\"6th of October\",\"Madinaty\",\"Sheikh Zayed\",\"Sheikh Zayed\",\"Madinaty\",\"Nakheel\",\"Sheikh Zayed\",\"Sheikh Zayed\",\"New Cairo - El Tagamoa\",\"New Cairo - El Tagamoa\",\"New Cairo - El Tagamoa\",\"New Cairo - El Tagamoa\",\"New Cairo - El Tagamoa\",\"New Capital City\",\"Sheikh Zayed\",\"Madinaty\",\"Madinaty\",\"Madinaty\",\"New Cairo - El Tagamoa\",\"Madinaty\",\"Madinaty\",\"Madinaty\",\"Madinaty\",\"Madinaty\",\"Madinaty\",\"Madinaty\",\"Madinaty\",\"Madinaty\",\"New Cairo - El Tagamoa\",\"Nakheel\",\"Garden City\",\"New Cairo - El Tagamoa\",\"Salam City\",\"Madinaty\",\"New Cairo - El Tagamoa\",\"New Cairo - El Tagamoa\",\"New Cairo - El Tagamoa\",\"New Cairo - El Tagamoa\",\"Sheikh Zayed\",\"Madinaty\",\"Madinaty\",\"Zahraa Al Maadi\",\"Madinaty\",\"Shorouk City\",\"New Capital City\",\"New Cairo - El Tagamoa\",\"New Cairo - El Tagamoa\",\"New Cairo - El Tagamoa\",\"New Cairo - El Tagamoa\",\"New Cairo - El Tagamoa\",\"New Cairo - El Tagamoa\",\"Madinaty\",\"Sheikh Zayed\",\"6th of October\",\"New Cairo - El Tagamoa\",\"New Cairo - El Tagamoa\",\"New Cairo - El Tagamoa\",\"New Damietta\",\"New Capital City\",\"New Cairo - El Tagamoa\",\"Sheikh Zayed\",\"New Cairo - El Tagamoa\",\"New Cairo - El Tagamoa\",\"New Cairo - El Tagamoa\",\"New Cairo - El Tagamoa\",\"New Cairo - El Tagamoa\",\"Tanta\",\"Nasr City\",\"New Cairo - El Tagamoa\",\"Nasr City\",\"Seyouf\",\"New Cairo - El Tagamoa\",\"New Capital City\",\"6th of October\",\"New Cairo - El Tagamoa\",\"Sheikh Zayed\",\"Madinaty\",\"Mostakbal City\",\"New Capital City\",\"Madinaty\",\"Rehab City\",\"Madinaty\",\"Sheikh Zayed\",\"Sheikh Zayed\",\"Sheikh Zayed\",\"Sheikh Zayed\",\"Madinaty\",\"New Cairo - El Tagamoa\",\"Madinaty\",\"Madinaty\",\"New Cairo - El Tagamoa\",\"New Cairo - El Tagamoa\",\"New Cairo - El Tagamoa\",\"Sheikh Zayed\",\"New Cairo - El Tagamoa\",\"New Cairo - El Tagamoa\",\"Sheikh Zayed\",\"New Cairo - El Tagamoa\",\"6th of October\",\"6th of October\",\"Madinaty\",\"Madinaty\",\"Madinaty\",\"New Cairo - El Tagamoa\",\"New Cairo - El Tagamoa\",\"Madinaty\",\"New Cairo - El Tagamoa\",\"Shorouk City\",\"Madinaty\",\"Madinaty\",\"Sheikh Zayed\",\"New Cairo - El Tagamoa\",\"New Cairo - El Tagamoa\",\"Sheikh Zayed\",\"Shorouk City\",\"6th of October\",\"Sheikh Zayed\",\"New Cairo - El Tagamoa\",\"New Capital City\",\"Rehab City\",\"Madinaty\",\"Madinaty\",\"New Cairo - El Tagamoa\",\"Madinaty\",\"Sheikh Zayed\",\"New Capital City\",\"New Cairo - El Tagamoa\",\"New Cairo - El Tagamoa\",\"New Cairo - El Tagamoa\",\"New Cairo - El Tagamoa\",\"Sheikh Zayed\",\"Mokattam\",\"Mokattam\",\"Mokattam\",\"Mokattam\",\"Mokattam\",\"Mokattam\",\"Mokattam\",\"Mokattam\",\"Mokattam\",\"Mokattam\",\"Mokattam\",\"Mokattam\",\"Mokattam\",\"Mokattam\",\"Mokattam\",\"Sheikh Zayed\",\"New Cairo - El Tagamoa\",\"Madinaty\",\"Rehab City\",\"6th of October\",\"Sheikh Zayed\",\"New Cairo - El Tagamoa\",\"Madinaty\",\"6th of October\",\"Madinaty\",\"New Capital City\",\"Mostakbal City\",\"New Cairo - El Tagamoa\",\"New Cairo - El Tagamoa\",\"Madinaty\",\"New Cairo - El Tagamoa\",\"Madinaty\",\"Madinaty\",\"Nakheel\",\"Madinaty\",\"New Cairo - El Tagamoa\",\"Madinaty\",\"Madinaty\",\"New Cairo - El Tagamoa\",\"6th of October\",\"Madinaty\",\"Madinaty\",\"Madinaty\",\"Madinaty\",\"New Cairo - El Tagamoa\",\"New Cairo - El Tagamoa\",\"New Cairo - El Tagamoa\",\"New Cairo - El Tagamoa\",\"New Cairo - El Tagamoa\",\"New Cairo - El Tagamoa\",\"New Cairo - El Tagamoa\",\"New Cairo - El Tagamoa\",\"New Cairo - El Tagamoa\",\"Sheikh Zayed\",\"Madinaty\",\"Madinaty\",\"Madinaty\",\"Madinaty\",\"Madinaty\",\"Madinaty\",\"New Cairo - El Tagamoa\",\"New Capital City\",\"New Cairo - El Tagamoa\",\"New Cairo - El Tagamoa\",\"New Cairo - El Tagamoa\",\"New Cairo - El Tagamoa\",\"Madinaty\",\"Madinaty\",\"New Cairo - El Tagamoa\",\"6th of October\",\"New Cairo - El Tagamoa\",\"Madinaty\",\"6th of October\",\"New Cairo - El Tagamoa\",\"Madinaty\",\"Madinaty\",\"Madinaty\",\"New Cairo - El Tagamoa\",\"New Cairo - El Tagamoa\",\"New Cairo - El Tagamoa\",\"Sheikh Zayed\",\"New Cairo - El Tagamoa\",\"New Cairo - El Tagamoa\",\"Madinaty\",\"New Cairo - El Tagamoa\",\"6th of October\",\"New Cairo - El Tagamoa\",\"Sheikh Zayed\",\"New Cairo - El Tagamoa\",\"New Cairo - El Tagamoa\",\"Rehab City\",\"Madinaty\",\"Madinaty\",\"Katameya\",\"New Cairo - El Tagamoa\",\"New Cairo - El Tagamoa\",\"6th of October\",\"Madinaty\",\"Hadayek 6th of October\",\"Madinaty\",\"New Cairo - El Tagamoa\",\"6th of October\",\"Rehab City\",\"New Cairo - El Tagamoa\",\"New Cairo - El Tagamoa\",\"Madinaty\",\"New Cairo - El Tagamoa\",\"Mokattam\",\"Mokattam\",\"Madinaty\",\"New Cairo - El Tagamoa\",\"6th of October\",\"New Capital City\",\"New Capital City\",\"Madinaty\",\"Madinaty\",\"New Cairo - El Tagamoa\",\"Madinaty\",\"6th of October\",\"New Cairo - El Tagamoa\",\"New Cairo - El Tagamoa\",\"New Damietta\",\"Madinaty\",\"Alamein\",\"6th of October\",\"Rehab City\",\"Mokattam\",\"Mokattam\",\"Nasr City\",\"Mokattam\",\"6th of October\",\"Mokattam\",\"New Cairo - El Tagamoa\",\"Mokattam\",\"Rehab City\",\"Mokattam\",\"New Cairo - El Tagamoa\",\"New Cairo - El Tagamoa\",\"New Cairo - El Tagamoa\",\"New Cairo - El Tagamoa\",\"New Cairo - El Tagamoa\",\"New Cairo - El Tagamoa\",\"Madinaty\",\"New Capital City\",\"Sheikh Zayed\",\"6th of October\",\"Sheikh Zayed\",\"New Cairo - El Tagamoa\",\"Nasr City\",\"Madinaty\",\"Madinaty\",\"New Capital City\",\"New Cairo - El Tagamoa\",\"New Cairo - El Tagamoa\",\"Madinaty\",\"Mansura\",\"Sheikh Zayed\",\"Madinaty\",\"New Capital City\",\"Sheikh Zayed\",\"New Cairo - El Tagamoa\",\"New Cairo - El Tagamoa\",\"New Cairo - El Tagamoa\",\"New Cairo - El Tagamoa\",\"New Cairo - El Tagamoa\",\"Sheikh Zayed\",\"New Cairo - El Tagamoa\",\"New Cairo - El Tagamoa\",\"New Cairo - El Tagamoa\",\"Shorouk City\",\"New Cairo - El Tagamoa\",\"New Cairo - El Tagamoa\",\"New Cairo - El Tagamoa\",\"Mokattam\",\"New Cairo - El Tagamoa\",\"New Cairo - El Tagamoa\",\"New Cairo - El Tagamoa\",\"New Capital City\",\"Mokattam\",\"New Cairo - El Tagamoa\",\"Mokattam\",\"New Cairo - El Tagamoa\",\"New Cairo - El Tagamoa\",\"Mokattam\",\"Mokattam\",\"New Cairo - El Tagamoa\",\"New Cairo - El Tagamoa\",\"New Cairo - El Tagamoa\",\"New Cairo - El Tagamoa\",\"New Cairo - El Tagamoa\",\"New Cairo - El Tagamoa\",\"Rehab City\",\"New Cairo - El Tagamoa\",\"New Cairo - El Tagamoa\",\"New Cairo - El Tagamoa\",\"New Cairo - El Tagamoa\",\"New Cairo - El Tagamoa\",\"New Cairo - El Tagamoa\",\"New Cairo - El Tagamoa\",\"Sheikh Zayed\",\"Shorouk City\",\"Shorouk City\",\"New Cairo - El Tagamoa\",\"Madinaty\",\"New Cairo - El Tagamoa\",\"New Cairo - El Tagamoa\",\"Mohandessin\",\"Shorouk City\",\"Madinaty\",\"New Cairo - El Tagamoa\",\"Madinaty\",\"New Cairo - El Tagamoa\",\"New Cairo - El Tagamoa\",\"Madinaty\",\"New Cairo - El Tagamoa\",\"New Cairo - El Tagamoa\",\"Sheikh Zayed\",\"Smoha\",\"Madinaty\",\"New Cairo - El Tagamoa\",\"New Cairo - El Tagamoa\",\"Rehab City\",\"Sheikh Zayed\",\"Sheikh Zayed\",\"6th of October\",\"Madinaty\",\"Madinaty\",\"New Cairo - El Tagamoa\",\"Madinaty\",\"New Cairo - El Tagamoa\",\"New Cairo - El Tagamoa\",\"Sheikh Zayed\",\"Sheikh Zayed\",\"New Cairo - El Tagamoa\",\"Madinaty\",\"Madinaty\",\"New Capital City\",\"New Cairo - El Tagamoa\",\"New Cairo - El Tagamoa\",\"New Cairo - El Tagamoa\",\"New Cairo - El Tagamoa\",\"Warraq\",\"New Cairo - El Tagamoa\",\"Sheikh Zayed\",\"6th of October\",\"New Cairo - El Tagamoa\",\"New Cairo - El Tagamoa\",\"Sheikh Zayed\",\"New Cairo - El Tagamoa\",\"New Cairo - El Tagamoa\",\"Mostakbal City\",\"Madinaty\",\"New Cairo - El Tagamoa\",\"Madinaty\",\"6th of October\",\"Obour City\",\"Sheikh Zayed\",\"New Cairo - El Tagamoa\",\"New Cairo - El Tagamoa\",\"Almazah\",\"Sheikh Zayed\",\"New Cairo - El Tagamoa\",\"Sheikh Zayed\",\"6th of October\",\"New Cairo - El Tagamoa\",\"Sheikh Zayed\",\"New Cairo - El Tagamoa\",\"Madinaty\",\"New Cairo - El Tagamoa\",\"Rehab City\",\"New Cairo - El Tagamoa\",\"Sheikh Zayed\",\"Sheikh Zayed\",\"New Cairo - El Tagamoa\",\"New Capital City\",\"Maadi\",\"New Cairo - El Tagamoa\",\"Madinaty\",\"New Cairo - El Tagamoa\",\"New Cairo - El Tagamoa\",\"New Cairo - El Tagamoa\",\"6th of October\",\"6th of October\",\"Smoha\",\"New Cairo - El Tagamoa\",\"New Cairo - El Tagamoa\",\"New Cairo - El Tagamoa\",\"New Cairo - El Tagamoa\",\"Hadayek 6th of October\",\"New Cairo - El Tagamoa\",\"Madinaty\",\"New Cairo - El Tagamoa\",\"Madinaty\",\"Madinaty\",\"Obour City\",\"New Cairo - El Tagamoa\",\"Madinaty\",\"Madinaty\",\"Rehab City\",\"New Cairo - El Tagamoa\",\"Sheikh Zayed\",\"New Cairo - El Tagamoa\",\"New Cairo - El Tagamoa\",\"Madinaty\",\"New Cairo - El Tagamoa\",\"New Cairo - El Tagamoa\",\"6th of October\",\"Zahraa Al Maadi\",\"Madinaty\",\"New Cairo - El Tagamoa\",\"New Cairo - El Tagamoa\",\"Madinaty\",\"New Cairo - El Tagamoa\",\"New Cairo - El Tagamoa\",\"New Cairo - El Tagamoa\",\"New Cairo - El Tagamoa\",\"Hadayek 6th of October\",\"New Cairo - El Tagamoa\",\"New Cairo - El Tagamoa\",\"6th of October\",\"New Cairo - El Tagamoa\",\"6th of October\",\"6th of October\",\"Madinaty\",\"Mokattam\",\"New Cairo - El Tagamoa\",\"6th of October\",\"New Cairo - El Tagamoa\",\"New Cairo - El Tagamoa\",\"Helmeyat El Zaytoun\",\"New Cairo - El Tagamoa\",\"Zahraa Al Maadi\",\"New Cairo - El Tagamoa\",\"New Cairo - El Tagamoa\",\"Madinaty\",\"Sheikh Zayed\",\"Maadi\",\"New Cairo - El Tagamoa\",\"New Cairo - El Tagamoa\",\"New Cairo - El Tagamoa\",\"Hadayek 6th of October\",\"Sheikh Zayed\",\"New Cairo - El Tagamoa\",\"New Cairo - El Tagamoa\",\"Sheikh Zayed\",\"Madinaty\",\"New Cairo - El Tagamoa\",\"6th of October\",\"New Cairo - El Tagamoa\",\"Madinaty\",\"Katameya\",\"Gouna\",\"6th of October\",\"6th of October\",\"Madinaty\",\"New Cairo - El Tagamoa\",\"Obour City\",\"Mostakbal City\",\"6th of October\",\"New Cairo - El Tagamoa\",\"6th of October\",\"Rehab City\",\"Shorouk City\",\"Madinaty\",\"Maadi\",\"Rehab City\",\"New Cairo - El Tagamoa\",\"Madinaty\",\"Sheikh Zayed\",\"New Cairo - El Tagamoa\",\"Madinaty\",\"New Cairo - El Tagamoa\",\"Shorouk City\",\"6th of October\",\"New Cairo - El Tagamoa\",\"New Cairo - El Tagamoa\",\"New Cairo - El Tagamoa\",\"Madinaty\",\"New Capital City\",\"New Cairo - El Tagamoa\",\"Obour City\",\"Madinaty\",\"Hadayek 6th of October\",\"New Cairo - El Tagamoa\",\"Madinaty\",\"Madinaty\",\"New Cairo - El Tagamoa\",\"Madinaty\",\"Maadi\",\"Sheikh Zayed\",\"Sheikh Zayed\",\"Hadayek 6th of October\",\"New Cairo - El Tagamoa\",\"New Cairo - El Tagamoa\",\"6th of October\",\"New Cairo - El Tagamoa\",\"Zagazig\",\"New Cairo - El Tagamoa\",\"New Cairo - El Tagamoa\",\"Madinaty\",\"Madinaty\",\"New Cairo - El Tagamoa\",\"Madinaty\",\"6th of October\",\"Madinaty\",\"Maadi\",\"Sheikh Zayed\",\"Madinaty\",\"6th of October\",\"Nasr City\",\"6th of October\",\"Heliopolis\",\"Maadi\",\"Sidi Beshr\",\"Madinaty\",\"New Cairo - El Tagamoa\",\"New Cairo - El Tagamoa\",\"New Cairo - El Tagamoa\",\"6th of October\",\"Rehab City\",\"Sheikh Zayed\",\"New Cairo - El Tagamoa\",\"Rehab City\",\"New Cairo - El Tagamoa\",\"New Cairo - El Tagamoa\",\"New Cairo - El Tagamoa\",\"New Cairo - El Tagamoa\",\"New Cairo - El Tagamoa\",\"Madinaty\",\"New Cairo - El Tagamoa\",\"New Cairo - El Tagamoa\",\"Sheikh Zayed\",\"Haram\",\"New Cairo - El Tagamoa\",\"Rehab City\",\"Ain Sukhna\",\"Marsa Matrouh\",\"Agami\",\"Ras Sedr\",\"North Coast\",\"Ain Sukhna\",\"Ras Sedr\",\"North Coast\",\"North Coast\",\"North Coast\",\"North Coast\",\"Ras Sedr\",\"Ras Sedr\",\"Ras Sedr\",\"North Coast\",\"North Coast\",\"Ain Sukhna\",\"North Coast\",\"North Coast\",\"Ras Sedr\",\"Ras Sedr\",\"Ain Sukhna\",\"Ain Sukhna\",\"North Coast\",\"Ras Sedr\",\"Hurghada\",\"North Coast\",\"North Coast\",\"North Coast\",\"North Coast\",\"Ras Sedr\",\"Alamein\",\"North Coast\",\"Ain Sukhna\",\"Ras Sedr\",\"North Coast\",\"Ras Sedr\",\"North Coast\",\"Ain Sukhna\",\"North Coast\",\"North Coast\",\"North Coast\",\"Alamein\",\"North Coast\",\"North Coast\",\"North Coast\",\"North Coast\",\"Ras Sedr\",\"North Coast\",\"North Coast\",\"North Coast\",\"North Coast\",\"North Coast\",\"North Coast\",\"North Coast\",\"North Coast\",\"North Coast\",\"North Coast\",\"North Coast\",\"Ras Sedr\",\"Ras Sedr\",\"Ras Sedr\",\"Ras Sedr\",\"Ras Sedr\",\"Ras Sedr\",\"North Coast\",\"Hurghada\",\"North Coast\",\"North Coast\",\"North Coast\",\"North Coast\",\"Ras Sedr\",\"North Coast\",\"North Coast\",\"New Cairo - El Tagamoa\",\"North Coast\",\"North Coast\",\"North Coast\",\"North Coast\",\"North Coast\",\"North Coast\",\"North Coast\",\"North Coast\",\"North Coast\",\"North Coast\",\"North Coast\",\"North Coast\",\"Ain Sukhna\",\"North Coast\",\"North Coast\",\"Marsa Matrouh\",\"North Coast\",\"Ain Sukhna\",\"Ain Sukhna\",\"North Coast\",\"North Coast\",\"North Coast\",\"North Coast\",\"North Coast\",\"North Coast\",\"Ain Sukhna\",\"North Coast\",\"Ain Sukhna\",\"North Coast\",\"North Coast\",\"North Coast\",\"North Coast\",\"North Coast\",\"North Coast\",\"North Coast\",\"Ain Sukhna\",\"Ain Sukhna\",\"North Coast\",\"Ain Sukhna\",\"Ras Sedr\",\"Ras Sedr\",\"Ras Sedr\",\"Ras Sedr\",\"Ras Sedr\",\"Ras Sedr\",\"Ras Sedr\",\"Ras Sedr\",\"Ras Sedr\",\"Ras Sedr\",\"Ras Sedr\",\"Ras Sedr\",\"North Coast\",\"North Coast\",\"North Coast\",\"North Coast\",\"North Coast\",\"North Coast\",\"North Coast\",\"North Coast\",\"North Coast\",\"Ain Sukhna\",\"Ain Sukhna\",\"North Coast\",\"North Coast\",\"North Coast\",\"Ain Sukhna\",\"North Coast\",\"Ain Sukhna\",\"North Coast\",\"Ain Sukhna\",\"Ain Sukhna\",\"Ain Sukhna\",\"North Coast\",\"North Coast\",\"North Coast\",\"Ain Sukhna\",\"North Coast\",\"North Coast\",\"North Coast\",\"North Coast\",\"North Coast\",\"North Coast\",\"Ain Sukhna\",\"North Coast\",\"North Coast\",\"Ain Sukhna\",\"North Coast\",\"North Coast\",\"North Coast\",\"North Coast\",\"North Coast\",\"North Coast\",\"North Coast\",\"Ain Sukhna\",\"North Coast\",\"North Coast\",\"Heliopolis\",\"Ain Sukhna\",\"Ain Sukhna\",\"North Coast\",\"North Coast\",\"Ain Sukhna\",\"Agami\",\"North Coast\",\"Ain Sukhna\",\"North Coast\",\"North Coast\",\"Dabaa\",\"Ain Sukhna\",\"Ain Sukhna\",\"Ain Sukhna\",\"North Coast\",\"Ain Sukhna\",\"Ras Sedr\",\"North Coast\",\"North Coast\",\"North Coast\",\"North Coast\",\"North Coast\",\"Ain Sukhna\",\"North Coast\",\"Ain Sukhna\",\"Nasr City\",\"Ain Sukhna\",\"North Coast\",\"North Coast\",\"North Coast\",\"Almazah\",\"North Coast\",\"North Coast\",\"North Coast\",\"North Coast\",\"Ain Sukhna\",\"North Coast\",\"North Coast\",\"North Coast\",\"North Coast\",\"Ain Sukhna\",\"Ain Sukhna\",\"Ain Sukhna\",\"North Coast\",\"North Coast\",\"North Coast\",\"North Coast\",\"North Coast\",\"Ras Sedr\",\"North Coast\",\"North Coast\",\"Ras Sedr\",\"North Coast\",\"Ain Sukhna\",\"North Coast\",\"North Coast\",\"North Coast\",\"North Coast\",\"North Coast\",\"North Coast\",\"North Coast\",\"North Coast\",\"North Coast\",\"Sharm al-Sheikh\",\"Ain Sukhna\",\"North Coast\",\"North Coast\",\"North Coast\",\"North Coast\",\"North Coast\",\"North Coast\",\"North Coast\",\"North Coast\",\"Ras Sedr\",\"Gouna\",\"North Coast\",\"North Coast\",\"Alamein\",\"Ain Sukhna\",\"Ain Sukhna\",\"North Coast\",\"North Coast\",\"North Coast\",\"North Coast\",\"North Coast\",\"Ain Sukhna\",\"Ain Sukhna\",\"North Coast\",\"North Coast\",\"North Coast\",\"Ain Sukhna\",\"North Coast\",\"North Coast\",\"Ras Sedr\",\"Haram\",\"North Coast\",\"North Coast\",\"North Coast\",\"North Coast\",\"North Coast\",\"North Coast\",\"North Coast\",\"North Coast\",\"North Coast\",\"Ain Sukhna\",\"Ain Sukhna\",\"Ain Sukhna\",\"North Coast\",\"North Coast\",\"North Coast\",\"Ain Sukhna\",\"Zagazig\",\"Mohandessin\",\"North Coast\",\"North Coast\",\"Ain Sukhna\",\"North Coast\",\"North Coast\",\"North Coast\",\"North Coast\",\"North Coast\",\"Ain Sukhna\",\"North Coast\",\"North Coast\",\"North Coast\",\"Ain Sukhna\",\"North Coast\",\"Ain Sukhna\",\"Ain Sukhna\",\"Ain Sukhna\",\"Ain Sukhna\",\"Shorouk City\",\"North Coast\",\"North Coast\",\"North Coast\",\"North Coast\",\"Ain Sukhna\",\"North Coast\",\"Ain Sukhna\",\"North Coast\",\"Alamein\",\"Ain Sukhna\",\"Ain Sukhna\",\"Kafr Abdo\",\"North Coast\",\"North Coast\",\"Ain Sukhna\",\"North Coast\",\"Ain Sukhna\",\"Ain Sukhna\",\"North Coast\",\"Ain Sukhna\",\"Ain Sukhna\",\"North Coast\",\"Ras Sedr\",\"Ain Sukhna\",\"North Coast\",\"Ras Sedr\",\"Ain Sukhna\",\"North Coast\",\"Ain Sukhna\",\"Ain Sukhna\",\"North Coast\",\"Ain Sukhna\",\"North Coast\",\"North Coast\",\"Sheikh Zayed\",\"North Coast\",\"North Coast\",\"North Coast\",\"Ain Sukhna\",\"Ain Sukhna\",\"North Coast\",\"North Coast\",\"North Coast\",\"Ain Sukhna\",\"Ain Sukhna\",\"Ain Sukhna\",\"Ain Sukhna\",\"North Coast\",\"Ain Sukhna\",\"North Coast\",\"Ain Sukhna\",\"Alamein\",\"Ras Sedr\",\"North Coast\",\"North Coast\",\"North Coast\",\"North Coast\",\"North Coast\",\"North Coast\",\"North Coast\",\"North Coast\",\"North Coast\",\"North Coast\",\"North Coast\",\"Ain Sukhna\",\"Ain Sukhna\",\"North Coast\",\"North Coast\",\"Ain Sukhna\",\"North Coast\",\"New Cairo - El Tagamoa\",\"North Coast\",\"Ain Sukhna\",\"Ain Sukhna\",\"North Coast\",\"Ain Sukhna\",\"Ain Sukhna\",\"Ain Sukhna\",\"Ain Sukhna\",\"New Cairo - El Tagamoa\",\"North Coast\",\"North Coast\",\"North Coast\",\"Ain Sukhna\",\"North Coast\",\"Heliopolis\",\"Ain Sukhna\",\"North Coast\",\"Ain Sukhna\",\"Ain Sukhna\",\"New Cairo - El Tagamoa\",\"Ain Sukhna\",\"Alamein\",\"Marsa Matrouh\",\"Ras Sedr\",\"North Coast\",\"North Coast\",\"North Coast\",\"North Coast\",\"North Coast\",\"North Coast\",\"North Coast\",\"North Coast\",\"North Coast\",\"North Coast\",\"North Coast\",\"North Coast\",\"North Coast\",\"North Coast\",\"Alamein\",\"North Coast\",\"North Coast\",\"North Coast\",\"North Coast\",\"North Coast\",\"North Coast\",\"North Coast\",\"North Coast\",\"North Coast\",\"North Coast\",\"North Coast\",\"North Coast\",\"North Coast\",\"Ain Sukhna\",\"Ain Sukhna\",\"North Coast\",\"North Coast\",\"Ain Sukhna\",\"North Coast\",\"North Coast\",\"North Coast\",\"North Coast\",\"North Coast\",\"Ain Sukhna\",\"North Coast\",\"North Coast\",\"North Coast\",\"North Coast\",\"North Coast\",\"North Coast\",\"North Coast\",\"Ain Sukhna\",\"North Coast\",\"North Coast\",\"Ain Sukhna\",\"North Coast\",\"New Cairo - El Tagamoa\",\"North Coast\",\"North Coast\",\"Ain Sukhna\",\"North Coast\",\"Ain Sukhna\",\"Ras Sedr\",\"Ras Sedr\",\"Ain Sukhna\",\"North Coast\",\"North Coast\",\"North Coast\",\"North Coast\",\"North Coast\",\"North Coast\",\"North Coast\",\"Ras Sedr\",\"North Coast\",\"Ras Sedr\",\"North Coast\",\"North Coast\",\"North Coast\",\"Ain Sukhna\",\"Ras Sedr\",\"Ras Sedr\",\"Ras Sedr\",\"North Coast\",\"North Coast\",\"North Coast\",\"Ain Sukhna\",\"Ras Sedr\",\"Ras Sedr\",\"Ras Sedr\",\"Ras Sedr\",\"Ain Sukhna\",\"North Coast\",\"Ain Sukhna\",\"North Coast\",\"North Coast\",\"Ras Sedr\",\"Ain Sukhna\",\"Ain Sukhna\",\"North Coast\",\"Ras Sedr\",\"North Coast\",\"Ras Sedr\",\"Ras Sedr\",\"North Coast\",\"Ras Sedr\",\"North Coast\",\"North Coast\",\"Ras Sedr\",\"Ain Sukhna\",\"North Coast\",\"Ain Sukhna\",\"North Coast\",\"New Cairo - El Tagamoa\",\"Ras Sedr\",\"Ain Sukhna\",\"Ras Sedr\",\"Ras Sedr\",\"Ain Sukhna\",\"Ain Sukhna\",\"Ras Sedr\",\"Ras Sedr\",\"Ras Sedr\",\"Ras Sedr\",\"Ras Sedr\",\"Ras Sedr\",\"Ras Sedr\",\"Alamein\",\"Ras Sedr\",\"Ras Sedr\",\"Ain Sukhna\",\"Ras Sedr\",\"Ras Sedr\",\"Ain Sukhna\",\"Ain Sukhna\",\"Ain Sukhna\",\"Ain Sukhna\",\"Ain Sukhna\",\"Ras Sedr\",\"Ras Sedr\",\"Ras Sedr\",\"Ras Sedr\",\"Ras Sedr\",\"Ras Sedr\",\"Ras Sedr\",\"Ras Sedr\",\"Ras Sedr\",\"Ras Sedr\",\"Ain Sukhna\",\"Ain Sukhna\",\"North Coast\",\"North Coast\",\"North Coast\",\"North Coast\",\"Ras Sedr\",\"North Coast\",\"North Coast\",\"North Coast\",\"North Coast\",\"North Coast\",\"North Coast\",\"North Coast\",\"Alamein\",\"North Coast\",\"North Coast\",\"North Coast\",\"North Coast\",\"North Coast\",\"North Coast\",\"North Coast\",\"North Coast\",\"Ain Sukhna\",\"North Coast\",\"North Coast\",\"North Coast\",\"North Coast\",\"North Coast\",\"New Cairo - El Tagamoa\",\"North Coast\",\"Ain Sukhna\",\"North Coast\",\"North Coast\",\"North Coast\",\"North Coast\",\"North Coast\",\"North Coast\",\"North Coast\",\"Ain Sukhna\",\"North Coast\",\"North Coast\",\"Ain Sukhna\",\"Ain Sukhna\",\"North Coast\",\"Ain Sukhna\",\"North Coast\",\"Alamein\",\"North Coast\",\"North Coast\",\"North Coast\",\"North Coast\",\"North Coast\",\"North Coast\",\"North Coast\",\"North Coast\",\"North Coast\",\"North Coast\",\"North Coast\",\"North Coast\",\"North Coast\",\"North Coast\",\"North Coast\",\"Ain Sukhna\",\"Ain Sukhna\",\"Ain Sukhna\",\"North Coast\",\"Ain Sukhna\",\"North Coast\",\"North Coast\",\"North Coast\",\"North Coast\",\"North Coast\",\"North Coast\",\"North Coast\",\"Alamein\",\"North Coast\",\"North Coast\",\"North Coast\",\"North Coast\",\"North Coast\",\"North Coast\",\"Ain Sukhna\",\"North Coast\",\"North Coast\",\"North Coast\",\"North Coast\",\"North Coast\",\"North Coast\",\"North Coast\",\"North Coast\",\"North Coast\",\"North Coast\",\"North Coast\",\"North Coast\",\"North Coast\",\"North Coast\",\"North Coast\",\"North Coast\",\"North Coast\",\"North Coast\",\"North Coast\",\"North Coast\",\"North Coast\",\"North Coast\",\"North Coast\",\"Ain Sukhna\",\"New Cairo - El Tagamoa\",\"Ain Sukhna\",\"North Coast\",\"Ain Sukhna\",\"North Coast\",\"New Cairo - El Tagamoa\",\"North Coast\",\"North Coast\",\"North Coast\",\"North Coast\",\"North Coast\",\"North Coast\",\"North Coast\",\"North Coast\",\"Ain Sukhna\",\"North Coast\",\"North Coast\",\"North Coast\",\"New Cairo - El Tagamoa\",\"North Coast\",\"North Coast\",\"North Coast\",\"North Coast\",\"North Coast\",\"Alamein\",\"North Coast\",\"Ain Sukhna\",\"Ain Sukhna\",\"Ain Sukhna\",\"North Coast\",\"North Coast\",\"Ain Sukhna\",\"Ain Sukhna\",\"Ain Sukhna\",\"Ain Sukhna\",\"Ain Sukhna\",\"Ras Sedr\",\"Ain Sukhna\",\"North Coast\",\"North Coast\",\"Ain Sukhna\",\"North Coast\",\"Ain Sukhna\",\"Alamein\",\"New Cairo - El Tagamoa\",\"Ain Sukhna\",\"North Coast\",\"Ain Sukhna\",\"North Coast\",\"North Coast\",\"New Cairo - El Tagamoa\",\"New Cairo - El Tagamoa\",\"Ain Sukhna\",\"North Coast\",\"North Coast\",\"North Coast\",\"New Cairo - El Tagamoa\",\"Ain Sukhna\",\"North Coast\",\"North Coast\",\"North Coast\",\"Ain Sukhna\",\"Ain Sukhna\",\"Hurghada\",\"North Coast\",\"North Coast\",\"Ain Sukhna\",\"Ain Sukhna\",\"Ain Sukhna\",\"Ain Sukhna\",\"Ain Sukhna\",\"Ain Sukhna\",\"North Coast\",\"North Coast\",\"Ain Sukhna\",\"North Coast\",\"Ain Sukhna\",\"Ain Sukhna\",\"Ain Sukhna\",\"North Coast\",\"New Cairo - El Tagamoa\",\"North Coast\",\"Ain Sukhna\",\"North Coast\",\"North Coast\",\"Ain Sukhna\",\"North Coast\",\"North Coast\",\"North Coast\",\"New Cairo - El Tagamoa\",\"North Coast\",\"North Coast\",\"North Coast\",\"North Coast\",\"Ain Sukhna\",\"North Coast\",\"North Coast\",\"North Coast\",\"Ain Sukhna\",\"North Coast\",\"Hurghada\",\"Ain Sukhna\",\"Ain Sukhna\",\"North Coast\",\"New Cairo - El Tagamoa\",\"Ain Sukhna\",\"North Coast\",\"Ain Sukhna\",\"North Coast\",\"New Cairo - El Tagamoa\",\"North Coast\",\"North Coast\",\"Marsa Matrouh\",\"North Coast\",\"North Coast\",\"North Coast\",\"North Coast\",\"North Coast\",\"North Coast\",\"North Coast\",\"North Coast\",\"North Coast\",\"North Coast\",\"North Coast\",\"North Coast\",\"North Coast\",\"North Coast\",\"North Coast\",\"North Coast\",\"North Coast\",\"North Coast\",\"North Coast\",\"North Coast\",\"North Coast\",\"North Coast\",\"North Coast\",\"North Coast\",\"North Coast\",\"North Coast\",\"North Coast\",\"North Coast\",\"North Coast\",\"North Coast\",\"North Coast\",\"North Coast\",\"North Coast\",\"Alamein\",\"Ain Sukhna\",\"Ras Sedr\",\"New Cairo - El Tagamoa\",\"North Coast\",\"Al Manial\",\"North Coast\",\"Ras Sedr\",\"North Coast\",\"North Coast\",\"North Coast\",\"North Coast\",\"North Coast\",\"North Coast\",\"North Coast\",\"North Coast\",\"North Coast\",\"North Coast\",\"North Coast\",\"North Coast\",\"North Coast\",\"Ras Sedr\",\"Ain Sukhna\",\"North Coast\",\"North Coast\",\"North Coast\",\"North Coast\",\"North Coast\",\"Ain Sukhna\",\"North Coast\",\"North Coast\",\"North Coast\",\"Ain Sukhna\",\"North Coast\",\"North Coast\",\"North Coast\",\"North Coast\",\"Ain Sukhna\",\"North Coast\",\"North Coast\",\"North Coast\",\"Ain Sukhna\",\"North Coast\",\"Ain Sukhna\",\"North Coast\",\"Ain Sukhna\",\"North Coast\",\"Ain Sukhna\",\"North Coast\",\"Ain Sukhna\",\"Ain Sukhna\",\"Ain Sukhna\",\"Mostakbal City\",\"North Coast\",\"North Coast\",\"North Coast\",\"North Coast\",\"North Coast\",\"New Cairo - El Tagamoa\",\"North Coast\",\"New Cairo - El Tagamoa\",\"Ain Sukhna\",\"North Coast\",\"North Coast\",\"North Coast\",\"North Coast\",\"North Coast\",\"North Coast\",\"North Coast\",\"North Coast\",\"North Coast\",\"Ain Sukhna\",\"North Coast\",\"North Coast\",\"Ain Sukhna\",\"Ain Sukhna\",\"Ain Sukhna\",\"North Coast\",\"North Coast\",\"Ain Sukhna\",\"Ain Sukhna\",\"Ain Sukhna\",\"North Coast\",\"New Capital City\",\"North Coast\",\"North Coast\",\"Ain Sukhna\",\"North Coast\",\"North Coast\",\"North Coast\",\"Ain Sukhna\",\"Ain Sukhna\",\"North Coast\",\"North Coast\",\"North Coast\",\"North Coast\",\"Ain Sukhna\",\"North Coast\",\"Ain Sukhna\",\"North Coast\",\"North Coast\",\"North Coast\",\"Ras Sedr\",\"Ain Sukhna\",\"Alamein\",\"North Coast\",\"North Coast\",\"Ain Sukhna\",\"New Cairo - El Tagamoa\",\"North Coast\",\"North Coast\",\"Ain Sukhna\",\"Alamein\",\"North Coast\",\"Ain Sukhna\",\"Ain Sukhna\",\"Maadi\",\"North Coast\",\"Ain Sukhna\",\"North Coast\",\"Ain Sukhna\",\"Alamein\",\"Ain Sukhna\",\"Sheikh Zayed\",\"Ain Sukhna\",\"Ain Sukhna\",\"North Coast\",\"North Coast\",\"Ain Sukhna\",\"North Coast\",\"North Coast\",\"North Coast\",\"North Coast\",\"North Coast\",\"North Coast\",\"Ain Sukhna\",\"Ain Sukhna\",\"North Coast\",\"Ain Sukhna\",\"Ras Sedr\",\"Ain Sukhna\",\"Ain Sukhna\",\"Ain Sukhna\",\"Ain Sukhna\",\"Alamein\",\"Ain Sukhna\",\"North Coast\",\"Ain Sukhna\",\"Ain Sukhna\",\"Ain Sukhna\",\"North Coast\",\"North Coast\",\"North Coast\",\"North Coast\",\"North Coast\",\"North Coast\",\"Ain Sukhna\",\"Ain Sukhna\",\"North Coast\",\"North Coast\",\"North Coast\",\"North Coast\",\"North Coast\",\"North Coast\",\"North Coast\",\"North Coast\",\"North Coast\",\"Ain Sukhna\",\"North Coast\",\"North Coast\",\"North Coast\",\"Ain Sukhna\",\"North Coast\",\"Ain Sukhna\",\"North Coast\",\"North Coast\",\"North Coast\",\"North Coast\",\"North Coast\",\"North Coast\",\"Ain Sukhna\",\"Alamein\",\"Alamein\",\"North Coast\",\"Ain Sukhna\",\"North Coast\",\"Alamein\",\"North Coast\",\"North Coast\",\"North Coast\",\"North Coast\",\"North Coast\",\"North Coast\",\"North Coast\",\"North Coast\",\"New Cairo - El Tagamoa\",\"North Coast\",\"North Coast\",\"Ain Sukhna\",\"Ain Sukhna\",\"Ain Sukhna\",\"Ain Sukhna\",\"Ain Sukhna\",\"North Coast\",\"North Coast\",\"Hammam\",\"North Coast\",\"North Coast\",\"North Coast\",\"North Coast\",\"Zahraa Al Maadi\",\"North Coast\",\"North Coast\",\"North Coast\",\"North Coast\",\"Ain Sukhna\",\"Ain Sukhna\",\"North Coast\",\"North Coast\",\"North Coast\",\"Ain Sukhna\",\"Ain Sukhna\",\"Ain Sukhna\",\"Ain Sukhna\",\"Ain Sukhna\",\"Ain Sukhna\",\"North Coast\",\"Nasr City\",\"North Coast\",\"North Coast\",\"Ain Sukhna\",\"North Coast\",\"North Coast\",\"North Coast\",\"North Coast\",\"North Coast\",\"North Coast\",\"North Coast\",\"Ain Sukhna\",\"North Coast\",\"North Coast\",\"Ain Sukhna\",\"Ain Sukhna\",\"North Coast\",\"Ain Sukhna\",\"North Coast\",\"North Coast\",\"Ain Sukhna\",\"North Coast\",\"Ain Sukhna\",\"North Coast\",\"North Coast\",\"North Coast\",\"North Coast\",\"Ain Sukhna\",\"North Coast\",\"Ain Sukhna\",\"North Coast\",\"North Coast\",\"Ain Sukhna\",\"North Coast\",\"North Coast\",\"North Coast\",\"North Coast\",\"North Coast\",\"Alamein\",\"North Coast\",\"Ain Sukhna\",\"North Coast\",\"Alamein\",\"Ain Sukhna\",\"North Coast\",\"North Coast\",\"Ain Sukhna\",\"North Coast\",\"North Coast\",\"North Coast\",\"North Coast\",\"North Coast\",\"North Coast\",\"North Coast\",\"North Coast\",\"North Coast\",\"North Coast\",\"North Coast\",\"North Coast\",\"North Coast\",\"North Coast\",\"North Coast\",\"North Coast\",\"North Coast\",\"North Coast\",\"North Coast\",\"North Coast\",\"North Coast\",\"North Coast\",\"Ain Sukhna\",\"North Coast\",\"Ain Sukhna\",\"New Cairo - El Tagamoa\",\"New Cairo - El Tagamoa\",\"North Coast\",\"North Coast\",\"New Cairo - El Tagamoa\",\"New Cairo - El Tagamoa\",\"North Coast\",\"North Coast\",\"North Coast\",\"North Coast\",\"Ain Sukhna\",\"North Coast\",\"North Coast\",\"North Coast\",\"North Coast\",\"North Coast\",\"North Coast\",\"North Coast\",\"North Coast\",\"Alamein\",\"North Coast\",\"North Coast\",\"North Coast\",\"North Coast\",\"North Coast\",\"North Coast\",\"North Coast\",\"North Coast\",\"North Coast\",\"North Coast\",\"North Coast\",\"North Coast\",\"Ain Sukhna\",\"North Coast\",\"North Coast\",\"North Coast\",\"North Coast\",\"North Coast\",\"North Coast\",\"North Coast\",\"North Coast\",\"North Coast\",\"North Coast\",\"North Coast\",\"North Coast\",\"North Coast\",\"Alamein\",\"North Coast\",\"North Coast\",\"Ain Sukhna\",\"North Coast\",\"North Coast\",\"North Coast\",\"North Coast\",\"North Coast\",\"North Coast\",\"North Coast\",\"North Coast\",\"Ain Sukhna\",\"North Coast\",\"North Coast\",\"North Coast\",\"Ain Sukhna\",\"North Coast\",\"Heliopolis\",\"North Coast\",\"North Coast\",\"North Coast\",\"North Coast\",\"Marsa Matrouh\",\"North Coast\",\"North Coast\",\"New Cairo - El Tagamoa\",\"Ain Sukhna\",\"North Coast\",\"Ain Sukhna\",\"Ras Sedr\",\"Ain Sukhna\",\"Ain Sukhna\",\"North Coast\",\"North Coast\",\"North Coast\",\"North Coast\",\"North Coast\",\"North Coast\",\"Hammam\",\"North Coast\",\"North Coast\",\"North Coast\",\"North Coast\",\"North Coast\",\"North Coast\",\"North Coast\",\"Ain Sukhna\",\"North Coast\",\"North Coast\",\"North Coast\",\"New Cairo - El Tagamoa\",\"Ain Sukhna\",\"North Coast\",\"Ain Sukhna\",\"North Coast\",\"North Coast\",\"North Coast\",\"North Coast\",\"North Coast\",\"North Coast\",\"North Coast\",\"North Coast\",\"North Coast\",\"North Coast\",\"Alamein\",\"North Coast\",\"North Coast\",\"North Coast\",\"Ras Sedr\",\"Gouna\",\"North Coast\",\"North Coast\",\"6th of October\",\"North Coast\",\"North Coast\",\"North Coast\",\"North Coast\",\"Ain Sukhna\",\"North Coast\",\"North Coast\",\"Zahraa Al Maadi\",\"Alamein\",\"North Coast\",\"North Coast\",\"Hadayek 6th of October\",\"North Coast\",\"North Coast\",\"North Coast\",\"Alamein\",\"Ain Sukhna\",\"Ain Sukhna\",\"North Coast\",\"North Coast\",\"New Cairo - El Tagamoa\",\"North Coast\",\"North Coast\",\"Ain Sukhna\",\"Ain Sukhna\",\"North Coast\",\"North Coast\",\"North Coast\",\"North Coast\",\"North Coast\",\"North Coast\",\"North Coast\",\"North Coast\",\"North Coast\",\"North Coast\",\"North Coast\",\"North Coast\",\"North Coast\",\"North Coast\",\"North Coast\",\"North Coast\",\"North Coast\",\"Ain Sukhna\",\"North Coast\",\"Ain Sukhna\",\"North Coast\",\"North Coast\",\"North Coast\",\"North Coast\",\"Ain Sukhna\",\"North Coast\",\"Ain Sukhna\",\"Ain Sukhna\",\"Ain Sukhna\",\"North Coast\",\"North Coast\",\"Ain Sukhna\",\"North Coast\",\"Ain Sukhna\",\"New Cairo - El Tagamoa\",\"Ain Sukhna\",\"North Coast\",\"Ain Sukhna\",\"Ain Sukhna\",\"Ain Sukhna\",\"North Coast\",\"North Coast\",\"Ain Sukhna\",\"Ain Sukhna\",\"Ain Sukhna\",\"Ain Sukhna\",\"Ain Sukhna\",\"Ain Sukhna\",\"Ain Sukhna\",\"Ain Sukhna\",\"North Coast\",\"Ain Sukhna\",\"North Coast\",\"North Coast\",\"Ain Sukhna\",\"North Coast\",\"Ain Sukhna\",\"Ain Sukhna\",\"Ain Sukhna\",\"Ain Sukhna\",\"New Cairo - El Tagamoa\",\"Ain Sukhna\",\"Ain Sukhna\",\"New Cairo - El Tagamoa\",\"Ain Sukhna\",\"Ain Sukhna\",\"Ain Sukhna\",\"Ain Sukhna\",\"Ain Sukhna\",\"Smoha\",\"Ain Sukhna\",\"Ain Sukhna\",\"Ain Sukhna\",\"Ain Sukhna\",\"Ain Sukhna\",\"New Cairo - El Tagamoa\",\"Ain Sukhna\",\"Ain Sukhna\",\"North Coast\",\"North Coast\",\"North Coast\",\"Ain Sukhna\",\"North Coast\",\"North Coast\",\"North Coast\",\"North Coast\",\"North Coast\",\"New Cairo - El Tagamoa\",\"North Coast\",\"North Coast\",\"North Coast\",\"Ain Sukhna\",\"North Coast\",\"North Coast\",\"North Coast\",\"North Coast\",\"North Coast\",\"North Coast\",\"North Coast\",\"North Coast\",\"Ain Sukhna\",\"North Coast\",\"North Coast\",\"Ain Sukhna\",\"North Coast\",\"North Coast\",\"North Coast\",\"North Coast\",\"North Coast\",\"North Coast\",\"North Coast\",\"North Coast\",\"Sheikh Zayed\",\"North Coast\",\"Ain Sukhna\",\"Ras Sedr\",\"North Coast\",\"North Coast\",\"North Coast\",\"North Coast\",\"North Coast\",\"North Coast\",\"Ain Sukhna\",\"Ain Sukhna\",\"Ain Sukhna\",\"Ain Sukhna\",\"Ain Sukhna\",\"Ain Sukhna\",\"Ain Sukhna\",\"North Coast\",\"North Coast\",\"Ain Sukhna\",\"North Coast\",\"North Coast\",\"North Coast\",\"North Coast\",\"North Coast\",\"North Coast\",\"North Coast\",\"North Coast\",\"North Coast\",\"North Coast\",\"North Coast\",\"North Coast\",\"North Coast\",\"North Coast\",\"North Coast\",\"North Coast\",\"North Coast\",\"North Coast\",\"North Coast\",\"North Coast\",\"North Coast\",\"North Coast\",\"North Coast\",\"North Coast\",\"North Coast\",\"Ain Sukhna\",\"North Coast\",\"North Coast\",\"North Coast\",\"North Coast\",\"North Coast\",\"North Coast\",\"Marsa Matrouh\",\"North Coast\",\"North Coast\",\"Borg al-Arab\",\"Ain Sukhna\",\"North Coast\",\"Ain Sukhna\",\"North Coast\",\"North Coast\",\"Alamein\",\"North Coast\",\"North Coast\",\"North Coast\",\"North Coast\",\"North Coast\",\"North Coast\",\"North Coast\",\"North Coast\",\"North Coast\",\"North Coast\",\"North Coast\",\"North Coast\",\"North Coast\",\"North Coast\",\"New Cairo - El Tagamoa\",\"North Coast\",\"North Coast\",\"North Coast\",\"North Coast\",\"North Coast\",\"North Coast\",\"North Coast\",\"North Coast\",\"North Coast\",\"North Coast\",\"North Coast\",\"North Coast\",\"North Coast\",\"North Coast\",\"North Coast\",\"North Coast\",\"North Coast\",\"North Coast\",\"New Cairo - El Tagamoa\",\"North Coast\",\"North Coast\",\"Ain Sukhna\",\"North Coast\",\"North Coast\",\"North Coast\",\"North Coast\",\"North Coast\",\"North Coast\",\"North Coast\",\"North Coast\",\"North Coast\",\"North Coast\",\"North Coast\",\"North Coast\",\"North Coast\",\"North Coast\",\"North Coast\",\"North Coast\",\"North Coast\",\"North Coast\",\"North Coast\",\"North Coast\",\"North Coast\",\"North Coast\",\"Ain Sukhna\",\"North Coast\",\"North Coast\",\"North Coast\",\"New Cairo - El Tagamoa\",\"Ain Sukhna\",\"Alamein\",\"North Coast\",\"Ain Sukhna\",\"North Coast\",\"North Coast\",\"North Coast\",\"North Coast\",\"North Coast\",\"North Coast\",\"North Coast\",\"Ain Sukhna\",\"6th of October\",\"North Coast\",\"North Coast\",\"North Coast\",\"North Coast\",\"North Coast\",\"North Coast\",\"North Coast\",\"North Coast\",\"North Coast\",\"North Coast\",\"New Cairo - El Tagamoa\",\"North Coast\",\"North Coast\",\"North Coast\",\"North Coast\",\"North Coast\",\"Ain Sukhna\",\"Ain Sukhna\",\"Ain Sukhna\",\"North Coast\",\"Borg al-Arab\",\"Ain Sukhna\",\"North Coast\",\"North Coast\",\"North Coast\",\"Ain Sukhna\",\"North Coast\",\"North Coast\",\"North Coast\",\"North Coast\",\"Ain Sukhna\",\"North Coast\",\"North Coast\",\"Ain Sukhna\",\"North Coast\",\"North Coast\",\"Dabaa\",\"Alamein\",\"North Coast\",\"North Coast\",\"North Coast\",\"North Coast\",\"Ain Sukhna\",\"Ain Sukhna\",\"North Coast\",\"North Coast\",\"North Coast\",\"North Coast\",\"North Coast\",\"North Coast\",\"North Coast\",\"North Coast\",\"Rehab City\",\"Ain Sukhna\",\"North Coast\",\"New Cairo - El Tagamoa\",\"Ain Sukhna\",\"Ain Sukhna\",\"North Coast\",\"Ain Sukhna\",\"North Coast\",\"North Coast\",\"North Coast\",\"Ain Sukhna\",\"Ain Sukhna\",\"North Coast\",\"North Coast\",\"North Coast\",\"Madinaty\",\"Ain Sukhna\",\"Ain Sukhna\",\"Ain Sukhna\",\"Ain Sukhna\",\"North Coast\",\"North Coast\",\"North Coast\",\"Ain Sukhna\",\"Ain Sukhna\",\"North Coast\",\"North Coast\",\"North Coast\",\"North Coast\",\"North Coast\",\"North Coast\",\"North Coast\",\"North Coast\",\"North Coast\",\"North Coast\",\"Ain Sukhna\",\"New Cairo - El Tagamoa\",\"North Coast\",\"North Coast\",\"North Coast\",\"North Coast\",\"Ain Sukhna\",\"Ain Sukhna\",\"North Coast\",\"North Coast\",\"Ain Sukhna\",\"North Coast\",\"North Coast\",\"North Coast\",\"North Coast\",\"Ain Sukhna\",\"Alamein\",\"North Coast\",\"North Coast\",\"North Coast\",\"Ain Sukhna\",\"North Coast\",\"North Coast\",\"Ain Sukhna\",\"North Coast\",\"North Coast\",\"Ain Sukhna\",\"North Coast\",\"North Coast\",\"North Coast\",\"North Coast\",\"North Coast\",\"North Coast\",\"North Coast\",\"North Coast\",\"North Coast\",\"Alamein\",\"North Coast\",\"North Coast\",\"North Coast\",\"North Coast\",\"Ain Sukhna\",\"Ain Sukhna\",\"North Coast\",\"North Coast\",\"Ain Sukhna\",\"Ain Sukhna\",\"Ain Sukhna\",\"Ain Sukhna\",\"Ain Sukhna\",\"North Coast\",\"Ain Sukhna\",\"Alamein\",\"Ain Sukhna\",\"North Coast\",\"Ain Sukhna\",\"Ain Sukhna\",\"North Coast\",\"Ain Sukhna\",\"Alamein\",\"North Coast\",\"North Coast\",\"Ain Sukhna\",\"Ain Sukhna\",\"North Coast\",\"Ain Sukhna\",\"North Coast\",\"North Coast\",\"Gouna\",\"North Coast\",\"North Coast\",\"North Coast\",\"North Coast\",\"North Coast\",\"Ain Sukhna\",\"North Coast\",\"North Coast\",\"North Coast\",\"North Coast\",\"North Coast\",\"North Coast\",\"North Coast\",\"North Coast\",\"Ain Sukhna\",\"Ain Sukhna\",\"Ain Sukhna\",\"Ain Sukhna\",\"North Coast\",\"Hammam\",\"Ain Sukhna\",\"North Coast\",\"North Coast\",\"North Coast\",\"Abu Talat\",\"North Coast\",\"North Coast\",\"North Coast\",\"North Coast\",\"Ain Sukhna\",\"Ain Sukhna\",\"North Coast\",\"Ain Sukhna\",\"North Coast\",\"Ain Sukhna\",\"North Coast\",\"Alamein\",\"North Coast\",\"North Coast\",\"North Coast\",\"North Coast\",\"North Coast\",\"North Coast\",\"North Coast\",\"North Coast\",\"North Coast\",\"North Coast\",\"North Coast\",\"North Coast\",\"North Coast\",\"North Coast\",\"Giza District\",\"Alamein\",\"North Coast\",\"North Coast\",\"North Coast\",\"North Coast\",\"Ain Sukhna\",\"North Coast\",\"North Coast\",\"North Coast\",\"North Coast\",\"North Coast\",\"North Coast\",\"North Coast\",\"North Coast\",\"North Coast\",\"North Coast\",\"North Coast\",\"North Coast\",\"Ain Sukhna\",\"North Coast\",\"North Coast\",\"Ain Sukhna\",\"Ain Sukhna\",\"North Coast\",\"North Coast\",\"North Coast\",\"New Cairo - El Tagamoa\",\"North Coast\",\"North Coast\",\"Ain Sukhna\",\"Ain Sukhna\",\"North Coast\",\"North Coast\",\"Ain Sukhna\",\"North Coast\",\"Ain Sukhna\",\"Ain Sukhna\",\"Ain Sukhna\",\"North Coast\",\"Alamein\",\"North Coast\",\"North Coast\",\"North Coast\",\"North Coast\",\"North Coast\",\"North Coast\",\"North Coast\",\"North Coast\",\"North Coast\",\"North Coast\",\"North Coast\",\"Ain Sukhna\",\"North Coast\",\"Ain Sukhna\",\"North Coast\",\"Ain Sukhna\",\"Ain Sukhna\",\"Ain Sukhna\",\"Ain Sukhna\",\"Ain Sukhna\",\"Ain Sukhna\",\"North Coast\",\"North Coast\",\"North Coast\",\"North Coast\",\"North Coast\",\"North Coast\",\"North Coast\",\"North Coast\",\"North Coast\",\"Hurghada\",\"North Coast\",\"North Coast\",\"Ain Sukhna\",\"North Coast\",\"North Coast\",\"North Coast\",\"North Coast\",\"Ain Sukhna\",\"North Coast\",\"Zahraa Al Maadi\",\"North Coast\",\"North Coast\",\"Ain Sukhna\",\"North Coast\",\"Ain Sukhna\",\"Ain Sukhna\",\"North Coast\",\"North Coast\",\"Ain Sukhna\",\"Ain Sukhna\",\"Ain Sukhna\",\"North Coast\",\"Ain Sukhna\",\"North Coast\",\"Ain Sukhna\",\"Ain Sukhna\",\"North Coast\",\"North Coast\",\"North Coast\",\"Ain Sukhna\",\"North Coast\",\"North Coast\",\"Ain Sukhna\",\"North Coast\",\"North Coast\",\"North Coast\",\"North Coast\",\"North Coast\",\"North Coast\",\"Ain Sukhna\",\"Abu Talat\",\"North Coast\",\"Marsa Matrouh\",\"North Coast\",\"North Coast\",\"North Coast\",\"North Coast\",\"North Coast\",\"North Coast\",\"North Coast\",\"North Coast\",\"North Coast\",\"North Coast\",\"North Coast\",\"North Coast\",\"Ain Sukhna\",\"North Coast\",\"Ain Sukhna\",\"North Coast\",\"North Coast\",\"North Coast\",\"North Coast\",\"North Coast\",\"North Coast\",\"Ain Sukhna\",\"North Coast\",\"Ain Sukhna\",\"New Cairo - El Tagamoa\",\"Ain Sukhna\",\"North Coast\",\"Ain Sukhna\",\"North Coast\",\"North Coast\",\"North Coast\",\"Alamein\",\"North Coast\",\"North Coast\",\"North Coast\",\"North Coast\",\"North Coast\",\"North Coast\",\"Ain Sukhna\",\"North Coast\",\"Ain Sukhna\",\"North Coast\",\"North Coast\",\"North Coast\",\"Ain Sukhna\",\"North Coast\",\"North Coast\",\"Ain Sukhna\",\"Ain Sukhna\",\"Ain Sukhna\",\"North Coast\",\"North Coast\",\"North Coast\",\"North Coast\",\"North Coast\",\"North Coast\",\"West Somid\",\"North Coast\",\"North Coast\",\"North Coast\",\"Ain Sukhna\",\"North Coast\",\"North Coast\",\"Borg al-Arab\",\"North Coast\",\"North Coast\",\"Ain Sukhna\",\"North Coast\",\"North Coast\",\"North Coast\",\"North Coast\",\"North Coast\",\"North Coast\",\"Kafr Abdo\",\"North Coast\",\"North Coast\",\"North Coast\",\"North Coast\",\"North Coast\",\"North Coast\",\"North Coast\",\"North Coast\",\"North Coast\",\"North Coast\",\"North Coast\",\"North Coast\",\"North Coast\",\"North Coast\",\"North Coast\",\"Ain Sukhna\",\"North Coast\",\"Ain Sukhna\",\"North Coast\",\"North Coast\",\"North Coast\",\"North Coast\",\"North Coast\",\"North Coast\",\"North Coast\",\"North Coast\",\"North Coast\",\"Ain Sukhna\",\"North Coast\",\"Ain Sukhna\",\"North Coast\",\"North Coast\",\"Ain Sukhna\",\"North Coast\",\"Ain Sukhna\",\"North Coast\",\"Ain Sukhna\",\"North Coast\",\"Ain Sukhna\",\"Ain Sukhna\",\"North Coast\",\"Ain Sukhna\",\"Ain Sukhna\",\"North Coast\",\"North Coast\",\"North Coast\",\"Gouna\",\"North Coast\",\"Ain Sukhna\",\"Ain Sukhna\",\"North Coast\",\"North Coast\",\"North Coast\",\"North Coast\",\"Ain Sukhna\",\"Ain Sukhna\",\"Ain Sukhna\",\"North Coast\",\"Ain Sukhna\",\"North Coast\",\"Gouna\",\"North Coast\",\"North Coast\",\"North Coast\",\"North Coast\",\"North Coast\",\"North Coast\",\"Ain Sukhna\",\"North Coast\",\"North Coast\",\"North Coast\",\"North Coast\",\"North Coast\",\"Ain Sukhna\",\"North Coast\",\"North Coast\",\"North Coast\",\"North Coast\",\"North Coast\",\"North Coast\",\"North Coast\",\"North Coast\",\"North Coast\",\"Gouna\",\"Gouna\",\"North Coast\",\"Alamein\",\"North Coast\",\"North Coast\",\"North Coast\",\"North Coast\",\"North Coast\",\"North Coast\",\"Ain Sukhna\",\"North Coast\",\"North Coast\",\"Sheikh Zayed\",\"North Coast\",\"North Coast\",\"North Coast\",\"North Coast\",\"North Coast\",\"North Coast\",\"North Coast\",\"North Coast\",\"North Coast\",\"North Coast\",\"North Coast\",\"North Coast\",\"North Coast\",\"Ain Sukhna\",\"North Coast\",\"Ain Sukhna\",\"Ain Sukhna\",\"North Coast\",\"North Coast\",\"North Coast\",\"Ain Sukhna\",\"North Coast\",\"North Coast\",\"North Coast\",\"North Coast\",\"Ain Sukhna\",\"North Coast\",\"Ataba\",\"Ain Sukhna\",\"North Coast\",\"Nasr City\",\"North Coast\",\"North Coast\",\"Ain Sukhna\",\"Ain Sukhna\",\"North Coast\",\"Ain Sukhna\",\"Alamein\",\"North Coast\",\"Ain Sukhna\",\"North Coast\",\"North Coast\",\"North Coast\",\"North Coast\",\"North Coast\",\"North Coast\",\"Ain Sukhna\",\"North Coast\",\"North Coast\",\"Ain Sukhna\",\"Ain Sukhna\",\"North Coast\",\"North Coast\",\"North Coast\",\"North Coast\",\"Ain Sukhna\",\"Ain Sukhna\",\"Ain Sukhna\",\"Ain Sukhna\",\"Ain Sukhna\",\"North Coast\",\"North Coast\",\"Ain Sukhna\",\"Ain Sukhna\",\"Ain Sukhna\",\"Ain Sukhna\",\"Ain Sukhna\",\"North Coast\",\"Ain Sukhna\",\"Ain Sukhna\",\"Ain Sukhna\",\"Ain Sukhna\",\"Ain Sukhna\",\"Ain Sukhna\",\"North Coast\",\"Ain Sukhna\",\"North Coast\",\"North Coast\",\"North Coast\",\"North Coast\",\"North Coast\",\"North Coast\",\"North Coast\",\"Ain Sukhna\",\"North Coast\",\"North Coast\",\"North Coast\",\"North Coast\",\"North Coast\",\"North Coast\",\"North Coast\",\"Ain Sukhna\",\"Ain Sukhna\",\"Ain Sukhna\",\"Ain Sukhna\",\"Ain Sukhna\",\"North Coast\",\"North Coast\",\"Ain Sukhna\",\"Ras Sedr\",\"North Coast\",\"Ain Sukhna\",\"Alamein\",\"North Coast\",\"New Cairo - El Tagamoa\",\"North Coast\",\"North Coast\",\"Ain Sukhna\",\"North Coast\",\"North Coast\",\"North Coast\",\"North Coast\",\"North Coast\",\"North Coast\",\"Ain Sukhna\",\"Ain Sukhna\",\"North Coast\",\"Ain Sukhna\",\"North Coast\",\"North Coast\",\"Ain Sukhna\",\"North Coast\",\"North Coast\",\"New Cairo - El Tagamoa\",\"Hammam\",\"North Coast\",\"North Coast\",\"New Cairo - El Tagamoa\",\"North Coast\",\"Ain Sukhna\",\"Ain Sukhna\",\"New Cairo - El Tagamoa\",\"New Cairo - El Tagamoa\",\"North Coast\",\"North Coast\",\"North Coast\",\"New Cairo - El Tagamoa\",\"North Coast\",\"Ain Sukhna\",\"Alamein\",\"North Coast\",\"Marsa Matrouh\",\"North Coast\",\"Ain Sukhna\",\"North Coast\",\"Ras Sedr\",\"Ain Sukhna\",\"Ain Sukhna\",\"North Coast\",\"North Coast\",\"North Coast\",\"Ras Sedr\",\"North Coast\",\"Ain Sukhna\",\"Ain Sukhna\",\"Ain Sukhna\",\"North Coast\",\"Ain Sukhna\",\"Ain Sukhna\",\"North Coast\",\"North Coast\",\"North Coast\",\"Ain Sukhna\",\"Ras Sedr\",\"Ras Sedr\",\"Ain Sukhna\",\"North Coast\",\"Ain Sukhna\",\"New Cairo - El Tagamoa\",\"New Cairo - El Tagamoa\",\"Ain Sukhna\",\"North Coast\",\"North Coast\",\"Ain Sukhna\",\"Ain Sukhna\",\"Ain Sukhna\",\"Ain Sukhna\",\"Ain Sukhna\",\"North Coast\",\"North Coast\",\"North Coast\",\"Ain Sukhna\",\"Ain Sukhna\",\"North Coast\",\"North Coast\",\"North Coast\",\"North Coast\",\"North Coast\",\"Ain Sukhna\",\"North Coast\",\"Ain Sukhna\",\"North Coast\",\"Ain Sukhna\",\"North Coast\",\"North Coast\",\"North Coast\",\"New Cairo - El Tagamoa\",\"North Coast\",\"North Coast\",\"North Coast\",\"North Coast\",\"North Coast\",\"Ain Sukhna\",\"North Coast\",\"North Coast\",\"North Coast\",\"Ain Sukhna\",\"North Coast\",\"Ain Sukhna\",\"North Coast\",\"North Coast\",\"North Coast\",\"North Coast\",\"Ain Sukhna\",\"North Coast\",\"North Coast\",\"North Coast\",\"Ain Sukhna\",\"North Coast\",\"North Coast\",\"North Coast\",\"North Coast\",\"North Coast\",\"North Coast\",\"North Coast\",\"North Coast\",\"North Coast\",\"New Cairo - El Tagamoa\",\"New Cairo - El Tagamoa\",\"North Coast\",\"North Coast\",\"Ain Sukhna\",\"North Coast\",\"North Coast\",\"Ain Sukhna\",\"Ain Sukhna\",\"Ain Sukhna\",\"North Coast\",\"North Coast\",\"North Coast\",\"North Coast\",\"North Coast\",\"North Coast\",\"North Coast\",\"North Coast\",\"North Coast\",\"North Coast\",\"North Coast\",\"Ain Sukhna\",\"North Coast\",\"New Cairo - El Tagamoa\",\"New Cairo - El Tagamoa\",\"Ain Sukhna\",\"Ain Sukhna\",\"North Coast\",\"North Coast\",\"North Coast\",\"Ain Sukhna\",\"North Coast\",\"North Coast\",\"North Coast\",\"North Coast\",\"Ain Sukhna\",\"North Coast\",\"Ain Sukhna\",\"North Coast\",\"North Coast\",\"North Coast\",\"Ain Sukhna\",\"North Coast\",\"North Coast\",\"North Coast\",\"North Coast\",\"North Coast\",\"North Coast\",\"North Coast\",\"North Coast\",\"North Coast\",\"Ain Sukhna\",\"North Coast\",\"Ain Sukhna\",\"Ain Sukhna\",\"Ain Sukhna\",\"Ain Sukhna\",\"Ain Sukhna\",\"North Coast\",\"North Coast\",\"North Coast\",\"Ras Sedr\",\"North Coast\",\"North Coast\",\"North Coast\",\"North Coast\",\"North Coast\",\"North Coast\",\"North Coast\",\"North Coast\",\"North Coast\",\"North Coast\",\"North Coast\",\"Ain Sukhna\",\"North Coast\",\"Ain Sukhna\",\"North Coast\",\"North Coast\",\"Alamein\",\"North Coast\",\"North Coast\",\"North Coast\",\"North Coast\",\"North Coast\"],\"yaxis\":\"y\",\"type\":\"histogram\"}],                        {\"template\":{\"data\":{\"histogram2dcontour\":[{\"type\":\"histogram2dcontour\",\"colorbar\":{\"outlinewidth\":0,\"ticks\":\"\"},\"colorscale\":[[0.0,\"#0d0887\"],[0.1111111111111111,\"#46039f\"],[0.2222222222222222,\"#7201a8\"],[0.3333333333333333,\"#9c179e\"],[0.4444444444444444,\"#bd3786\"],[0.5555555555555556,\"#d8576b\"],[0.6666666666666666,\"#ed7953\"],[0.7777777777777778,\"#fb9f3a\"],[0.8888888888888888,\"#fdca26\"],[1.0,\"#f0f921\"]]}],\"choropleth\":[{\"type\":\"choropleth\",\"colorbar\":{\"outlinewidth\":0,\"ticks\":\"\"}}],\"histogram2d\":[{\"type\":\"histogram2d\",\"colorbar\":{\"outlinewidth\":0,\"ticks\":\"\"},\"colorscale\":[[0.0,\"#0d0887\"],[0.1111111111111111,\"#46039f\"],[0.2222222222222222,\"#7201a8\"],[0.3333333333333333,\"#9c179e\"],[0.4444444444444444,\"#bd3786\"],[0.5555555555555556,\"#d8576b\"],[0.6666666666666666,\"#ed7953\"],[0.7777777777777778,\"#fb9f3a\"],[0.8888888888888888,\"#fdca26\"],[1.0,\"#f0f921\"]]}],\"heatmap\":[{\"type\":\"heatmap\",\"colorbar\":{\"outlinewidth\":0,\"ticks\":\"\"},\"colorscale\":[[0.0,\"#0d0887\"],[0.1111111111111111,\"#46039f\"],[0.2222222222222222,\"#7201a8\"],[0.3333333333333333,\"#9c179e\"],[0.4444444444444444,\"#bd3786\"],[0.5555555555555556,\"#d8576b\"],[0.6666666666666666,\"#ed7953\"],[0.7777777777777778,\"#fb9f3a\"],[0.8888888888888888,\"#fdca26\"],[1.0,\"#f0f921\"]]}],\"heatmapgl\":[{\"type\":\"heatmapgl\",\"colorbar\":{\"outlinewidth\":0,\"ticks\":\"\"},\"colorscale\":[[0.0,\"#0d0887\"],[0.1111111111111111,\"#46039f\"],[0.2222222222222222,\"#7201a8\"],[0.3333333333333333,\"#9c179e\"],[0.4444444444444444,\"#bd3786\"],[0.5555555555555556,\"#d8576b\"],[0.6666666666666666,\"#ed7953\"],[0.7777777777777778,\"#fb9f3a\"],[0.8888888888888888,\"#fdca26\"],[1.0,\"#f0f921\"]]}],\"contourcarpet\":[{\"type\":\"contourcarpet\",\"colorbar\":{\"outlinewidth\":0,\"ticks\":\"\"}}],\"contour\":[{\"type\":\"contour\",\"colorbar\":{\"outlinewidth\":0,\"ticks\":\"\"},\"colorscale\":[[0.0,\"#0d0887\"],[0.1111111111111111,\"#46039f\"],[0.2222222222222222,\"#7201a8\"],[0.3333333333333333,\"#9c179e\"],[0.4444444444444444,\"#bd3786\"],[0.5555555555555556,\"#d8576b\"],[0.6666666666666666,\"#ed7953\"],[0.7777777777777778,\"#fb9f3a\"],[0.8888888888888888,\"#fdca26\"],[1.0,\"#f0f921\"]]}],\"surface\":[{\"type\":\"surface\",\"colorbar\":{\"outlinewidth\":0,\"ticks\":\"\"},\"colorscale\":[[0.0,\"#0d0887\"],[0.1111111111111111,\"#46039f\"],[0.2222222222222222,\"#7201a8\"],[0.3333333333333333,\"#9c179e\"],[0.4444444444444444,\"#bd3786\"],[0.5555555555555556,\"#d8576b\"],[0.6666666666666666,\"#ed7953\"],[0.7777777777777778,\"#fb9f3a\"],[0.8888888888888888,\"#fdca26\"],[1.0,\"#f0f921\"]]}],\"mesh3d\":[{\"type\":\"mesh3d\",\"colorbar\":{\"outlinewidth\":0,\"ticks\":\"\"}}],\"scatter\":[{\"fillpattern\":{\"fillmode\":\"overlay\",\"size\":10,\"solidity\":0.2},\"type\":\"scatter\"}],\"parcoords\":[{\"type\":\"parcoords\",\"line\":{\"colorbar\":{\"outlinewidth\":0,\"ticks\":\"\"}}}],\"scatterpolargl\":[{\"type\":\"scatterpolargl\",\"marker\":{\"colorbar\":{\"outlinewidth\":0,\"ticks\":\"\"}}}],\"bar\":[{\"error_x\":{\"color\":\"#2a3f5f\"},\"error_y\":{\"color\":\"#2a3f5f\"},\"marker\":{\"line\":{\"color\":\"#E5ECF6\",\"width\":0.5},\"pattern\":{\"fillmode\":\"overlay\",\"size\":10,\"solidity\":0.2}},\"type\":\"bar\"}],\"scattergeo\":[{\"type\":\"scattergeo\",\"marker\":{\"colorbar\":{\"outlinewidth\":0,\"ticks\":\"\"}}}],\"scatterpolar\":[{\"type\":\"scatterpolar\",\"marker\":{\"colorbar\":{\"outlinewidth\":0,\"ticks\":\"\"}}}],\"histogram\":[{\"marker\":{\"pattern\":{\"fillmode\":\"overlay\",\"size\":10,\"solidity\":0.2}},\"type\":\"histogram\"}],\"scattergl\":[{\"type\":\"scattergl\",\"marker\":{\"colorbar\":{\"outlinewidth\":0,\"ticks\":\"\"}}}],\"scatter3d\":[{\"type\":\"scatter3d\",\"line\":{\"colorbar\":{\"outlinewidth\":0,\"ticks\":\"\"}},\"marker\":{\"colorbar\":{\"outlinewidth\":0,\"ticks\":\"\"}}}],\"scattermapbox\":[{\"type\":\"scattermapbox\",\"marker\":{\"colorbar\":{\"outlinewidth\":0,\"ticks\":\"\"}}}],\"scatterternary\":[{\"type\":\"scatterternary\",\"marker\":{\"colorbar\":{\"outlinewidth\":0,\"ticks\":\"\"}}}],\"scattercarpet\":[{\"type\":\"scattercarpet\",\"marker\":{\"colorbar\":{\"outlinewidth\":0,\"ticks\":\"\"}}}],\"carpet\":[{\"aaxis\":{\"endlinecolor\":\"#2a3f5f\",\"gridcolor\":\"white\",\"linecolor\":\"white\",\"minorgridcolor\":\"white\",\"startlinecolor\":\"#2a3f5f\"},\"baxis\":{\"endlinecolor\":\"#2a3f5f\",\"gridcolor\":\"white\",\"linecolor\":\"white\",\"minorgridcolor\":\"white\",\"startlinecolor\":\"#2a3f5f\"},\"type\":\"carpet\"}],\"table\":[{\"cells\":{\"fill\":{\"color\":\"#EBF0F8\"},\"line\":{\"color\":\"white\"}},\"header\":{\"fill\":{\"color\":\"#C8D4E3\"},\"line\":{\"color\":\"white\"}},\"type\":\"table\"}],\"barpolar\":[{\"marker\":{\"line\":{\"color\":\"#E5ECF6\",\"width\":0.5},\"pattern\":{\"fillmode\":\"overlay\",\"size\":10,\"solidity\":0.2}},\"type\":\"barpolar\"}],\"pie\":[{\"automargin\":true,\"type\":\"pie\"}]},\"layout\":{\"autotypenumbers\":\"strict\",\"colorway\":[\"#636efa\",\"#EF553B\",\"#00cc96\",\"#ab63fa\",\"#FFA15A\",\"#19d3f3\",\"#FF6692\",\"#B6E880\",\"#FF97FF\",\"#FECB52\"],\"font\":{\"color\":\"#2a3f5f\"},\"hovermode\":\"closest\",\"hoverlabel\":{\"align\":\"left\"},\"paper_bgcolor\":\"white\",\"plot_bgcolor\":\"#E5ECF6\",\"polar\":{\"bgcolor\":\"#E5ECF6\",\"angularaxis\":{\"gridcolor\":\"white\",\"linecolor\":\"white\",\"ticks\":\"\"},\"radialaxis\":{\"gridcolor\":\"white\",\"linecolor\":\"white\",\"ticks\":\"\"}},\"ternary\":{\"bgcolor\":\"#E5ECF6\",\"aaxis\":{\"gridcolor\":\"white\",\"linecolor\":\"white\",\"ticks\":\"\"},\"baxis\":{\"gridcolor\":\"white\",\"linecolor\":\"white\",\"ticks\":\"\"},\"caxis\":{\"gridcolor\":\"white\",\"linecolor\":\"white\",\"ticks\":\"\"}},\"coloraxis\":{\"colorbar\":{\"outlinewidth\":0,\"ticks\":\"\"}},\"colorscale\":{\"sequential\":[[0.0,\"#0d0887\"],[0.1111111111111111,\"#46039f\"],[0.2222222222222222,\"#7201a8\"],[0.3333333333333333,\"#9c179e\"],[0.4444444444444444,\"#bd3786\"],[0.5555555555555556,\"#d8576b\"],[0.6666666666666666,\"#ed7953\"],[0.7777777777777778,\"#fb9f3a\"],[0.8888888888888888,\"#fdca26\"],[1.0,\"#f0f921\"]],\"sequentialminus\":[[0.0,\"#0d0887\"],[0.1111111111111111,\"#46039f\"],[0.2222222222222222,\"#7201a8\"],[0.3333333333333333,\"#9c179e\"],[0.4444444444444444,\"#bd3786\"],[0.5555555555555556,\"#d8576b\"],[0.6666666666666666,\"#ed7953\"],[0.7777777777777778,\"#fb9f3a\"],[0.8888888888888888,\"#fdca26\"],[1.0,\"#f0f921\"]],\"diverging\":[[0,\"#8e0152\"],[0.1,\"#c51b7d\"],[0.2,\"#de77ae\"],[0.3,\"#f1b6da\"],[0.4,\"#fde0ef\"],[0.5,\"#f7f7f7\"],[0.6,\"#e6f5d0\"],[0.7,\"#b8e186\"],[0.8,\"#7fbc41\"],[0.9,\"#4d9221\"],[1,\"#276419\"]]},\"xaxis\":{\"gridcolor\":\"white\",\"linecolor\":\"white\",\"ticks\":\"\",\"title\":{\"standoff\":15},\"zerolinecolor\":\"white\",\"automargin\":true,\"zerolinewidth\":2},\"yaxis\":{\"gridcolor\":\"white\",\"linecolor\":\"white\",\"ticks\":\"\",\"title\":{\"standoff\":15},\"zerolinecolor\":\"white\",\"automargin\":true,\"zerolinewidth\":2},\"scene\":{\"xaxis\":{\"backgroundcolor\":\"#E5ECF6\",\"gridcolor\":\"white\",\"linecolor\":\"white\",\"showbackground\":true,\"ticks\":\"\",\"zerolinecolor\":\"white\",\"gridwidth\":2},\"yaxis\":{\"backgroundcolor\":\"#E5ECF6\",\"gridcolor\":\"white\",\"linecolor\":\"white\",\"showbackground\":true,\"ticks\":\"\",\"zerolinecolor\":\"white\",\"gridwidth\":2},\"zaxis\":{\"backgroundcolor\":\"#E5ECF6\",\"gridcolor\":\"white\",\"linecolor\":\"white\",\"showbackground\":true,\"ticks\":\"\",\"zerolinecolor\":\"white\",\"gridwidth\":2}},\"shapedefaults\":{\"line\":{\"color\":\"#2a3f5f\"}},\"annotationdefaults\":{\"arrowcolor\":\"#2a3f5f\",\"arrowhead\":0,\"arrowwidth\":1},\"geo\":{\"bgcolor\":\"white\",\"landcolor\":\"#E5ECF6\",\"subunitcolor\":\"white\",\"showland\":true,\"showlakes\":true,\"lakecolor\":\"white\"},\"title\":{\"x\":0.05},\"mapbox\":{\"style\":\"light\"}}},\"xaxis\":{\"anchor\":\"y\",\"domain\":[0.0,1.0],\"title\":{\"text\":\"count\"}},\"yaxis\":{\"anchor\":\"x\",\"domain\":[0.0,1.0],\"title\":{\"text\":\"City\"}},\"legend\":{\"tracegroupgap\":0},\"title\":{\"text\":\"Units avalability according to the location\"},\"barmode\":\"relative\"},                        {\"responsive\": true}                    ).then(function(){\n",
       "                            \n",
       "var gd = document.getElementById('35d83204-7cd2-4e13-9502-72eada0d5396');\n",
       "var x = new MutationObserver(function (mutations, observer) {{\n",
       "        var display = window.getComputedStyle(gd).display;\n",
       "        if (!display || display === 'none') {{\n",
       "            console.log([gd, 'removed!']);\n",
       "            Plotly.purge(gd);\n",
       "            observer.disconnect();\n",
       "        }}\n",
       "}});\n",
       "\n",
       "// Listen for the removal of the full notebook cells\n",
       "var notebookContainer = gd.closest('#notebook-container');\n",
       "if (notebookContainer) {{\n",
       "    x.observe(notebookContainer, {childList: true});\n",
       "}}\n",
       "\n",
       "// Listen for the clearing of the current output cell\n",
       "var outputEl = gd.closest('.output');\n",
       "if (outputEl) {{\n",
       "    x.observe(outputEl, {childList: true});\n",
       "}}\n",
       "\n",
       "                        })                };                });            </script>        </div>"
      ]
     },
     "metadata": {},
     "output_type": "display_data"
    }
   ],
   "source": [
    "fig = px.histogram(df, y =\"City\",color_discrete_sequence = px.colors.qualitative.Dark2, title = \"Units avalability according to the location\",nbins = 100)\n",
    "fig.show()"
   ]
  },
  {
   "cell_type": "code",
   "execution_count": 132,
   "metadata": {},
   "outputs": [
    {
     "data": {
      "application/vnd.plotly.v1+json": {
       "config": {
        "plotlyServerURL": "https://plot.ly"
       },
       "data": [
        {
         "domain": {
          "x": [
           0,
           1
          ],
          "y": [
           0,
           1
          ]
         },
         "hole": 0.4,
         "hovertemplate": "City=%{label}<br>Count=%{value}<extra></extra>",
         "labels": [
          "North Coast",
          "New Cairo - El Tagamoa",
          "Ain Sukhna",
          "Madinaty",
          "Sheikh Zayed",
          "6th of October",
          "Rehab City",
          "New Capital City",
          "Ras Sedr"
         ],
         "legendgroup": "",
         "name": "",
         "showlegend": true,
         "type": "pie",
         "values": [
          1486,
          1141,
          545,
          525,
          248,
          224,
          150,
          115,
          97
         ]
        }
       ],
       "layout": {
        "legend": {
         "tracegroupgap": 0
        },
        "template": {
         "data": {
          "bar": [
           {
            "error_x": {
             "color": "#2a3f5f"
            },
            "error_y": {
             "color": "#2a3f5f"
            },
            "marker": {
             "line": {
              "color": "#E5ECF6",
              "width": 0.5
             },
             "pattern": {
              "fillmode": "overlay",
              "size": 10,
              "solidity": 0.2
             }
            },
            "type": "bar"
           }
          ],
          "barpolar": [
           {
            "marker": {
             "line": {
              "color": "#E5ECF6",
              "width": 0.5
             },
             "pattern": {
              "fillmode": "overlay",
              "size": 10,
              "solidity": 0.2
             }
            },
            "type": "barpolar"
           }
          ],
          "carpet": [
           {
            "aaxis": {
             "endlinecolor": "#2a3f5f",
             "gridcolor": "white",
             "linecolor": "white",
             "minorgridcolor": "white",
             "startlinecolor": "#2a3f5f"
            },
            "baxis": {
             "endlinecolor": "#2a3f5f",
             "gridcolor": "white",
             "linecolor": "white",
             "minorgridcolor": "white",
             "startlinecolor": "#2a3f5f"
            },
            "type": "carpet"
           }
          ],
          "choropleth": [
           {
            "colorbar": {
             "outlinewidth": 0,
             "ticks": ""
            },
            "type": "choropleth"
           }
          ],
          "contour": [
           {
            "colorbar": {
             "outlinewidth": 0,
             "ticks": ""
            },
            "colorscale": [
             [
              0,
              "#0d0887"
             ],
             [
              0.1111111111111111,
              "#46039f"
             ],
             [
              0.2222222222222222,
              "#7201a8"
             ],
             [
              0.3333333333333333,
              "#9c179e"
             ],
             [
              0.4444444444444444,
              "#bd3786"
             ],
             [
              0.5555555555555556,
              "#d8576b"
             ],
             [
              0.6666666666666666,
              "#ed7953"
             ],
             [
              0.7777777777777778,
              "#fb9f3a"
             ],
             [
              0.8888888888888888,
              "#fdca26"
             ],
             [
              1,
              "#f0f921"
             ]
            ],
            "type": "contour"
           }
          ],
          "contourcarpet": [
           {
            "colorbar": {
             "outlinewidth": 0,
             "ticks": ""
            },
            "type": "contourcarpet"
           }
          ],
          "heatmap": [
           {
            "colorbar": {
             "outlinewidth": 0,
             "ticks": ""
            },
            "colorscale": [
             [
              0,
              "#0d0887"
             ],
             [
              0.1111111111111111,
              "#46039f"
             ],
             [
              0.2222222222222222,
              "#7201a8"
             ],
             [
              0.3333333333333333,
              "#9c179e"
             ],
             [
              0.4444444444444444,
              "#bd3786"
             ],
             [
              0.5555555555555556,
              "#d8576b"
             ],
             [
              0.6666666666666666,
              "#ed7953"
             ],
             [
              0.7777777777777778,
              "#fb9f3a"
             ],
             [
              0.8888888888888888,
              "#fdca26"
             ],
             [
              1,
              "#f0f921"
             ]
            ],
            "type": "heatmap"
           }
          ],
          "heatmapgl": [
           {
            "colorbar": {
             "outlinewidth": 0,
             "ticks": ""
            },
            "colorscale": [
             [
              0,
              "#0d0887"
             ],
             [
              0.1111111111111111,
              "#46039f"
             ],
             [
              0.2222222222222222,
              "#7201a8"
             ],
             [
              0.3333333333333333,
              "#9c179e"
             ],
             [
              0.4444444444444444,
              "#bd3786"
             ],
             [
              0.5555555555555556,
              "#d8576b"
             ],
             [
              0.6666666666666666,
              "#ed7953"
             ],
             [
              0.7777777777777778,
              "#fb9f3a"
             ],
             [
              0.8888888888888888,
              "#fdca26"
             ],
             [
              1,
              "#f0f921"
             ]
            ],
            "type": "heatmapgl"
           }
          ],
          "histogram": [
           {
            "marker": {
             "pattern": {
              "fillmode": "overlay",
              "size": 10,
              "solidity": 0.2
             }
            },
            "type": "histogram"
           }
          ],
          "histogram2d": [
           {
            "colorbar": {
             "outlinewidth": 0,
             "ticks": ""
            },
            "colorscale": [
             [
              0,
              "#0d0887"
             ],
             [
              0.1111111111111111,
              "#46039f"
             ],
             [
              0.2222222222222222,
              "#7201a8"
             ],
             [
              0.3333333333333333,
              "#9c179e"
             ],
             [
              0.4444444444444444,
              "#bd3786"
             ],
             [
              0.5555555555555556,
              "#d8576b"
             ],
             [
              0.6666666666666666,
              "#ed7953"
             ],
             [
              0.7777777777777778,
              "#fb9f3a"
             ],
             [
              0.8888888888888888,
              "#fdca26"
             ],
             [
              1,
              "#f0f921"
             ]
            ],
            "type": "histogram2d"
           }
          ],
          "histogram2dcontour": [
           {
            "colorbar": {
             "outlinewidth": 0,
             "ticks": ""
            },
            "colorscale": [
             [
              0,
              "#0d0887"
             ],
             [
              0.1111111111111111,
              "#46039f"
             ],
             [
              0.2222222222222222,
              "#7201a8"
             ],
             [
              0.3333333333333333,
              "#9c179e"
             ],
             [
              0.4444444444444444,
              "#bd3786"
             ],
             [
              0.5555555555555556,
              "#d8576b"
             ],
             [
              0.6666666666666666,
              "#ed7953"
             ],
             [
              0.7777777777777778,
              "#fb9f3a"
             ],
             [
              0.8888888888888888,
              "#fdca26"
             ],
             [
              1,
              "#f0f921"
             ]
            ],
            "type": "histogram2dcontour"
           }
          ],
          "mesh3d": [
           {
            "colorbar": {
             "outlinewidth": 0,
             "ticks": ""
            },
            "type": "mesh3d"
           }
          ],
          "parcoords": [
           {
            "line": {
             "colorbar": {
              "outlinewidth": 0,
              "ticks": ""
             }
            },
            "type": "parcoords"
           }
          ],
          "pie": [
           {
            "automargin": true,
            "type": "pie"
           }
          ],
          "scatter": [
           {
            "fillpattern": {
             "fillmode": "overlay",
             "size": 10,
             "solidity": 0.2
            },
            "type": "scatter"
           }
          ],
          "scatter3d": [
           {
            "line": {
             "colorbar": {
              "outlinewidth": 0,
              "ticks": ""
             }
            },
            "marker": {
             "colorbar": {
              "outlinewidth": 0,
              "ticks": ""
             }
            },
            "type": "scatter3d"
           }
          ],
          "scattercarpet": [
           {
            "marker": {
             "colorbar": {
              "outlinewidth": 0,
              "ticks": ""
             }
            },
            "type": "scattercarpet"
           }
          ],
          "scattergeo": [
           {
            "marker": {
             "colorbar": {
              "outlinewidth": 0,
              "ticks": ""
             }
            },
            "type": "scattergeo"
           }
          ],
          "scattergl": [
           {
            "marker": {
             "colorbar": {
              "outlinewidth": 0,
              "ticks": ""
             }
            },
            "type": "scattergl"
           }
          ],
          "scattermapbox": [
           {
            "marker": {
             "colorbar": {
              "outlinewidth": 0,
              "ticks": ""
             }
            },
            "type": "scattermapbox"
           }
          ],
          "scatterpolar": [
           {
            "marker": {
             "colorbar": {
              "outlinewidth": 0,
              "ticks": ""
             }
            },
            "type": "scatterpolar"
           }
          ],
          "scatterpolargl": [
           {
            "marker": {
             "colorbar": {
              "outlinewidth": 0,
              "ticks": ""
             }
            },
            "type": "scatterpolargl"
           }
          ],
          "scatterternary": [
           {
            "marker": {
             "colorbar": {
              "outlinewidth": 0,
              "ticks": ""
             }
            },
            "type": "scatterternary"
           }
          ],
          "surface": [
           {
            "colorbar": {
             "outlinewidth": 0,
             "ticks": ""
            },
            "colorscale": [
             [
              0,
              "#0d0887"
             ],
             [
              0.1111111111111111,
              "#46039f"
             ],
             [
              0.2222222222222222,
              "#7201a8"
             ],
             [
              0.3333333333333333,
              "#9c179e"
             ],
             [
              0.4444444444444444,
              "#bd3786"
             ],
             [
              0.5555555555555556,
              "#d8576b"
             ],
             [
              0.6666666666666666,
              "#ed7953"
             ],
             [
              0.7777777777777778,
              "#fb9f3a"
             ],
             [
              0.8888888888888888,
              "#fdca26"
             ],
             [
              1,
              "#f0f921"
             ]
            ],
            "type": "surface"
           }
          ],
          "table": [
           {
            "cells": {
             "fill": {
              "color": "#EBF0F8"
             },
             "line": {
              "color": "white"
             }
            },
            "header": {
             "fill": {
              "color": "#C8D4E3"
             },
             "line": {
              "color": "white"
             }
            },
            "type": "table"
           }
          ]
         },
         "layout": {
          "annotationdefaults": {
           "arrowcolor": "#2a3f5f",
           "arrowhead": 0,
           "arrowwidth": 1
          },
          "autotypenumbers": "strict",
          "coloraxis": {
           "colorbar": {
            "outlinewidth": 0,
            "ticks": ""
           }
          },
          "colorscale": {
           "diverging": [
            [
             0,
             "#8e0152"
            ],
            [
             0.1,
             "#c51b7d"
            ],
            [
             0.2,
             "#de77ae"
            ],
            [
             0.3,
             "#f1b6da"
            ],
            [
             0.4,
             "#fde0ef"
            ],
            [
             0.5,
             "#f7f7f7"
            ],
            [
             0.6,
             "#e6f5d0"
            ],
            [
             0.7,
             "#b8e186"
            ],
            [
             0.8,
             "#7fbc41"
            ],
            [
             0.9,
             "#4d9221"
            ],
            [
             1,
             "#276419"
            ]
           ],
           "sequential": [
            [
             0,
             "#0d0887"
            ],
            [
             0.1111111111111111,
             "#46039f"
            ],
            [
             0.2222222222222222,
             "#7201a8"
            ],
            [
             0.3333333333333333,
             "#9c179e"
            ],
            [
             0.4444444444444444,
             "#bd3786"
            ],
            [
             0.5555555555555556,
             "#d8576b"
            ],
            [
             0.6666666666666666,
             "#ed7953"
            ],
            [
             0.7777777777777778,
             "#fb9f3a"
            ],
            [
             0.8888888888888888,
             "#fdca26"
            ],
            [
             1,
             "#f0f921"
            ]
           ],
           "sequentialminus": [
            [
             0,
             "#0d0887"
            ],
            [
             0.1111111111111111,
             "#46039f"
            ],
            [
             0.2222222222222222,
             "#7201a8"
            ],
            [
             0.3333333333333333,
             "#9c179e"
            ],
            [
             0.4444444444444444,
             "#bd3786"
            ],
            [
             0.5555555555555556,
             "#d8576b"
            ],
            [
             0.6666666666666666,
             "#ed7953"
            ],
            [
             0.7777777777777778,
             "#fb9f3a"
            ],
            [
             0.8888888888888888,
             "#fdca26"
            ],
            [
             1,
             "#f0f921"
            ]
           ]
          },
          "colorway": [
           "#636efa",
           "#EF553B",
           "#00cc96",
           "#ab63fa",
           "#FFA15A",
           "#19d3f3",
           "#FF6692",
           "#B6E880",
           "#FF97FF",
           "#FECB52"
          ],
          "font": {
           "color": "#2a3f5f"
          },
          "geo": {
           "bgcolor": "white",
           "lakecolor": "white",
           "landcolor": "#E5ECF6",
           "showlakes": true,
           "showland": true,
           "subunitcolor": "white"
          },
          "hoverlabel": {
           "align": "left"
          },
          "hovermode": "closest",
          "mapbox": {
           "style": "light"
          },
          "paper_bgcolor": "white",
          "plot_bgcolor": "#E5ECF6",
          "polar": {
           "angularaxis": {
            "gridcolor": "white",
            "linecolor": "white",
            "ticks": ""
           },
           "bgcolor": "#E5ECF6",
           "radialaxis": {
            "gridcolor": "white",
            "linecolor": "white",
            "ticks": ""
           }
          },
          "scene": {
           "xaxis": {
            "backgroundcolor": "#E5ECF6",
            "gridcolor": "white",
            "gridwidth": 2,
            "linecolor": "white",
            "showbackground": true,
            "ticks": "",
            "zerolinecolor": "white"
           },
           "yaxis": {
            "backgroundcolor": "#E5ECF6",
            "gridcolor": "white",
            "gridwidth": 2,
            "linecolor": "white",
            "showbackground": true,
            "ticks": "",
            "zerolinecolor": "white"
           },
           "zaxis": {
            "backgroundcolor": "#E5ECF6",
            "gridcolor": "white",
            "gridwidth": 2,
            "linecolor": "white",
            "showbackground": true,
            "ticks": "",
            "zerolinecolor": "white"
           }
          },
          "shapedefaults": {
           "line": {
            "color": "#2a3f5f"
           }
          },
          "ternary": {
           "aaxis": {
            "gridcolor": "white",
            "linecolor": "white",
            "ticks": ""
           },
           "baxis": {
            "gridcolor": "white",
            "linecolor": "white",
            "ticks": ""
           },
           "bgcolor": "#E5ECF6",
           "caxis": {
            "gridcolor": "white",
            "linecolor": "white",
            "ticks": ""
           }
          },
          "title": {
           "x": 0.05
          },
          "xaxis": {
           "automargin": true,
           "gridcolor": "white",
           "linecolor": "white",
           "ticks": "",
           "title": {
            "standoff": 15
           },
           "zerolinecolor": "white",
           "zerolinewidth": 2
          },
          "yaxis": {
           "automargin": true,
           "gridcolor": "white",
           "linecolor": "white",
           "ticks": "",
           "title": {
            "standoff": 15
           },
           "zerolinecolor": "white",
           "zerolinewidth": 2
          }
         }
        },
        "title": {
         "text": "Top 9 Cities"
        }
       }
      },
      "text/html": [
       "<div>                            <div id=\"18084768-7307-420b-97e0-1ef1adc09a10\" class=\"plotly-graph-div\" style=\"height:525px; width:100%;\"></div>            <script type=\"text/javascript\">                require([\"plotly\"], function(Plotly) {                    window.PLOTLYENV=window.PLOTLYENV || {};                                    if (document.getElementById(\"18084768-7307-420b-97e0-1ef1adc09a10\")) {                    Plotly.newPlot(                        \"18084768-7307-420b-97e0-1ef1adc09a10\",                        [{\"domain\":{\"x\":[0.0,1.0],\"y\":[0.0,1.0]},\"hole\":0.4,\"hovertemplate\":\"City=%{label}\\u003cbr\\u003eCount=%{value}\\u003cextra\\u003e\\u003c\\u002fextra\\u003e\",\"labels\":[\"North Coast\",\"New Cairo - El Tagamoa\",\"Ain Sukhna\",\"Madinaty\",\"Sheikh Zayed\",\"6th of October\",\"Rehab City\",\"New Capital City\",\"Ras Sedr\"],\"legendgroup\":\"\",\"name\":\"\",\"showlegend\":true,\"values\":[1486,1141,545,525,248,224,150,115,97],\"type\":\"pie\"}],                        {\"template\":{\"data\":{\"histogram2dcontour\":[{\"type\":\"histogram2dcontour\",\"colorbar\":{\"outlinewidth\":0,\"ticks\":\"\"},\"colorscale\":[[0.0,\"#0d0887\"],[0.1111111111111111,\"#46039f\"],[0.2222222222222222,\"#7201a8\"],[0.3333333333333333,\"#9c179e\"],[0.4444444444444444,\"#bd3786\"],[0.5555555555555556,\"#d8576b\"],[0.6666666666666666,\"#ed7953\"],[0.7777777777777778,\"#fb9f3a\"],[0.8888888888888888,\"#fdca26\"],[1.0,\"#f0f921\"]]}],\"choropleth\":[{\"type\":\"choropleth\",\"colorbar\":{\"outlinewidth\":0,\"ticks\":\"\"}}],\"histogram2d\":[{\"type\":\"histogram2d\",\"colorbar\":{\"outlinewidth\":0,\"ticks\":\"\"},\"colorscale\":[[0.0,\"#0d0887\"],[0.1111111111111111,\"#46039f\"],[0.2222222222222222,\"#7201a8\"],[0.3333333333333333,\"#9c179e\"],[0.4444444444444444,\"#bd3786\"],[0.5555555555555556,\"#d8576b\"],[0.6666666666666666,\"#ed7953\"],[0.7777777777777778,\"#fb9f3a\"],[0.8888888888888888,\"#fdca26\"],[1.0,\"#f0f921\"]]}],\"heatmap\":[{\"type\":\"heatmap\",\"colorbar\":{\"outlinewidth\":0,\"ticks\":\"\"},\"colorscale\":[[0.0,\"#0d0887\"],[0.1111111111111111,\"#46039f\"],[0.2222222222222222,\"#7201a8\"],[0.3333333333333333,\"#9c179e\"],[0.4444444444444444,\"#bd3786\"],[0.5555555555555556,\"#d8576b\"],[0.6666666666666666,\"#ed7953\"],[0.7777777777777778,\"#fb9f3a\"],[0.8888888888888888,\"#fdca26\"],[1.0,\"#f0f921\"]]}],\"heatmapgl\":[{\"type\":\"heatmapgl\",\"colorbar\":{\"outlinewidth\":0,\"ticks\":\"\"},\"colorscale\":[[0.0,\"#0d0887\"],[0.1111111111111111,\"#46039f\"],[0.2222222222222222,\"#7201a8\"],[0.3333333333333333,\"#9c179e\"],[0.4444444444444444,\"#bd3786\"],[0.5555555555555556,\"#d8576b\"],[0.6666666666666666,\"#ed7953\"],[0.7777777777777778,\"#fb9f3a\"],[0.8888888888888888,\"#fdca26\"],[1.0,\"#f0f921\"]]}],\"contourcarpet\":[{\"type\":\"contourcarpet\",\"colorbar\":{\"outlinewidth\":0,\"ticks\":\"\"}}],\"contour\":[{\"type\":\"contour\",\"colorbar\":{\"outlinewidth\":0,\"ticks\":\"\"},\"colorscale\":[[0.0,\"#0d0887\"],[0.1111111111111111,\"#46039f\"],[0.2222222222222222,\"#7201a8\"],[0.3333333333333333,\"#9c179e\"],[0.4444444444444444,\"#bd3786\"],[0.5555555555555556,\"#d8576b\"],[0.6666666666666666,\"#ed7953\"],[0.7777777777777778,\"#fb9f3a\"],[0.8888888888888888,\"#fdca26\"],[1.0,\"#f0f921\"]]}],\"surface\":[{\"type\":\"surface\",\"colorbar\":{\"outlinewidth\":0,\"ticks\":\"\"},\"colorscale\":[[0.0,\"#0d0887\"],[0.1111111111111111,\"#46039f\"],[0.2222222222222222,\"#7201a8\"],[0.3333333333333333,\"#9c179e\"],[0.4444444444444444,\"#bd3786\"],[0.5555555555555556,\"#d8576b\"],[0.6666666666666666,\"#ed7953\"],[0.7777777777777778,\"#fb9f3a\"],[0.8888888888888888,\"#fdca26\"],[1.0,\"#f0f921\"]]}],\"mesh3d\":[{\"type\":\"mesh3d\",\"colorbar\":{\"outlinewidth\":0,\"ticks\":\"\"}}],\"scatter\":[{\"fillpattern\":{\"fillmode\":\"overlay\",\"size\":10,\"solidity\":0.2},\"type\":\"scatter\"}],\"parcoords\":[{\"type\":\"parcoords\",\"line\":{\"colorbar\":{\"outlinewidth\":0,\"ticks\":\"\"}}}],\"scatterpolargl\":[{\"type\":\"scatterpolargl\",\"marker\":{\"colorbar\":{\"outlinewidth\":0,\"ticks\":\"\"}}}],\"bar\":[{\"error_x\":{\"color\":\"#2a3f5f\"},\"error_y\":{\"color\":\"#2a3f5f\"},\"marker\":{\"line\":{\"color\":\"#E5ECF6\",\"width\":0.5},\"pattern\":{\"fillmode\":\"overlay\",\"size\":10,\"solidity\":0.2}},\"type\":\"bar\"}],\"scattergeo\":[{\"type\":\"scattergeo\",\"marker\":{\"colorbar\":{\"outlinewidth\":0,\"ticks\":\"\"}}}],\"scatterpolar\":[{\"type\":\"scatterpolar\",\"marker\":{\"colorbar\":{\"outlinewidth\":0,\"ticks\":\"\"}}}],\"histogram\":[{\"marker\":{\"pattern\":{\"fillmode\":\"overlay\",\"size\":10,\"solidity\":0.2}},\"type\":\"histogram\"}],\"scattergl\":[{\"type\":\"scattergl\",\"marker\":{\"colorbar\":{\"outlinewidth\":0,\"ticks\":\"\"}}}],\"scatter3d\":[{\"type\":\"scatter3d\",\"line\":{\"colorbar\":{\"outlinewidth\":0,\"ticks\":\"\"}},\"marker\":{\"colorbar\":{\"outlinewidth\":0,\"ticks\":\"\"}}}],\"scattermapbox\":[{\"type\":\"scattermapbox\",\"marker\":{\"colorbar\":{\"outlinewidth\":0,\"ticks\":\"\"}}}],\"scatterternary\":[{\"type\":\"scatterternary\",\"marker\":{\"colorbar\":{\"outlinewidth\":0,\"ticks\":\"\"}}}],\"scattercarpet\":[{\"type\":\"scattercarpet\",\"marker\":{\"colorbar\":{\"outlinewidth\":0,\"ticks\":\"\"}}}],\"carpet\":[{\"aaxis\":{\"endlinecolor\":\"#2a3f5f\",\"gridcolor\":\"white\",\"linecolor\":\"white\",\"minorgridcolor\":\"white\",\"startlinecolor\":\"#2a3f5f\"},\"baxis\":{\"endlinecolor\":\"#2a3f5f\",\"gridcolor\":\"white\",\"linecolor\":\"white\",\"minorgridcolor\":\"white\",\"startlinecolor\":\"#2a3f5f\"},\"type\":\"carpet\"}],\"table\":[{\"cells\":{\"fill\":{\"color\":\"#EBF0F8\"},\"line\":{\"color\":\"white\"}},\"header\":{\"fill\":{\"color\":\"#C8D4E3\"},\"line\":{\"color\":\"white\"}},\"type\":\"table\"}],\"barpolar\":[{\"marker\":{\"line\":{\"color\":\"#E5ECF6\",\"width\":0.5},\"pattern\":{\"fillmode\":\"overlay\",\"size\":10,\"solidity\":0.2}},\"type\":\"barpolar\"}],\"pie\":[{\"automargin\":true,\"type\":\"pie\"}]},\"layout\":{\"autotypenumbers\":\"strict\",\"colorway\":[\"#636efa\",\"#EF553B\",\"#00cc96\",\"#ab63fa\",\"#FFA15A\",\"#19d3f3\",\"#FF6692\",\"#B6E880\",\"#FF97FF\",\"#FECB52\"],\"font\":{\"color\":\"#2a3f5f\"},\"hovermode\":\"closest\",\"hoverlabel\":{\"align\":\"left\"},\"paper_bgcolor\":\"white\",\"plot_bgcolor\":\"#E5ECF6\",\"polar\":{\"bgcolor\":\"#E5ECF6\",\"angularaxis\":{\"gridcolor\":\"white\",\"linecolor\":\"white\",\"ticks\":\"\"},\"radialaxis\":{\"gridcolor\":\"white\",\"linecolor\":\"white\",\"ticks\":\"\"}},\"ternary\":{\"bgcolor\":\"#E5ECF6\",\"aaxis\":{\"gridcolor\":\"white\",\"linecolor\":\"white\",\"ticks\":\"\"},\"baxis\":{\"gridcolor\":\"white\",\"linecolor\":\"white\",\"ticks\":\"\"},\"caxis\":{\"gridcolor\":\"white\",\"linecolor\":\"white\",\"ticks\":\"\"}},\"coloraxis\":{\"colorbar\":{\"outlinewidth\":0,\"ticks\":\"\"}},\"colorscale\":{\"sequential\":[[0.0,\"#0d0887\"],[0.1111111111111111,\"#46039f\"],[0.2222222222222222,\"#7201a8\"],[0.3333333333333333,\"#9c179e\"],[0.4444444444444444,\"#bd3786\"],[0.5555555555555556,\"#d8576b\"],[0.6666666666666666,\"#ed7953\"],[0.7777777777777778,\"#fb9f3a\"],[0.8888888888888888,\"#fdca26\"],[1.0,\"#f0f921\"]],\"sequentialminus\":[[0.0,\"#0d0887\"],[0.1111111111111111,\"#46039f\"],[0.2222222222222222,\"#7201a8\"],[0.3333333333333333,\"#9c179e\"],[0.4444444444444444,\"#bd3786\"],[0.5555555555555556,\"#d8576b\"],[0.6666666666666666,\"#ed7953\"],[0.7777777777777778,\"#fb9f3a\"],[0.8888888888888888,\"#fdca26\"],[1.0,\"#f0f921\"]],\"diverging\":[[0,\"#8e0152\"],[0.1,\"#c51b7d\"],[0.2,\"#de77ae\"],[0.3,\"#f1b6da\"],[0.4,\"#fde0ef\"],[0.5,\"#f7f7f7\"],[0.6,\"#e6f5d0\"],[0.7,\"#b8e186\"],[0.8,\"#7fbc41\"],[0.9,\"#4d9221\"],[1,\"#276419\"]]},\"xaxis\":{\"gridcolor\":\"white\",\"linecolor\":\"white\",\"ticks\":\"\",\"title\":{\"standoff\":15},\"zerolinecolor\":\"white\",\"automargin\":true,\"zerolinewidth\":2},\"yaxis\":{\"gridcolor\":\"white\",\"linecolor\":\"white\",\"ticks\":\"\",\"title\":{\"standoff\":15},\"zerolinecolor\":\"white\",\"automargin\":true,\"zerolinewidth\":2},\"scene\":{\"xaxis\":{\"backgroundcolor\":\"#E5ECF6\",\"gridcolor\":\"white\",\"linecolor\":\"white\",\"showbackground\":true,\"ticks\":\"\",\"zerolinecolor\":\"white\",\"gridwidth\":2},\"yaxis\":{\"backgroundcolor\":\"#E5ECF6\",\"gridcolor\":\"white\",\"linecolor\":\"white\",\"showbackground\":true,\"ticks\":\"\",\"zerolinecolor\":\"white\",\"gridwidth\":2},\"zaxis\":{\"backgroundcolor\":\"#E5ECF6\",\"gridcolor\":\"white\",\"linecolor\":\"white\",\"showbackground\":true,\"ticks\":\"\",\"zerolinecolor\":\"white\",\"gridwidth\":2}},\"shapedefaults\":{\"line\":{\"color\":\"#2a3f5f\"}},\"annotationdefaults\":{\"arrowcolor\":\"#2a3f5f\",\"arrowhead\":0,\"arrowwidth\":1},\"geo\":{\"bgcolor\":\"white\",\"landcolor\":\"#E5ECF6\",\"subunitcolor\":\"white\",\"showland\":true,\"showlakes\":true,\"lakecolor\":\"white\"},\"title\":{\"x\":0.05},\"mapbox\":{\"style\":\"light\"}}},\"legend\":{\"tracegroupgap\":0},\"title\":{\"text\":\"Top 9 Cities\"}},                        {\"responsive\": true}                    ).then(function(){\n",
       "                            \n",
       "var gd = document.getElementById('18084768-7307-420b-97e0-1ef1adc09a10');\n",
       "var x = new MutationObserver(function (mutations, observer) {{\n",
       "        var display = window.getComputedStyle(gd).display;\n",
       "        if (!display || display === 'none') {{\n",
       "            console.log([gd, 'removed!']);\n",
       "            Plotly.purge(gd);\n",
       "            observer.disconnect();\n",
       "        }}\n",
       "}});\n",
       "\n",
       "// Listen for the removal of the full notebook cells\n",
       "var notebookContainer = gd.closest('#notebook-container');\n",
       "if (notebookContainer) {{\n",
       "    x.observe(notebookContainer, {childList: true});\n",
       "}}\n",
       "\n",
       "// Listen for the clearing of the current output cell\n",
       "var outputEl = gd.closest('.output');\n",
       "if (outputEl) {{\n",
       "    x.observe(outputEl, {childList: true});\n",
       "}}\n",
       "\n",
       "                        })                };                });            </script>        </div>"
      ]
     },
     "metadata": {},
     "output_type": "display_data"
    }
   ],
   "source": [
    "top_count_cities = df.City.value_counts().head(9).reset_index()\n",
    "top_count_cities.columns = [\"City\",\"Count\"]\n",
    "\n",
    "px.pie(data_frame= top_count_cities,names=\"City\",values = \"Count\",hole =0.4,title = \"Top 9 Cities\")"
   ]
  },
  {
   "cell_type": "markdown",
   "metadata": {},
   "source": [
    "<a id=\"1\"></a>\n",
    "# <p style=\"padding:10px;background-color:#00A08B;margin:0;color:White;font-family:Georgia;font-size:100%;text-align:center;border-radius: 15px 50px;overflow:hidden;font-weight:500\">As shown North Coast is the most frequent city</p>"
   ]
  },
  {
   "cell_type": "markdown",
   "metadata": {},
   "source": [
    "## What is the affect of city ,area and type on price of homes"
   ]
  },
  {
   "cell_type": "markdown",
   "metadata": {},
   "source": [
    "* City and price"
   ]
  },
  {
   "cell_type": "code",
   "execution_count": 133,
   "metadata": {},
   "outputs": [
    {
     "data": {
      "text/plain": [
       "City\n",
       "10th of Ramadan    6.500000e+05\n",
       "6th of October     2.865693e+06\n",
       "Abu Talat          1.125000e+06\n",
       "Agami              6.350000e+05\n",
       "Ain Shams          4.000000e+05\n",
       "                       ...     \n",
       "Warraq             2.650000e+05\n",
       "West Somid         4.500000e+06\n",
       "Zagazig            2.600000e+06\n",
       "Zahraa Al Maadi    1.633190e+06\n",
       "Zamalek            1.090000e+06\n",
       "Name: Price, Length: 86, dtype: float64"
      ]
     },
     "execution_count": 133,
     "metadata": {},
     "output_type": "execute_result"
    }
   ],
   "source": [
    "df.groupby(\"City\")[\"Price\"].mean()"
   ]
  },
  {
   "cell_type": "code",
   "execution_count": 134,
   "metadata": {},
   "outputs": [
    {
     "data": {
      "image/png": "[encoded data removed]",
      "text/plain": [
       "<Figure size 432x288 with 1 Axes>"
      ]
     },
     "metadata": {
      "needs_background": "light"
     },
     "output_type": "display_data"
    }
   ],
   "source": [
    "top_Price_cities = pd.DataFrame(data = df.groupby(\"City\").Price.mean().sort_values(ascending = False).head(9))\n",
    "top_Price_cities = top_Price_cities.rename(columns = {\"City\":\"City\",\"City\":\"Price\"})\n",
    "top_Price_cities = top_Price_cities.reset_index()\n",
    "\n",
    "fig = sns.barplot(data = top_Price_cities , x = \"City\",y=\"Price\",palette = \"icefire\")\n",
    "plt.xticks(rotation=45)\n",
    "plt.show()"
   ]
  },
  {
   "cell_type": "code",
   "execution_count": 135,
   "metadata": {},
   "outputs": [
    {
     "data": {
      "application/vnd.plotly.v1+json": {
       "config": {
        "plotlyServerURL": "https://plot.ly"
       },
       "data": [
        {
         "alignmentgroup": "True",
         "bingroup": "x",
         "histfunc": "sum",
         "hovertemplate": "City=%{x}<br>sum of Price=%{y}<extra></extra>",
         "legendgroup": "",
         "marker": {
          "color": "#1F77B4",
          "pattern": {
           "shape": ""
          }
         },
         "name": "",
         "offsetgroup": "",
         "orientation": "v",
         "showlegend": false,
         "type": "histogram",
         "x": [
          "Gouna",
          "San Stefano",
          "Glim",
          "North Coast",
          "Camp Caesar",
          "West Somid",
          "Laurent",
          "Sheikh Zayed",
          "Moharam Bik"
         ],
         "xaxis": "x",
         "y": [
          9084437.5,
          5500000,
          5212500,
          5001318.286002692,
          4825000,
          4500000,
          4166666.6666666665,
          3827064.2016129033,
          3821117
         ],
         "yaxis": "y"
        },
        {
         "alignmentgroup": "True",
         "hovertemplate": "City=%{x}<extra></extra>",
         "legendgroup": "",
         "marker": {
          "color": "#1F77B4"
         },
         "name": "",
         "notched": true,
         "offsetgroup": "",
         "showlegend": false,
         "type": "box",
         "x": [
          "Gouna",
          "San Stefano",
          "Glim",
          "North Coast",
          "Camp Caesar",
          "West Somid",
          "Laurent",
          "Sheikh Zayed",
          "Moharam Bik"
         ],
         "xaxis": "x2",
         "yaxis": "y2"
        }
       ],
       "layout": {
        "barmode": "relative",
        "legend": {
         "tracegroupgap": 0
        },
        "template": {
         "data": {
          "bar": [
           {
            "error_x": {
             "color": "#2a3f5f"
            },
            "error_y": {
             "color": "#2a3f5f"
            },
            "marker": {
             "line": {
              "color": "#E5ECF6",
              "width": 0.5
             },
             "pattern": {
              "fillmode": "overlay",
              "size": 10,
              "solidity": 0.2
             }
            },
            "type": "bar"
           }
          ],
          "barpolar": [
           {
            "marker": {
             "line": {
              "color": "#E5ECF6",
              "width": 0.5
             },
             "pattern": {
              "fillmode": "overlay",
              "size": 10,
              "solidity": 0.2
             }
            },
            "type": "barpolar"
           }
          ],
          "carpet": [
           {
            "aaxis": {
             "endlinecolor": "#2a3f5f",
             "gridcolor": "white",
             "linecolor": "white",
             "minorgridcolor": "white",
             "startlinecolor": "#2a3f5f"
            },
            "baxis": {
             "endlinecolor": "#2a3f5f",
             "gridcolor": "white",
             "linecolor": "white",
             "minorgridcolor": "white",
             "startlinecolor": "#2a3f5f"
            },
            "type": "carpet"
           }
          ],
          "choropleth": [
           {
            "colorbar": {
             "outlinewidth": 0,
             "ticks": ""
            },
            "type": "choropleth"
           }
          ],
          "contour": [
           {
            "colorbar": {
             "outlinewidth": 0,
             "ticks": ""
            },
            "colorscale": [
             [
              0,
              "#0d0887"
             ],
             [
              0.1111111111111111,
              "#46039f"
             ],
             [
              0.2222222222222222,
              "#7201a8"
             ],
             [
              0.3333333333333333,
              "#9c179e"
             ],
             [
              0.4444444444444444,
              "#bd3786"
             ],
             [
              0.5555555555555556,
              "#d8576b"
             ],
             [
              0.6666666666666666,
              "#ed7953"
             ],
             [
              0.7777777777777778,
              "#fb9f3a"
             ],
             [
              0.8888888888888888,
              "#fdca26"
             ],
             [
              1,
              "#f0f921"
             ]
            ],
            "type": "contour"
           }
          ],
          "contourcarpet": [
           {
            "colorbar": {
             "outlinewidth": 0,
             "ticks": ""
            },
            "type": "contourcarpet"
           }
          ],
          "heatmap": [
           {
            "colorbar": {
             "outlinewidth": 0,
             "ticks": ""
            },
            "colorscale": [
             [
              0,
              "#0d0887"
             ],
             [
              0.1111111111111111,
              "#46039f"
             ],
             [
              0.2222222222222222,
              "#7201a8"
             ],
             [
              0.3333333333333333,
              "#9c179e"
             ],
             [
              0.4444444444444444,
              "#bd3786"
             ],
             [
              0.5555555555555556,
              "#d8576b"
             ],
             [
              0.6666666666666666,
              "#ed7953"
             ],
             [
              0.7777777777777778,
              "#fb9f3a"
             ],
             [
              0.8888888888888888,
              "#fdca26"
             ],
             [
              1,
              "#f0f921"
             ]
            ],
            "type": "heatmap"
           }
          ],
          "heatmapgl": [
           {
            "colorbar": {
             "outlinewidth": 0,
             "ticks": ""
            },
            "colorscale": [
             [
              0,
              "#0d0887"
             ],
             [
              0.1111111111111111,
              "#46039f"
             ],
             [
              0.2222222222222222,
              "#7201a8"
             ],
             [
              0.3333333333333333,
              "#9c179e"
             ],
             [
              0.4444444444444444,
              "#bd3786"
             ],
             [
              0.5555555555555556,
              "#d8576b"
             ],
             [
              0.6666666666666666,
              "#ed7953"
             ],
             [
              0.7777777777777778,
              "#fb9f3a"
             ],
             [
              0.8888888888888888,
              "#fdca26"
             ],
             [
              1,
              "#f0f921"
             ]
            ],
            "type": "heatmapgl"
           }
          ],
          "histogram": [
           {
            "marker": {
             "pattern": {
              "fillmode": "overlay",
              "size": 10,
              "solidity": 0.2
             }
            },
            "type": "histogram"
           }
          ],
          "histogram2d": [
           {
            "colorbar": {
             "outlinewidth": 0,
             "ticks": ""
            },
            "colorscale": [
             [
              0,
              "#0d0887"
             ],
             [
              0.1111111111111111,
              "#46039f"
             ],
             [
              0.2222222222222222,
              "#7201a8"
             ],
             [
              0.3333333333333333,
              "#9c179e"
             ],
             [
              0.4444444444444444,
              "#bd3786"
             ],
             [
              0.5555555555555556,
              "#d8576b"
             ],
             [
              0.6666666666666666,
              "#ed7953"
             ],
             [
              0.7777777777777778,
              "#fb9f3a"
             ],
             [
              0.8888888888888888,
              "#fdca26"
             ],
             [
              1,
              "#f0f921"
             ]
            ],
            "type": "histogram2d"
           }
          ],
          "histogram2dcontour": [
           {
            "colorbar": {
             "outlinewidth": 0,
             "ticks": ""
            },
            "colorscale": [
             [
              0,
              "#0d0887"
             ],
             [
              0.1111111111111111,
              "#46039f"
             ],
             [
              0.2222222222222222,
              "#7201a8"
             ],
             [
              0.3333333333333333,
              "#9c179e"
             ],
             [
              0.4444444444444444,
              "#bd3786"
             ],
             [
              0.5555555555555556,
              "#d8576b"
             ],
             [
              0.6666666666666666,
              "#ed7953"
             ],
             [
              0.7777777777777778,
              "#fb9f3a"
             ],
             [
              0.8888888888888888,
              "#fdca26"
             ],
             [
              1,
              "#f0f921"
             ]
            ],
            "type": "histogram2dcontour"
           }
          ],
          "mesh3d": [
           {
            "colorbar": {
             "outlinewidth": 0,
             "ticks": ""
            },
            "type": "mesh3d"
           }
          ],
          "parcoords": [
           {
            "line": {
             "colorbar": {
              "outlinewidth": 0,
              "ticks": ""
             }
            },
            "type": "parcoords"
           }
          ],
          "pie": [
           {
            "automargin": true,
            "type": "pie"
           }
          ],
          "scatter": [
           {
            "fillpattern": {
             "fillmode": "overlay",
             "size": 10,
             "solidity": 0.2
            },
            "type": "scatter"
           }
          ],
          "scatter3d": [
           {
            "line": {
             "colorbar": {
              "outlinewidth": 0,
              "ticks": ""
             }
            },
            "marker": {
             "colorbar": {
              "outlinewidth": 0,
              "ticks": ""
             }
            },
            "type": "scatter3d"
           }
          ],
          "scattercarpet": [
           {
            "marker": {
             "colorbar": {
              "outlinewidth": 0,
              "ticks": ""
             }
            },
            "type": "scattercarpet"
           }
          ],
          "scattergeo": [
           {
            "marker": {
             "colorbar": {
              "outlinewidth": 0,
              "ticks": ""
             }
            },
            "type": "scattergeo"
           }
          ],
          "scattergl": [
           {
            "marker": {
             "colorbar": {
              "outlinewidth": 0,
              "ticks": ""
             }
            },
            "type": "scattergl"
           }
          ],
          "scattermapbox": [
           {
            "marker": {
             "colorbar": {
              "outlinewidth": 0,
              "ticks": ""
             }
            },
            "type": "scattermapbox"
           }
          ],
          "scatterpolar": [
           {
            "marker": {
             "colorbar": {
              "outlinewidth": 0,
              "ticks": ""
             }
            },
            "type": "scatterpolar"
           }
          ],
          "scatterpolargl": [
           {
            "marker": {
             "colorbar": {
              "outlinewidth": 0,
              "ticks": ""
             }
            },
            "type": "scatterpolargl"
           }
          ],
          "scatterternary": [
           {
            "marker": {
             "colorbar": {
              "outlinewidth": 0,
              "ticks": ""
             }
            },
            "type": "scatterternary"
           }
          ],
          "surface": [
           {
            "colorbar": {
             "outlinewidth": 0,
             "ticks": ""
            },
            "colorscale": [
             [
              0,
              "#0d0887"
             ],
             [
              0.1111111111111111,
              "#46039f"
             ],
             [
              0.2222222222222222,
              "#7201a8"
             ],
             [
              0.3333333333333333,
              "#9c179e"
             ],
             [
              0.4444444444444444,
              "#bd3786"
             ],
             [
              0.5555555555555556,
              "#d8576b"
             ],
             [
              0.6666666666666666,
              "#ed7953"
             ],
             [
              0.7777777777777778,
              "#fb9f3a"
             ],
             [
              0.8888888888888888,
              "#fdca26"
             ],
             [
              1,
              "#f0f921"
             ]
            ],
            "type": "surface"
           }
          ],
          "table": [
           {
            "cells": {
             "fill": {
              "color": "#EBF0F8"
             },
             "line": {
              "color": "white"
             }
            },
            "header": {
             "fill": {
              "color": "#C8D4E3"
             },
             "line": {
              "color": "white"
             }
            },
            "type": "table"
           }
          ]
         },
         "layout": {
          "annotationdefaults": {
           "arrowcolor": "#2a3f5f",
           "arrowhead": 0,
           "arrowwidth": 1
          },
          "autotypenumbers": "strict",
          "coloraxis": {
           "colorbar": {
            "outlinewidth": 0,
            "ticks": ""
           }
          },
          "colorscale": {
           "diverging": [
            [
             0,
             "#8e0152"
            ],
            [
             0.1,
             "#c51b7d"
            ],
            [
             0.2,
             "#de77ae"
            ],
            [
             0.3,
             "#f1b6da"
            ],
            [
             0.4,
             "#fde0ef"
            ],
            [
             0.5,
             "#f7f7f7"
            ],
            [
             0.6,
             "#e6f5d0"
            ],
            [
             0.7,
             "#b8e186"
            ],
            [
             0.8,
             "#7fbc41"
            ],
            [
             0.9,
             "#4d9221"
            ],
            [
             1,
             "#276419"
            ]
           ],
           "sequential": [
            [
             0,
             "#0d0887"
            ],
            [
             0.1111111111111111,
             "#46039f"
            ],
            [
             0.2222222222222222,
             "#7201a8"
            ],
            [
             0.3333333333333333,
             "#9c179e"
            ],
            [
             0.4444444444444444,
             "#bd3786"
            ],
            [
             0.5555555555555556,
             "#d8576b"
            ],
            [
             0.6666666666666666,
             "#ed7953"
            ],
            [
             0.7777777777777778,
             "#fb9f3a"
            ],
            [
             0.8888888888888888,
             "#fdca26"
            ],
            [
             1,
             "#f0f921"
            ]
           ],
           "sequentialminus": [
            [
             0,
             "#0d0887"
            ],
            [
             0.1111111111111111,
             "#46039f"
            ],
            [
             0.2222222222222222,
             "#7201a8"
            ],
            [
             0.3333333333333333,
             "#9c179e"
            ],
            [
             0.4444444444444444,
             "#bd3786"
            ],
            [
             0.5555555555555556,
             "#d8576b"
            ],
            [
             0.6666666666666666,
             "#ed7953"
            ],
            [
             0.7777777777777778,
             "#fb9f3a"
            ],
            [
             0.8888888888888888,
             "#fdca26"
            ],
            [
             1,
             "#f0f921"
            ]
           ]
          },
          "colorway": [
           "#636efa",
           "#EF553B",
           "#00cc96",
           "#ab63fa",
           "#FFA15A",
           "#19d3f3",
           "#FF6692",
           "#B6E880",
           "#FF97FF",
           "#FECB52"
          ],
          "font": {
           "color": "#2a3f5f"
          },
          "geo": {
           "bgcolor": "white",
           "lakecolor": "white",
           "landcolor": "#E5ECF6",
           "showlakes": true,
           "showland": true,
           "subunitcolor": "white"
          },
          "hoverlabel": {
           "align": "left"
          },
          "hovermode": "closest",
          "mapbox": {
           "style": "light"
          },
          "paper_bgcolor": "white",
          "plot_bgcolor": "#E5ECF6",
          "polar": {
           "angularaxis": {
            "gridcolor": "white",
            "linecolor": "white",
            "ticks": ""
           },
           "bgcolor": "#E5ECF6",
           "radialaxis": {
            "gridcolor": "white",
            "linecolor": "white",
            "ticks": ""
           }
          },
          "scene": {
           "xaxis": {
            "backgroundcolor": "#E5ECF6",
            "gridcolor": "white",
            "gridwidth": 2,
            "linecolor": "white",
            "showbackground": true,
            "ticks": "",
            "zerolinecolor": "white"
           },
           "yaxis": {
            "backgroundcolor": "#E5ECF6",
            "gridcolor": "white",
            "gridwidth": 2,
            "linecolor": "white",
            "showbackground": true,
            "ticks": "",
            "zerolinecolor": "white"
           },
           "zaxis": {
            "backgroundcolor": "#E5ECF6",
            "gridcolor": "white",
            "gridwidth": 2,
            "linecolor": "white",
            "showbackground": true,
            "ticks": "",
            "zerolinecolor": "white"
           }
          },
          "shapedefaults": {
           "line": {
            "color": "#2a3f5f"
           }
          },
          "ternary": {
           "aaxis": {
            "gridcolor": "white",
            "linecolor": "white",
            "ticks": ""
           },
           "baxis": {
            "gridcolor": "white",
            "linecolor": "white",
            "ticks": ""
           },
           "bgcolor": "#E5ECF6",
           "caxis": {
            "gridcolor": "white",
            "linecolor": "white",
            "ticks": ""
           }
          },
          "title": {
           "x": 0.05
          },
          "xaxis": {
           "automargin": true,
           "gridcolor": "white",
           "linecolor": "white",
           "ticks": "",
           "title": {
            "standoff": 15
           },
           "zerolinecolor": "white",
           "zerolinewidth": 2
          },
          "yaxis": {
           "automargin": true,
           "gridcolor": "white",
           "linecolor": "white",
           "ticks": "",
           "title": {
            "standoff": 15
           },
           "zerolinecolor": "white",
           "zerolinewidth": 2
          }
         }
        },
        "title": {
         "text": "Prices versus city"
        },
        "xaxis": {
         "anchor": "y",
         "domain": [
          0,
          1
         ],
         "title": {
          "text": "City"
         }
        },
        "xaxis2": {
         "anchor": "y2",
         "domain": [
          0,
          1
         ],
         "matches": "x",
         "showgrid": true,
         "showticklabels": false
        },
        "yaxis": {
         "anchor": "x",
         "domain": [
          0,
          0.8316
         ],
         "title": {
          "text": "sum of Price"
         }
        },
        "yaxis2": {
         "anchor": "x2",
         "domain": [
          0.8416,
          1
         ],
         "matches": "y2",
         "showgrid": false,
         "showline": false,
         "showticklabels": false,
         "ticks": ""
        }
       }
      },
      "text/html": [
       "<div>                            <div id=\"78ee2ccf-d26b-4f65-b24c-1215ec0e7dfc\" class=\"plotly-graph-div\" style=\"height:525px; width:100%;\"></div>            <script type=\"text/javascript\">                require([\"plotly\"], function(Plotly) {                    window.PLOTLYENV=window.PLOTLYENV || {};                                    if (document.getElementById(\"78ee2ccf-d26b-4f65-b24c-1215ec0e7dfc\")) {                    Plotly.newPlot(                        \"78ee2ccf-d26b-4f65-b24c-1215ec0e7dfc\",                        [{\"alignmentgroup\":\"True\",\"bingroup\":\"x\",\"histfunc\":\"sum\",\"hovertemplate\":\"City=%{x}\\u003cbr\\u003esum of Price=%{y}\\u003cextra\\u003e\\u003c\\u002fextra\\u003e\",\"legendgroup\":\"\",\"marker\":{\"color\":\"#1F77B4\",\"pattern\":{\"shape\":\"\"}},\"name\":\"\",\"offsetgroup\":\"\",\"orientation\":\"v\",\"showlegend\":false,\"x\":[\"Gouna\",\"San Stefano\",\"Glim\",\"North Coast\",\"Camp Caesar\",\"West Somid\",\"Laurent\",\"Sheikh Zayed\",\"Moharam Bik\"],\"xaxis\":\"x\",\"y\":[9084437.5,5500000.0,5212500.0,5001318.286002692,4825000.0,4500000.0,4166666.6666666665,3827064.2016129033,3821117.0],\"yaxis\":\"y\",\"type\":\"histogram\"},{\"alignmentgroup\":\"True\",\"hovertemplate\":\"City=%{x}\\u003cextra\\u003e\\u003c\\u002fextra\\u003e\",\"legendgroup\":\"\",\"marker\":{\"color\":\"#1F77B4\"},\"name\":\"\",\"notched\":true,\"offsetgroup\":\"\",\"showlegend\":false,\"x\":[\"Gouna\",\"San Stefano\",\"Glim\",\"North Coast\",\"Camp Caesar\",\"West Somid\",\"Laurent\",\"Sheikh Zayed\",\"Moharam Bik\"],\"xaxis\":\"x2\",\"yaxis\":\"y2\",\"type\":\"box\"}],                        {\"template\":{\"data\":{\"histogram2dcontour\":[{\"type\":\"histogram2dcontour\",\"colorbar\":{\"outlinewidth\":0,\"ticks\":\"\"},\"colorscale\":[[0.0,\"#0d0887\"],[0.1111111111111111,\"#46039f\"],[0.2222222222222222,\"#7201a8\"],[0.3333333333333333,\"#9c179e\"],[0.4444444444444444,\"#bd3786\"],[0.5555555555555556,\"#d8576b\"],[0.6666666666666666,\"#ed7953\"],[0.7777777777777778,\"#fb9f3a\"],[0.8888888888888888,\"#fdca26\"],[1.0,\"#f0f921\"]]}],\"choropleth\":[{\"type\":\"choropleth\",\"colorbar\":{\"outlinewidth\":0,\"ticks\":\"\"}}],\"histogram2d\":[{\"type\":\"histogram2d\",\"colorbar\":{\"outlinewidth\":0,\"ticks\":\"\"},\"colorscale\":[[0.0,\"#0d0887\"],[0.1111111111111111,\"#46039f\"],[0.2222222222222222,\"#7201a8\"],[0.3333333333333333,\"#9c179e\"],[0.4444444444444444,\"#bd3786\"],[0.5555555555555556,\"#d8576b\"],[0.6666666666666666,\"#ed7953\"],[0.7777777777777778,\"#fb9f3a\"],[0.8888888888888888,\"#fdca26\"],[1.0,\"#f0f921\"]]}],\"heatmap\":[{\"type\":\"heatmap\",\"colorbar\":{\"outlinewidth\":0,\"ticks\":\"\"},\"colorscale\":[[0.0,\"#0d0887\"],[0.1111111111111111,\"#46039f\"],[0.2222222222222222,\"#7201a8\"],[0.3333333333333333,\"#9c179e\"],[0.4444444444444444,\"#bd3786\"],[0.5555555555555556,\"#d8576b\"],[0.6666666666666666,\"#ed7953\"],[0.7777777777777778,\"#fb9f3a\"],[0.8888888888888888,\"#fdca26\"],[1.0,\"#f0f921\"]]}],\"heatmapgl\":[{\"type\":\"heatmapgl\",\"colorbar\":{\"outlinewidth\":0,\"ticks\":\"\"},\"colorscale\":[[0.0,\"#0d0887\"],[0.1111111111111111,\"#46039f\"],[0.2222222222222222,\"#7201a8\"],[0.3333333333333333,\"#9c179e\"],[0.4444444444444444,\"#bd3786\"],[0.5555555555555556,\"#d8576b\"],[0.6666666666666666,\"#ed7953\"],[0.7777777777777778,\"#fb9f3a\"],[0.8888888888888888,\"#fdca26\"],[1.0,\"#f0f921\"]]}],\"contourcarpet\":[{\"type\":\"contourcarpet\",\"colorbar\":{\"outlinewidth\":0,\"ticks\":\"\"}}],\"contour\":[{\"type\":\"contour\",\"colorbar\":{\"outlinewidth\":0,\"ticks\":\"\"},\"colorscale\":[[0.0,\"#0d0887\"],[0.1111111111111111,\"#46039f\"],[0.2222222222222222,\"#7201a8\"],[0.3333333333333333,\"#9c179e\"],[0.4444444444444444,\"#bd3786\"],[0.5555555555555556,\"#d8576b\"],[0.6666666666666666,\"#ed7953\"],[0.7777777777777778,\"#fb9f3a\"],[0.8888888888888888,\"#fdca26\"],[1.0,\"#f0f921\"]]}],\"surface\":[{\"type\":\"surface\",\"colorbar\":{\"outlinewidth\":0,\"ticks\":\"\"},\"colorscale\":[[0.0,\"#0d0887\"],[0.1111111111111111,\"#46039f\"],[0.2222222222222222,\"#7201a8\"],[0.3333333333333333,\"#9c179e\"],[0.4444444444444444,\"#bd3786\"],[0.5555555555555556,\"#d8576b\"],[0.6666666666666666,\"#ed7953\"],[0.7777777777777778,\"#fb9f3a\"],[0.8888888888888888,\"#fdca26\"],[1.0,\"#f0f921\"]]}],\"mesh3d\":[{\"type\":\"mesh3d\",\"colorbar\":{\"outlinewidth\":0,\"ticks\":\"\"}}],\"scatter\":[{\"fillpattern\":{\"fillmode\":\"overlay\",\"size\":10,\"solidity\":0.2},\"type\":\"scatter\"}],\"parcoords\":[{\"type\":\"parcoords\",\"line\":{\"colorbar\":{\"outlinewidth\":0,\"ticks\":\"\"}}}],\"scatterpolargl\":[{\"type\":\"scatterpolargl\",\"marker\":{\"colorbar\":{\"outlinewidth\":0,\"ticks\":\"\"}}}],\"bar\":[{\"error_x\":{\"color\":\"#2a3f5f\"},\"error_y\":{\"color\":\"#2a3f5f\"},\"marker\":{\"line\":{\"color\":\"#E5ECF6\",\"width\":0.5},\"pattern\":{\"fillmode\":\"overlay\",\"size\":10,\"solidity\":0.2}},\"type\":\"bar\"}],\"scattergeo\":[{\"type\":\"scattergeo\",\"marker\":{\"colorbar\":{\"outlinewidth\":0,\"ticks\":\"\"}}}],\"scatterpolar\":[{\"type\":\"scatterpolar\",\"marker\":{\"colorbar\":{\"outlinewidth\":0,\"ticks\":\"\"}}}],\"histogram\":[{\"marker\":{\"pattern\":{\"fillmode\":\"overlay\",\"size\":10,\"solidity\":0.2}},\"type\":\"histogram\"}],\"scattergl\":[{\"type\":\"scattergl\",\"marker\":{\"colorbar\":{\"outlinewidth\":0,\"ticks\":\"\"}}}],\"scatter3d\":[{\"type\":\"scatter3d\",\"line\":{\"colorbar\":{\"outlinewidth\":0,\"ticks\":\"\"}},\"marker\":{\"colorbar\":{\"outlinewidth\":0,\"ticks\":\"\"}}}],\"scattermapbox\":[{\"type\":\"scattermapbox\",\"marker\":{\"colorbar\":{\"outlinewidth\":0,\"ticks\":\"\"}}}],\"scatterternary\":[{\"type\":\"scatterternary\",\"marker\":{\"colorbar\":{\"outlinewidth\":0,\"ticks\":\"\"}}}],\"scattercarpet\":[{\"type\":\"scattercarpet\",\"marker\":{\"colorbar\":{\"outlinewidth\":0,\"ticks\":\"\"}}}],\"carpet\":[{\"aaxis\":{\"endlinecolor\":\"#2a3f5f\",\"gridcolor\":\"white\",\"linecolor\":\"white\",\"minorgridcolor\":\"white\",\"startlinecolor\":\"#2a3f5f\"},\"baxis\":{\"endlinecolor\":\"#2a3f5f\",\"gridcolor\":\"white\",\"linecolor\":\"white\",\"minorgridcolor\":\"white\",\"startlinecolor\":\"#2a3f5f\"},\"type\":\"carpet\"}],\"table\":[{\"cells\":{\"fill\":{\"color\":\"#EBF0F8\"},\"line\":{\"color\":\"white\"}},\"header\":{\"fill\":{\"color\":\"#C8D4E3\"},\"line\":{\"color\":\"white\"}},\"type\":\"table\"}],\"barpolar\":[{\"marker\":{\"line\":{\"color\":\"#E5ECF6\",\"width\":0.5},\"pattern\":{\"fillmode\":\"overlay\",\"size\":10,\"solidity\":0.2}},\"type\":\"barpolar\"}],\"pie\":[{\"automargin\":true,\"type\":\"pie\"}]},\"layout\":{\"autotypenumbers\":\"strict\",\"colorway\":[\"#636efa\",\"#EF553B\",\"#00cc96\",\"#ab63fa\",\"#FFA15A\",\"#19d3f3\",\"#FF6692\",\"#B6E880\",\"#FF97FF\",\"#FECB52\"],\"font\":{\"color\":\"#2a3f5f\"},\"hovermode\":\"closest\",\"hoverlabel\":{\"align\":\"left\"},\"paper_bgcolor\":\"white\",\"plot_bgcolor\":\"#E5ECF6\",\"polar\":{\"bgcolor\":\"#E5ECF6\",\"angularaxis\":{\"gridcolor\":\"white\",\"linecolor\":\"white\",\"ticks\":\"\"},\"radialaxis\":{\"gridcolor\":\"white\",\"linecolor\":\"white\",\"ticks\":\"\"}},\"ternary\":{\"bgcolor\":\"#E5ECF6\",\"aaxis\":{\"gridcolor\":\"white\",\"linecolor\":\"white\",\"ticks\":\"\"},\"baxis\":{\"gridcolor\":\"white\",\"linecolor\":\"white\",\"ticks\":\"\"},\"caxis\":{\"gridcolor\":\"white\",\"linecolor\":\"white\",\"ticks\":\"\"}},\"coloraxis\":{\"colorbar\":{\"outlinewidth\":0,\"ticks\":\"\"}},\"colorscale\":{\"sequential\":[[0.0,\"#0d0887\"],[0.1111111111111111,\"#46039f\"],[0.2222222222222222,\"#7201a8\"],[0.3333333333333333,\"#9c179e\"],[0.4444444444444444,\"#bd3786\"],[0.5555555555555556,\"#d8576b\"],[0.6666666666666666,\"#ed7953\"],[0.7777777777777778,\"#fb9f3a\"],[0.8888888888888888,\"#fdca26\"],[1.0,\"#f0f921\"]],\"sequentialminus\":[[0.0,\"#0d0887\"],[0.1111111111111111,\"#46039f\"],[0.2222222222222222,\"#7201a8\"],[0.3333333333333333,\"#9c179e\"],[0.4444444444444444,\"#bd3786\"],[0.5555555555555556,\"#d8576b\"],[0.6666666666666666,\"#ed7953\"],[0.7777777777777778,\"#fb9f3a\"],[0.8888888888888888,\"#fdca26\"],[1.0,\"#f0f921\"]],\"diverging\":[[0,\"#8e0152\"],[0.1,\"#c51b7d\"],[0.2,\"#de77ae\"],[0.3,\"#f1b6da\"],[0.4,\"#fde0ef\"],[0.5,\"#f7f7f7\"],[0.6,\"#e6f5d0\"],[0.7,\"#b8e186\"],[0.8,\"#7fbc41\"],[0.9,\"#4d9221\"],[1,\"#276419\"]]},\"xaxis\":{\"gridcolor\":\"white\",\"linecolor\":\"white\",\"ticks\":\"\",\"title\":{\"standoff\":15},\"zerolinecolor\":\"white\",\"automargin\":true,\"zerolinewidth\":2},\"yaxis\":{\"gridcolor\":\"white\",\"linecolor\":\"white\",\"ticks\":\"\",\"title\":{\"standoff\":15},\"zerolinecolor\":\"white\",\"automargin\":true,\"zerolinewidth\":2},\"scene\":{\"xaxis\":{\"backgroundcolor\":\"#E5ECF6\",\"gridcolor\":\"white\",\"linecolor\":\"white\",\"showbackground\":true,\"ticks\":\"\",\"zerolinecolor\":\"white\",\"gridwidth\":2},\"yaxis\":{\"backgroundcolor\":\"#E5ECF6\",\"gridcolor\":\"white\",\"linecolor\":\"white\",\"showbackground\":true,\"ticks\":\"\",\"zerolinecolor\":\"white\",\"gridwidth\":2},\"zaxis\":{\"backgroundcolor\":\"#E5ECF6\",\"gridcolor\":\"white\",\"linecolor\":\"white\",\"showbackground\":true,\"ticks\":\"\",\"zerolinecolor\":\"white\",\"gridwidth\":2}},\"shapedefaults\":{\"line\":{\"color\":\"#2a3f5f\"}},\"annotationdefaults\":{\"arrowcolor\":\"#2a3f5f\",\"arrowhead\":0,\"arrowwidth\":1},\"geo\":{\"bgcolor\":\"white\",\"landcolor\":\"#E5ECF6\",\"subunitcolor\":\"white\",\"showland\":true,\"showlakes\":true,\"lakecolor\":\"white\"},\"title\":{\"x\":0.05},\"mapbox\":{\"style\":\"light\"}}},\"xaxis\":{\"anchor\":\"y\",\"domain\":[0.0,1.0],\"title\":{\"text\":\"City\"}},\"yaxis\":{\"anchor\":\"x\",\"domain\":[0.0,0.8316],\"title\":{\"text\":\"sum of Price\"}},\"xaxis2\":{\"anchor\":\"y2\",\"domain\":[0.0,1.0],\"matches\":\"x\",\"showticklabels\":false,\"showgrid\":true},\"yaxis2\":{\"anchor\":\"x2\",\"domain\":[0.8416,1.0],\"matches\":\"y2\",\"showticklabels\":false,\"showline\":false,\"ticks\":\"\",\"showgrid\":false},\"legend\":{\"tracegroupgap\":0},\"title\":{\"text\":\"Prices versus city\"},\"barmode\":\"relative\"},                        {\"responsive\": true}                    ).then(function(){\n",
       "                            \n",
       "var gd = document.getElementById('78ee2ccf-d26b-4f65-b24c-1215ec0e7dfc');\n",
       "var x = new MutationObserver(function (mutations, observer) {{\n",
       "        var display = window.getComputedStyle(gd).display;\n",
       "        if (!display || display === 'none') {{\n",
       "            console.log([gd, 'removed!']);\n",
       "            Plotly.purge(gd);\n",
       "            observer.disconnect();\n",
       "        }}\n",
       "}});\n",
       "\n",
       "// Listen for the removal of the full notebook cells\n",
       "var notebookContainer = gd.closest('#notebook-container');\n",
       "if (notebookContainer) {{\n",
       "    x.observe(notebookContainer, {childList: true});\n",
       "}}\n",
       "\n",
       "// Listen for the clearing of the current output cell\n",
       "var outputEl = gd.closest('.output');\n",
       "if (outputEl) {{\n",
       "    x.observe(outputEl, {childList: true});\n",
       "}}\n",
       "\n",
       "                        })                };                });            </script>        </div>"
      ]
     },
     "metadata": {},
     "output_type": "display_data"
    }
   ],
   "source": [
    "top_Price_cities = pd.DataFrame(data = df.groupby(\"City\").Price.mean().sort_values(ascending = False).head(9))\n",
    "top_Price_cities = top_Price_cities.rename(columns = {\"City\":\"City\",\"City\":\"Price\"})\n",
    "top_Price_cities = top_Price_cities.reset_index()\n",
    "\n",
    "\n",
    "px.histogram(top_Price_cities , x = \"City\",y=\"Price\"\n",
    "             ,color_discrete_sequence =px.colors.qualitative.D3\n",
    "             ,marginal = \"box\",title = \"Prices versus city\")"
   ]
  },
  {
   "cell_type": "code",
   "execution_count": 136,
   "metadata": {},
   "outputs": [
    {
     "data": {
      "text/html": [
       "<div>\n",
       "<style scoped>\n",
       "    .dataframe tbody tr th:only-of-type {\n",
       "        vertical-align: middle;\n",
       "    }\n",
       "\n",
       "    .dataframe tbody tr th {\n",
       "        vertical-align: top;\n",
       "    }\n",
       "\n",
       "    .dataframe thead th {\n",
       "        text-align: right;\n",
       "    }\n",
       "</style>\n",
       "<table border=\"1\" class=\"dataframe\">\n",
       "  <thead>\n",
       "    <tr style=\"text-align: right;\">\n",
       "      <th></th>\n",
       "      <th>Price</th>\n",
       "    </tr>\n",
       "  </thead>\n",
       "  <tbody>\n",
       "    <tr>\n",
       "      <th>count</th>\n",
       "      <td>9.000000e+00</td>\n",
       "    </tr>\n",
       "    <tr>\n",
       "      <th>mean</th>\n",
       "      <td>5.104234e+06</td>\n",
       "    </tr>\n",
       "    <tr>\n",
       "      <th>std</th>\n",
       "      <td>1.605484e+06</td>\n",
       "    </tr>\n",
       "    <tr>\n",
       "      <th>min</th>\n",
       "      <td>3.821117e+06</td>\n",
       "    </tr>\n",
       "    <tr>\n",
       "      <th>25%</th>\n",
       "      <td>4.166667e+06</td>\n",
       "    </tr>\n",
       "    <tr>\n",
       "      <th>50%</th>\n",
       "      <td>4.825000e+06</td>\n",
       "    </tr>\n",
       "    <tr>\n",
       "      <th>75%</th>\n",
       "      <td>5.212500e+06</td>\n",
       "    </tr>\n",
       "    <tr>\n",
       "      <th>max</th>\n",
       "      <td>9.084438e+06</td>\n",
       "    </tr>\n",
       "  </tbody>\n",
       "</table>\n",
       "</div>"
      ],
      "text/plain": [
       "              Price\n",
       "count  9.000000e+00\n",
       "mean   5.104234e+06\n",
       "std    1.605484e+06\n",
       "min    3.821117e+06\n",
       "25%    4.166667e+06\n",
       "50%    4.825000e+06\n",
       "75%    5.212500e+06\n",
       "max    9.084438e+06"
      ]
     },
     "execution_count": 136,
     "metadata": {},
     "output_type": "execute_result"
    }
   ],
   "source": [
    "top_Price_cities.describe()"
   ]
  },
  {
   "cell_type": "code",
   "execution_count": 137,
   "metadata": {},
   "outputs": [
    {
     "data": {
      "application/vnd.plotly.v1+json": {
       "config": {
        "plotlyServerURL": "https://plot.ly"
       },
       "data": [
        {
         "domain": {
          "x": [
           0,
           1
          ],
          "y": [
           0,
           1
          ]
         },
         "hovertemplate": "City=%{label}<br>Price=%{value}<extra></extra>",
         "labels": [
          "Gouna",
          "San Stefano",
          "Glim",
          "North Coast",
          "Camp Caesar",
          "West Somid",
          "Laurent",
          "Sheikh Zayed",
          "Moharam Bik"
         ],
         "legendgroup": "",
         "name": "",
         "showlegend": true,
         "type": "pie",
         "values": [
          9084437.5,
          5500000,
          5212500,
          5001318.286002692,
          4825000,
          4500000,
          4166666.6666666665,
          3827064.2016129033,
          3821117
         ]
        }
       ],
       "layout": {
        "legend": {
         "tracegroupgap": 0
        },
        "margin": {
         "t": 60
        },
        "template": {
         "data": {
          "bar": [
           {
            "error_x": {
             "color": "#2a3f5f"
            },
            "error_y": {
             "color": "#2a3f5f"
            },
            "marker": {
             "line": {
              "color": "#E5ECF6",
              "width": 0.5
             },
             "pattern": {
              "fillmode": "overlay",
              "size": 10,
              "solidity": 0.2
             }
            },
            "type": "bar"
           }
          ],
          "barpolar": [
           {
            "marker": {
             "line": {
              "color": "#E5ECF6",
              "width": 0.5
             },
             "pattern": {
              "fillmode": "overlay",
              "size": 10,
              "solidity": 0.2
             }
            },
            "type": "barpolar"
           }
          ],
          "carpet": [
           {
            "aaxis": {
             "endlinecolor": "#2a3f5f",
             "gridcolor": "white",
             "linecolor": "white",
             "minorgridcolor": "white",
             "startlinecolor": "#2a3f5f"
            },
            "baxis": {
             "endlinecolor": "#2a3f5f",
             "gridcolor": "white",
             "linecolor": "white",
             "minorgridcolor": "white",
             "startlinecolor": "#2a3f5f"
            },
            "type": "carpet"
           }
          ],
          "choropleth": [
           {
            "colorbar": {
             "outlinewidth": 0,
             "ticks": ""
            },
            "type": "choropleth"
           }
          ],
          "contour": [
           {
            "colorbar": {
             "outlinewidth": 0,
             "ticks": ""
            },
            "colorscale": [
             [
              0,
              "#0d0887"
             ],
             [
              0.1111111111111111,
              "#46039f"
             ],
             [
              0.2222222222222222,
              "#7201a8"
             ],
             [
              0.3333333333333333,
              "#9c179e"
             ],
             [
              0.4444444444444444,
              "#bd3786"
             ],
             [
              0.5555555555555556,
              "#d8576b"
             ],
             [
              0.6666666666666666,
              "#ed7953"
             ],
             [
              0.7777777777777778,
              "#fb9f3a"
             ],
             [
              0.8888888888888888,
              "#fdca26"
             ],
             [
              1,
              "#f0f921"
             ]
            ],
            "type": "contour"
           }
          ],
          "contourcarpet": [
           {
            "colorbar": {
             "outlinewidth": 0,
             "ticks": ""
            },
            "type": "contourcarpet"
           }
          ],
          "heatmap": [
           {
            "colorbar": {
             "outlinewidth": 0,
             "ticks": ""
            },
            "colorscale": [
             [
              0,
              "#0d0887"
             ],
             [
              0.1111111111111111,
              "#46039f"
             ],
             [
              0.2222222222222222,
              "#7201a8"
             ],
             [
              0.3333333333333333,
              "#9c179e"
             ],
             [
              0.4444444444444444,
              "#bd3786"
             ],
             [
              0.5555555555555556,
              "#d8576b"
             ],
             [
              0.6666666666666666,
              "#ed7953"
             ],
             [
              0.7777777777777778,
              "#fb9f3a"
             ],
             [
              0.8888888888888888,
              "#fdca26"
             ],
             [
              1,
              "#f0f921"
             ]
            ],
            "type": "heatmap"
           }
          ],
          "heatmapgl": [
           {
            "colorbar": {
             "outlinewidth": 0,
             "ticks": ""
            },
            "colorscale": [
             [
              0,
              "#0d0887"
             ],
             [
              0.1111111111111111,
              "#46039f"
             ],
             [
              0.2222222222222222,
              "#7201a8"
             ],
             [
              0.3333333333333333,
              "#9c179e"
             ],
             [
              0.4444444444444444,
              "#bd3786"
             ],
             [
              0.5555555555555556,
              "#d8576b"
             ],
             [
              0.6666666666666666,
              "#ed7953"
             ],
             [
              0.7777777777777778,
              "#fb9f3a"
             ],
             [
              0.8888888888888888,
              "#fdca26"
             ],
             [
              1,
              "#f0f921"
             ]
            ],
            "type": "heatmapgl"
           }
          ],
          "histogram": [
           {
            "marker": {
             "pattern": {
              "fillmode": "overlay",
              "size": 10,
              "solidity": 0.2
             }
            },
            "type": "histogram"
           }
          ],
          "histogram2d": [
           {
            "colorbar": {
             "outlinewidth": 0,
             "ticks": ""
            },
            "colorscale": [
             [
              0,
              "#0d0887"
             ],
             [
              0.1111111111111111,
              "#46039f"
             ],
             [
              0.2222222222222222,
              "#7201a8"
             ],
             [
              0.3333333333333333,
              "#9c179e"
             ],
             [
              0.4444444444444444,
              "#bd3786"
             ],
             [
              0.5555555555555556,
              "#d8576b"
             ],
             [
              0.6666666666666666,
              "#ed7953"
             ],
             [
              0.7777777777777778,
              "#fb9f3a"
             ],
             [
              0.8888888888888888,
              "#fdca26"
             ],
             [
              1,
              "#f0f921"
             ]
            ],
            "type": "histogram2d"
           }
          ],
          "histogram2dcontour": [
           {
            "colorbar": {
             "outlinewidth": 0,
             "ticks": ""
            },
            "colorscale": [
             [
              0,
              "#0d0887"
             ],
             [
              0.1111111111111111,
              "#46039f"
             ],
             [
              0.2222222222222222,
              "#7201a8"
             ],
             [
              0.3333333333333333,
              "#9c179e"
             ],
             [
              0.4444444444444444,
              "#bd3786"
             ],
             [
              0.5555555555555556,
              "#d8576b"
             ],
             [
              0.6666666666666666,
              "#ed7953"
             ],
             [
              0.7777777777777778,
              "#fb9f3a"
             ],
             [
              0.8888888888888888,
              "#fdca26"
             ],
             [
              1,
              "#f0f921"
             ]
            ],
            "type": "histogram2dcontour"
           }
          ],
          "mesh3d": [
           {
            "colorbar": {
             "outlinewidth": 0,
             "ticks": ""
            },
            "type": "mesh3d"
           }
          ],
          "parcoords": [
           {
            "line": {
             "colorbar": {
              "outlinewidth": 0,
              "ticks": ""
             }
            },
            "type": "parcoords"
           }
          ],
          "pie": [
           {
            "automargin": true,
            "type": "pie"
           }
          ],
          "scatter": [
           {
            "fillpattern": {
             "fillmode": "overlay",
             "size": 10,
             "solidity": 0.2
            },
            "type": "scatter"
           }
          ],
          "scatter3d": [
           {
            "line": {
             "colorbar": {
              "outlinewidth": 0,
              "ticks": ""
             }
            },
            "marker": {
             "colorbar": {
              "outlinewidth": 0,
              "ticks": ""
             }
            },
            "type": "scatter3d"
           }
          ],
          "scattercarpet": [
           {
            "marker": {
             "colorbar": {
              "outlinewidth": 0,
              "ticks": ""
             }
            },
            "type": "scattercarpet"
           }
          ],
          "scattergeo": [
           {
            "marker": {
             "colorbar": {
              "outlinewidth": 0,
              "ticks": ""
             }
            },
            "type": "scattergeo"
           }
          ],
          "scattergl": [
           {
            "marker": {
             "colorbar": {
              "outlinewidth": 0,
              "ticks": ""
             }
            },
            "type": "scattergl"
           }
          ],
          "scattermapbox": [
           {
            "marker": {
             "colorbar": {
              "outlinewidth": 0,
              "ticks": ""
             }
            },
            "type": "scattermapbox"
           }
          ],
          "scatterpolar": [
           {
            "marker": {
             "colorbar": {
              "outlinewidth": 0,
              "ticks": ""
             }
            },
            "type": "scatterpolar"
           }
          ],
          "scatterpolargl": [
           {
            "marker": {
             "colorbar": {
              "outlinewidth": 0,
              "ticks": ""
             }
            },
            "type": "scatterpolargl"
           }
          ],
          "scatterternary": [
           {
            "marker": {
             "colorbar": {
              "outlinewidth": 0,
              "ticks": ""
             }
            },
            "type": "scatterternary"
           }
          ],
          "surface": [
           {
            "colorbar": {
             "outlinewidth": 0,
             "ticks": ""
            },
            "colorscale": [
             [
              0,
              "#0d0887"
             ],
             [
              0.1111111111111111,
              "#46039f"
             ],
             [
              0.2222222222222222,
              "#7201a8"
             ],
             [
              0.3333333333333333,
              "#9c179e"
             ],
             [
              0.4444444444444444,
              "#bd3786"
             ],
             [
              0.5555555555555556,
              "#d8576b"
             ],
             [
              0.6666666666666666,
              "#ed7953"
             ],
             [
              0.7777777777777778,
              "#fb9f3a"
             ],
             [
              0.8888888888888888,
              "#fdca26"
             ],
             [
              1,
              "#f0f921"
             ]
            ],
            "type": "surface"
           }
          ],
          "table": [
           {
            "cells": {
             "fill": {
              "color": "#EBF0F8"
             },
             "line": {
              "color": "white"
             }
            },
            "header": {
             "fill": {
              "color": "#C8D4E3"
             },
             "line": {
              "color": "white"
             }
            },
            "type": "table"
           }
          ]
         },
         "layout": {
          "annotationdefaults": {
           "arrowcolor": "#2a3f5f",
           "arrowhead": 0,
           "arrowwidth": 1
          },
          "autotypenumbers": "strict",
          "coloraxis": {
           "colorbar": {
            "outlinewidth": 0,
            "ticks": ""
           }
          },
          "colorscale": {
           "diverging": [
            [
             0,
             "#8e0152"
            ],
            [
             0.1,
             "#c51b7d"
            ],
            [
             0.2,
             "#de77ae"
            ],
            [
             0.3,
             "#f1b6da"
            ],
            [
             0.4,
             "#fde0ef"
            ],
            [
             0.5,
             "#f7f7f7"
            ],
            [
             0.6,
             "#e6f5d0"
            ],
            [
             0.7,
             "#b8e186"
            ],
            [
             0.8,
             "#7fbc41"
            ],
            [
             0.9,
             "#4d9221"
            ],
            [
             1,
             "#276419"
            ]
           ],
           "sequential": [
            [
             0,
             "#0d0887"
            ],
            [
             0.1111111111111111,
             "#46039f"
            ],
            [
             0.2222222222222222,
             "#7201a8"
            ],
            [
             0.3333333333333333,
             "#9c179e"
            ],
            [
             0.4444444444444444,
             "#bd3786"
            ],
            [
             0.5555555555555556,
             "#d8576b"
            ],
            [
             0.6666666666666666,
             "#ed7953"
            ],
            [
             0.7777777777777778,
             "#fb9f3a"
            ],
            [
             0.8888888888888888,
             "#fdca26"
            ],
            [
             1,
             "#f0f921"
            ]
           ],
           "sequentialminus": [
            [
             0,
             "#0d0887"
            ],
            [
             0.1111111111111111,
             "#46039f"
            ],
            [
             0.2222222222222222,
             "#7201a8"
            ],
            [
             0.3333333333333333,
             "#9c179e"
            ],
            [
             0.4444444444444444,
             "#bd3786"
            ],
            [
             0.5555555555555556,
             "#d8576b"
            ],
            [
             0.6666666666666666,
             "#ed7953"
            ],
            [
             0.7777777777777778,
             "#fb9f3a"
            ],
            [
             0.8888888888888888,
             "#fdca26"
            ],
            [
             1,
             "#f0f921"
            ]
           ]
          },
          "colorway": [
           "#636efa",
           "#EF553B",
           "#00cc96",
           "#ab63fa",
           "#FFA15A",
           "#19d3f3",
           "#FF6692",
           "#B6E880",
           "#FF97FF",
           "#FECB52"
          ],
          "font": {
           "color": "#2a3f5f"
          },
          "geo": {
           "bgcolor": "white",
           "lakecolor": "white",
           "landcolor": "#E5ECF6",
           "showlakes": true,
           "showland": true,
           "subunitcolor": "white"
          },
          "hoverlabel": {
           "align": "left"
          },
          "hovermode": "closest",
          "mapbox": {
           "style": "light"
          },
          "paper_bgcolor": "white",
          "plot_bgcolor": "#E5ECF6",
          "polar": {
           "angularaxis": {
            "gridcolor": "white",
            "linecolor": "white",
            "ticks": ""
           },
           "bgcolor": "#E5ECF6",
           "radialaxis": {
            "gridcolor": "white",
            "linecolor": "white",
            "ticks": ""
           }
          },
          "scene": {
           "xaxis": {
            "backgroundcolor": "#E5ECF6",
            "gridcolor": "white",
            "gridwidth": 2,
            "linecolor": "white",
            "showbackground": true,
            "ticks": "",
            "zerolinecolor": "white"
           },
           "yaxis": {
            "backgroundcolor": "#E5ECF6",
            "gridcolor": "white",
            "gridwidth": 2,
            "linecolor": "white",
            "showbackground": true,
            "ticks": "",
            "zerolinecolor": "white"
           },
           "zaxis": {
            "backgroundcolor": "#E5ECF6",
            "gridcolor": "white",
            "gridwidth": 2,
            "linecolor": "white",
            "showbackground": true,
            "ticks": "",
            "zerolinecolor": "white"
           }
          },
          "shapedefaults": {
           "line": {
            "color": "#2a3f5f"
           }
          },
          "ternary": {
           "aaxis": {
            "gridcolor": "white",
            "linecolor": "white",
            "ticks": ""
           },
           "baxis": {
            "gridcolor": "white",
            "linecolor": "white",
            "ticks": ""
           },
           "bgcolor": "#E5ECF6",
           "caxis": {
            "gridcolor": "white",
            "linecolor": "white",
            "ticks": ""
           }
          },
          "title": {
           "x": 0.05
          },
          "xaxis": {
           "automargin": true,
           "gridcolor": "white",
           "linecolor": "white",
           "ticks": "",
           "title": {
            "standoff": 15
           },
           "zerolinecolor": "white",
           "zerolinewidth": 2
          },
          "yaxis": {
           "automargin": true,
           "gridcolor": "white",
           "linecolor": "white",
           "ticks": "",
           "title": {
            "standoff": 15
           },
           "zerolinecolor": "white",
           "zerolinewidth": 2
          }
         }
        }
       }
      },
      "text/html": [
       "<div>                            <div id=\"c0e65cc3-0bf4-4192-8ae6-3ce4154f5fc0\" class=\"plotly-graph-div\" style=\"height:525px; width:100%;\"></div>            <script type=\"text/javascript\">                require([\"plotly\"], function(Plotly) {                    window.PLOTLYENV=window.PLOTLYENV || {};                                    if (document.getElementById(\"c0e65cc3-0bf4-4192-8ae6-3ce4154f5fc0\")) {                    Plotly.newPlot(                        \"c0e65cc3-0bf4-4192-8ae6-3ce4154f5fc0\",                        [{\"domain\":{\"x\":[0.0,1.0],\"y\":[0.0,1.0]},\"hovertemplate\":\"City=%{label}\\u003cbr\\u003ePrice=%{value}\\u003cextra\\u003e\\u003c\\u002fextra\\u003e\",\"labels\":[\"Gouna\",\"San Stefano\",\"Glim\",\"North Coast\",\"Camp Caesar\",\"West Somid\",\"Laurent\",\"Sheikh Zayed\",\"Moharam Bik\"],\"legendgroup\":\"\",\"name\":\"\",\"showlegend\":true,\"values\":[9084437.5,5500000.0,5212500.0,5001318.286002692,4825000.0,4500000.0,4166666.6666666665,3827064.2016129033,3821117.0],\"type\":\"pie\"}],                        {\"template\":{\"data\":{\"histogram2dcontour\":[{\"type\":\"histogram2dcontour\",\"colorbar\":{\"outlinewidth\":0,\"ticks\":\"\"},\"colorscale\":[[0.0,\"#0d0887\"],[0.1111111111111111,\"#46039f\"],[0.2222222222222222,\"#7201a8\"],[0.3333333333333333,\"#9c179e\"],[0.4444444444444444,\"#bd3786\"],[0.5555555555555556,\"#d8576b\"],[0.6666666666666666,\"#ed7953\"],[0.7777777777777778,\"#fb9f3a\"],[0.8888888888888888,\"#fdca26\"],[1.0,\"#f0f921\"]]}],\"choropleth\":[{\"type\":\"choropleth\",\"colorbar\":{\"outlinewidth\":0,\"ticks\":\"\"}}],\"histogram2d\":[{\"type\":\"histogram2d\",\"colorbar\":{\"outlinewidth\":0,\"ticks\":\"\"},\"colorscale\":[[0.0,\"#0d0887\"],[0.1111111111111111,\"#46039f\"],[0.2222222222222222,\"#7201a8\"],[0.3333333333333333,\"#9c179e\"],[0.4444444444444444,\"#bd3786\"],[0.5555555555555556,\"#d8576b\"],[0.6666666666666666,\"#ed7953\"],[0.7777777777777778,\"#fb9f3a\"],[0.8888888888888888,\"#fdca26\"],[1.0,\"#f0f921\"]]}],\"heatmap\":[{\"type\":\"heatmap\",\"colorbar\":{\"outlinewidth\":0,\"ticks\":\"\"},\"colorscale\":[[0.0,\"#0d0887\"],[0.1111111111111111,\"#46039f\"],[0.2222222222222222,\"#7201a8\"],[0.3333333333333333,\"#9c179e\"],[0.4444444444444444,\"#bd3786\"],[0.5555555555555556,\"#d8576b\"],[0.6666666666666666,\"#ed7953\"],[0.7777777777777778,\"#fb9f3a\"],[0.8888888888888888,\"#fdca26\"],[1.0,\"#f0f921\"]]}],\"heatmapgl\":[{\"type\":\"heatmapgl\",\"colorbar\":{\"outlinewidth\":0,\"ticks\":\"\"},\"colorscale\":[[0.0,\"#0d0887\"],[0.1111111111111111,\"#46039f\"],[0.2222222222222222,\"#7201a8\"],[0.3333333333333333,\"#9c179e\"],[0.4444444444444444,\"#bd3786\"],[0.5555555555555556,\"#d8576b\"],[0.6666666666666666,\"#ed7953\"],[0.7777777777777778,\"#fb9f3a\"],[0.8888888888888888,\"#fdca26\"],[1.0,\"#f0f921\"]]}],\"contourcarpet\":[{\"type\":\"contourcarpet\",\"colorbar\":{\"outlinewidth\":0,\"ticks\":\"\"}}],\"contour\":[{\"type\":\"contour\",\"colorbar\":{\"outlinewidth\":0,\"ticks\":\"\"},\"colorscale\":[[0.0,\"#0d0887\"],[0.1111111111111111,\"#46039f\"],[0.2222222222222222,\"#7201a8\"],[0.3333333333333333,\"#9c179e\"],[0.4444444444444444,\"#bd3786\"],[0.5555555555555556,\"#d8576b\"],[0.6666666666666666,\"#ed7953\"],[0.7777777777777778,\"#fb9f3a\"],[0.8888888888888888,\"#fdca26\"],[1.0,\"#f0f921\"]]}],\"surface\":[{\"type\":\"surface\",\"colorbar\":{\"outlinewidth\":0,\"ticks\":\"\"},\"colorscale\":[[0.0,\"#0d0887\"],[0.1111111111111111,\"#46039f\"],[0.2222222222222222,\"#7201a8\"],[0.3333333333333333,\"#9c179e\"],[0.4444444444444444,\"#bd3786\"],[0.5555555555555556,\"#d8576b\"],[0.6666666666666666,\"#ed7953\"],[0.7777777777777778,\"#fb9f3a\"],[0.8888888888888888,\"#fdca26\"],[1.0,\"#f0f921\"]]}],\"mesh3d\":[{\"type\":\"mesh3d\",\"colorbar\":{\"outlinewidth\":0,\"ticks\":\"\"}}],\"scatter\":[{\"fillpattern\":{\"fillmode\":\"overlay\",\"size\":10,\"solidity\":0.2},\"type\":\"scatter\"}],\"parcoords\":[{\"type\":\"parcoords\",\"line\":{\"colorbar\":{\"outlinewidth\":0,\"ticks\":\"\"}}}],\"scatterpolargl\":[{\"type\":\"scatterpolargl\",\"marker\":{\"colorbar\":{\"outlinewidth\":0,\"ticks\":\"\"}}}],\"bar\":[{\"error_x\":{\"color\":\"#2a3f5f\"},\"error_y\":{\"color\":\"#2a3f5f\"},\"marker\":{\"line\":{\"color\":\"#E5ECF6\",\"width\":0.5},\"pattern\":{\"fillmode\":\"overlay\",\"size\":10,\"solidity\":0.2}},\"type\":\"bar\"}],\"scattergeo\":[{\"type\":\"scattergeo\",\"marker\":{\"colorbar\":{\"outlinewidth\":0,\"ticks\":\"\"}}}],\"scatterpolar\":[{\"type\":\"scatterpolar\",\"marker\":{\"colorbar\":{\"outlinewidth\":0,\"ticks\":\"\"}}}],\"histogram\":[{\"marker\":{\"pattern\":{\"fillmode\":\"overlay\",\"size\":10,\"solidity\":0.2}},\"type\":\"histogram\"}],\"scattergl\":[{\"type\":\"scattergl\",\"marker\":{\"colorbar\":{\"outlinewidth\":0,\"ticks\":\"\"}}}],\"scatter3d\":[{\"type\":\"scatter3d\",\"line\":{\"colorbar\":{\"outlinewidth\":0,\"ticks\":\"\"}},\"marker\":{\"colorbar\":{\"outlinewidth\":0,\"ticks\":\"\"}}}],\"scattermapbox\":[{\"type\":\"scattermapbox\",\"marker\":{\"colorbar\":{\"outlinewidth\":0,\"ticks\":\"\"}}}],\"scatterternary\":[{\"type\":\"scatterternary\",\"marker\":{\"colorbar\":{\"outlinewidth\":0,\"ticks\":\"\"}}}],\"scattercarpet\":[{\"type\":\"scattercarpet\",\"marker\":{\"colorbar\":{\"outlinewidth\":0,\"ticks\":\"\"}}}],\"carpet\":[{\"aaxis\":{\"endlinecolor\":\"#2a3f5f\",\"gridcolor\":\"white\",\"linecolor\":\"white\",\"minorgridcolor\":\"white\",\"startlinecolor\":\"#2a3f5f\"},\"baxis\":{\"endlinecolor\":\"#2a3f5f\",\"gridcolor\":\"white\",\"linecolor\":\"white\",\"minorgridcolor\":\"white\",\"startlinecolor\":\"#2a3f5f\"},\"type\":\"carpet\"}],\"table\":[{\"cells\":{\"fill\":{\"color\":\"#EBF0F8\"},\"line\":{\"color\":\"white\"}},\"header\":{\"fill\":{\"color\":\"#C8D4E3\"},\"line\":{\"color\":\"white\"}},\"type\":\"table\"}],\"barpolar\":[{\"marker\":{\"line\":{\"color\":\"#E5ECF6\",\"width\":0.5},\"pattern\":{\"fillmode\":\"overlay\",\"size\":10,\"solidity\":0.2}},\"type\":\"barpolar\"}],\"pie\":[{\"automargin\":true,\"type\":\"pie\"}]},\"layout\":{\"autotypenumbers\":\"strict\",\"colorway\":[\"#636efa\",\"#EF553B\",\"#00cc96\",\"#ab63fa\",\"#FFA15A\",\"#19d3f3\",\"#FF6692\",\"#B6E880\",\"#FF97FF\",\"#FECB52\"],\"font\":{\"color\":\"#2a3f5f\"},\"hovermode\":\"closest\",\"hoverlabel\":{\"align\":\"left\"},\"paper_bgcolor\":\"white\",\"plot_bgcolor\":\"#E5ECF6\",\"polar\":{\"bgcolor\":\"#E5ECF6\",\"angularaxis\":{\"gridcolor\":\"white\",\"linecolor\":\"white\",\"ticks\":\"\"},\"radialaxis\":{\"gridcolor\":\"white\",\"linecolor\":\"white\",\"ticks\":\"\"}},\"ternary\":{\"bgcolor\":\"#E5ECF6\",\"aaxis\":{\"gridcolor\":\"white\",\"linecolor\":\"white\",\"ticks\":\"\"},\"baxis\":{\"gridcolor\":\"white\",\"linecolor\":\"white\",\"ticks\":\"\"},\"caxis\":{\"gridcolor\":\"white\",\"linecolor\":\"white\",\"ticks\":\"\"}},\"coloraxis\":{\"colorbar\":{\"outlinewidth\":0,\"ticks\":\"\"}},\"colorscale\":{\"sequential\":[[0.0,\"#0d0887\"],[0.1111111111111111,\"#46039f\"],[0.2222222222222222,\"#7201a8\"],[0.3333333333333333,\"#9c179e\"],[0.4444444444444444,\"#bd3786\"],[0.5555555555555556,\"#d8576b\"],[0.6666666666666666,\"#ed7953\"],[0.7777777777777778,\"#fb9f3a\"],[0.8888888888888888,\"#fdca26\"],[1.0,\"#f0f921\"]],\"sequentialminus\":[[0.0,\"#0d0887\"],[0.1111111111111111,\"#46039f\"],[0.2222222222222222,\"#7201a8\"],[0.3333333333333333,\"#9c179e\"],[0.4444444444444444,\"#bd3786\"],[0.5555555555555556,\"#d8576b\"],[0.6666666666666666,\"#ed7953\"],[0.7777777777777778,\"#fb9f3a\"],[0.8888888888888888,\"#fdca26\"],[1.0,\"#f0f921\"]],\"diverging\":[[0,\"#8e0152\"],[0.1,\"#c51b7d\"],[0.2,\"#de77ae\"],[0.3,\"#f1b6da\"],[0.4,\"#fde0ef\"],[0.5,\"#f7f7f7\"],[0.6,\"#e6f5d0\"],[0.7,\"#b8e186\"],[0.8,\"#7fbc41\"],[0.9,\"#4d9221\"],[1,\"#276419\"]]},\"xaxis\":{\"gridcolor\":\"white\",\"linecolor\":\"white\",\"ticks\":\"\",\"title\":{\"standoff\":15},\"zerolinecolor\":\"white\",\"automargin\":true,\"zerolinewidth\":2},\"yaxis\":{\"gridcolor\":\"white\",\"linecolor\":\"white\",\"ticks\":\"\",\"title\":{\"standoff\":15},\"zerolinecolor\":\"white\",\"automargin\":true,\"zerolinewidth\":2},\"scene\":{\"xaxis\":{\"backgroundcolor\":\"#E5ECF6\",\"gridcolor\":\"white\",\"linecolor\":\"white\",\"showbackground\":true,\"ticks\":\"\",\"zerolinecolor\":\"white\",\"gridwidth\":2},\"yaxis\":{\"backgroundcolor\":\"#E5ECF6\",\"gridcolor\":\"white\",\"linecolor\":\"white\",\"showbackground\":true,\"ticks\":\"\",\"zerolinecolor\":\"white\",\"gridwidth\":2},\"zaxis\":{\"backgroundcolor\":\"#E5ECF6\",\"gridcolor\":\"white\",\"linecolor\":\"white\",\"showbackground\":true,\"ticks\":\"\",\"zerolinecolor\":\"white\",\"gridwidth\":2}},\"shapedefaults\":{\"line\":{\"color\":\"#2a3f5f\"}},\"annotationdefaults\":{\"arrowcolor\":\"#2a3f5f\",\"arrowhead\":0,\"arrowwidth\":1},\"geo\":{\"bgcolor\":\"white\",\"landcolor\":\"#E5ECF6\",\"subunitcolor\":\"white\",\"showland\":true,\"showlakes\":true,\"lakecolor\":\"white\"},\"title\":{\"x\":0.05},\"mapbox\":{\"style\":\"light\"}}},\"legend\":{\"tracegroupgap\":0},\"margin\":{\"t\":60}},                        {\"responsive\": true}                    ).then(function(){\n",
       "                            \n",
       "var gd = document.getElementById('c0e65cc3-0bf4-4192-8ae6-3ce4154f5fc0');\n",
       "var x = new MutationObserver(function (mutations, observer) {{\n",
       "        var display = window.getComputedStyle(gd).display;\n",
       "        if (!display || display === 'none') {{\n",
       "            console.log([gd, 'removed!']);\n",
       "            Plotly.purge(gd);\n",
       "            observer.disconnect();\n",
       "        }}\n",
       "}});\n",
       "\n",
       "// Listen for the removal of the full notebook cells\n",
       "var notebookContainer = gd.closest('#notebook-container');\n",
       "if (notebookContainer) {{\n",
       "    x.observe(notebookContainer, {childList: true});\n",
       "}}\n",
       "\n",
       "// Listen for the clearing of the current output cell\n",
       "var outputEl = gd.closest('.output');\n",
       "if (outputEl) {{\n",
       "    x.observe(outputEl, {childList: true});\n",
       "}}\n",
       "\n",
       "                        })                };                });            </script>        </div>"
      ]
     },
     "metadata": {},
     "output_type": "display_data"
    }
   ],
   "source": [
    "px.pie(data_frame=top_Price_cities,names=\"City\",values=\"Price\")"
   ]
  },
  {
   "cell_type": "markdown",
   "metadata": {},
   "source": [
    "<a id=\"1\"></a>\n",
    "# <p style=\"padding:10px;background-color:#00A08B;margin:0;color:White;font-family:Georgia;font-size:100%;text-align:center;border-radius: 15px 50px;overflow:hidden;font-weight:500\">Gouna has the hightest prices,the rest have close prices</p>"
   ]
  },
  {
   "cell_type": "code",
   "execution_count": 138,
   "metadata": {},
   "outputs": [
    {
     "data": {
      "application/vnd.plotly.v1+json": {
       "config": {
        "plotlyServerURL": "https://plot.ly"
       },
       "data": [
        {
         "alignmentgroup": "True",
         "hovertemplate": "Price=%{x}<br>Type=%{y}<extra></extra>",
         "legendgroup": "",
         "marker": {
          "color": "rgb(243, 203, 211)",
          "pattern": {
           "shape": ""
          }
         },
         "name": "",
         "offsetgroup": "",
         "orientation": "h",
         "showlegend": false,
         "textposition": "auto",
         "type": "bar",
         "x": [
          1854608.7368421052,
          2529637.0024948027,
          3076307.967539863,
          3885107.3224299066,
          4359188.298507462,
          5541113.180327869,
          5602629.867647059,
          14537556.818181818
         ],
         "xaxis": "x",
         "y": [
          "Studio",
          "Apartment",
          "Chalet",
          "Penthouse",
          "Duplex",
          "Town House",
          "Twin house",
          "Standalone Villa"
         ],
         "yaxis": "y"
        }
       ],
       "layout": {
        "barmode": "relative",
        "legend": {
         "tracegroupgap": 0
        },
        "template": {
         "data": {
          "bar": [
           {
            "error_x": {
             "color": "#f2f5fa"
            },
            "error_y": {
             "color": "#f2f5fa"
            },
            "marker": {
             "line": {
              "color": "rgb(17,17,17)",
              "width": 0.5
             },
             "pattern": {
              "fillmode": "overlay",
              "size": 10,
              "solidity": 0.2
             }
            },
            "type": "bar"
           }
          ],
          "barpolar": [
           {
            "marker": {
             "line": {
              "color": "rgb(17,17,17)",
              "width": 0.5
             },
             "pattern": {
              "fillmode": "overlay",
              "size": 10,
              "solidity": 0.2
             }
            },
            "type": "barpolar"
           }
          ],
          "carpet": [
           {
            "aaxis": {
             "endlinecolor": "#A2B1C6",
             "gridcolor": "#506784",
             "linecolor": "#506784",
             "minorgridcolor": "#506784",
             "startlinecolor": "#A2B1C6"
            },
            "baxis": {
             "endlinecolor": "#A2B1C6",
             "gridcolor": "#506784",
             "linecolor": "#506784",
             "minorgridcolor": "#506784",
             "startlinecolor": "#A2B1C6"
            },
            "type": "carpet"
           }
          ],
          "choropleth": [
           {
            "colorbar": {
             "outlinewidth": 0,
             "ticks": ""
            },
            "type": "choropleth"
           }
          ],
          "contour": [
           {
            "colorbar": {
             "outlinewidth": 0,
             "ticks": ""
            },
            "colorscale": [
             [
              0,
              "#0d0887"
             ],
             [
              0.1111111111111111,
              "#46039f"
             ],
             [
              0.2222222222222222,
              "#7201a8"
             ],
             [
              0.3333333333333333,
              "#9c179e"
             ],
             [
              0.4444444444444444,
              "#bd3786"
             ],
             [
              0.5555555555555556,
              "#d8576b"
             ],
             [
              0.6666666666666666,
              "#ed7953"
             ],
             [
              0.7777777777777778,
              "#fb9f3a"
             ],
             [
              0.8888888888888888,
              "#fdca26"
             ],
             [
              1,
              "#f0f921"
             ]
            ],
            "type": "contour"
           }
          ],
          "contourcarpet": [
           {
            "colorbar": {
             "outlinewidth": 0,
             "ticks": ""
            },
            "type": "contourcarpet"
           }
          ],
          "heatmap": [
           {
            "colorbar": {
             "outlinewidth": 0,
             "ticks": ""
            },
            "colorscale": [
             [
              0,
              "#0d0887"
             ],
             [
              0.1111111111111111,
              "#46039f"
             ],
             [
              0.2222222222222222,
              "#7201a8"
             ],
             [
              0.3333333333333333,
              "#9c179e"
             ],
             [
              0.4444444444444444,
              "#bd3786"
             ],
             [
              0.5555555555555556,
              "#d8576b"
             ],
             [
              0.6666666666666666,
              "#ed7953"
             ],
             [
              0.7777777777777778,
              "#fb9f3a"
             ],
             [
              0.8888888888888888,
              "#fdca26"
             ],
             [
              1,
              "#f0f921"
             ]
            ],
            "type": "heatmap"
           }
          ],
          "heatmapgl": [
           {
            "colorbar": {
             "outlinewidth": 0,
             "ticks": ""
            },
            "colorscale": [
             [
              0,
              "#0d0887"
             ],
             [
              0.1111111111111111,
              "#46039f"
             ],
             [
              0.2222222222222222,
              "#7201a8"
             ],
             [
              0.3333333333333333,
              "#9c179e"
             ],
             [
              0.4444444444444444,
              "#bd3786"
             ],
             [
              0.5555555555555556,
              "#d8576b"
             ],
             [
              0.6666666666666666,
              "#ed7953"
             ],
             [
              0.7777777777777778,
              "#fb9f3a"
             ],
             [
              0.8888888888888888,
              "#fdca26"
             ],
             [
              1,
              "#f0f921"
             ]
            ],
            "type": "heatmapgl"
           }
          ],
          "histogram": [
           {
            "marker": {
             "pattern": {
              "fillmode": "overlay",
              "size": 10,
              "solidity": 0.2
             }
            },
            "type": "histogram"
           }
          ],
          "histogram2d": [
           {
            "colorbar": {
             "outlinewidth": 0,
             "ticks": ""
            },
            "colorscale": [
             [
              0,
              "#0d0887"
             ],
             [
              0.1111111111111111,
              "#46039f"
             ],
             [
              0.2222222222222222,
              "#7201a8"
             ],
             [
              0.3333333333333333,
              "#9c179e"
             ],
             [
              0.4444444444444444,
              "#bd3786"
             ],
             [
              0.5555555555555556,
              "#d8576b"
             ],
             [
              0.6666666666666666,
              "#ed7953"
             ],
             [
              0.7777777777777778,
              "#fb9f3a"
             ],
             [
              0.8888888888888888,
              "#fdca26"
             ],
             [
              1,
              "#f0f921"
             ]
            ],
            "type": "histogram2d"
           }
          ],
          "histogram2dcontour": [
           {
            "colorbar": {
             "outlinewidth": 0,
             "ticks": ""
            },
            "colorscale": [
             [
              0,
              "#0d0887"
             ],
             [
              0.1111111111111111,
              "#46039f"
             ],
             [
              0.2222222222222222,
              "#7201a8"
             ],
             [
              0.3333333333333333,
              "#9c179e"
             ],
             [
              0.4444444444444444,
              "#bd3786"
             ],
             [
              0.5555555555555556,
              "#d8576b"
             ],
             [
              0.6666666666666666,
              "#ed7953"
             ],
             [
              0.7777777777777778,
              "#fb9f3a"
             ],
             [
              0.8888888888888888,
              "#fdca26"
             ],
             [
              1,
              "#f0f921"
             ]
            ],
            "type": "histogram2dcontour"
           }
          ],
          "mesh3d": [
           {
            "colorbar": {
             "outlinewidth": 0,
             "ticks": ""
            },
            "type": "mesh3d"
           }
          ],
          "parcoords": [
           {
            "line": {
             "colorbar": {
              "outlinewidth": 0,
              "ticks": ""
             }
            },
            "type": "parcoords"
           }
          ],
          "pie": [
           {
            "automargin": true,
            "type": "pie"
           }
          ],
          "scatter": [
           {
            "marker": {
             "line": {
              "color": "#283442"
             }
            },
            "type": "scatter"
           }
          ],
          "scatter3d": [
           {
            "line": {
             "colorbar": {
              "outlinewidth": 0,
              "ticks": ""
             }
            },
            "marker": {
             "colorbar": {
              "outlinewidth": 0,
              "ticks": ""
             }
            },
            "type": "scatter3d"
           }
          ],
          "scattercarpet": [
           {
            "marker": {
             "colorbar": {
              "outlinewidth": 0,
              "ticks": ""
             }
            },
            "type": "scattercarpet"
           }
          ],
          "scattergeo": [
           {
            "marker": {
             "colorbar": {
              "outlinewidth": 0,
              "ticks": ""
             }
            },
            "type": "scattergeo"
           }
          ],
          "scattergl": [
           {
            "marker": {
             "line": {
              "color": "#283442"
             }
            },
            "type": "scattergl"
           }
          ],
          "scattermapbox": [
           {
            "marker": {
             "colorbar": {
              "outlinewidth": 0,
              "ticks": ""
             }
            },
            "type": "scattermapbox"
           }
          ],
          "scatterpolar": [
           {
            "marker": {
             "colorbar": {
              "outlinewidth": 0,
              "ticks": ""
             }
            },
            "type": "scatterpolar"
           }
          ],
          "scatterpolargl": [
           {
            "marker": {
             "colorbar": {
              "outlinewidth": 0,
              "ticks": ""
             }
            },
            "type": "scatterpolargl"
           }
          ],
          "scatterternary": [
           {
            "marker": {
             "colorbar": {
              "outlinewidth": 0,
              "ticks": ""
             }
            },
            "type": "scatterternary"
           }
          ],
          "surface": [
           {
            "colorbar": {
             "outlinewidth": 0,
             "ticks": ""
            },
            "colorscale": [
             [
              0,
              "#0d0887"
             ],
             [
              0.1111111111111111,
              "#46039f"
             ],
             [
              0.2222222222222222,
              "#7201a8"
             ],
             [
              0.3333333333333333,
              "#9c179e"
             ],
             [
              0.4444444444444444,
              "#bd3786"
             ],
             [
              0.5555555555555556,
              "#d8576b"
             ],
             [
              0.6666666666666666,
              "#ed7953"
             ],
             [
              0.7777777777777778,
              "#fb9f3a"
             ],
             [
              0.8888888888888888,
              "#fdca26"
             ],
             [
              1,
              "#f0f921"
             ]
            ],
            "type": "surface"
           }
          ],
          "table": [
           {
            "cells": {
             "fill": {
              "color": "#506784"
             },
             "line": {
              "color": "rgb(17,17,17)"
             }
            },
            "header": {
             "fill": {
              "color": "#2a3f5f"
             },
             "line": {
              "color": "rgb(17,17,17)"
             }
            },
            "type": "table"
           }
          ]
         },
         "layout": {
          "annotationdefaults": {
           "arrowcolor": "#f2f5fa",
           "arrowhead": 0,
           "arrowwidth": 1
          },
          "autotypenumbers": "strict",
          "coloraxis": {
           "colorbar": {
            "outlinewidth": 0,
            "ticks": ""
           }
          },
          "colorscale": {
           "diverging": [
            [
             0,
             "#8e0152"
            ],
            [
             0.1,
             "#c51b7d"
            ],
            [
             0.2,
             "#de77ae"
            ],
            [
             0.3,
             "#f1b6da"
            ],
            [
             0.4,
             "#fde0ef"
            ],
            [
             0.5,
             "#f7f7f7"
            ],
            [
             0.6,
             "#e6f5d0"
            ],
            [
             0.7,
             "#b8e186"
            ],
            [
             0.8,
             "#7fbc41"
            ],
            [
             0.9,
             "#4d9221"
            ],
            [
             1,
             "#276419"
            ]
           ],
           "sequential": [
            [
             0,
             "#0d0887"
            ],
            [
             0.1111111111111111,
             "#46039f"
            ],
            [
             0.2222222222222222,
             "#7201a8"
            ],
            [
             0.3333333333333333,
             "#9c179e"
            ],
            [
             0.4444444444444444,
             "#bd3786"
            ],
            [
             0.5555555555555556,
             "#d8576b"
            ],
            [
             0.6666666666666666,
             "#ed7953"
            ],
            [
             0.7777777777777778,
             "#fb9f3a"
            ],
            [
             0.8888888888888888,
             "#fdca26"
            ],
            [
             1,
             "#f0f921"
            ]
           ],
           "sequentialminus": [
            [
             0,
             "#0d0887"
            ],
            [
             0.1111111111111111,
             "#46039f"
            ],
            [
             0.2222222222222222,
             "#7201a8"
            ],
            [
             0.3333333333333333,
             "#9c179e"
            ],
            [
             0.4444444444444444,
             "#bd3786"
            ],
            [
             0.5555555555555556,
             "#d8576b"
            ],
            [
             0.6666666666666666,
             "#ed7953"
            ],
            [
             0.7777777777777778,
             "#fb9f3a"
            ],
            [
             0.8888888888888888,
             "#fdca26"
            ],
            [
             1,
             "#f0f921"
            ]
           ]
          },
          "colorway": [
           "#636efa",
           "#EF553B",
           "#00cc96",
           "#ab63fa",
           "#FFA15A",
           "#19d3f3",
           "#FF6692",
           "#B6E880",
           "#FF97FF",
           "#FECB52"
          ],
          "font": {
           "color": "#f2f5fa"
          },
          "geo": {
           "bgcolor": "rgb(17,17,17)",
           "lakecolor": "rgb(17,17,17)",
           "landcolor": "rgb(17,17,17)",
           "showlakes": true,
           "showland": true,
           "subunitcolor": "#506784"
          },
          "hoverlabel": {
           "align": "left"
          },
          "hovermode": "closest",
          "mapbox": {
           "style": "dark"
          },
          "paper_bgcolor": "rgb(17,17,17)",
          "plot_bgcolor": "rgb(17,17,17)",
          "polar": {
           "angularaxis": {
            "gridcolor": "#506784",
            "linecolor": "#506784",
            "ticks": ""
           },
           "bgcolor": "rgb(17,17,17)",
           "radialaxis": {
            "gridcolor": "#506784",
            "linecolor": "#506784",
            "ticks": ""
           }
          },
          "scene": {
           "xaxis": {
            "backgroundcolor": "rgb(17,17,17)",
            "gridcolor": "#506784",
            "gridwidth": 2,
            "linecolor": "#506784",
            "showbackground": true,
            "ticks": "",
            "zerolinecolor": "#C8D4E3"
           },
           "yaxis": {
            "backgroundcolor": "rgb(17,17,17)",
            "gridcolor": "#506784",
            "gridwidth": 2,
            "linecolor": "#506784",
            "showbackground": true,
            "ticks": "",
            "zerolinecolor": "#C8D4E3"
           },
           "zaxis": {
            "backgroundcolor": "rgb(17,17,17)",
            "gridcolor": "#506784",
            "gridwidth": 2,
            "linecolor": "#506784",
            "showbackground": true,
            "ticks": "",
            "zerolinecolor": "#C8D4E3"
           }
          },
          "shapedefaults": {
           "line": {
            "color": "#f2f5fa"
           }
          },
          "sliderdefaults": {
           "bgcolor": "#C8D4E3",
           "bordercolor": "rgb(17,17,17)",
           "borderwidth": 1,
           "tickwidth": 0
          },
          "ternary": {
           "aaxis": {
            "gridcolor": "#506784",
            "linecolor": "#506784",
            "ticks": ""
           },
           "baxis": {
            "gridcolor": "#506784",
            "linecolor": "#506784",
            "ticks": ""
           },
           "bgcolor": "rgb(17,17,17)",
           "caxis": {
            "gridcolor": "#506784",
            "linecolor": "#506784",
            "ticks": ""
           }
          },
          "title": {
           "x": 0.05
          },
          "updatemenudefaults": {
           "bgcolor": "#506784",
           "borderwidth": 0
          },
          "xaxis": {
           "automargin": true,
           "gridcolor": "#283442",
           "linecolor": "#506784",
           "ticks": "",
           "title": {
            "standoff": 15
           },
           "zerolinecolor": "#283442",
           "zerolinewidth": 2
          },
          "yaxis": {
           "automargin": true,
           "gridcolor": "#283442",
           "linecolor": "#506784",
           "ticks": "",
           "title": {
            "standoff": 15
           },
           "zerolinecolor": "#283442",
           "zerolinewidth": 2
          }
         }
        },
        "title": {
         "text": "Units price available according to Type"
        },
        "xaxis": {
         "anchor": "y",
         "domain": [
          0,
          1
         ],
         "title": {
          "text": "Price"
         }
        },
        "yaxis": {
         "anchor": "x",
         "domain": [
          0,
          1
         ],
         "title": {
          "text": "Type"
         }
        }
       }
      },
      "text/html": [
       "<div>                            <div id=\"3e4e3c38-a560-4c9a-9bc3-347613dd5d3b\" class=\"plotly-graph-div\" style=\"height:525px; width:100%;\"></div>            <script type=\"text/javascript\">                require([\"plotly\"], function(Plotly) {                    window.PLOTLYENV=window.PLOTLYENV || {};                                    if (document.getElementById(\"3e4e3c38-a560-4c9a-9bc3-347613dd5d3b\")) {                    Plotly.newPlot(                        \"3e4e3c38-a560-4c9a-9bc3-347613dd5d3b\",                        [{\"alignmentgroup\":\"True\",\"hovertemplate\":\"Price=%{x}\\u003cbr\\u003eType=%{y}\\u003cextra\\u003e\\u003c\\u002fextra\\u003e\",\"legendgroup\":\"\",\"marker\":{\"color\":\"rgb(243, 203, 211)\",\"pattern\":{\"shape\":\"\"}},\"name\":\"\",\"offsetgroup\":\"\",\"orientation\":\"h\",\"showlegend\":false,\"textposition\":\"auto\",\"x\":[1854608.7368421052,2529637.0024948027,3076307.967539863,3885107.3224299066,4359188.298507462,5541113.180327869,5602629.867647059,14537556.818181818],\"xaxis\":\"x\",\"y\":[\"Studio\",\"Apartment\",\"Chalet\",\"Penthouse\",\"Duplex\",\"Town House\",\"Twin house\",\"Standalone Villa\"],\"yaxis\":\"y\",\"type\":\"bar\"}],                        {\"template\":{\"data\":{\"barpolar\":[{\"marker\":{\"line\":{\"color\":\"rgb(17,17,17)\",\"width\":0.5},\"pattern\":{\"fillmode\":\"overlay\",\"size\":10,\"solidity\":0.2}},\"type\":\"barpolar\"}],\"bar\":[{\"error_x\":{\"color\":\"#f2f5fa\"},\"error_y\":{\"color\":\"#f2f5fa\"},\"marker\":{\"line\":{\"color\":\"rgb(17,17,17)\",\"width\":0.5},\"pattern\":{\"fillmode\":\"overlay\",\"size\":10,\"solidity\":0.2}},\"type\":\"bar\"}],\"carpet\":[{\"aaxis\":{\"endlinecolor\":\"#A2B1C6\",\"gridcolor\":\"#506784\",\"linecolor\":\"#506784\",\"minorgridcolor\":\"#506784\",\"startlinecolor\":\"#A2B1C6\"},\"baxis\":{\"endlinecolor\":\"#A2B1C6\",\"gridcolor\":\"#506784\",\"linecolor\":\"#506784\",\"minorgridcolor\":\"#506784\",\"startlinecolor\":\"#A2B1C6\"},\"type\":\"carpet\"}],\"choropleth\":[{\"colorbar\":{\"outlinewidth\":0,\"ticks\":\"\"},\"type\":\"choropleth\"}],\"contourcarpet\":[{\"colorbar\":{\"outlinewidth\":0,\"ticks\":\"\"},\"type\":\"contourcarpet\"}],\"contour\":[{\"colorbar\":{\"outlinewidth\":0,\"ticks\":\"\"},\"colorscale\":[[0.0,\"#0d0887\"],[0.1111111111111111,\"#46039f\"],[0.2222222222222222,\"#7201a8\"],[0.3333333333333333,\"#9c179e\"],[0.4444444444444444,\"#bd3786\"],[0.5555555555555556,\"#d8576b\"],[0.6666666666666666,\"#ed7953\"],[0.7777777777777778,\"#fb9f3a\"],[0.8888888888888888,\"#fdca26\"],[1.0,\"#f0f921\"]],\"type\":\"contour\"}],\"heatmapgl\":[{\"colorbar\":{\"outlinewidth\":0,\"ticks\":\"\"},\"colorscale\":[[0.0,\"#0d0887\"],[0.1111111111111111,\"#46039f\"],[0.2222222222222222,\"#7201a8\"],[0.3333333333333333,\"#9c179e\"],[0.4444444444444444,\"#bd3786\"],[0.5555555555555556,\"#d8576b\"],[0.6666666666666666,\"#ed7953\"],[0.7777777777777778,\"#fb9f3a\"],[0.8888888888888888,\"#fdca26\"],[1.0,\"#f0f921\"]],\"type\":\"heatmapgl\"}],\"heatmap\":[{\"colorbar\":{\"outlinewidth\":0,\"ticks\":\"\"},\"colorscale\":[[0.0,\"#0d0887\"],[0.1111111111111111,\"#46039f\"],[0.2222222222222222,\"#7201a8\"],[0.3333333333333333,\"#9c179e\"],[0.4444444444444444,\"#bd3786\"],[0.5555555555555556,\"#d8576b\"],[0.6666666666666666,\"#ed7953\"],[0.7777777777777778,\"#fb9f3a\"],[0.8888888888888888,\"#fdca26\"],[1.0,\"#f0f921\"]],\"type\":\"heatmap\"}],\"histogram2dcontour\":[{\"colorbar\":{\"outlinewidth\":0,\"ticks\":\"\"},\"colorscale\":[[0.0,\"#0d0887\"],[0.1111111111111111,\"#46039f\"],[0.2222222222222222,\"#7201a8\"],[0.3333333333333333,\"#9c179e\"],[0.4444444444444444,\"#bd3786\"],[0.5555555555555556,\"#d8576b\"],[0.6666666666666666,\"#ed7953\"],[0.7777777777777778,\"#fb9f3a\"],[0.8888888888888888,\"#fdca26\"],[1.0,\"#f0f921\"]],\"type\":\"histogram2dcontour\"}],\"histogram2d\":[{\"colorbar\":{\"outlinewidth\":0,\"ticks\":\"\"},\"colorscale\":[[0.0,\"#0d0887\"],[0.1111111111111111,\"#46039f\"],[0.2222222222222222,\"#7201a8\"],[0.3333333333333333,\"#9c179e\"],[0.4444444444444444,\"#bd3786\"],[0.5555555555555556,\"#d8576b\"],[0.6666666666666666,\"#ed7953\"],[0.7777777777777778,\"#fb9f3a\"],[0.8888888888888888,\"#fdca26\"],[1.0,\"#f0f921\"]],\"type\":\"histogram2d\"}],\"histogram\":[{\"marker\":{\"pattern\":{\"fillmode\":\"overlay\",\"size\":10,\"solidity\":0.2}},\"type\":\"histogram\"}],\"mesh3d\":[{\"colorbar\":{\"outlinewidth\":0,\"ticks\":\"\"},\"type\":\"mesh3d\"}],\"parcoords\":[{\"line\":{\"colorbar\":{\"outlinewidth\":0,\"ticks\":\"\"}},\"type\":\"parcoords\"}],\"pie\":[{\"automargin\":true,\"type\":\"pie\"}],\"scatter3d\":[{\"line\":{\"colorbar\":{\"outlinewidth\":0,\"ticks\":\"\"}},\"marker\":{\"colorbar\":{\"outlinewidth\":0,\"ticks\":\"\"}},\"type\":\"scatter3d\"}],\"scattercarpet\":[{\"marker\":{\"colorbar\":{\"outlinewidth\":0,\"ticks\":\"\"}},\"type\":\"scattercarpet\"}],\"scattergeo\":[{\"marker\":{\"colorbar\":{\"outlinewidth\":0,\"ticks\":\"\"}},\"type\":\"scattergeo\"}],\"scattergl\":[{\"marker\":{\"line\":{\"color\":\"#283442\"}},\"type\":\"scattergl\"}],\"scattermapbox\":[{\"marker\":{\"colorbar\":{\"outlinewidth\":0,\"ticks\":\"\"}},\"type\":\"scattermapbox\"}],\"scatterpolargl\":[{\"marker\":{\"colorbar\":{\"outlinewidth\":0,\"ticks\":\"\"}},\"type\":\"scatterpolargl\"}],\"scatterpolar\":[{\"marker\":{\"colorbar\":{\"outlinewidth\":0,\"ticks\":\"\"}},\"type\":\"scatterpolar\"}],\"scatter\":[{\"marker\":{\"line\":{\"color\":\"#283442\"}},\"type\":\"scatter\"}],\"scatterternary\":[{\"marker\":{\"colorbar\":{\"outlinewidth\":0,\"ticks\":\"\"}},\"type\":\"scatterternary\"}],\"surface\":[{\"colorbar\":{\"outlinewidth\":0,\"ticks\":\"\"},\"colorscale\":[[0.0,\"#0d0887\"],[0.1111111111111111,\"#46039f\"],[0.2222222222222222,\"#7201a8\"],[0.3333333333333333,\"#9c179e\"],[0.4444444444444444,\"#bd3786\"],[0.5555555555555556,\"#d8576b\"],[0.6666666666666666,\"#ed7953\"],[0.7777777777777778,\"#fb9f3a\"],[0.8888888888888888,\"#fdca26\"],[1.0,\"#f0f921\"]],\"type\":\"surface\"}],\"table\":[{\"cells\":{\"fill\":{\"color\":\"#506784\"},\"line\":{\"color\":\"rgb(17,17,17)\"}},\"header\":{\"fill\":{\"color\":\"#2a3f5f\"},\"line\":{\"color\":\"rgb(17,17,17)\"}},\"type\":\"table\"}]},\"layout\":{\"annotationdefaults\":{\"arrowcolor\":\"#f2f5fa\",\"arrowhead\":0,\"arrowwidth\":1},\"autotypenumbers\":\"strict\",\"coloraxis\":{\"colorbar\":{\"outlinewidth\":0,\"ticks\":\"\"}},\"colorscale\":{\"diverging\":[[0,\"#8e0152\"],[0.1,\"#c51b7d\"],[0.2,\"#de77ae\"],[0.3,\"#f1b6da\"],[0.4,\"#fde0ef\"],[0.5,\"#f7f7f7\"],[0.6,\"#e6f5d0\"],[0.7,\"#b8e186\"],[0.8,\"#7fbc41\"],[0.9,\"#4d9221\"],[1,\"#276419\"]],\"sequential\":[[0.0,\"#0d0887\"],[0.1111111111111111,\"#46039f\"],[0.2222222222222222,\"#7201a8\"],[0.3333333333333333,\"#9c179e\"],[0.4444444444444444,\"#bd3786\"],[0.5555555555555556,\"#d8576b\"],[0.6666666666666666,\"#ed7953\"],[0.7777777777777778,\"#fb9f3a\"],[0.8888888888888888,\"#fdca26\"],[1.0,\"#f0f921\"]],\"sequentialminus\":[[0.0,\"#0d0887\"],[0.1111111111111111,\"#46039f\"],[0.2222222222222222,\"#7201a8\"],[0.3333333333333333,\"#9c179e\"],[0.4444444444444444,\"#bd3786\"],[0.5555555555555556,\"#d8576b\"],[0.6666666666666666,\"#ed7953\"],[0.7777777777777778,\"#fb9f3a\"],[0.8888888888888888,\"#fdca26\"],[1.0,\"#f0f921\"]]},\"colorway\":[\"#636efa\",\"#EF553B\",\"#00cc96\",\"#ab63fa\",\"#FFA15A\",\"#19d3f3\",\"#FF6692\",\"#B6E880\",\"#FF97FF\",\"#FECB52\"],\"font\":{\"color\":\"#f2f5fa\"},\"geo\":{\"bgcolor\":\"rgb(17,17,17)\",\"lakecolor\":\"rgb(17,17,17)\",\"landcolor\":\"rgb(17,17,17)\",\"showlakes\":true,\"showland\":true,\"subunitcolor\":\"#506784\"},\"hoverlabel\":{\"align\":\"left\"},\"hovermode\":\"closest\",\"mapbox\":{\"style\":\"dark\"},\"paper_bgcolor\":\"rgb(17,17,17)\",\"plot_bgcolor\":\"rgb(17,17,17)\",\"polar\":{\"angularaxis\":{\"gridcolor\":\"#506784\",\"linecolor\":\"#506784\",\"ticks\":\"\"},\"bgcolor\":\"rgb(17,17,17)\",\"radialaxis\":{\"gridcolor\":\"#506784\",\"linecolor\":\"#506784\",\"ticks\":\"\"}},\"scene\":{\"xaxis\":{\"backgroundcolor\":\"rgb(17,17,17)\",\"gridcolor\":\"#506784\",\"gridwidth\":2,\"linecolor\":\"#506784\",\"showbackground\":true,\"ticks\":\"\",\"zerolinecolor\":\"#C8D4E3\"},\"yaxis\":{\"backgroundcolor\":\"rgb(17,17,17)\",\"gridcolor\":\"#506784\",\"gridwidth\":2,\"linecolor\":\"#506784\",\"showbackground\":true,\"ticks\":\"\",\"zerolinecolor\":\"#C8D4E3\"},\"zaxis\":{\"backgroundcolor\":\"rgb(17,17,17)\",\"gridcolor\":\"#506784\",\"gridwidth\":2,\"linecolor\":\"#506784\",\"showbackground\":true,\"ticks\":\"\",\"zerolinecolor\":\"#C8D4E3\"}},\"shapedefaults\":{\"line\":{\"color\":\"#f2f5fa\"}},\"sliderdefaults\":{\"bgcolor\":\"#C8D4E3\",\"bordercolor\":\"rgb(17,17,17)\",\"borderwidth\":1,\"tickwidth\":0},\"ternary\":{\"aaxis\":{\"gridcolor\":\"#506784\",\"linecolor\":\"#506784\",\"ticks\":\"\"},\"baxis\":{\"gridcolor\":\"#506784\",\"linecolor\":\"#506784\",\"ticks\":\"\"},\"bgcolor\":\"rgb(17,17,17)\",\"caxis\":{\"gridcolor\":\"#506784\",\"linecolor\":\"#506784\",\"ticks\":\"\"}},\"title\":{\"x\":0.05},\"updatemenudefaults\":{\"bgcolor\":\"#506784\",\"borderwidth\":0},\"xaxis\":{\"automargin\":true,\"gridcolor\":\"#283442\",\"linecolor\":\"#506784\",\"ticks\":\"\",\"title\":{\"standoff\":15},\"zerolinecolor\":\"#283442\",\"zerolinewidth\":2},\"yaxis\":{\"automargin\":true,\"gridcolor\":\"#283442\",\"linecolor\":\"#506784\",\"ticks\":\"\",\"title\":{\"standoff\":15},\"zerolinecolor\":\"#283442\",\"zerolinewidth\":2}}},\"xaxis\":{\"anchor\":\"y\",\"domain\":[0.0,1.0],\"title\":{\"text\":\"Price\"}},\"yaxis\":{\"anchor\":\"x\",\"domain\":[0.0,1.0],\"title\":{\"text\":\"Type\"}},\"legend\":{\"tracegroupgap\":0},\"title\":{\"text\":\"Units price available according to Type\"},\"barmode\":\"relative\"},                        {\"responsive\": true}                    ).then(function(){\n",
       "                            \n",
       "var gd = document.getElementById('3e4e3c38-a560-4c9a-9bc3-347613dd5d3b');\n",
       "var x = new MutationObserver(function (mutations, observer) {{\n",
       "        var display = window.getComputedStyle(gd).display;\n",
       "        if (!display || display === 'none') {{\n",
       "            console.log([gd, 'removed!']);\n",
       "            Plotly.purge(gd);\n",
       "            observer.disconnect();\n",
       "        }}\n",
       "}});\n",
       "\n",
       "// Listen for the removal of the full notebook cells\n",
       "var notebookContainer = gd.closest('#notebook-container');\n",
       "if (notebookContainer) {{\n",
       "    x.observe(notebookContainer, {childList: true});\n",
       "}}\n",
       "\n",
       "// Listen for the clearing of the current output cell\n",
       "var outputEl = gd.closest('.output');\n",
       "if (outputEl) {{\n",
       "    x.observe(outputEl, {childList: true});\n",
       "}}\n",
       "\n",
       "                        })                };                });            </script>        </div>"
      ]
     },
     "metadata": {},
     "output_type": "display_data"
    }
   ],
   "source": [
    "types = df.groupby(\"Type\")[\"Price\"].mean().sort_values(ascending =True).reset_index(name='Price')\n",
    "\n",
    "px.bar(x=\"Price\",y=\"Type\",template = \"plotly_dark\",data_frame=types,color_discrete_sequence=px.colors.sequential.Magenta,title = \"Units price available according to Type\")"
   ]
  },
  {
   "cell_type": "code",
   "execution_count": 139,
   "metadata": {},
   "outputs": [
    {
     "data": {
      "text/html": [
       "<div>\n",
       "<style scoped>\n",
       "    .dataframe tbody tr th:only-of-type {\n",
       "        vertical-align: middle;\n",
       "    }\n",
       "\n",
       "    .dataframe tbody tr th {\n",
       "        vertical-align: top;\n",
       "    }\n",
       "\n",
       "    .dataframe thead th {\n",
       "        text-align: right;\n",
       "    }\n",
       "</style>\n",
       "<table border=\"1\" class=\"dataframe\">\n",
       "  <thead>\n",
       "    <tr style=\"text-align: right;\">\n",
       "      <th></th>\n",
       "      <th>Type</th>\n",
       "      <th>Price</th>\n",
       "    </tr>\n",
       "  </thead>\n",
       "  <tbody>\n",
       "    <tr>\n",
       "      <th>0</th>\n",
       "      <td>Studio</td>\n",
       "      <td>1.854609e+06</td>\n",
       "    </tr>\n",
       "    <tr>\n",
       "      <th>1</th>\n",
       "      <td>Apartment</td>\n",
       "      <td>2.529637e+06</td>\n",
       "    </tr>\n",
       "    <tr>\n",
       "      <th>2</th>\n",
       "      <td>Chalet</td>\n",
       "      <td>3.076308e+06</td>\n",
       "    </tr>\n",
       "    <tr>\n",
       "      <th>3</th>\n",
       "      <td>Penthouse</td>\n",
       "      <td>3.885107e+06</td>\n",
       "    </tr>\n",
       "    <tr>\n",
       "      <th>4</th>\n",
       "      <td>Duplex</td>\n",
       "      <td>4.359188e+06</td>\n",
       "    </tr>\n",
       "    <tr>\n",
       "      <th>5</th>\n",
       "      <td>Town House</td>\n",
       "      <td>5.541113e+06</td>\n",
       "    </tr>\n",
       "    <tr>\n",
       "      <th>6</th>\n",
       "      <td>Twin house</td>\n",
       "      <td>5.602630e+06</td>\n",
       "    </tr>\n",
       "    <tr>\n",
       "      <th>7</th>\n",
       "      <td>Standalone Villa</td>\n",
       "      <td>1.453756e+07</td>\n",
       "    </tr>\n",
       "  </tbody>\n",
       "</table>\n",
       "</div>"
      ],
      "text/plain": [
       "               Type         Price\n",
       "0            Studio  1.854609e+06\n",
       "1         Apartment  2.529637e+06\n",
       "2            Chalet  3.076308e+06\n",
       "3         Penthouse  3.885107e+06\n",
       "4            Duplex  4.359188e+06\n",
       "5        Town House  5.541113e+06\n",
       "6        Twin house  5.602630e+06\n",
       "7  Standalone Villa  1.453756e+07"
      ]
     },
     "execution_count": 139,
     "metadata": {},
     "output_type": "execute_result"
    }
   ],
   "source": [
    "types"
   ]
  },
  {
   "cell_type": "code",
   "execution_count": 140,
   "metadata": {},
   "outputs": [
    {
     "data": {
      "application/vnd.plotly.v1+json": {
       "config": {
        "plotlyServerURL": "https://plot.ly"
       },
       "data": [
        {
         "domain": {
          "x": [
           0,
           1
          ],
          "y": [
           0,
           1
          ]
         },
         "hovertemplate": "Type=%{label}<br>Price=%{value}<extra></extra>",
         "labels": [
          "Studio",
          "Apartment",
          "Chalet",
          "Penthouse",
          "Duplex",
          "Town House",
          "Twin house",
          "Standalone Villa"
         ],
         "legendgroup": "",
         "name": "",
         "showlegend": true,
         "type": "pie",
         "values": [
          1854608.7368421052,
          2529637.0024948027,
          3076307.967539863,
          3885107.3224299066,
          4359188.298507462,
          5541113.180327869,
          5602629.867647059,
          14537556.818181818
         ]
        }
       ],
       "layout": {
        "legend": {
         "tracegroupgap": 0
        },
        "margin": {
         "t": 60
        },
        "template": {
         "data": {
          "bar": [
           {
            "error_x": {
             "color": "#2a3f5f"
            },
            "error_y": {
             "color": "#2a3f5f"
            },
            "marker": {
             "line": {
              "color": "#E5ECF6",
              "width": 0.5
             },
             "pattern": {
              "fillmode": "overlay",
              "size": 10,
              "solidity": 0.2
             }
            },
            "type": "bar"
           }
          ],
          "barpolar": [
           {
            "marker": {
             "line": {
              "color": "#E5ECF6",
              "width": 0.5
             },
             "pattern": {
              "fillmode": "overlay",
              "size": 10,
              "solidity": 0.2
             }
            },
            "type": "barpolar"
           }
          ],
          "carpet": [
           {
            "aaxis": {
             "endlinecolor": "#2a3f5f",
             "gridcolor": "white",
             "linecolor": "white",
             "minorgridcolor": "white",
             "startlinecolor": "#2a3f5f"
            },
            "baxis": {
             "endlinecolor": "#2a3f5f",
             "gridcolor": "white",
             "linecolor": "white",
             "minorgridcolor": "white",
             "startlinecolor": "#2a3f5f"
            },
            "type": "carpet"
           }
          ],
          "choropleth": [
           {
            "colorbar": {
             "outlinewidth": 0,
             "ticks": ""
            },
            "type": "choropleth"
           }
          ],
          "contour": [
           {
            "colorbar": {
             "outlinewidth": 0,
             "ticks": ""
            },
            "colorscale": [
             [
              0,
              "#0d0887"
             ],
             [
              0.1111111111111111,
              "#46039f"
             ],
             [
              0.2222222222222222,
              "#7201a8"
             ],
             [
              0.3333333333333333,
              "#9c179e"
             ],
             [
              0.4444444444444444,
              "#bd3786"
             ],
             [
              0.5555555555555556,
              "#d8576b"
             ],
             [
              0.6666666666666666,
              "#ed7953"
             ],
             [
              0.7777777777777778,
              "#fb9f3a"
             ],
             [
              0.8888888888888888,
              "#fdca26"
             ],
             [
              1,
              "#f0f921"
             ]
            ],
            "type": "contour"
           }
          ],
          "contourcarpet": [
           {
            "colorbar": {
             "outlinewidth": 0,
             "ticks": ""
            },
            "type": "contourcarpet"
           }
          ],
          "heatmap": [
           {
            "colorbar": {
             "outlinewidth": 0,
             "ticks": ""
            },
            "colorscale": [
             [
              0,
              "#0d0887"
             ],
             [
              0.1111111111111111,
              "#46039f"
             ],
             [
              0.2222222222222222,
              "#7201a8"
             ],
             [
              0.3333333333333333,
              "#9c179e"
             ],
             [
              0.4444444444444444,
              "#bd3786"
             ],
             [
              0.5555555555555556,
              "#d8576b"
             ],
             [
              0.6666666666666666,
              "#ed7953"
             ],
             [
              0.7777777777777778,
              "#fb9f3a"
             ],
             [
              0.8888888888888888,
              "#fdca26"
             ],
             [
              1,
              "#f0f921"
             ]
            ],
            "type": "heatmap"
           }
          ],
          "heatmapgl": [
           {
            "colorbar": {
             "outlinewidth": 0,
             "ticks": ""
            },
            "colorscale": [
             [
              0,
              "#0d0887"
             ],
             [
              0.1111111111111111,
              "#46039f"
             ],
             [
              0.2222222222222222,
              "#7201a8"
             ],
             [
              0.3333333333333333,
              "#9c179e"
             ],
             [
              0.4444444444444444,
              "#bd3786"
             ],
             [
              0.5555555555555556,
              "#d8576b"
             ],
             [
              0.6666666666666666,
              "#ed7953"
             ],
             [
              0.7777777777777778,
              "#fb9f3a"
             ],
             [
              0.8888888888888888,
              "#fdca26"
             ],
             [
              1,
              "#f0f921"
             ]
            ],
            "type": "heatmapgl"
           }
          ],
          "histogram": [
           {
            "marker": {
             "pattern": {
              "fillmode": "overlay",
              "size": 10,
              "solidity": 0.2
             }
            },
            "type": "histogram"
           }
          ],
          "histogram2d": [
           {
            "colorbar": {
             "outlinewidth": 0,
             "ticks": ""
            },
            "colorscale": [
             [
              0,
              "#0d0887"
             ],
             [
              0.1111111111111111,
              "#46039f"
             ],
             [
              0.2222222222222222,
              "#7201a8"
             ],
             [
              0.3333333333333333,
              "#9c179e"
             ],
             [
              0.4444444444444444,
              "#bd3786"
             ],
             [
              0.5555555555555556,
              "#d8576b"
             ],
             [
              0.6666666666666666,
              "#ed7953"
             ],
             [
              0.7777777777777778,
              "#fb9f3a"
             ],
             [
              0.8888888888888888,
              "#fdca26"
             ],
             [
              1,
              "#f0f921"
             ]
            ],
            "type": "histogram2d"
           }
          ],
          "histogram2dcontour": [
           {
            "colorbar": {
             "outlinewidth": 0,
             "ticks": ""
            },
            "colorscale": [
             [
              0,
              "#0d0887"
             ],
             [
              0.1111111111111111,
              "#46039f"
             ],
             [
              0.2222222222222222,
              "#7201a8"
             ],
             [
              0.3333333333333333,
              "#9c179e"
             ],
             [
              0.4444444444444444,
              "#bd3786"
             ],
             [
              0.5555555555555556,
              "#d8576b"
             ],
             [
              0.6666666666666666,
              "#ed7953"
             ],
             [
              0.7777777777777778,
              "#fb9f3a"
             ],
             [
              0.8888888888888888,
              "#fdca26"
             ],
             [
              1,
              "#f0f921"
             ]
            ],
            "type": "histogram2dcontour"
           }
          ],
          "mesh3d": [
           {
            "colorbar": {
             "outlinewidth": 0,
             "ticks": ""
            },
            "type": "mesh3d"
           }
          ],
          "parcoords": [
           {
            "line": {
             "colorbar": {
              "outlinewidth": 0,
              "ticks": ""
             }
            },
            "type": "parcoords"
           }
          ],
          "pie": [
           {
            "automargin": true,
            "type": "pie"
           }
          ],
          "scatter": [
           {
            "fillpattern": {
             "fillmode": "overlay",
             "size": 10,
             "solidity": 0.2
            },
            "type": "scatter"
           }
          ],
          "scatter3d": [
           {
            "line": {
             "colorbar": {
              "outlinewidth": 0,
              "ticks": ""
             }
            },
            "marker": {
             "colorbar": {
              "outlinewidth": 0,
              "ticks": ""
             }
            },
            "type": "scatter3d"
           }
          ],
          "scattercarpet": [
           {
            "marker": {
             "colorbar": {
              "outlinewidth": 0,
              "ticks": ""
             }
            },
            "type": "scattercarpet"
           }
          ],
          "scattergeo": [
           {
            "marker": {
             "colorbar": {
              "outlinewidth": 0,
              "ticks": ""
             }
            },
            "type": "scattergeo"
           }
          ],
          "scattergl": [
           {
            "marker": {
             "colorbar": {
              "outlinewidth": 0,
              "ticks": ""
             }
            },
            "type": "scattergl"
           }
          ],
          "scattermapbox": [
           {
            "marker": {
             "colorbar": {
              "outlinewidth": 0,
              "ticks": ""
             }
            },
            "type": "scattermapbox"
           }
          ],
          "scatterpolar": [
           {
            "marker": {
             "colorbar": {
              "outlinewidth": 0,
              "ticks": ""
             }
            },
            "type": "scatterpolar"
           }
          ],
          "scatterpolargl": [
           {
            "marker": {
             "colorbar": {
              "outlinewidth": 0,
              "ticks": ""
             }
            },
            "type": "scatterpolargl"
           }
          ],
          "scatterternary": [
           {
            "marker": {
             "colorbar": {
              "outlinewidth": 0,
              "ticks": ""
             }
            },
            "type": "scatterternary"
           }
          ],
          "surface": [
           {
            "colorbar": {
             "outlinewidth": 0,
             "ticks": ""
            },
            "colorscale": [
             [
              0,
              "#0d0887"
             ],
             [
              0.1111111111111111,
              "#46039f"
             ],
             [
              0.2222222222222222,
              "#7201a8"
             ],
             [
              0.3333333333333333,
              "#9c179e"
             ],
             [
              0.4444444444444444,
              "#bd3786"
             ],
             [
              0.5555555555555556,
              "#d8576b"
             ],
             [
              0.6666666666666666,
              "#ed7953"
             ],
             [
              0.7777777777777778,
              "#fb9f3a"
             ],
             [
              0.8888888888888888,
              "#fdca26"
             ],
             [
              1,
              "#f0f921"
             ]
            ],
            "type": "surface"
           }
          ],
          "table": [
           {
            "cells": {
             "fill": {
              "color": "#EBF0F8"
             },
             "line": {
              "color": "white"
             }
            },
            "header": {
             "fill": {
              "color": "#C8D4E3"
             },
             "line": {
              "color": "white"
             }
            },
            "type": "table"
           }
          ]
         },
         "layout": {
          "annotationdefaults": {
           "arrowcolor": "#2a3f5f",
           "arrowhead": 0,
           "arrowwidth": 1
          },
          "autotypenumbers": "strict",
          "coloraxis": {
           "colorbar": {
            "outlinewidth": 0,
            "ticks": ""
           }
          },
          "colorscale": {
           "diverging": [
            [
             0,
             "#8e0152"
            ],
            [
             0.1,
             "#c51b7d"
            ],
            [
             0.2,
             "#de77ae"
            ],
            [
             0.3,
             "#f1b6da"
            ],
            [
             0.4,
             "#fde0ef"
            ],
            [
             0.5,
             "#f7f7f7"
            ],
            [
             0.6,
             "#e6f5d0"
            ],
            [
             0.7,
             "#b8e186"
            ],
            [
             0.8,
             "#7fbc41"
            ],
            [
             0.9,
             "#4d9221"
            ],
            [
             1,
             "#276419"
            ]
           ],
           "sequential": [
            [
             0,
             "#0d0887"
            ],
            [
             0.1111111111111111,
             "#46039f"
            ],
            [
             0.2222222222222222,
             "#7201a8"
            ],
            [
             0.3333333333333333,
             "#9c179e"
            ],
            [
             0.4444444444444444,
             "#bd3786"
            ],
            [
             0.5555555555555556,
             "#d8576b"
            ],
            [
             0.6666666666666666,
             "#ed7953"
            ],
            [
             0.7777777777777778,
             "#fb9f3a"
            ],
            [
             0.8888888888888888,
             "#fdca26"
            ],
            [
             1,
             "#f0f921"
            ]
           ],
           "sequentialminus": [
            [
             0,
             "#0d0887"
            ],
            [
             0.1111111111111111,
             "#46039f"
            ],
            [
             0.2222222222222222,
             "#7201a8"
            ],
            [
             0.3333333333333333,
             "#9c179e"
            ],
            [
             0.4444444444444444,
             "#bd3786"
            ],
            [
             0.5555555555555556,
             "#d8576b"
            ],
            [
             0.6666666666666666,
             "#ed7953"
            ],
            [
             0.7777777777777778,
             "#fb9f3a"
            ],
            [
             0.8888888888888888,
             "#fdca26"
            ],
            [
             1,
             "#f0f921"
            ]
           ]
          },
          "colorway": [
           "#636efa",
           "#EF553B",
           "#00cc96",
           "#ab63fa",
           "#FFA15A",
           "#19d3f3",
           "#FF6692",
           "#B6E880",
           "#FF97FF",
           "#FECB52"
          ],
          "font": {
           "color": "#2a3f5f"
          },
          "geo": {
           "bgcolor": "white",
           "lakecolor": "white",
           "landcolor": "#E5ECF6",
           "showlakes": true,
           "showland": true,
           "subunitcolor": "white"
          },
          "hoverlabel": {
           "align": "left"
          },
          "hovermode": "closest",
          "mapbox": {
           "style": "light"
          },
          "paper_bgcolor": "white",
          "plot_bgcolor": "#E5ECF6",
          "polar": {
           "angularaxis": {
            "gridcolor": "white",
            "linecolor": "white",
            "ticks": ""
           },
           "bgcolor": "#E5ECF6",
           "radialaxis": {
            "gridcolor": "white",
            "linecolor": "white",
            "ticks": ""
           }
          },
          "scene": {
           "xaxis": {
            "backgroundcolor": "#E5ECF6",
            "gridcolor": "white",
            "gridwidth": 2,
            "linecolor": "white",
            "showbackground": true,
            "ticks": "",
            "zerolinecolor": "white"
           },
           "yaxis": {
            "backgroundcolor": "#E5ECF6",
            "gridcolor": "white",
            "gridwidth": 2,
            "linecolor": "white",
            "showbackground": true,
            "ticks": "",
            "zerolinecolor": "white"
           },
           "zaxis": {
            "backgroundcolor": "#E5ECF6",
            "gridcolor": "white",
            "gridwidth": 2,
            "linecolor": "white",
            "showbackground": true,
            "ticks": "",
            "zerolinecolor": "white"
           }
          },
          "shapedefaults": {
           "line": {
            "color": "#2a3f5f"
           }
          },
          "ternary": {
           "aaxis": {
            "gridcolor": "white",
            "linecolor": "white",
            "ticks": ""
           },
           "baxis": {
            "gridcolor": "white",
            "linecolor": "white",
            "ticks": ""
           },
           "bgcolor": "#E5ECF6",
           "caxis": {
            "gridcolor": "white",
            "linecolor": "white",
            "ticks": ""
           }
          },
          "title": {
           "x": 0.05
          },
          "xaxis": {
           "automargin": true,
           "gridcolor": "white",
           "linecolor": "white",
           "ticks": "",
           "title": {
            "standoff": 15
           },
           "zerolinecolor": "white",
           "zerolinewidth": 2
          },
          "yaxis": {
           "automargin": true,
           "gridcolor": "white",
           "linecolor": "white",
           "ticks": "",
           "title": {
            "standoff": 15
           },
           "zerolinecolor": "white",
           "zerolinewidth": 2
          }
         }
        }
       }
      },
      "text/html": [
       "<div>                            <div id=\"c8585eee-ba9b-4cc0-966c-7bb14306ec41\" class=\"plotly-graph-div\" style=\"height:525px; width:100%;\"></div>            <script type=\"text/javascript\">                require([\"plotly\"], function(Plotly) {                    window.PLOTLYENV=window.PLOTLYENV || {};                                    if (document.getElementById(\"c8585eee-ba9b-4cc0-966c-7bb14306ec41\")) {                    Plotly.newPlot(                        \"c8585eee-ba9b-4cc0-966c-7bb14306ec41\",                        [{\"domain\":{\"x\":[0.0,1.0],\"y\":[0.0,1.0]},\"hovertemplate\":\"Type=%{label}\\u003cbr\\u003ePrice=%{value}\\u003cextra\\u003e\\u003c\\u002fextra\\u003e\",\"labels\":[\"Studio\",\"Apartment\",\"Chalet\",\"Penthouse\",\"Duplex\",\"Town House\",\"Twin house\",\"Standalone Villa\"],\"legendgroup\":\"\",\"name\":\"\",\"showlegend\":true,\"values\":[1854608.7368421052,2529637.0024948027,3076307.967539863,3885107.3224299066,4359188.298507462,5541113.180327869,5602629.867647059,14537556.818181818],\"type\":\"pie\"}],                        {\"template\":{\"data\":{\"histogram2dcontour\":[{\"type\":\"histogram2dcontour\",\"colorbar\":{\"outlinewidth\":0,\"ticks\":\"\"},\"colorscale\":[[0.0,\"#0d0887\"],[0.1111111111111111,\"#46039f\"],[0.2222222222222222,\"#7201a8\"],[0.3333333333333333,\"#9c179e\"],[0.4444444444444444,\"#bd3786\"],[0.5555555555555556,\"#d8576b\"],[0.6666666666666666,\"#ed7953\"],[0.7777777777777778,\"#fb9f3a\"],[0.8888888888888888,\"#fdca26\"],[1.0,\"#f0f921\"]]}],\"choropleth\":[{\"type\":\"choropleth\",\"colorbar\":{\"outlinewidth\":0,\"ticks\":\"\"}}],\"histogram2d\":[{\"type\":\"histogram2d\",\"colorbar\":{\"outlinewidth\":0,\"ticks\":\"\"},\"colorscale\":[[0.0,\"#0d0887\"],[0.1111111111111111,\"#46039f\"],[0.2222222222222222,\"#7201a8\"],[0.3333333333333333,\"#9c179e\"],[0.4444444444444444,\"#bd3786\"],[0.5555555555555556,\"#d8576b\"],[0.6666666666666666,\"#ed7953\"],[0.7777777777777778,\"#fb9f3a\"],[0.8888888888888888,\"#fdca26\"],[1.0,\"#f0f921\"]]}],\"heatmap\":[{\"type\":\"heatmap\",\"colorbar\":{\"outlinewidth\":0,\"ticks\":\"\"},\"colorscale\":[[0.0,\"#0d0887\"],[0.1111111111111111,\"#46039f\"],[0.2222222222222222,\"#7201a8\"],[0.3333333333333333,\"#9c179e\"],[0.4444444444444444,\"#bd3786\"],[0.5555555555555556,\"#d8576b\"],[0.6666666666666666,\"#ed7953\"],[0.7777777777777778,\"#fb9f3a\"],[0.8888888888888888,\"#fdca26\"],[1.0,\"#f0f921\"]]}],\"heatmapgl\":[{\"type\":\"heatmapgl\",\"colorbar\":{\"outlinewidth\":0,\"ticks\":\"\"},\"colorscale\":[[0.0,\"#0d0887\"],[0.1111111111111111,\"#46039f\"],[0.2222222222222222,\"#7201a8\"],[0.3333333333333333,\"#9c179e\"],[0.4444444444444444,\"#bd3786\"],[0.5555555555555556,\"#d8576b\"],[0.6666666666666666,\"#ed7953\"],[0.7777777777777778,\"#fb9f3a\"],[0.8888888888888888,\"#fdca26\"],[1.0,\"#f0f921\"]]}],\"contourcarpet\":[{\"type\":\"contourcarpet\",\"colorbar\":{\"outlinewidth\":0,\"ticks\":\"\"}}],\"contour\":[{\"type\":\"contour\",\"colorbar\":{\"outlinewidth\":0,\"ticks\":\"\"},\"colorscale\":[[0.0,\"#0d0887\"],[0.1111111111111111,\"#46039f\"],[0.2222222222222222,\"#7201a8\"],[0.3333333333333333,\"#9c179e\"],[0.4444444444444444,\"#bd3786\"],[0.5555555555555556,\"#d8576b\"],[0.6666666666666666,\"#ed7953\"],[0.7777777777777778,\"#fb9f3a\"],[0.8888888888888888,\"#fdca26\"],[1.0,\"#f0f921\"]]}],\"surface\":[{\"type\":\"surface\",\"colorbar\":{\"outlinewidth\":0,\"ticks\":\"\"},\"colorscale\":[[0.0,\"#0d0887\"],[0.1111111111111111,\"#46039f\"],[0.2222222222222222,\"#7201a8\"],[0.3333333333333333,\"#9c179e\"],[0.4444444444444444,\"#bd3786\"],[0.5555555555555556,\"#d8576b\"],[0.6666666666666666,\"#ed7953\"],[0.7777777777777778,\"#fb9f3a\"],[0.8888888888888888,\"#fdca26\"],[1.0,\"#f0f921\"]]}],\"mesh3d\":[{\"type\":\"mesh3d\",\"colorbar\":{\"outlinewidth\":0,\"ticks\":\"\"}}],\"scatter\":[{\"fillpattern\":{\"fillmode\":\"overlay\",\"size\":10,\"solidity\":0.2},\"type\":\"scatter\"}],\"parcoords\":[{\"type\":\"parcoords\",\"line\":{\"colorbar\":{\"outlinewidth\":0,\"ticks\":\"\"}}}],\"scatterpolargl\":[{\"type\":\"scatterpolargl\",\"marker\":{\"colorbar\":{\"outlinewidth\":0,\"ticks\":\"\"}}}],\"bar\":[{\"error_x\":{\"color\":\"#2a3f5f\"},\"error_y\":{\"color\":\"#2a3f5f\"},\"marker\":{\"line\":{\"color\":\"#E5ECF6\",\"width\":0.5},\"pattern\":{\"fillmode\":\"overlay\",\"size\":10,\"solidity\":0.2}},\"type\":\"bar\"}],\"scattergeo\":[{\"type\":\"scattergeo\",\"marker\":{\"colorbar\":{\"outlinewidth\":0,\"ticks\":\"\"}}}],\"scatterpolar\":[{\"type\":\"scatterpolar\",\"marker\":{\"colorbar\":{\"outlinewidth\":0,\"ticks\":\"\"}}}],\"histogram\":[{\"marker\":{\"pattern\":{\"fillmode\":\"overlay\",\"size\":10,\"solidity\":0.2}},\"type\":\"histogram\"}],\"scattergl\":[{\"type\":\"scattergl\",\"marker\":{\"colorbar\":{\"outlinewidth\":0,\"ticks\":\"\"}}}],\"scatter3d\":[{\"type\":\"scatter3d\",\"line\":{\"colorbar\":{\"outlinewidth\":0,\"ticks\":\"\"}},\"marker\":{\"colorbar\":{\"outlinewidth\":0,\"ticks\":\"\"}}}],\"scattermapbox\":[{\"type\":\"scattermapbox\",\"marker\":{\"colorbar\":{\"outlinewidth\":0,\"ticks\":\"\"}}}],\"scatterternary\":[{\"type\":\"scatterternary\",\"marker\":{\"colorbar\":{\"outlinewidth\":0,\"ticks\":\"\"}}}],\"scattercarpet\":[{\"type\":\"scattercarpet\",\"marker\":{\"colorbar\":{\"outlinewidth\":0,\"ticks\":\"\"}}}],\"carpet\":[{\"aaxis\":{\"endlinecolor\":\"#2a3f5f\",\"gridcolor\":\"white\",\"linecolor\":\"white\",\"minorgridcolor\":\"white\",\"startlinecolor\":\"#2a3f5f\"},\"baxis\":{\"endlinecolor\":\"#2a3f5f\",\"gridcolor\":\"white\",\"linecolor\":\"white\",\"minorgridcolor\":\"white\",\"startlinecolor\":\"#2a3f5f\"},\"type\":\"carpet\"}],\"table\":[{\"cells\":{\"fill\":{\"color\":\"#EBF0F8\"},\"line\":{\"color\":\"white\"}},\"header\":{\"fill\":{\"color\":\"#C8D4E3\"},\"line\":{\"color\":\"white\"}},\"type\":\"table\"}],\"barpolar\":[{\"marker\":{\"line\":{\"color\":\"#E5ECF6\",\"width\":0.5},\"pattern\":{\"fillmode\":\"overlay\",\"size\":10,\"solidity\":0.2}},\"type\":\"barpolar\"}],\"pie\":[{\"automargin\":true,\"type\":\"pie\"}]},\"layout\":{\"autotypenumbers\":\"strict\",\"colorway\":[\"#636efa\",\"#EF553B\",\"#00cc96\",\"#ab63fa\",\"#FFA15A\",\"#19d3f3\",\"#FF6692\",\"#B6E880\",\"#FF97FF\",\"#FECB52\"],\"font\":{\"color\":\"#2a3f5f\"},\"hovermode\":\"closest\",\"hoverlabel\":{\"align\":\"left\"},\"paper_bgcolor\":\"white\",\"plot_bgcolor\":\"#E5ECF6\",\"polar\":{\"bgcolor\":\"#E5ECF6\",\"angularaxis\":{\"gridcolor\":\"white\",\"linecolor\":\"white\",\"ticks\":\"\"},\"radialaxis\":{\"gridcolor\":\"white\",\"linecolor\":\"white\",\"ticks\":\"\"}},\"ternary\":{\"bgcolor\":\"#E5ECF6\",\"aaxis\":{\"gridcolor\":\"white\",\"linecolor\":\"white\",\"ticks\":\"\"},\"baxis\":{\"gridcolor\":\"white\",\"linecolor\":\"white\",\"ticks\":\"\"},\"caxis\":{\"gridcolor\":\"white\",\"linecolor\":\"white\",\"ticks\":\"\"}},\"coloraxis\":{\"colorbar\":{\"outlinewidth\":0,\"ticks\":\"\"}},\"colorscale\":{\"sequential\":[[0.0,\"#0d0887\"],[0.1111111111111111,\"#46039f\"],[0.2222222222222222,\"#7201a8\"],[0.3333333333333333,\"#9c179e\"],[0.4444444444444444,\"#bd3786\"],[0.5555555555555556,\"#d8576b\"],[0.6666666666666666,\"#ed7953\"],[0.7777777777777778,\"#fb9f3a\"],[0.8888888888888888,\"#fdca26\"],[1.0,\"#f0f921\"]],\"sequentialminus\":[[0.0,\"#0d0887\"],[0.1111111111111111,\"#46039f\"],[0.2222222222222222,\"#7201a8\"],[0.3333333333333333,\"#9c179e\"],[0.4444444444444444,\"#bd3786\"],[0.5555555555555556,\"#d8576b\"],[0.6666666666666666,\"#ed7953\"],[0.7777777777777778,\"#fb9f3a\"],[0.8888888888888888,\"#fdca26\"],[1.0,\"#f0f921\"]],\"diverging\":[[0,\"#8e0152\"],[0.1,\"#c51b7d\"],[0.2,\"#de77ae\"],[0.3,\"#f1b6da\"],[0.4,\"#fde0ef\"],[0.5,\"#f7f7f7\"],[0.6,\"#e6f5d0\"],[0.7,\"#b8e186\"],[0.8,\"#7fbc41\"],[0.9,\"#4d9221\"],[1,\"#276419\"]]},\"xaxis\":{\"gridcolor\":\"white\",\"linecolor\":\"white\",\"ticks\":\"\",\"title\":{\"standoff\":15},\"zerolinecolor\":\"white\",\"automargin\":true,\"zerolinewidth\":2},\"yaxis\":{\"gridcolor\":\"white\",\"linecolor\":\"white\",\"ticks\":\"\",\"title\":{\"standoff\":15},\"zerolinecolor\":\"white\",\"automargin\":true,\"zerolinewidth\":2},\"scene\":{\"xaxis\":{\"backgroundcolor\":\"#E5ECF6\",\"gridcolor\":\"white\",\"linecolor\":\"white\",\"showbackground\":true,\"ticks\":\"\",\"zerolinecolor\":\"white\",\"gridwidth\":2},\"yaxis\":{\"backgroundcolor\":\"#E5ECF6\",\"gridcolor\":\"white\",\"linecolor\":\"white\",\"showbackground\":true,\"ticks\":\"\",\"zerolinecolor\":\"white\",\"gridwidth\":2},\"zaxis\":{\"backgroundcolor\":\"#E5ECF6\",\"gridcolor\":\"white\",\"linecolor\":\"white\",\"showbackground\":true,\"ticks\":\"\",\"zerolinecolor\":\"white\",\"gridwidth\":2}},\"shapedefaults\":{\"line\":{\"color\":\"#2a3f5f\"}},\"annotationdefaults\":{\"arrowcolor\":\"#2a3f5f\",\"arrowhead\":0,\"arrowwidth\":1},\"geo\":{\"bgcolor\":\"white\",\"landcolor\":\"#E5ECF6\",\"subunitcolor\":\"white\",\"showland\":true,\"showlakes\":true,\"lakecolor\":\"white\"},\"title\":{\"x\":0.05},\"mapbox\":{\"style\":\"light\"}}},\"legend\":{\"tracegroupgap\":0},\"margin\":{\"t\":60}},                        {\"responsive\": true}                    ).then(function(){\n",
       "                            \n",
       "var gd = document.getElementById('c8585eee-ba9b-4cc0-966c-7bb14306ec41');\n",
       "var x = new MutationObserver(function (mutations, observer) {{\n",
       "        var display = window.getComputedStyle(gd).display;\n",
       "        if (!display || display === 'none') {{\n",
       "            console.log([gd, 'removed!']);\n",
       "            Plotly.purge(gd);\n",
       "            observer.disconnect();\n",
       "        }}\n",
       "}});\n",
       "\n",
       "// Listen for the removal of the full notebook cells\n",
       "var notebookContainer = gd.closest('#notebook-container');\n",
       "if (notebookContainer) {{\n",
       "    x.observe(notebookContainer, {childList: true});\n",
       "}}\n",
       "\n",
       "// Listen for the clearing of the current output cell\n",
       "var outputEl = gd.closest('.output');\n",
       "if (outputEl) {{\n",
       "    x.observe(outputEl, {childList: true});\n",
       "}}\n",
       "\n",
       "                        })                };                });            </script>        </div>"
      ]
     },
     "metadata": {},
     "output_type": "display_data"
    }
   ],
   "source": [
    "px.pie(data_frame=types,names=\"Type\",values=\"Price\")"
   ]
  },
  {
   "cell_type": "markdown",
   "metadata": {},
   "source": [
    "<a id=\"1\"></a>\n",
    "# <p style=\"padding:10px;background-color:#00A08B;margin:0;color:White;font-family:Georgia;font-size:100%;text-align:center;border-radius: 15px 50px;overflow:hidden;font-weight:500\">standalone vills are hightest in regard of prices</p>"
   ]
  },
  {
   "cell_type": "markdown",
   "metadata": {},
   "source": [
    "* Area of homes and prices"
   ]
  },
  {
   "cell_type": "code",
   "execution_count": 141,
   "metadata": {},
   "outputs": [
    {
     "data": {
      "image/png": "[encoded data removed]",
      "text/plain": [
       "<Figure size 1080x360 with 1 Axes>"
      ]
     },
     "metadata": {
      "needs_background": "light"
     },
     "output_type": "display_data"
    }
   ],
   "source": [
    "area_price = df[df[\"City\"] == \"North Coast\"][[\"Area\",\"Price\",\"Level\"]]\n",
    "\n",
    "plt.figure(figsize = (15,5))\n",
    "sns.lineplot(data = area_price , x = \"Area\",y=\"Price\")\n",
    "plt.title(\"Area vs Price\")\n",
    "plt.xlabel(\"Area\")\n",
    "plt.show()"
   ]
  },
  {
   "cell_type": "code",
   "execution_count": 142,
   "metadata": {},
   "outputs": [
    {
     "data": {
      "image/png": "[encoded data removed]",
      "text/plain": [
       "<Figure size 1080x360 with 1 Axes>"
      ]
     },
     "metadata": {
      "needs_background": "light"
     },
     "output_type": "display_data"
    }
   ],
   "source": [
    "plt.figure(figsize = (15,5))\n",
    "sns.stripplot(x=\"Area\",y=\"Price\",data=area_price )\n",
    "plt.show()"
   ]
  },
  {
   "cell_type": "code",
   "execution_count": 143,
   "metadata": {},
   "outputs": [],
   "source": [
    "def area_range(x):\n",
    "    if (x >= 100.0) & (x<= 160.0):\n",
    "        return \"100 to 160 m²\"\n",
    "    elif (x > 160.0) & (x <= 200.0):\n",
    "        return \"160 to 200 m²\"\n",
    "    elif (x > 200.0) & (x <= 250.0):\n",
    "        return \"200 to 250 m²\"\n",
    "    elif (x > 250.0) & (x <= 400.0):\n",
    "        return \"250 to 400 m²\"\n",
    "        "
   ]
  },
  {
   "cell_type": "code",
   "execution_count": 144,
   "metadata": {},
   "outputs": [
    {
     "data": {
      "text/html": [
       "<div>\n",
       "<style scoped>\n",
       "    .dataframe tbody tr th:only-of-type {\n",
       "        vertical-align: middle;\n",
       "    }\n",
       "\n",
       "    .dataframe tbody tr th {\n",
       "        vertical-align: top;\n",
       "    }\n",
       "\n",
       "    .dataframe thead th {\n",
       "        text-align: right;\n",
       "    }\n",
       "</style>\n",
       "<table border=\"1\" class=\"dataframe\">\n",
       "  <thead>\n",
       "    <tr style=\"text-align: right;\">\n",
       "      <th></th>\n",
       "      <th>index</th>\n",
       "      <th>Price</th>\n",
       "      <th>Area</th>\n",
       "      <th>Average Price</th>\n",
       "    </tr>\n",
       "  </thead>\n",
       "  <tbody>\n",
       "    <tr>\n",
       "      <th>0</th>\n",
       "      <td>0</td>\n",
       "      <td>5800000</td>\n",
       "      <td>100 to 160 m²</td>\n",
       "      <td>5800000</td>\n",
       "    </tr>\n",
       "    <tr>\n",
       "      <th>1</th>\n",
       "      <td>1</td>\n",
       "      <td>1844900</td>\n",
       "      <td>200 to 250 m²</td>\n",
       "      <td>1844900</td>\n",
       "    </tr>\n",
       "    <tr>\n",
       "      <th>2</th>\n",
       "      <td>2</td>\n",
       "      <td>3900000</td>\n",
       "      <td>250 to 400 m²</td>\n",
       "      <td>3900000</td>\n",
       "    </tr>\n",
       "    <tr>\n",
       "      <th>3</th>\n",
       "      <td>3</td>\n",
       "      <td>1650000</td>\n",
       "      <td>100 to 160 m²</td>\n",
       "      <td>1650000</td>\n",
       "    </tr>\n",
       "    <tr>\n",
       "      <th>4</th>\n",
       "      <td>4</td>\n",
       "      <td>309825</td>\n",
       "      <td>100 to 160 m²</td>\n",
       "      <td>309825</td>\n",
       "    </tr>\n",
       "    <tr>\n",
       "      <th>...</th>\n",
       "      <td>...</td>\n",
       "      <td>...</td>\n",
       "      <td>...</td>\n",
       "      <td>...</td>\n",
       "    </tr>\n",
       "    <tr>\n",
       "      <th>5076</th>\n",
       "      <td>5081</td>\n",
       "      <td>2800000</td>\n",
       "      <td>100 to 160 m²</td>\n",
       "      <td>2800000</td>\n",
       "    </tr>\n",
       "    <tr>\n",
       "      <th>5077</th>\n",
       "      <td>5082</td>\n",
       "      <td>10695000</td>\n",
       "      <td>250 to 400 m²</td>\n",
       "      <td>10695000</td>\n",
       "    </tr>\n",
       "    <tr>\n",
       "      <th>5078</th>\n",
       "      <td>5083</td>\n",
       "      <td>3300000</td>\n",
       "      <td>160 to 200 m²</td>\n",
       "      <td>3300000</td>\n",
       "    </tr>\n",
       "    <tr>\n",
       "      <th>5079</th>\n",
       "      <td>5084</td>\n",
       "      <td>4700000</td>\n",
       "      <td>250 to 400 m²</td>\n",
       "      <td>4700000</td>\n",
       "    </tr>\n",
       "    <tr>\n",
       "      <th>5080</th>\n",
       "      <td>5085</td>\n",
       "      <td>2800000</td>\n",
       "      <td>100 to 160 m²</td>\n",
       "      <td>2800000</td>\n",
       "    </tr>\n",
       "  </tbody>\n",
       "</table>\n",
       "<p>5081 rows × 4 columns</p>\n",
       "</div>"
      ],
      "text/plain": [
       "      index     Price           Area  Average Price\n",
       "0         0   5800000  100 to 160 m²        5800000\n",
       "1         1   1844900  200 to 250 m²        1844900\n",
       "2         2   3900000  250 to 400 m²        3900000\n",
       "3         3   1650000  100 to 160 m²        1650000\n",
       "4         4    309825  100 to 160 m²         309825\n",
       "...     ...       ...            ...            ...\n",
       "5076   5081   2800000  100 to 160 m²        2800000\n",
       "5077   5082  10695000  250 to 400 m²       10695000\n",
       "5078   5083   3300000  160 to 200 m²        3300000\n",
       "5079   5084   4700000  250 to 400 m²        4700000\n",
       "5080   5085   2800000  100 to 160 m²        2800000\n",
       "\n",
       "[5081 rows x 4 columns]"
      ]
     },
     "execution_count": 144,
     "metadata": {},
     "output_type": "execute_result"
    }
   ],
   "source": [
    "price_area"
   ]
  },
  {
   "cell_type": "code",
   "execution_count": 145,
   "metadata": {},
   "outputs": [],
   "source": [
    "price_area = df[[\"Price\",\"Area\"]].reset_index()\n",
    "price_area[\"Average Price\"] = price_area[\"Price\"]\n",
    "price_area[\"Area\"] = price_area[\"Area\"].apply(area_range)\n",
    "price_area1 = price_area.groupby(\"Area\")[\"Average Price\"].mean().round(5).reset_index()"
   ]
  },
  {
   "cell_type": "code",
   "execution_count": 146,
   "metadata": {},
   "outputs": [
    {
     "data": {
      "text/html": [
       "<div>\n",
       "<style scoped>\n",
       "    .dataframe tbody tr th:only-of-type {\n",
       "        vertical-align: middle;\n",
       "    }\n",
       "\n",
       "    .dataframe tbody tr th {\n",
       "        vertical-align: top;\n",
       "    }\n",
       "\n",
       "    .dataframe thead th {\n",
       "        text-align: right;\n",
       "    }\n",
       "</style>\n",
       "<table border=\"1\" class=\"dataframe\">\n",
       "  <thead>\n",
       "    <tr style=\"text-align: right;\">\n",
       "      <th></th>\n",
       "      <th>Area</th>\n",
       "      <th>Average Price</th>\n",
       "    </tr>\n",
       "  </thead>\n",
       "  <tbody>\n",
       "    <tr>\n",
       "      <th>0</th>\n",
       "      <td>100 to 160 m²</td>\n",
       "      <td>2.537727e+06</td>\n",
       "    </tr>\n",
       "    <tr>\n",
       "      <th>1</th>\n",
       "      <td>160 to 200 m²</td>\n",
       "      <td>3.397071e+06</td>\n",
       "    </tr>\n",
       "    <tr>\n",
       "      <th>2</th>\n",
       "      <td>200 to 250 m²</td>\n",
       "      <td>4.666703e+06</td>\n",
       "    </tr>\n",
       "    <tr>\n",
       "      <th>3</th>\n",
       "      <td>250 to 400 m²</td>\n",
       "      <td>7.168412e+06</td>\n",
       "    </tr>\n",
       "  </tbody>\n",
       "</table>\n",
       "</div>"
      ],
      "text/plain": [
       "            Area  Average Price\n",
       "0  100 to 160 m²   2.537727e+06\n",
       "1  160 to 200 m²   3.397071e+06\n",
       "2  200 to 250 m²   4.666703e+06\n",
       "3  250 to 400 m²   7.168412e+06"
      ]
     },
     "execution_count": 146,
     "metadata": {},
     "output_type": "execute_result"
    }
   ],
   "source": [
    "price_area1"
   ]
  },
  {
   "cell_type": "code",
   "execution_count": 147,
   "metadata": {},
   "outputs": [
    {
     "data": {
      "application/vnd.plotly.v1+json": {
       "config": {
        "plotlyServerURL": "https://plot.ly"
       },
       "data": [
        {
         "alignmentgroup": "True",
         "hovertemplate": "Area=%{x}<br>Average Price=%{y}<extra></extra>",
         "legendgroup": "",
         "marker": {
          "color": "rgb(27,158,119)",
          "pattern": {
           "shape": ""
          }
         },
         "name": "",
         "offsetgroup": "",
         "orientation": "v",
         "showlegend": false,
         "textposition": "auto",
         "type": "bar",
         "x": [
          "100 to 160 m²",
          "160 to 200 m²",
          "200 to 250 m²",
          "250 to 400 m²"
         ],
         "xaxis": "x",
         "y": [
          2537726.95908,
          3397071.16579,
          4666702.8247,
          7168412.11944
         ],
         "yaxis": "y"
        }
       ],
       "layout": {
        "barmode": "relative",
        "legend": {
         "tracegroupgap": 0
        },
        "margin": {
         "t": 60
        },
        "template": {
         "data": {
          "bar": [
           {
            "error_x": {
             "color": "#2a3f5f"
            },
            "error_y": {
             "color": "#2a3f5f"
            },
            "marker": {
             "line": {
              "color": "#E5ECF6",
              "width": 0.5
             },
             "pattern": {
              "fillmode": "overlay",
              "size": 10,
              "solidity": 0.2
             }
            },
            "type": "bar"
           }
          ],
          "barpolar": [
           {
            "marker": {
             "line": {
              "color": "#E5ECF6",
              "width": 0.5
             },
             "pattern": {
              "fillmode": "overlay",
              "size": 10,
              "solidity": 0.2
             }
            },
            "type": "barpolar"
           }
          ],
          "carpet": [
           {
            "aaxis": {
             "endlinecolor": "#2a3f5f",
             "gridcolor": "white",
             "linecolor": "white",
             "minorgridcolor": "white",
             "startlinecolor": "#2a3f5f"
            },
            "baxis": {
             "endlinecolor": "#2a3f5f",
             "gridcolor": "white",
             "linecolor": "white",
             "minorgridcolor": "white",
             "startlinecolor": "#2a3f5f"
            },
            "type": "carpet"
           }
          ],
          "choropleth": [
           {
            "colorbar": {
             "outlinewidth": 0,
             "ticks": ""
            },
            "type": "choropleth"
           }
          ],
          "contour": [
           {
            "colorbar": {
             "outlinewidth": 0,
             "ticks": ""
            },
            "colorscale": [
             [
              0,
              "#0d0887"
             ],
             [
              0.1111111111111111,
              "#46039f"
             ],
             [
              0.2222222222222222,
              "#7201a8"
             ],
             [
              0.3333333333333333,
              "#9c179e"
             ],
             [
              0.4444444444444444,
              "#bd3786"
             ],
             [
              0.5555555555555556,
              "#d8576b"
             ],
             [
              0.6666666666666666,
              "#ed7953"
             ],
             [
              0.7777777777777778,
              "#fb9f3a"
             ],
             [
              0.8888888888888888,
              "#fdca26"
             ],
             [
              1,
              "#f0f921"
             ]
            ],
            "type": "contour"
           }
          ],
          "contourcarpet": [
           {
            "colorbar": {
             "outlinewidth": 0,
             "ticks": ""
            },
            "type": "contourcarpet"
           }
          ],
          "heatmap": [
           {
            "colorbar": {
             "outlinewidth": 0,
             "ticks": ""
            },
            "colorscale": [
             [
              0,
              "#0d0887"
             ],
             [
              0.1111111111111111,
              "#46039f"
             ],
             [
              0.2222222222222222,
              "#7201a8"
             ],
             [
              0.3333333333333333,
              "#9c179e"
             ],
             [
              0.4444444444444444,
              "#bd3786"
             ],
             [
              0.5555555555555556,
              "#d8576b"
             ],
             [
              0.6666666666666666,
              "#ed7953"
             ],
             [
              0.7777777777777778,
              "#fb9f3a"
             ],
             [
              0.8888888888888888,
              "#fdca26"
             ],
             [
              1,
              "#f0f921"
             ]
            ],
            "type": "heatmap"
           }
          ],
          "heatmapgl": [
           {
            "colorbar": {
             "outlinewidth": 0,
             "ticks": ""
            },
            "colorscale": [
             [
              0,
              "#0d0887"
             ],
             [
              0.1111111111111111,
              "#46039f"
             ],
             [
              0.2222222222222222,
              "#7201a8"
             ],
             [
              0.3333333333333333,
              "#9c179e"
             ],
             [
              0.4444444444444444,
              "#bd3786"
             ],
             [
              0.5555555555555556,
              "#d8576b"
             ],
             [
              0.6666666666666666,
              "#ed7953"
             ],
             [
              0.7777777777777778,
              "#fb9f3a"
             ],
             [
              0.8888888888888888,
              "#fdca26"
             ],
             [
              1,
              "#f0f921"
             ]
            ],
            "type": "heatmapgl"
           }
          ],
          "histogram": [
           {
            "marker": {
             "pattern": {
              "fillmode": "overlay",
              "size": 10,
              "solidity": 0.2
             }
            },
            "type": "histogram"
           }
          ],
          "histogram2d": [
           {
            "colorbar": {
             "outlinewidth": 0,
             "ticks": ""
            },
            "colorscale": [
             [
              0,
              "#0d0887"
             ],
             [
              0.1111111111111111,
              "#46039f"
             ],
             [
              0.2222222222222222,
              "#7201a8"
             ],
             [
              0.3333333333333333,
              "#9c179e"
             ],
             [
              0.4444444444444444,
              "#bd3786"
             ],
             [
              0.5555555555555556,
              "#d8576b"
             ],
             [
              0.6666666666666666,
              "#ed7953"
             ],
             [
              0.7777777777777778,
              "#fb9f3a"
             ],
             [
              0.8888888888888888,
              "#fdca26"
             ],
             [
              1,
              "#f0f921"
             ]
            ],
            "type": "histogram2d"
           }
          ],
          "histogram2dcontour": [
           {
            "colorbar": {
             "outlinewidth": 0,
             "ticks": ""
            },
            "colorscale": [
             [
              0,
              "#0d0887"
             ],
             [
              0.1111111111111111,
              "#46039f"
             ],
             [
              0.2222222222222222,
              "#7201a8"
             ],
             [
              0.3333333333333333,
              "#9c179e"
             ],
             [
              0.4444444444444444,
              "#bd3786"
             ],
             [
              0.5555555555555556,
              "#d8576b"
             ],
             [
              0.6666666666666666,
              "#ed7953"
             ],
             [
              0.7777777777777778,
              "#fb9f3a"
             ],
             [
              0.8888888888888888,
              "#fdca26"
             ],
             [
              1,
              "#f0f921"
             ]
            ],
            "type": "histogram2dcontour"
           }
          ],
          "mesh3d": [
           {
            "colorbar": {
             "outlinewidth": 0,
             "ticks": ""
            },
            "type": "mesh3d"
           }
          ],
          "parcoords": [
           {
            "line": {
             "colorbar": {
              "outlinewidth": 0,
              "ticks": ""
             }
            },
            "type": "parcoords"
           }
          ],
          "pie": [
           {
            "automargin": true,
            "type": "pie"
           }
          ],
          "scatter": [
           {
            "fillpattern": {
             "fillmode": "overlay",
             "size": 10,
             "solidity": 0.2
            },
            "type": "scatter"
           }
          ],
          "scatter3d": [
           {
            "line": {
             "colorbar": {
              "outlinewidth": 0,
              "ticks": ""
             }
            },
            "marker": {
             "colorbar": {
              "outlinewidth": 0,
              "ticks": ""
             }
            },
            "type": "scatter3d"
           }
          ],
          "scattercarpet": [
           {
            "marker": {
             "colorbar": {
              "outlinewidth": 0,
              "ticks": ""
             }
            },
            "type": "scattercarpet"
           }
          ],
          "scattergeo": [
           {
            "marker": {
             "colorbar": {
              "outlinewidth": 0,
              "ticks": ""
             }
            },
            "type": "scattergeo"
           }
          ],
          "scattergl": [
           {
            "marker": {
             "colorbar": {
              "outlinewidth": 0,
              "ticks": ""
             }
            },
            "type": "scattergl"
           }
          ],
          "scattermapbox": [
           {
            "marker": {
             "colorbar": {
              "outlinewidth": 0,
              "ticks": ""
             }
            },
            "type": "scattermapbox"
           }
          ],
          "scatterpolar": [
           {
            "marker": {
             "colorbar": {
              "outlinewidth": 0,
              "ticks": ""
             }
            },
            "type": "scatterpolar"
           }
          ],
          "scatterpolargl": [
           {
            "marker": {
             "colorbar": {
              "outlinewidth": 0,
              "ticks": ""
             }
            },
            "type": "scatterpolargl"
           }
          ],
          "scatterternary": [
           {
            "marker": {
             "colorbar": {
              "outlinewidth": 0,
              "ticks": ""
             }
            },
            "type": "scatterternary"
           }
          ],
          "surface": [
           {
            "colorbar": {
             "outlinewidth": 0,
             "ticks": ""
            },
            "colorscale": [
             [
              0,
              "#0d0887"
             ],
             [
              0.1111111111111111,
              "#46039f"
             ],
             [
              0.2222222222222222,
              "#7201a8"
             ],
             [
              0.3333333333333333,
              "#9c179e"
             ],
             [
              0.4444444444444444,
              "#bd3786"
             ],
             [
              0.5555555555555556,
              "#d8576b"
             ],
             [
              0.6666666666666666,
              "#ed7953"
             ],
             [
              0.7777777777777778,
              "#fb9f3a"
             ],
             [
              0.8888888888888888,
              "#fdca26"
             ],
             [
              1,
              "#f0f921"
             ]
            ],
            "type": "surface"
           }
          ],
          "table": [
           {
            "cells": {
             "fill": {
              "color": "#EBF0F8"
             },
             "line": {
              "color": "white"
             }
            },
            "header": {
             "fill": {
              "color": "#C8D4E3"
             },
             "line": {
              "color": "white"
             }
            },
            "type": "table"
           }
          ]
         },
         "layout": {
          "annotationdefaults": {
           "arrowcolor": "#2a3f5f",
           "arrowhead": 0,
           "arrowwidth": 1
          },
          "autotypenumbers": "strict",
          "coloraxis": {
           "colorbar": {
            "outlinewidth": 0,
            "ticks": ""
           }
          },
          "colorscale": {
           "diverging": [
            [
             0,
             "#8e0152"
            ],
            [
             0.1,
             "#c51b7d"
            ],
            [
             0.2,
             "#de77ae"
            ],
            [
             0.3,
             "#f1b6da"
            ],
            [
             0.4,
             "#fde0ef"
            ],
            [
             0.5,
             "#f7f7f7"
            ],
            [
             0.6,
             "#e6f5d0"
            ],
            [
             0.7,
             "#b8e186"
            ],
            [
             0.8,
             "#7fbc41"
            ],
            [
             0.9,
             "#4d9221"
            ],
            [
             1,
             "#276419"
            ]
           ],
           "sequential": [
            [
             0,
             "#0d0887"
            ],
            [
             0.1111111111111111,
             "#46039f"
            ],
            [
             0.2222222222222222,
             "#7201a8"
            ],
            [
             0.3333333333333333,
             "#9c179e"
            ],
            [
             0.4444444444444444,
             "#bd3786"
            ],
            [
             0.5555555555555556,
             "#d8576b"
            ],
            [
             0.6666666666666666,
             "#ed7953"
            ],
            [
             0.7777777777777778,
             "#fb9f3a"
            ],
            [
             0.8888888888888888,
             "#fdca26"
            ],
            [
             1,
             "#f0f921"
            ]
           ],
           "sequentialminus": [
            [
             0,
             "#0d0887"
            ],
            [
             0.1111111111111111,
             "#46039f"
            ],
            [
             0.2222222222222222,
             "#7201a8"
            ],
            [
             0.3333333333333333,
             "#9c179e"
            ],
            [
             0.4444444444444444,
             "#bd3786"
            ],
            [
             0.5555555555555556,
             "#d8576b"
            ],
            [
             0.6666666666666666,
             "#ed7953"
            ],
            [
             0.7777777777777778,
             "#fb9f3a"
            ],
            [
             0.8888888888888888,
             "#fdca26"
            ],
            [
             1,
             "#f0f921"
            ]
           ]
          },
          "colorway": [
           "#636efa",
           "#EF553B",
           "#00cc96",
           "#ab63fa",
           "#FFA15A",
           "#19d3f3",
           "#FF6692",
           "#B6E880",
           "#FF97FF",
           "#FECB52"
          ],
          "font": {
           "color": "#2a3f5f"
          },
          "geo": {
           "bgcolor": "white",
           "lakecolor": "white",
           "landcolor": "#E5ECF6",
           "showlakes": true,
           "showland": true,
           "subunitcolor": "white"
          },
          "hoverlabel": {
           "align": "left"
          },
          "hovermode": "closest",
          "mapbox": {
           "style": "light"
          },
          "paper_bgcolor": "white",
          "plot_bgcolor": "#E5ECF6",
          "polar": {
           "angularaxis": {
            "gridcolor": "white",
            "linecolor": "white",
            "ticks": ""
           },
           "bgcolor": "#E5ECF6",
           "radialaxis": {
            "gridcolor": "white",
            "linecolor": "white",
            "ticks": ""
           }
          },
          "scene": {
           "xaxis": {
            "backgroundcolor": "#E5ECF6",
            "gridcolor": "white",
            "gridwidth": 2,
            "linecolor": "white",
            "showbackground": true,
            "ticks": "",
            "zerolinecolor": "white"
           },
           "yaxis": {
            "backgroundcolor": "#E5ECF6",
            "gridcolor": "white",
            "gridwidth": 2,
            "linecolor": "white",
            "showbackground": true,
            "ticks": "",
            "zerolinecolor": "white"
           },
           "zaxis": {
            "backgroundcolor": "#E5ECF6",
            "gridcolor": "white",
            "gridwidth": 2,
            "linecolor": "white",
            "showbackground": true,
            "ticks": "",
            "zerolinecolor": "white"
           }
          },
          "shapedefaults": {
           "line": {
            "color": "#2a3f5f"
           }
          },
          "ternary": {
           "aaxis": {
            "gridcolor": "white",
            "linecolor": "white",
            "ticks": ""
           },
           "baxis": {
            "gridcolor": "white",
            "linecolor": "white",
            "ticks": ""
           },
           "bgcolor": "#E5ECF6",
           "caxis": {
            "gridcolor": "white",
            "linecolor": "white",
            "ticks": ""
           }
          },
          "title": {
           "x": 0.05
          },
          "xaxis": {
           "automargin": true,
           "gridcolor": "white",
           "linecolor": "white",
           "ticks": "",
           "title": {
            "standoff": 15
           },
           "zerolinecolor": "white",
           "zerolinewidth": 2
          },
          "yaxis": {
           "automargin": true,
           "gridcolor": "white",
           "linecolor": "white",
           "ticks": "",
           "title": {
            "standoff": 15
           },
           "zerolinecolor": "white",
           "zerolinewidth": 2
          }
         }
        },
        "xaxis": {
         "anchor": "y",
         "domain": [
          0,
          1
         ],
         "title": {
          "text": "Area"
         }
        },
        "yaxis": {
         "anchor": "x",
         "domain": [
          0,
          1
         ],
         "title": {
          "text": "Average Price"
         }
        }
       }
      },
      "text/html": [
       "<div>                            <div id=\"e581dd65-1bf7-4a10-8d99-839af71e38a6\" class=\"plotly-graph-div\" style=\"height:525px; width:100%;\"></div>            <script type=\"text/javascript\">                require([\"plotly\"], function(Plotly) {                    window.PLOTLYENV=window.PLOTLYENV || {};                                    if (document.getElementById(\"e581dd65-1bf7-4a10-8d99-839af71e38a6\")) {                    Plotly.newPlot(                        \"e581dd65-1bf7-4a10-8d99-839af71e38a6\",                        [{\"alignmentgroup\":\"True\",\"hovertemplate\":\"Area=%{x}\\u003cbr\\u003eAverage Price=%{y}\\u003cextra\\u003e\\u003c\\u002fextra\\u003e\",\"legendgroup\":\"\",\"marker\":{\"color\":\"rgb(27,158,119)\",\"pattern\":{\"shape\":\"\"}},\"name\":\"\",\"offsetgroup\":\"\",\"orientation\":\"v\",\"showlegend\":false,\"textposition\":\"auto\",\"x\":[\"100 to 160 m\\u00b2\",\"160 to 200 m\\u00b2\",\"200 to 250 m\\u00b2\",\"250 to 400 m\\u00b2\"],\"xaxis\":\"x\",\"y\":[2537726.95908,3397071.16579,4666702.8247,7168412.11944],\"yaxis\":\"y\",\"type\":\"bar\"}],                        {\"template\":{\"data\":{\"histogram2dcontour\":[{\"type\":\"histogram2dcontour\",\"colorbar\":{\"outlinewidth\":0,\"ticks\":\"\"},\"colorscale\":[[0.0,\"#0d0887\"],[0.1111111111111111,\"#46039f\"],[0.2222222222222222,\"#7201a8\"],[0.3333333333333333,\"#9c179e\"],[0.4444444444444444,\"#bd3786\"],[0.5555555555555556,\"#d8576b\"],[0.6666666666666666,\"#ed7953\"],[0.7777777777777778,\"#fb9f3a\"],[0.8888888888888888,\"#fdca26\"],[1.0,\"#f0f921\"]]}],\"choropleth\":[{\"type\":\"choropleth\",\"colorbar\":{\"outlinewidth\":0,\"ticks\":\"\"}}],\"histogram2d\":[{\"type\":\"histogram2d\",\"colorbar\":{\"outlinewidth\":0,\"ticks\":\"\"},\"colorscale\":[[0.0,\"#0d0887\"],[0.1111111111111111,\"#46039f\"],[0.2222222222222222,\"#7201a8\"],[0.3333333333333333,\"#9c179e\"],[0.4444444444444444,\"#bd3786\"],[0.5555555555555556,\"#d8576b\"],[0.6666666666666666,\"#ed7953\"],[0.7777777777777778,\"#fb9f3a\"],[0.8888888888888888,\"#fdca26\"],[1.0,\"#f0f921\"]]}],\"heatmap\":[{\"type\":\"heatmap\",\"colorbar\":{\"outlinewidth\":0,\"ticks\":\"\"},\"colorscale\":[[0.0,\"#0d0887\"],[0.1111111111111111,\"#46039f\"],[0.2222222222222222,\"#7201a8\"],[0.3333333333333333,\"#9c179e\"],[0.4444444444444444,\"#bd3786\"],[0.5555555555555556,\"#d8576b\"],[0.6666666666666666,\"#ed7953\"],[0.7777777777777778,\"#fb9f3a\"],[0.8888888888888888,\"#fdca26\"],[1.0,\"#f0f921\"]]}],\"heatmapgl\":[{\"type\":\"heatmapgl\",\"colorbar\":{\"outlinewidth\":0,\"ticks\":\"\"},\"colorscale\":[[0.0,\"#0d0887\"],[0.1111111111111111,\"#46039f\"],[0.2222222222222222,\"#7201a8\"],[0.3333333333333333,\"#9c179e\"],[0.4444444444444444,\"#bd3786\"],[0.5555555555555556,\"#d8576b\"],[0.6666666666666666,\"#ed7953\"],[0.7777777777777778,\"#fb9f3a\"],[0.8888888888888888,\"#fdca26\"],[1.0,\"#f0f921\"]]}],\"contourcarpet\":[{\"type\":\"contourcarpet\",\"colorbar\":{\"outlinewidth\":0,\"ticks\":\"\"}}],\"contour\":[{\"type\":\"contour\",\"colorbar\":{\"outlinewidth\":0,\"ticks\":\"\"},\"colorscale\":[[0.0,\"#0d0887\"],[0.1111111111111111,\"#46039f\"],[0.2222222222222222,\"#7201a8\"],[0.3333333333333333,\"#9c179e\"],[0.4444444444444444,\"#bd3786\"],[0.5555555555555556,\"#d8576b\"],[0.6666666666666666,\"#ed7953\"],[0.7777777777777778,\"#fb9f3a\"],[0.8888888888888888,\"#fdca26\"],[1.0,\"#f0f921\"]]}],\"surface\":[{\"type\":\"surface\",\"colorbar\":{\"outlinewidth\":0,\"ticks\":\"\"},\"colorscale\":[[0.0,\"#0d0887\"],[0.1111111111111111,\"#46039f\"],[0.2222222222222222,\"#7201a8\"],[0.3333333333333333,\"#9c179e\"],[0.4444444444444444,\"#bd3786\"],[0.5555555555555556,\"#d8576b\"],[0.6666666666666666,\"#ed7953\"],[0.7777777777777778,\"#fb9f3a\"],[0.8888888888888888,\"#fdca26\"],[1.0,\"#f0f921\"]]}],\"mesh3d\":[{\"type\":\"mesh3d\",\"colorbar\":{\"outlinewidth\":0,\"ticks\":\"\"}}],\"scatter\":[{\"fillpattern\":{\"fillmode\":\"overlay\",\"size\":10,\"solidity\":0.2},\"type\":\"scatter\"}],\"parcoords\":[{\"type\":\"parcoords\",\"line\":{\"colorbar\":{\"outlinewidth\":0,\"ticks\":\"\"}}}],\"scatterpolargl\":[{\"type\":\"scatterpolargl\",\"marker\":{\"colorbar\":{\"outlinewidth\":0,\"ticks\":\"\"}}}],\"bar\":[{\"error_x\":{\"color\":\"#2a3f5f\"},\"error_y\":{\"color\":\"#2a3f5f\"},\"marker\":{\"line\":{\"color\":\"#E5ECF6\",\"width\":0.5},\"pattern\":{\"fillmode\":\"overlay\",\"size\":10,\"solidity\":0.2}},\"type\":\"bar\"}],\"scattergeo\":[{\"type\":\"scattergeo\",\"marker\":{\"colorbar\":{\"outlinewidth\":0,\"ticks\":\"\"}}}],\"scatterpolar\":[{\"type\":\"scatterpolar\",\"marker\":{\"colorbar\":{\"outlinewidth\":0,\"ticks\":\"\"}}}],\"histogram\":[{\"marker\":{\"pattern\":{\"fillmode\":\"overlay\",\"size\":10,\"solidity\":0.2}},\"type\":\"histogram\"}],\"scattergl\":[{\"type\":\"scattergl\",\"marker\":{\"colorbar\":{\"outlinewidth\":0,\"ticks\":\"\"}}}],\"scatter3d\":[{\"type\":\"scatter3d\",\"line\":{\"colorbar\":{\"outlinewidth\":0,\"ticks\":\"\"}},\"marker\":{\"colorbar\":{\"outlinewidth\":0,\"ticks\":\"\"}}}],\"scattermapbox\":[{\"type\":\"scattermapbox\",\"marker\":{\"colorbar\":{\"outlinewidth\":0,\"ticks\":\"\"}}}],\"scatterternary\":[{\"type\":\"scatterternary\",\"marker\":{\"colorbar\":{\"outlinewidth\":0,\"ticks\":\"\"}}}],\"scattercarpet\":[{\"type\":\"scattercarpet\",\"marker\":{\"colorbar\":{\"outlinewidth\":0,\"ticks\":\"\"}}}],\"carpet\":[{\"aaxis\":{\"endlinecolor\":\"#2a3f5f\",\"gridcolor\":\"white\",\"linecolor\":\"white\",\"minorgridcolor\":\"white\",\"startlinecolor\":\"#2a3f5f\"},\"baxis\":{\"endlinecolor\":\"#2a3f5f\",\"gridcolor\":\"white\",\"linecolor\":\"white\",\"minorgridcolor\":\"white\",\"startlinecolor\":\"#2a3f5f\"},\"type\":\"carpet\"}],\"table\":[{\"cells\":{\"fill\":{\"color\":\"#EBF0F8\"},\"line\":{\"color\":\"white\"}},\"header\":{\"fill\":{\"color\":\"#C8D4E3\"},\"line\":{\"color\":\"white\"}},\"type\":\"table\"}],\"barpolar\":[{\"marker\":{\"line\":{\"color\":\"#E5ECF6\",\"width\":0.5},\"pattern\":{\"fillmode\":\"overlay\",\"size\":10,\"solidity\":0.2}},\"type\":\"barpolar\"}],\"pie\":[{\"automargin\":true,\"type\":\"pie\"}]},\"layout\":{\"autotypenumbers\":\"strict\",\"colorway\":[\"#636efa\",\"#EF553B\",\"#00cc96\",\"#ab63fa\",\"#FFA15A\",\"#19d3f3\",\"#FF6692\",\"#B6E880\",\"#FF97FF\",\"#FECB52\"],\"font\":{\"color\":\"#2a3f5f\"},\"hovermode\":\"closest\",\"hoverlabel\":{\"align\":\"left\"},\"paper_bgcolor\":\"white\",\"plot_bgcolor\":\"#E5ECF6\",\"polar\":{\"bgcolor\":\"#E5ECF6\",\"angularaxis\":{\"gridcolor\":\"white\",\"linecolor\":\"white\",\"ticks\":\"\"},\"radialaxis\":{\"gridcolor\":\"white\",\"linecolor\":\"white\",\"ticks\":\"\"}},\"ternary\":{\"bgcolor\":\"#E5ECF6\",\"aaxis\":{\"gridcolor\":\"white\",\"linecolor\":\"white\",\"ticks\":\"\"},\"baxis\":{\"gridcolor\":\"white\",\"linecolor\":\"white\",\"ticks\":\"\"},\"caxis\":{\"gridcolor\":\"white\",\"linecolor\":\"white\",\"ticks\":\"\"}},\"coloraxis\":{\"colorbar\":{\"outlinewidth\":0,\"ticks\":\"\"}},\"colorscale\":{\"sequential\":[[0.0,\"#0d0887\"],[0.1111111111111111,\"#46039f\"],[0.2222222222222222,\"#7201a8\"],[0.3333333333333333,\"#9c179e\"],[0.4444444444444444,\"#bd3786\"],[0.5555555555555556,\"#d8576b\"],[0.6666666666666666,\"#ed7953\"],[0.7777777777777778,\"#fb9f3a\"],[0.8888888888888888,\"#fdca26\"],[1.0,\"#f0f921\"]],\"sequentialminus\":[[0.0,\"#0d0887\"],[0.1111111111111111,\"#46039f\"],[0.2222222222222222,\"#7201a8\"],[0.3333333333333333,\"#9c179e\"],[0.4444444444444444,\"#bd3786\"],[0.5555555555555556,\"#d8576b\"],[0.6666666666666666,\"#ed7953\"],[0.7777777777777778,\"#fb9f3a\"],[0.8888888888888888,\"#fdca26\"],[1.0,\"#f0f921\"]],\"diverging\":[[0,\"#8e0152\"],[0.1,\"#c51b7d\"],[0.2,\"#de77ae\"],[0.3,\"#f1b6da\"],[0.4,\"#fde0ef\"],[0.5,\"#f7f7f7\"],[0.6,\"#e6f5d0\"],[0.7,\"#b8e186\"],[0.8,\"#7fbc41\"],[0.9,\"#4d9221\"],[1,\"#276419\"]]},\"xaxis\":{\"gridcolor\":\"white\",\"linecolor\":\"white\",\"ticks\":\"\",\"title\":{\"standoff\":15},\"zerolinecolor\":\"white\",\"automargin\":true,\"zerolinewidth\":2},\"yaxis\":{\"gridcolor\":\"white\",\"linecolor\":\"white\",\"ticks\":\"\",\"title\":{\"standoff\":15},\"zerolinecolor\":\"white\",\"automargin\":true,\"zerolinewidth\":2},\"scene\":{\"xaxis\":{\"backgroundcolor\":\"#E5ECF6\",\"gridcolor\":\"white\",\"linecolor\":\"white\",\"showbackground\":true,\"ticks\":\"\",\"zerolinecolor\":\"white\",\"gridwidth\":2},\"yaxis\":{\"backgroundcolor\":\"#E5ECF6\",\"gridcolor\":\"white\",\"linecolor\":\"white\",\"showbackground\":true,\"ticks\":\"\",\"zerolinecolor\":\"white\",\"gridwidth\":2},\"zaxis\":{\"backgroundcolor\":\"#E5ECF6\",\"gridcolor\":\"white\",\"linecolor\":\"white\",\"showbackground\":true,\"ticks\":\"\",\"zerolinecolor\":\"white\",\"gridwidth\":2}},\"shapedefaults\":{\"line\":{\"color\":\"#2a3f5f\"}},\"annotationdefaults\":{\"arrowcolor\":\"#2a3f5f\",\"arrowhead\":0,\"arrowwidth\":1},\"geo\":{\"bgcolor\":\"white\",\"landcolor\":\"#E5ECF6\",\"subunitcolor\":\"white\",\"showland\":true,\"showlakes\":true,\"lakecolor\":\"white\"},\"title\":{\"x\":0.05},\"mapbox\":{\"style\":\"light\"}}},\"xaxis\":{\"anchor\":\"y\",\"domain\":[0.0,1.0],\"title\":{\"text\":\"Area\"}},\"yaxis\":{\"anchor\":\"x\",\"domain\":[0.0,1.0],\"title\":{\"text\":\"Average Price\"}},\"legend\":{\"tracegroupgap\":0},\"margin\":{\"t\":60},\"barmode\":\"relative\"},                        {\"responsive\": true}                    ).then(function(){\n",
       "                            \n",
       "var gd = document.getElementById('e581dd65-1bf7-4a10-8d99-839af71e38a6');\n",
       "var x = new MutationObserver(function (mutations, observer) {{\n",
       "        var display = window.getComputedStyle(gd).display;\n",
       "        if (!display || display === 'none') {{\n",
       "            console.log([gd, 'removed!']);\n",
       "            Plotly.purge(gd);\n",
       "            observer.disconnect();\n",
       "        }}\n",
       "}});\n",
       "\n",
       "// Listen for the removal of the full notebook cells\n",
       "var notebookContainer = gd.closest('#notebook-container');\n",
       "if (notebookContainer) {{\n",
       "    x.observe(notebookContainer, {childList: true});\n",
       "}}\n",
       "\n",
       "// Listen for the clearing of the current output cell\n",
       "var outputEl = gd.closest('.output');\n",
       "if (outputEl) {{\n",
       "    x.observe(outputEl, {childList: true});\n",
       "}}\n",
       "\n",
       "                        })                };                });            </script>        </div>"
      ]
     },
     "metadata": {},
     "output_type": "display_data"
    }
   ],
   "source": [
    "px.bar(data_frame=price_area1,x=\"Area\" , y = \"Average Price\",color_discrete_sequence=px.colors.qualitative.Dark2 )"
   ]
  },
  {
   "cell_type": "code",
   "execution_count": 148,
   "metadata": {},
   "outputs": [
    {
     "data": {
      "text/html": [
       "<div>\n",
       "<style scoped>\n",
       "    .dataframe tbody tr th:only-of-type {\n",
       "        vertical-align: middle;\n",
       "    }\n",
       "\n",
       "    .dataframe tbody tr th {\n",
       "        vertical-align: top;\n",
       "    }\n",
       "\n",
       "    .dataframe thead th {\n",
       "        text-align: right;\n",
       "    }\n",
       "</style>\n",
       "<table border=\"1\" class=\"dataframe\">\n",
       "  <thead>\n",
       "    <tr style=\"text-align: right;\">\n",
       "      <th></th>\n",
       "      <th>Area</th>\n",
       "      <th>Average Price</th>\n",
       "    </tr>\n",
       "  </thead>\n",
       "  <tbody>\n",
       "    <tr>\n",
       "      <th>0</th>\n",
       "      <td>100 to 160 m²</td>\n",
       "      <td>2.537727e+06</td>\n",
       "    </tr>\n",
       "    <tr>\n",
       "      <th>1</th>\n",
       "      <td>160 to 200 m²</td>\n",
       "      <td>3.397071e+06</td>\n",
       "    </tr>\n",
       "    <tr>\n",
       "      <th>2</th>\n",
       "      <td>200 to 250 m²</td>\n",
       "      <td>4.666703e+06</td>\n",
       "    </tr>\n",
       "    <tr>\n",
       "      <th>3</th>\n",
       "      <td>250 to 400 m²</td>\n",
       "      <td>7.168412e+06</td>\n",
       "    </tr>\n",
       "  </tbody>\n",
       "</table>\n",
       "</div>"
      ],
      "text/plain": [
       "            Area  Average Price\n",
       "0  100 to 160 m²   2.537727e+06\n",
       "1  160 to 200 m²   3.397071e+06\n",
       "2  200 to 250 m²   4.666703e+06\n",
       "3  250 to 400 m²   7.168412e+06"
      ]
     },
     "execution_count": 148,
     "metadata": {},
     "output_type": "execute_result"
    }
   ],
   "source": [
    "price_area1"
   ]
  },
  {
   "cell_type": "code",
   "execution_count": 149,
   "metadata": {},
   "outputs": [
    {
     "data": {
      "application/vnd.plotly.v1+json": {
       "config": {
        "plotlyServerURL": "https://plot.ly"
       },
       "data": [
        {
         "hovertemplate": "<b>%{hovertext}</b><br><br>Area=%{x}<br>Average Price=%{text}<extra></extra>",
         "hovertext": [
          "100 to 160 m²",
          "160 to 200 m²",
          "200 to 250 m²",
          "250 to 400 m²"
         ],
         "legendgroup": "",
         "line": {
          "color": "#636efa",
          "dash": "solid"
         },
         "marker": {
          "symbol": "circle"
         },
         "mode": "lines+text+markers",
         "name": "",
         "orientation": "v",
         "showlegend": false,
         "text": [
          2537726.95908,
          3397071.16579,
          4666702.8247,
          7168412.11944
         ],
         "type": "scatter",
         "x": [
          "100 to 160 m²",
          "160 to 200 m²",
          "200 to 250 m²",
          "250 to 400 m²"
         ],
         "xaxis": "x",
         "y": [
          2537726.95908,
          3397071.16579,
          4666702.8247,
          7168412.11944
         ],
         "yaxis": "y"
        }
       ],
       "layout": {
        "legend": {
         "tracegroupgap": 0
        },
        "margin": {
         "t": 60
        },
        "template": {
         "data": {
          "bar": [
           {
            "error_x": {
             "color": "#f2f5fa"
            },
            "error_y": {
             "color": "#f2f5fa"
            },
            "marker": {
             "line": {
              "color": "rgb(17,17,17)",
              "width": 0.5
             },
             "pattern": {
              "fillmode": "overlay",
              "size": 10,
              "solidity": 0.2
             }
            },
            "type": "bar"
           }
          ],
          "barpolar": [
           {
            "marker": {
             "line": {
              "color": "rgb(17,17,17)",
              "width": 0.5
             },
             "pattern": {
              "fillmode": "overlay",
              "size": 10,
              "solidity": 0.2
             }
            },
            "type": "barpolar"
           }
          ],
          "carpet": [
           {
            "aaxis": {
             "endlinecolor": "#A2B1C6",
             "gridcolor": "#506784",
             "linecolor": "#506784",
             "minorgridcolor": "#506784",
             "startlinecolor": "#A2B1C6"
            },
            "baxis": {
             "endlinecolor": "#A2B1C6",
             "gridcolor": "#506784",
             "linecolor": "#506784",
             "minorgridcolor": "#506784",
             "startlinecolor": "#A2B1C6"
            },
            "type": "carpet"
           }
          ],
          "choropleth": [
           {
            "colorbar": {
             "outlinewidth": 0,
             "ticks": ""
            },
            "type": "choropleth"
           }
          ],
          "contour": [
           {
            "colorbar": {
             "outlinewidth": 0,
             "ticks": ""
            },
            "colorscale": [
             [
              0,
              "#0d0887"
             ],
             [
              0.1111111111111111,
              "#46039f"
             ],
             [
              0.2222222222222222,
              "#7201a8"
             ],
             [
              0.3333333333333333,
              "#9c179e"
             ],
             [
              0.4444444444444444,
              "#bd3786"
             ],
             [
              0.5555555555555556,
              "#d8576b"
             ],
             [
              0.6666666666666666,
              "#ed7953"
             ],
             [
              0.7777777777777778,
              "#fb9f3a"
             ],
             [
              0.8888888888888888,
              "#fdca26"
             ],
             [
              1,
              "#f0f921"
             ]
            ],
            "type": "contour"
           }
          ],
          "contourcarpet": [
           {
            "colorbar": {
             "outlinewidth": 0,
             "ticks": ""
            },
            "type": "contourcarpet"
           }
          ],
          "heatmap": [
           {
            "colorbar": {
             "outlinewidth": 0,
             "ticks": ""
            },
            "colorscale": [
             [
              0,
              "#0d0887"
             ],
             [
              0.1111111111111111,
              "#46039f"
             ],
             [
              0.2222222222222222,
              "#7201a8"
             ],
             [
              0.3333333333333333,
              "#9c179e"
             ],
             [
              0.4444444444444444,
              "#bd3786"
             ],
             [
              0.5555555555555556,
              "#d8576b"
             ],
             [
              0.6666666666666666,
              "#ed7953"
             ],
             [
              0.7777777777777778,
              "#fb9f3a"
             ],
             [
              0.8888888888888888,
              "#fdca26"
             ],
             [
              1,
              "#f0f921"
             ]
            ],
            "type": "heatmap"
           }
          ],
          "heatmapgl": [
           {
            "colorbar": {
             "outlinewidth": 0,
             "ticks": ""
            },
            "colorscale": [
             [
              0,
              "#0d0887"
             ],
             [
              0.1111111111111111,
              "#46039f"
             ],
             [
              0.2222222222222222,
              "#7201a8"
             ],
             [
              0.3333333333333333,
              "#9c179e"
             ],
             [
              0.4444444444444444,
              "#bd3786"
             ],
             [
              0.5555555555555556,
              "#d8576b"
             ],
             [
              0.6666666666666666,
              "#ed7953"
             ],
             [
              0.7777777777777778,
              "#fb9f3a"
             ],
             [
              0.8888888888888888,
              "#fdca26"
             ],
             [
              1,
              "#f0f921"
             ]
            ],
            "type": "heatmapgl"
           }
          ],
          "histogram": [
           {
            "marker": {
             "pattern": {
              "fillmode": "overlay",
              "size": 10,
              "solidity": 0.2
             }
            },
            "type": "histogram"
           }
          ],
          "histogram2d": [
           {
            "colorbar": {
             "outlinewidth": 0,
             "ticks": ""
            },
            "colorscale": [
             [
              0,
              "#0d0887"
             ],
             [
              0.1111111111111111,
              "#46039f"
             ],
             [
              0.2222222222222222,
              "#7201a8"
             ],
             [
              0.3333333333333333,
              "#9c179e"
             ],
             [
              0.4444444444444444,
              "#bd3786"
             ],
             [
              0.5555555555555556,
              "#d8576b"
             ],
             [
              0.6666666666666666,
              "#ed7953"
             ],
             [
              0.7777777777777778,
              "#fb9f3a"
             ],
             [
              0.8888888888888888,
              "#fdca26"
             ],
             [
              1,
              "#f0f921"
             ]
            ],
            "type": "histogram2d"
           }
          ],
          "histogram2dcontour": [
           {
            "colorbar": {
             "outlinewidth": 0,
             "ticks": ""
            },
            "colorscale": [
             [
              0,
              "#0d0887"
             ],
             [
              0.1111111111111111,
              "#46039f"
             ],
             [
              0.2222222222222222,
              "#7201a8"
             ],
             [
              0.3333333333333333,
              "#9c179e"
             ],
             [
              0.4444444444444444,
              "#bd3786"
             ],
             [
              0.5555555555555556,
              "#d8576b"
             ],
             [
              0.6666666666666666,
              "#ed7953"
             ],
             [
              0.7777777777777778,
              "#fb9f3a"
             ],
             [
              0.8888888888888888,
              "#fdca26"
             ],
             [
              1,
              "#f0f921"
             ]
            ],
            "type": "histogram2dcontour"
           }
          ],
          "mesh3d": [
           {
            "colorbar": {
             "outlinewidth": 0,
             "ticks": ""
            },
            "type": "mesh3d"
           }
          ],
          "parcoords": [
           {
            "line": {
             "colorbar": {
              "outlinewidth": 0,
              "ticks": ""
             }
            },
            "type": "parcoords"
           }
          ],
          "pie": [
           {
            "automargin": true,
            "type": "pie"
           }
          ],
          "scatter": [
           {
            "marker": {
             "line": {
              "color": "#283442"
             }
            },
            "type": "scatter"
           }
          ],
          "scatter3d": [
           {
            "line": {
             "colorbar": {
              "outlinewidth": 0,
              "ticks": ""
             }
            },
            "marker": {
             "colorbar": {
              "outlinewidth": 0,
              "ticks": ""
             }
            },
            "type": "scatter3d"
           }
          ],
          "scattercarpet": [
           {
            "marker": {
             "colorbar": {
              "outlinewidth": 0,
              "ticks": ""
             }
            },
            "type": "scattercarpet"
           }
          ],
          "scattergeo": [
           {
            "marker": {
             "colorbar": {
              "outlinewidth": 0,
              "ticks": ""
             }
            },
            "type": "scattergeo"
           }
          ],
          "scattergl": [
           {
            "marker": {
             "line": {
              "color": "#283442"
             }
            },
            "type": "scattergl"
           }
          ],
          "scattermapbox": [
           {
            "marker": {
             "colorbar": {
              "outlinewidth": 0,
              "ticks": ""
             }
            },
            "type": "scattermapbox"
           }
          ],
          "scatterpolar": [
           {
            "marker": {
             "colorbar": {
              "outlinewidth": 0,
              "ticks": ""
             }
            },
            "type": "scatterpolar"
           }
          ],
          "scatterpolargl": [
           {
            "marker": {
             "colorbar": {
              "outlinewidth": 0,
              "ticks": ""
             }
            },
            "type": "scatterpolargl"
           }
          ],
          "scatterternary": [
           {
            "marker": {
             "colorbar": {
              "outlinewidth": 0,
              "ticks": ""
             }
            },
            "type": "scatterternary"
           }
          ],
          "surface": [
           {
            "colorbar": {
             "outlinewidth": 0,
             "ticks": ""
            },
            "colorscale": [
             [
              0,
              "#0d0887"
             ],
             [
              0.1111111111111111,
              "#46039f"
             ],
             [
              0.2222222222222222,
              "#7201a8"
             ],
             [
              0.3333333333333333,
              "#9c179e"
             ],
             [
              0.4444444444444444,
              "#bd3786"
             ],
             [
              0.5555555555555556,
              "#d8576b"
             ],
             [
              0.6666666666666666,
              "#ed7953"
             ],
             [
              0.7777777777777778,
              "#fb9f3a"
             ],
             [
              0.8888888888888888,
              "#fdca26"
             ],
             [
              1,
              "#f0f921"
             ]
            ],
            "type": "surface"
           }
          ],
          "table": [
           {
            "cells": {
             "fill": {
              "color": "#506784"
             },
             "line": {
              "color": "rgb(17,17,17)"
             }
            },
            "header": {
             "fill": {
              "color": "#2a3f5f"
             },
             "line": {
              "color": "rgb(17,17,17)"
             }
            },
            "type": "table"
           }
          ]
         },
         "layout": {
          "annotationdefaults": {
           "arrowcolor": "#f2f5fa",
           "arrowhead": 0,
           "arrowwidth": 1
          },
          "autotypenumbers": "strict",
          "coloraxis": {
           "colorbar": {
            "outlinewidth": 0,
            "ticks": ""
           }
          },
          "colorscale": {
           "diverging": [
            [
             0,
             "#8e0152"
            ],
            [
             0.1,
             "#c51b7d"
            ],
            [
             0.2,
             "#de77ae"
            ],
            [
             0.3,
             "#f1b6da"
            ],
            [
             0.4,
             "#fde0ef"
            ],
            [
             0.5,
             "#f7f7f7"
            ],
            [
             0.6,
             "#e6f5d0"
            ],
            [
             0.7,
             "#b8e186"
            ],
            [
             0.8,
             "#7fbc41"
            ],
            [
             0.9,
             "#4d9221"
            ],
            [
             1,
             "#276419"
            ]
           ],
           "sequential": [
            [
             0,
             "#0d0887"
            ],
            [
             0.1111111111111111,
             "#46039f"
            ],
            [
             0.2222222222222222,
             "#7201a8"
            ],
            [
             0.3333333333333333,
             "#9c179e"
            ],
            [
             0.4444444444444444,
             "#bd3786"
            ],
            [
             0.5555555555555556,
             "#d8576b"
            ],
            [
             0.6666666666666666,
             "#ed7953"
            ],
            [
             0.7777777777777778,
             "#fb9f3a"
            ],
            [
             0.8888888888888888,
             "#fdca26"
            ],
            [
             1,
             "#f0f921"
            ]
           ],
           "sequentialminus": [
            [
             0,
             "#0d0887"
            ],
            [
             0.1111111111111111,
             "#46039f"
            ],
            [
             0.2222222222222222,
             "#7201a8"
            ],
            [
             0.3333333333333333,
             "#9c179e"
            ],
            [
             0.4444444444444444,
             "#bd3786"
            ],
            [
             0.5555555555555556,
             "#d8576b"
            ],
            [
             0.6666666666666666,
             "#ed7953"
            ],
            [
             0.7777777777777778,
             "#fb9f3a"
            ],
            [
             0.8888888888888888,
             "#fdca26"
            ],
            [
             1,
             "#f0f921"
            ]
           ]
          },
          "colorway": [
           "#636efa",
           "#EF553B",
           "#00cc96",
           "#ab63fa",
           "#FFA15A",
           "#19d3f3",
           "#FF6692",
           "#B6E880",
           "#FF97FF",
           "#FECB52"
          ],
          "font": {
           "color": "#f2f5fa"
          },
          "geo": {
           "bgcolor": "rgb(17,17,17)",
           "lakecolor": "rgb(17,17,17)",
           "landcolor": "rgb(17,17,17)",
           "showlakes": true,
           "showland": true,
           "subunitcolor": "#506784"
          },
          "hoverlabel": {
           "align": "left"
          },
          "hovermode": "closest",
          "mapbox": {
           "style": "dark"
          },
          "paper_bgcolor": "rgb(17,17,17)",
          "plot_bgcolor": "rgb(17,17,17)",
          "polar": {
           "angularaxis": {
            "gridcolor": "#506784",
            "linecolor": "#506784",
            "ticks": ""
           },
           "bgcolor": "rgb(17,17,17)",
           "radialaxis": {
            "gridcolor": "#506784",
            "linecolor": "#506784",
            "ticks": ""
           }
          },
          "scene": {
           "xaxis": {
            "backgroundcolor": "rgb(17,17,17)",
            "gridcolor": "#506784",
            "gridwidth": 2,
            "linecolor": "#506784",
            "showbackground": true,
            "ticks": "",
            "zerolinecolor": "#C8D4E3"
           },
           "yaxis": {
            "backgroundcolor": "rgb(17,17,17)",
            "gridcolor": "#506784",
            "gridwidth": 2,
            "linecolor": "#506784",
            "showbackground": true,
            "ticks": "",
            "zerolinecolor": "#C8D4E3"
           },
           "zaxis": {
            "backgroundcolor": "rgb(17,17,17)",
            "gridcolor": "#506784",
            "gridwidth": 2,
            "linecolor": "#506784",
            "showbackground": true,
            "ticks": "",
            "zerolinecolor": "#C8D4E3"
           }
          },
          "shapedefaults": {
           "line": {
            "color": "#f2f5fa"
           }
          },
          "sliderdefaults": {
           "bgcolor": "#C8D4E3",
           "bordercolor": "rgb(17,17,17)",
           "borderwidth": 1,
           "tickwidth": 0
          },
          "ternary": {
           "aaxis": {
            "gridcolor": "#506784",
            "linecolor": "#506784",
            "ticks": ""
           },
           "baxis": {
            "gridcolor": "#506784",
            "linecolor": "#506784",
            "ticks": ""
           },
           "bgcolor": "rgb(17,17,17)",
           "caxis": {
            "gridcolor": "#506784",
            "linecolor": "#506784",
            "ticks": ""
           }
          },
          "title": {
           "x": 0.05
          },
          "updatemenudefaults": {
           "bgcolor": "#506784",
           "borderwidth": 0
          },
          "xaxis": {
           "automargin": true,
           "gridcolor": "#283442",
           "linecolor": "#506784",
           "ticks": "",
           "title": {
            "standoff": 15
           },
           "zerolinecolor": "#283442",
           "zerolinewidth": 2
          },
          "yaxis": {
           "automargin": true,
           "gridcolor": "#283442",
           "linecolor": "#506784",
           "ticks": "",
           "title": {
            "standoff": 15
           },
           "zerolinecolor": "#283442",
           "zerolinewidth": 2
          }
         }
        },
        "title": {
         "x": 0.5
        },
        "xaxis": {
         "anchor": "y",
         "domain": [
          0,
          1
         ],
         "title": {
          "text": "Area"
         }
        },
        "yaxis": {
         "anchor": "x",
         "domain": [
          0,
          1
         ],
         "title": {
          "text": "Average Price"
         }
        }
       }
      },
      "text/html": [
       "<div>                            <div id=\"25891777-3525-4a11-83b3-8dea74ee2dd0\" class=\"plotly-graph-div\" style=\"height:525px; width:100%;\"></div>            <script type=\"text/javascript\">                require([\"plotly\"], function(Plotly) {                    window.PLOTLYENV=window.PLOTLYENV || {};                                    if (document.getElementById(\"25891777-3525-4a11-83b3-8dea74ee2dd0\")) {                    Plotly.newPlot(                        \"25891777-3525-4a11-83b3-8dea74ee2dd0\",                        [{\"hovertemplate\":\"\\u003cb\\u003e%{hovertext}\\u003c\\u002fb\\u003e\\u003cbr\\u003e\\u003cbr\\u003eArea=%{x}\\u003cbr\\u003eAverage Price=%{text}\\u003cextra\\u003e\\u003c\\u002fextra\\u003e\",\"hovertext\":[\"100 to 160 m\\u00b2\",\"160 to 200 m\\u00b2\",\"200 to 250 m\\u00b2\",\"250 to 400 m\\u00b2\"],\"legendgroup\":\"\",\"line\":{\"color\":\"#636efa\",\"dash\":\"solid\"},\"marker\":{\"symbol\":\"circle\"},\"mode\":\"lines+text+markers\",\"name\":\"\",\"orientation\":\"v\",\"showlegend\":false,\"text\":[2537726.95908,3397071.16579,4666702.8247,7168412.11944],\"x\":[\"100 to 160 m\\u00b2\",\"160 to 200 m\\u00b2\",\"200 to 250 m\\u00b2\",\"250 to 400 m\\u00b2\"],\"xaxis\":\"x\",\"y\":[2537726.95908,3397071.16579,4666702.8247,7168412.11944],\"yaxis\":\"y\",\"type\":\"scatter\"}],                        {\"template\":{\"data\":{\"barpolar\":[{\"marker\":{\"line\":{\"color\":\"rgb(17,17,17)\",\"width\":0.5},\"pattern\":{\"fillmode\":\"overlay\",\"size\":10,\"solidity\":0.2}},\"type\":\"barpolar\"}],\"bar\":[{\"error_x\":{\"color\":\"#f2f5fa\"},\"error_y\":{\"color\":\"#f2f5fa\"},\"marker\":{\"line\":{\"color\":\"rgb(17,17,17)\",\"width\":0.5},\"pattern\":{\"fillmode\":\"overlay\",\"size\":10,\"solidity\":0.2}},\"type\":\"bar\"}],\"carpet\":[{\"aaxis\":{\"endlinecolor\":\"#A2B1C6\",\"gridcolor\":\"#506784\",\"linecolor\":\"#506784\",\"minorgridcolor\":\"#506784\",\"startlinecolor\":\"#A2B1C6\"},\"baxis\":{\"endlinecolor\":\"#A2B1C6\",\"gridcolor\":\"#506784\",\"linecolor\":\"#506784\",\"minorgridcolor\":\"#506784\",\"startlinecolor\":\"#A2B1C6\"},\"type\":\"carpet\"}],\"choropleth\":[{\"colorbar\":{\"outlinewidth\":0,\"ticks\":\"\"},\"type\":\"choropleth\"}],\"contourcarpet\":[{\"colorbar\":{\"outlinewidth\":0,\"ticks\":\"\"},\"type\":\"contourcarpet\"}],\"contour\":[{\"colorbar\":{\"outlinewidth\":0,\"ticks\":\"\"},\"colorscale\":[[0.0,\"#0d0887\"],[0.1111111111111111,\"#46039f\"],[0.2222222222222222,\"#7201a8\"],[0.3333333333333333,\"#9c179e\"],[0.4444444444444444,\"#bd3786\"],[0.5555555555555556,\"#d8576b\"],[0.6666666666666666,\"#ed7953\"],[0.7777777777777778,\"#fb9f3a\"],[0.8888888888888888,\"#fdca26\"],[1.0,\"#f0f921\"]],\"type\":\"contour\"}],\"heatmapgl\":[{\"colorbar\":{\"outlinewidth\":0,\"ticks\":\"\"},\"colorscale\":[[0.0,\"#0d0887\"],[0.1111111111111111,\"#46039f\"],[0.2222222222222222,\"#7201a8\"],[0.3333333333333333,\"#9c179e\"],[0.4444444444444444,\"#bd3786\"],[0.5555555555555556,\"#d8576b\"],[0.6666666666666666,\"#ed7953\"],[0.7777777777777778,\"#fb9f3a\"],[0.8888888888888888,\"#fdca26\"],[1.0,\"#f0f921\"]],\"type\":\"heatmapgl\"}],\"heatmap\":[{\"colorbar\":{\"outlinewidth\":0,\"ticks\":\"\"},\"colorscale\":[[0.0,\"#0d0887\"],[0.1111111111111111,\"#46039f\"],[0.2222222222222222,\"#7201a8\"],[0.3333333333333333,\"#9c179e\"],[0.4444444444444444,\"#bd3786\"],[0.5555555555555556,\"#d8576b\"],[0.6666666666666666,\"#ed7953\"],[0.7777777777777778,\"#fb9f3a\"],[0.8888888888888888,\"#fdca26\"],[1.0,\"#f0f921\"]],\"type\":\"heatmap\"}],\"histogram2dcontour\":[{\"colorbar\":{\"outlinewidth\":0,\"ticks\":\"\"},\"colorscale\":[[0.0,\"#0d0887\"],[0.1111111111111111,\"#46039f\"],[0.2222222222222222,\"#7201a8\"],[0.3333333333333333,\"#9c179e\"],[0.4444444444444444,\"#bd3786\"],[0.5555555555555556,\"#d8576b\"],[0.6666666666666666,\"#ed7953\"],[0.7777777777777778,\"#fb9f3a\"],[0.8888888888888888,\"#fdca26\"],[1.0,\"#f0f921\"]],\"type\":\"histogram2dcontour\"}],\"histogram2d\":[{\"colorbar\":{\"outlinewidth\":0,\"ticks\":\"\"},\"colorscale\":[[0.0,\"#0d0887\"],[0.1111111111111111,\"#46039f\"],[0.2222222222222222,\"#7201a8\"],[0.3333333333333333,\"#9c179e\"],[0.4444444444444444,\"#bd3786\"],[0.5555555555555556,\"#d8576b\"],[0.6666666666666666,\"#ed7953\"],[0.7777777777777778,\"#fb9f3a\"],[0.8888888888888888,\"#fdca26\"],[1.0,\"#f0f921\"]],\"type\":\"histogram2d\"}],\"histogram\":[{\"marker\":{\"pattern\":{\"fillmode\":\"overlay\",\"size\":10,\"solidity\":0.2}},\"type\":\"histogram\"}],\"mesh3d\":[{\"colorbar\":{\"outlinewidth\":0,\"ticks\":\"\"},\"type\":\"mesh3d\"}],\"parcoords\":[{\"line\":{\"colorbar\":{\"outlinewidth\":0,\"ticks\":\"\"}},\"type\":\"parcoords\"}],\"pie\":[{\"automargin\":true,\"type\":\"pie\"}],\"scatter3d\":[{\"line\":{\"colorbar\":{\"outlinewidth\":0,\"ticks\":\"\"}},\"marker\":{\"colorbar\":{\"outlinewidth\":0,\"ticks\":\"\"}},\"type\":\"scatter3d\"}],\"scattercarpet\":[{\"marker\":{\"colorbar\":{\"outlinewidth\":0,\"ticks\":\"\"}},\"type\":\"scattercarpet\"}],\"scattergeo\":[{\"marker\":{\"colorbar\":{\"outlinewidth\":0,\"ticks\":\"\"}},\"type\":\"scattergeo\"}],\"scattergl\":[{\"marker\":{\"line\":{\"color\":\"#283442\"}},\"type\":\"scattergl\"}],\"scattermapbox\":[{\"marker\":{\"colorbar\":{\"outlinewidth\":0,\"ticks\":\"\"}},\"type\":\"scattermapbox\"}],\"scatterpolargl\":[{\"marker\":{\"colorbar\":{\"outlinewidth\":0,\"ticks\":\"\"}},\"type\":\"scatterpolargl\"}],\"scatterpolar\":[{\"marker\":{\"colorbar\":{\"outlinewidth\":0,\"ticks\":\"\"}},\"type\":\"scatterpolar\"}],\"scatter\":[{\"marker\":{\"line\":{\"color\":\"#283442\"}},\"type\":\"scatter\"}],\"scatterternary\":[{\"marker\":{\"colorbar\":{\"outlinewidth\":0,\"ticks\":\"\"}},\"type\":\"scatterternary\"}],\"surface\":[{\"colorbar\":{\"outlinewidth\":0,\"ticks\":\"\"},\"colorscale\":[[0.0,\"#0d0887\"],[0.1111111111111111,\"#46039f\"],[0.2222222222222222,\"#7201a8\"],[0.3333333333333333,\"#9c179e\"],[0.4444444444444444,\"#bd3786\"],[0.5555555555555556,\"#d8576b\"],[0.6666666666666666,\"#ed7953\"],[0.7777777777777778,\"#fb9f3a\"],[0.8888888888888888,\"#fdca26\"],[1.0,\"#f0f921\"]],\"type\":\"surface\"}],\"table\":[{\"cells\":{\"fill\":{\"color\":\"#506784\"},\"line\":{\"color\":\"rgb(17,17,17)\"}},\"header\":{\"fill\":{\"color\":\"#2a3f5f\"},\"line\":{\"color\":\"rgb(17,17,17)\"}},\"type\":\"table\"}]},\"layout\":{\"annotationdefaults\":{\"arrowcolor\":\"#f2f5fa\",\"arrowhead\":0,\"arrowwidth\":1},\"autotypenumbers\":\"strict\",\"coloraxis\":{\"colorbar\":{\"outlinewidth\":0,\"ticks\":\"\"}},\"colorscale\":{\"diverging\":[[0,\"#8e0152\"],[0.1,\"#c51b7d\"],[0.2,\"#de77ae\"],[0.3,\"#f1b6da\"],[0.4,\"#fde0ef\"],[0.5,\"#f7f7f7\"],[0.6,\"#e6f5d0\"],[0.7,\"#b8e186\"],[0.8,\"#7fbc41\"],[0.9,\"#4d9221\"],[1,\"#276419\"]],\"sequential\":[[0.0,\"#0d0887\"],[0.1111111111111111,\"#46039f\"],[0.2222222222222222,\"#7201a8\"],[0.3333333333333333,\"#9c179e\"],[0.4444444444444444,\"#bd3786\"],[0.5555555555555556,\"#d8576b\"],[0.6666666666666666,\"#ed7953\"],[0.7777777777777778,\"#fb9f3a\"],[0.8888888888888888,\"#fdca26\"],[1.0,\"#f0f921\"]],\"sequentialminus\":[[0.0,\"#0d0887\"],[0.1111111111111111,\"#46039f\"],[0.2222222222222222,\"#7201a8\"],[0.3333333333333333,\"#9c179e\"],[0.4444444444444444,\"#bd3786\"],[0.5555555555555556,\"#d8576b\"],[0.6666666666666666,\"#ed7953\"],[0.7777777777777778,\"#fb9f3a\"],[0.8888888888888888,\"#fdca26\"],[1.0,\"#f0f921\"]]},\"colorway\":[\"#636efa\",\"#EF553B\",\"#00cc96\",\"#ab63fa\",\"#FFA15A\",\"#19d3f3\",\"#FF6692\",\"#B6E880\",\"#FF97FF\",\"#FECB52\"],\"font\":{\"color\":\"#f2f5fa\"},\"geo\":{\"bgcolor\":\"rgb(17,17,17)\",\"lakecolor\":\"rgb(17,17,17)\",\"landcolor\":\"rgb(17,17,17)\",\"showlakes\":true,\"showland\":true,\"subunitcolor\":\"#506784\"},\"hoverlabel\":{\"align\":\"left\"},\"hovermode\":\"closest\",\"mapbox\":{\"style\":\"dark\"},\"paper_bgcolor\":\"rgb(17,17,17)\",\"plot_bgcolor\":\"rgb(17,17,17)\",\"polar\":{\"angularaxis\":{\"gridcolor\":\"#506784\",\"linecolor\":\"#506784\",\"ticks\":\"\"},\"bgcolor\":\"rgb(17,17,17)\",\"radialaxis\":{\"gridcolor\":\"#506784\",\"linecolor\":\"#506784\",\"ticks\":\"\"}},\"scene\":{\"xaxis\":{\"backgroundcolor\":\"rgb(17,17,17)\",\"gridcolor\":\"#506784\",\"gridwidth\":2,\"linecolor\":\"#506784\",\"showbackground\":true,\"ticks\":\"\",\"zerolinecolor\":\"#C8D4E3\"},\"yaxis\":{\"backgroundcolor\":\"rgb(17,17,17)\",\"gridcolor\":\"#506784\",\"gridwidth\":2,\"linecolor\":\"#506784\",\"showbackground\":true,\"ticks\":\"\",\"zerolinecolor\":\"#C8D4E3\"},\"zaxis\":{\"backgroundcolor\":\"rgb(17,17,17)\",\"gridcolor\":\"#506784\",\"gridwidth\":2,\"linecolor\":\"#506784\",\"showbackground\":true,\"ticks\":\"\",\"zerolinecolor\":\"#C8D4E3\"}},\"shapedefaults\":{\"line\":{\"color\":\"#f2f5fa\"}},\"sliderdefaults\":{\"bgcolor\":\"#C8D4E3\",\"bordercolor\":\"rgb(17,17,17)\",\"borderwidth\":1,\"tickwidth\":0},\"ternary\":{\"aaxis\":{\"gridcolor\":\"#506784\",\"linecolor\":\"#506784\",\"ticks\":\"\"},\"baxis\":{\"gridcolor\":\"#506784\",\"linecolor\":\"#506784\",\"ticks\":\"\"},\"bgcolor\":\"rgb(17,17,17)\",\"caxis\":{\"gridcolor\":\"#506784\",\"linecolor\":\"#506784\",\"ticks\":\"\"}},\"title\":{\"x\":0.05},\"updatemenudefaults\":{\"bgcolor\":\"#506784\",\"borderwidth\":0},\"xaxis\":{\"automargin\":true,\"gridcolor\":\"#283442\",\"linecolor\":\"#506784\",\"ticks\":\"\",\"title\":{\"standoff\":15},\"zerolinecolor\":\"#283442\",\"zerolinewidth\":2},\"yaxis\":{\"automargin\":true,\"gridcolor\":\"#283442\",\"linecolor\":\"#506784\",\"ticks\":\"\",\"title\":{\"standoff\":15},\"zerolinecolor\":\"#283442\",\"zerolinewidth\":2}}},\"xaxis\":{\"anchor\":\"y\",\"domain\":[0.0,1.0],\"title\":{\"text\":\"Area\"}},\"yaxis\":{\"anchor\":\"x\",\"domain\":[0.0,1.0],\"title\":{\"text\":\"Average Price\"}},\"legend\":{\"tracegroupgap\":0},\"margin\":{\"t\":60},\"title\":{\"x\":0.5}},                        {\"responsive\": true}                    ).then(function(){\n",
       "                            \n",
       "var gd = document.getElementById('25891777-3525-4a11-83b3-8dea74ee2dd0');\n",
       "var x = new MutationObserver(function (mutations, observer) {{\n",
       "        var display = window.getComputedStyle(gd).display;\n",
       "        if (!display || display === 'none') {{\n",
       "            console.log([gd, 'removed!']);\n",
       "            Plotly.purge(gd);\n",
       "            observer.disconnect();\n",
       "        }}\n",
       "}});\n",
       "\n",
       "// Listen for the removal of the full notebook cells\n",
       "var notebookContainer = gd.closest('#notebook-container');\n",
       "if (notebookContainer) {{\n",
       "    x.observe(notebookContainer, {childList: true});\n",
       "}}\n",
       "\n",
       "// Listen for the clearing of the current output cell\n",
       "var outputEl = gd.closest('.output');\n",
       "if (outputEl) {{\n",
       "    x.observe(outputEl, {childList: true});\n",
       "}}\n",
       "\n",
       "                        })                };                });            </script>        </div>"
      ]
     },
     "metadata": {},
     "output_type": "display_data"
    }
   ],
   "source": [
    "\n",
    "fig = px.line(price_area1,x='Area',y='Average Price',text='Average Price',hover_name='Area',markers=True,template='plotly_dark')\n",
    "fig.update_layout(title_x=0.5)\n",
    "fig.show()"
   ]
  },
  {
   "cell_type": "markdown",
   "metadata": {},
   "source": [
    "<a id=\"1\"></a>\n",
    "# <p style=\"padding:10px;background-color:#00A08B;margin:0;color:White;font-family:Georgia;font-size:100%;text-align:center;border-radius: 15px 50px;overflow:hidden;font-weight:500\">As the area inc the prices of homes goes up relativly as shown</p>"
   ]
  },
  {
   "cell_type": "code",
   "execution_count": 150,
   "metadata": {},
   "outputs": [
    {
     "data": {
      "image/png": "[encoded data removed]",
      "text/plain": [
       "<Figure size 432x288 with 1 Axes>"
      ]
     },
     "metadata": {
      "needs_background": "light"
     },
     "output_type": "display_data"
    }
   ],
   "source": [
    "price_floor = df.groupby('Level').Price.mean().reset_index(name='Price')\n",
    "price_floor.sort_values(\"Level\",ascending =True)\n",
    "\n",
    "\n",
    "sns.barplot(data=price_floor,x=\"Level\",y=\"Price\")\n",
    "plt.title(\"Price of houses according to the floor level\")\n",
    "plt.xticks(rotation=45)\n",
    "plt.show()"
   ]
  },
  {
   "cell_type": "markdown",
   "metadata": {},
   "source": [
    "<a id=\"1\"></a>\n",
    "# <p style=\"padding:10px;background-color:#00A08B;margin:0;color:White;font-family:Georgia;font-size:100%;text-align:center;border-radius: 15px 50px;overflow:hidden;font-weight:500\">It appears that first and last floors have high prices</p>"
   ]
  },
  {
   "cell_type": "markdown",
   "metadata": {},
   "source": [
    "## Delivery date"
   ]
  },
  {
   "cell_type": "code",
   "execution_count": 151,
   "metadata": {},
   "outputs": [
    {
     "data": {
      "application/vnd.plotly.v1+json": {
       "config": {
        "plotlyServerURL": "https://plot.ly"
       },
       "data": [
        {
         "alignmentgroup": "True",
         "hovertemplate": "counts=%{x}<br>Type=%{y}<extra></extra>",
         "legendgroup": "",
         "marker": {
          "color": "rgb(27,158,119)",
          "pattern": {
           "shape": ""
          }
         },
         "name": "",
         "offsetgroup": "",
         "orientation": "h",
         "showlegend": false,
         "textposition": "auto",
         "type": "bar",
         "x": [
          61,
          76,
          136,
          165,
          214,
          268,
          1756,
          2405
         ],
         "xaxis": "x",
         "y": [
          "Town House",
          "Studio",
          "Twin house",
          "Standalone Villa",
          "Penthouse",
          "Duplex",
          "Chalet",
          "Apartment"
         ],
         "yaxis": "y"
        }
       ],
       "layout": {
        "barmode": "relative",
        "legend": {
         "tracegroupgap": 0
        },
        "template": {
         "data": {
          "bar": [
           {
            "error_x": {
             "color": "#2a3f5f"
            },
            "error_y": {
             "color": "#2a3f5f"
            },
            "marker": {
             "line": {
              "color": "#E5ECF6",
              "width": 0.5
             },
             "pattern": {
              "fillmode": "overlay",
              "size": 10,
              "solidity": 0.2
             }
            },
            "type": "bar"
           }
          ],
          "barpolar": [
           {
            "marker": {
             "line": {
              "color": "#E5ECF6",
              "width": 0.5
             },
             "pattern": {
              "fillmode": "overlay",
              "size": 10,
              "solidity": 0.2
             }
            },
            "type": "barpolar"
           }
          ],
          "carpet": [
           {
            "aaxis": {
             "endlinecolor": "#2a3f5f",
             "gridcolor": "white",
             "linecolor": "white",
             "minorgridcolor": "white",
             "startlinecolor": "#2a3f5f"
            },
            "baxis": {
             "endlinecolor": "#2a3f5f",
             "gridcolor": "white",
             "linecolor": "white",
             "minorgridcolor": "white",
             "startlinecolor": "#2a3f5f"
            },
            "type": "carpet"
           }
          ],
          "choropleth": [
           {
            "colorbar": {
             "outlinewidth": 0,
             "ticks": ""
            },
            "type": "choropleth"
           }
          ],
          "contour": [
           {
            "colorbar": {
             "outlinewidth": 0,
             "ticks": ""
            },
            "colorscale": [
             [
              0,
              "#0d0887"
             ],
             [
              0.1111111111111111,
              "#46039f"
             ],
             [
              0.2222222222222222,
              "#7201a8"
             ],
             [
              0.3333333333333333,
              "#9c179e"
             ],
             [
              0.4444444444444444,
              "#bd3786"
             ],
             [
              0.5555555555555556,
              "#d8576b"
             ],
             [
              0.6666666666666666,
              "#ed7953"
             ],
             [
              0.7777777777777778,
              "#fb9f3a"
             ],
             [
              0.8888888888888888,
              "#fdca26"
             ],
             [
              1,
              "#f0f921"
             ]
            ],
            "type": "contour"
           }
          ],
          "contourcarpet": [
           {
            "colorbar": {
             "outlinewidth": 0,
             "ticks": ""
            },
            "type": "contourcarpet"
           }
          ],
          "heatmap": [
           {
            "colorbar": {
             "outlinewidth": 0,
             "ticks": ""
            },
            "colorscale": [
             [
              0,
              "#0d0887"
             ],
             [
              0.1111111111111111,
              "#46039f"
             ],
             [
              0.2222222222222222,
              "#7201a8"
             ],
             [
              0.3333333333333333,
              "#9c179e"
             ],
             [
              0.4444444444444444,
              "#bd3786"
             ],
             [
              0.5555555555555556,
              "#d8576b"
             ],
             [
              0.6666666666666666,
              "#ed7953"
             ],
             [
              0.7777777777777778,
              "#fb9f3a"
             ],
             [
              0.8888888888888888,
              "#fdca26"
             ],
             [
              1,
              "#f0f921"
             ]
            ],
            "type": "heatmap"
           }
          ],
          "heatmapgl": [
           {
            "colorbar": {
             "outlinewidth": 0,
             "ticks": ""
            },
            "colorscale": [
             [
              0,
              "#0d0887"
             ],
             [
              0.1111111111111111,
              "#46039f"
             ],
             [
              0.2222222222222222,
              "#7201a8"
             ],
             [
              0.3333333333333333,
              "#9c179e"
             ],
             [
              0.4444444444444444,
              "#bd3786"
             ],
             [
              0.5555555555555556,
              "#d8576b"
             ],
             [
              0.6666666666666666,
              "#ed7953"
             ],
             [
              0.7777777777777778,
              "#fb9f3a"
             ],
             [
              0.8888888888888888,
              "#fdca26"
             ],
             [
              1,
              "#f0f921"
             ]
            ],
            "type": "heatmapgl"
           }
          ],
          "histogram": [
           {
            "marker": {
             "pattern": {
              "fillmode": "overlay",
              "size": 10,
              "solidity": 0.2
             }
            },
            "type": "histogram"
           }
          ],
          "histogram2d": [
           {
            "colorbar": {
             "outlinewidth": 0,
             "ticks": ""
            },
            "colorscale": [
             [
              0,
              "#0d0887"
             ],
             [
              0.1111111111111111,
              "#46039f"
             ],
             [
              0.2222222222222222,
              "#7201a8"
             ],
             [
              0.3333333333333333,
              "#9c179e"
             ],
             [
              0.4444444444444444,
              "#bd3786"
             ],
             [
              0.5555555555555556,
              "#d8576b"
             ],
             [
              0.6666666666666666,
              "#ed7953"
             ],
             [
              0.7777777777777778,
              "#fb9f3a"
             ],
             [
              0.8888888888888888,
              "#fdca26"
             ],
             [
              1,
              "#f0f921"
             ]
            ],
            "type": "histogram2d"
           }
          ],
          "histogram2dcontour": [
           {
            "colorbar": {
             "outlinewidth": 0,
             "ticks": ""
            },
            "colorscale": [
             [
              0,
              "#0d0887"
             ],
             [
              0.1111111111111111,
              "#46039f"
             ],
             [
              0.2222222222222222,
              "#7201a8"
             ],
             [
              0.3333333333333333,
              "#9c179e"
             ],
             [
              0.4444444444444444,
              "#bd3786"
             ],
             [
              0.5555555555555556,
              "#d8576b"
             ],
             [
              0.6666666666666666,
              "#ed7953"
             ],
             [
              0.7777777777777778,
              "#fb9f3a"
             ],
             [
              0.8888888888888888,
              "#fdca26"
             ],
             [
              1,
              "#f0f921"
             ]
            ],
            "type": "histogram2dcontour"
           }
          ],
          "mesh3d": [
           {
            "colorbar": {
             "outlinewidth": 0,
             "ticks": ""
            },
            "type": "mesh3d"
           }
          ],
          "parcoords": [
           {
            "line": {
             "colorbar": {
              "outlinewidth": 0,
              "ticks": ""
             }
            },
            "type": "parcoords"
           }
          ],
          "pie": [
           {
            "automargin": true,
            "type": "pie"
           }
          ],
          "scatter": [
           {
            "fillpattern": {
             "fillmode": "overlay",
             "size": 10,
             "solidity": 0.2
            },
            "type": "scatter"
           }
          ],
          "scatter3d": [
           {
            "line": {
             "colorbar": {
              "outlinewidth": 0,
              "ticks": ""
             }
            },
            "marker": {
             "colorbar": {
              "outlinewidth": 0,
              "ticks": ""
             }
            },
            "type": "scatter3d"
           }
          ],
          "scattercarpet": [
           {
            "marker": {
             "colorbar": {
              "outlinewidth": 0,
              "ticks": ""
             }
            },
            "type": "scattercarpet"
           }
          ],
          "scattergeo": [
           {
            "marker": {
             "colorbar": {
              "outlinewidth": 0,
              "ticks": ""
             }
            },
            "type": "scattergeo"
           }
          ],
          "scattergl": [
           {
            "marker": {
             "colorbar": {
              "outlinewidth": 0,
              "ticks": ""
             }
            },
            "type": "scattergl"
           }
          ],
          "scattermapbox": [
           {
            "marker": {
             "colorbar": {
              "outlinewidth": 0,
              "ticks": ""
             }
            },
            "type": "scattermapbox"
           }
          ],
          "scatterpolar": [
           {
            "marker": {
             "colorbar": {
              "outlinewidth": 0,
              "ticks": ""
             }
            },
            "type": "scatterpolar"
           }
          ],
          "scatterpolargl": [
           {
            "marker": {
             "colorbar": {
              "outlinewidth": 0,
              "ticks": ""
             }
            },
            "type": "scatterpolargl"
           }
          ],
          "scatterternary": [
           {
            "marker": {
             "colorbar": {
              "outlinewidth": 0,
              "ticks": ""
             }
            },
            "type": "scatterternary"
           }
          ],
          "surface": [
           {
            "colorbar": {
             "outlinewidth": 0,
             "ticks": ""
            },
            "colorscale": [
             [
              0,
              "#0d0887"
             ],
             [
              0.1111111111111111,
              "#46039f"
             ],
             [
              0.2222222222222222,
              "#7201a8"
             ],
             [
              0.3333333333333333,
              "#9c179e"
             ],
             [
              0.4444444444444444,
              "#bd3786"
             ],
             [
              0.5555555555555556,
              "#d8576b"
             ],
             [
              0.6666666666666666,
              "#ed7953"
             ],
             [
              0.7777777777777778,
              "#fb9f3a"
             ],
             [
              0.8888888888888888,
              "#fdca26"
             ],
             [
              1,
              "#f0f921"
             ]
            ],
            "type": "surface"
           }
          ],
          "table": [
           {
            "cells": {
             "fill": {
              "color": "#EBF0F8"
             },
             "line": {
              "color": "white"
             }
            },
            "header": {
             "fill": {
              "color": "#C8D4E3"
             },
             "line": {
              "color": "white"
             }
            },
            "type": "table"
           }
          ]
         },
         "layout": {
          "annotationdefaults": {
           "arrowcolor": "#2a3f5f",
           "arrowhead": 0,
           "arrowwidth": 1
          },
          "autotypenumbers": "strict",
          "coloraxis": {
           "colorbar": {
            "outlinewidth": 0,
            "ticks": ""
           }
          },
          "colorscale": {
           "diverging": [
            [
             0,
             "#8e0152"
            ],
            [
             0.1,
             "#c51b7d"
            ],
            [
             0.2,
             "#de77ae"
            ],
            [
             0.3,
             "#f1b6da"
            ],
            [
             0.4,
             "#fde0ef"
            ],
            [
             0.5,
             "#f7f7f7"
            ],
            [
             0.6,
             "#e6f5d0"
            ],
            [
             0.7,
             "#b8e186"
            ],
            [
             0.8,
             "#7fbc41"
            ],
            [
             0.9,
             "#4d9221"
            ],
            [
             1,
             "#276419"
            ]
           ],
           "sequential": [
            [
             0,
             "#0d0887"
            ],
            [
             0.1111111111111111,
             "#46039f"
            ],
            [
             0.2222222222222222,
             "#7201a8"
            ],
            [
             0.3333333333333333,
             "#9c179e"
            ],
            [
             0.4444444444444444,
             "#bd3786"
            ],
            [
             0.5555555555555556,
             "#d8576b"
            ],
            [
             0.6666666666666666,
             "#ed7953"
            ],
            [
             0.7777777777777778,
             "#fb9f3a"
            ],
            [
             0.8888888888888888,
             "#fdca26"
            ],
            [
             1,
             "#f0f921"
            ]
           ],
           "sequentialminus": [
            [
             0,
             "#0d0887"
            ],
            [
             0.1111111111111111,
             "#46039f"
            ],
            [
             0.2222222222222222,
             "#7201a8"
            ],
            [
             0.3333333333333333,
             "#9c179e"
            ],
            [
             0.4444444444444444,
             "#bd3786"
            ],
            [
             0.5555555555555556,
             "#d8576b"
            ],
            [
             0.6666666666666666,
             "#ed7953"
            ],
            [
             0.7777777777777778,
             "#fb9f3a"
            ],
            [
             0.8888888888888888,
             "#fdca26"
            ],
            [
             1,
             "#f0f921"
            ]
           ]
          },
          "colorway": [
           "#636efa",
           "#EF553B",
           "#00cc96",
           "#ab63fa",
           "#FFA15A",
           "#19d3f3",
           "#FF6692",
           "#B6E880",
           "#FF97FF",
           "#FECB52"
          ],
          "font": {
           "color": "#2a3f5f"
          },
          "geo": {
           "bgcolor": "white",
           "lakecolor": "white",
           "landcolor": "#E5ECF6",
           "showlakes": true,
           "showland": true,
           "subunitcolor": "white"
          },
          "hoverlabel": {
           "align": "left"
          },
          "hovermode": "closest",
          "mapbox": {
           "style": "light"
          },
          "paper_bgcolor": "white",
          "plot_bgcolor": "#E5ECF6",
          "polar": {
           "angularaxis": {
            "gridcolor": "white",
            "linecolor": "white",
            "ticks": ""
           },
           "bgcolor": "#E5ECF6",
           "radialaxis": {
            "gridcolor": "white",
            "linecolor": "white",
            "ticks": ""
           }
          },
          "scene": {
           "xaxis": {
            "backgroundcolor": "#E5ECF6",
            "gridcolor": "white",
            "gridwidth": 2,
            "linecolor": "white",
            "showbackground": true,
            "ticks": "",
            "zerolinecolor": "white"
           },
           "yaxis": {
            "backgroundcolor": "#E5ECF6",
            "gridcolor": "white",
            "gridwidth": 2,
            "linecolor": "white",
            "showbackground": true,
            "ticks": "",
            "zerolinecolor": "white"
           },
           "zaxis": {
            "backgroundcolor": "#E5ECF6",
            "gridcolor": "white",
            "gridwidth": 2,
            "linecolor": "white",
            "showbackground": true,
            "ticks": "",
            "zerolinecolor": "white"
           }
          },
          "shapedefaults": {
           "line": {
            "color": "#2a3f5f"
           }
          },
          "ternary": {
           "aaxis": {
            "gridcolor": "white",
            "linecolor": "white",
            "ticks": ""
           },
           "baxis": {
            "gridcolor": "white",
            "linecolor": "white",
            "ticks": ""
           },
           "bgcolor": "#E5ECF6",
           "caxis": {
            "gridcolor": "white",
            "linecolor": "white",
            "ticks": ""
           }
          },
          "title": {
           "x": 0.05
          },
          "xaxis": {
           "automargin": true,
           "gridcolor": "white",
           "linecolor": "white",
           "ticks": "",
           "title": {
            "standoff": 15
           },
           "zerolinecolor": "white",
           "zerolinewidth": 2
          },
          "yaxis": {
           "automargin": true,
           "gridcolor": "white",
           "linecolor": "white",
           "ticks": "",
           "title": {
            "standoff": 15
           },
           "zerolinecolor": "white",
           "zerolinewidth": 2
          }
         }
        },
        "title": {
         "text": "Units available according to Type"
        },
        "xaxis": {
         "anchor": "y",
         "domain": [
          0,
          1
         ],
         "title": {
          "text": "counts"
         }
        },
        "yaxis": {
         "anchor": "x",
         "domain": [
          0,
          1
         ],
         "title": {
          "text": "Type"
         }
        }
       }
      },
      "text/html": [
       "<div>                            <div id=\"76956474-147f-4ea7-b804-97bfd1bbf878\" class=\"plotly-graph-div\" style=\"height:525px; width:100%;\"></div>            <script type=\"text/javascript\">                require([\"plotly\"], function(Plotly) {                    window.PLOTLYENV=window.PLOTLYENV || {};                                    if (document.getElementById(\"76956474-147f-4ea7-b804-97bfd1bbf878\")) {                    Plotly.newPlot(                        \"76956474-147f-4ea7-b804-97bfd1bbf878\",                        [{\"alignmentgroup\":\"True\",\"hovertemplate\":\"counts=%{x}\\u003cbr\\u003eType=%{y}\\u003cextra\\u003e\\u003c\\u002fextra\\u003e\",\"legendgroup\":\"\",\"marker\":{\"color\":\"rgb(27,158,119)\",\"pattern\":{\"shape\":\"\"}},\"name\":\"\",\"offsetgroup\":\"\",\"orientation\":\"h\",\"showlegend\":false,\"textposition\":\"auto\",\"x\":[61,76,136,165,214,268,1756,2405],\"xaxis\":\"x\",\"y\":[\"Town House\",\"Studio\",\"Twin house\",\"Standalone Villa\",\"Penthouse\",\"Duplex\",\"Chalet\",\"Apartment\"],\"yaxis\":\"y\",\"type\":\"bar\"}],                        {\"template\":{\"data\":{\"histogram2dcontour\":[{\"type\":\"histogram2dcontour\",\"colorbar\":{\"outlinewidth\":0,\"ticks\":\"\"},\"colorscale\":[[0.0,\"#0d0887\"],[0.1111111111111111,\"#46039f\"],[0.2222222222222222,\"#7201a8\"],[0.3333333333333333,\"#9c179e\"],[0.4444444444444444,\"#bd3786\"],[0.5555555555555556,\"#d8576b\"],[0.6666666666666666,\"#ed7953\"],[0.7777777777777778,\"#fb9f3a\"],[0.8888888888888888,\"#fdca26\"],[1.0,\"#f0f921\"]]}],\"choropleth\":[{\"type\":\"choropleth\",\"colorbar\":{\"outlinewidth\":0,\"ticks\":\"\"}}],\"histogram2d\":[{\"type\":\"histogram2d\",\"colorbar\":{\"outlinewidth\":0,\"ticks\":\"\"},\"colorscale\":[[0.0,\"#0d0887\"],[0.1111111111111111,\"#46039f\"],[0.2222222222222222,\"#7201a8\"],[0.3333333333333333,\"#9c179e\"],[0.4444444444444444,\"#bd3786\"],[0.5555555555555556,\"#d8576b\"],[0.6666666666666666,\"#ed7953\"],[0.7777777777777778,\"#fb9f3a\"],[0.8888888888888888,\"#fdca26\"],[1.0,\"#f0f921\"]]}],\"heatmap\":[{\"type\":\"heatmap\",\"colorbar\":{\"outlinewidth\":0,\"ticks\":\"\"},\"colorscale\":[[0.0,\"#0d0887\"],[0.1111111111111111,\"#46039f\"],[0.2222222222222222,\"#7201a8\"],[0.3333333333333333,\"#9c179e\"],[0.4444444444444444,\"#bd3786\"],[0.5555555555555556,\"#d8576b\"],[0.6666666666666666,\"#ed7953\"],[0.7777777777777778,\"#fb9f3a\"],[0.8888888888888888,\"#fdca26\"],[1.0,\"#f0f921\"]]}],\"heatmapgl\":[{\"type\":\"heatmapgl\",\"colorbar\":{\"outlinewidth\":0,\"ticks\":\"\"},\"colorscale\":[[0.0,\"#0d0887\"],[0.1111111111111111,\"#46039f\"],[0.2222222222222222,\"#7201a8\"],[0.3333333333333333,\"#9c179e\"],[0.4444444444444444,\"#bd3786\"],[0.5555555555555556,\"#d8576b\"],[0.6666666666666666,\"#ed7953\"],[0.7777777777777778,\"#fb9f3a\"],[0.8888888888888888,\"#fdca26\"],[1.0,\"#f0f921\"]]}],\"contourcarpet\":[{\"type\":\"contourcarpet\",\"colorbar\":{\"outlinewidth\":0,\"ticks\":\"\"}}],\"contour\":[{\"type\":\"contour\",\"colorbar\":{\"outlinewidth\":0,\"ticks\":\"\"},\"colorscale\":[[0.0,\"#0d0887\"],[0.1111111111111111,\"#46039f\"],[0.2222222222222222,\"#7201a8\"],[0.3333333333333333,\"#9c179e\"],[0.4444444444444444,\"#bd3786\"],[0.5555555555555556,\"#d8576b\"],[0.6666666666666666,\"#ed7953\"],[0.7777777777777778,\"#fb9f3a\"],[0.8888888888888888,\"#fdca26\"],[1.0,\"#f0f921\"]]}],\"surface\":[{\"type\":\"surface\",\"colorbar\":{\"outlinewidth\":0,\"ticks\":\"\"},\"colorscale\":[[0.0,\"#0d0887\"],[0.1111111111111111,\"#46039f\"],[0.2222222222222222,\"#7201a8\"],[0.3333333333333333,\"#9c179e\"],[0.4444444444444444,\"#bd3786\"],[0.5555555555555556,\"#d8576b\"],[0.6666666666666666,\"#ed7953\"],[0.7777777777777778,\"#fb9f3a\"],[0.8888888888888888,\"#fdca26\"],[1.0,\"#f0f921\"]]}],\"mesh3d\":[{\"type\":\"mesh3d\",\"colorbar\":{\"outlinewidth\":0,\"ticks\":\"\"}}],\"scatter\":[{\"fillpattern\":{\"fillmode\":\"overlay\",\"size\":10,\"solidity\":0.2},\"type\":\"scatter\"}],\"parcoords\":[{\"type\":\"parcoords\",\"line\":{\"colorbar\":{\"outlinewidth\":0,\"ticks\":\"\"}}}],\"scatterpolargl\":[{\"type\":\"scatterpolargl\",\"marker\":{\"colorbar\":{\"outlinewidth\":0,\"ticks\":\"\"}}}],\"bar\":[{\"error_x\":{\"color\":\"#2a3f5f\"},\"error_y\":{\"color\":\"#2a3f5f\"},\"marker\":{\"line\":{\"color\":\"#E5ECF6\",\"width\":0.5},\"pattern\":{\"fillmode\":\"overlay\",\"size\":10,\"solidity\":0.2}},\"type\":\"bar\"}],\"scattergeo\":[{\"type\":\"scattergeo\",\"marker\":{\"colorbar\":{\"outlinewidth\":0,\"ticks\":\"\"}}}],\"scatterpolar\":[{\"type\":\"scatterpolar\",\"marker\":{\"colorbar\":{\"outlinewidth\":0,\"ticks\":\"\"}}}],\"histogram\":[{\"marker\":{\"pattern\":{\"fillmode\":\"overlay\",\"size\":10,\"solidity\":0.2}},\"type\":\"histogram\"}],\"scattergl\":[{\"type\":\"scattergl\",\"marker\":{\"colorbar\":{\"outlinewidth\":0,\"ticks\":\"\"}}}],\"scatter3d\":[{\"type\":\"scatter3d\",\"line\":{\"colorbar\":{\"outlinewidth\":0,\"ticks\":\"\"}},\"marker\":{\"colorbar\":{\"outlinewidth\":0,\"ticks\":\"\"}}}],\"scattermapbox\":[{\"type\":\"scattermapbox\",\"marker\":{\"colorbar\":{\"outlinewidth\":0,\"ticks\":\"\"}}}],\"scatterternary\":[{\"type\":\"scatterternary\",\"marker\":{\"colorbar\":{\"outlinewidth\":0,\"ticks\":\"\"}}}],\"scattercarpet\":[{\"type\":\"scattercarpet\",\"marker\":{\"colorbar\":{\"outlinewidth\":0,\"ticks\":\"\"}}}],\"carpet\":[{\"aaxis\":{\"endlinecolor\":\"#2a3f5f\",\"gridcolor\":\"white\",\"linecolor\":\"white\",\"minorgridcolor\":\"white\",\"startlinecolor\":\"#2a3f5f\"},\"baxis\":{\"endlinecolor\":\"#2a3f5f\",\"gridcolor\":\"white\",\"linecolor\":\"white\",\"minorgridcolor\":\"white\",\"startlinecolor\":\"#2a3f5f\"},\"type\":\"carpet\"}],\"table\":[{\"cells\":{\"fill\":{\"color\":\"#EBF0F8\"},\"line\":{\"color\":\"white\"}},\"header\":{\"fill\":{\"color\":\"#C8D4E3\"},\"line\":{\"color\":\"white\"}},\"type\":\"table\"}],\"barpolar\":[{\"marker\":{\"line\":{\"color\":\"#E5ECF6\",\"width\":0.5},\"pattern\":{\"fillmode\":\"overlay\",\"size\":10,\"solidity\":0.2}},\"type\":\"barpolar\"}],\"pie\":[{\"automargin\":true,\"type\":\"pie\"}]},\"layout\":{\"autotypenumbers\":\"strict\",\"colorway\":[\"#636efa\",\"#EF553B\",\"#00cc96\",\"#ab63fa\",\"#FFA15A\",\"#19d3f3\",\"#FF6692\",\"#B6E880\",\"#FF97FF\",\"#FECB52\"],\"font\":{\"color\":\"#2a3f5f\"},\"hovermode\":\"closest\",\"hoverlabel\":{\"align\":\"left\"},\"paper_bgcolor\":\"white\",\"plot_bgcolor\":\"#E5ECF6\",\"polar\":{\"bgcolor\":\"#E5ECF6\",\"angularaxis\":{\"gridcolor\":\"white\",\"linecolor\":\"white\",\"ticks\":\"\"},\"radialaxis\":{\"gridcolor\":\"white\",\"linecolor\":\"white\",\"ticks\":\"\"}},\"ternary\":{\"bgcolor\":\"#E5ECF6\",\"aaxis\":{\"gridcolor\":\"white\",\"linecolor\":\"white\",\"ticks\":\"\"},\"baxis\":{\"gridcolor\":\"white\",\"linecolor\":\"white\",\"ticks\":\"\"},\"caxis\":{\"gridcolor\":\"white\",\"linecolor\":\"white\",\"ticks\":\"\"}},\"coloraxis\":{\"colorbar\":{\"outlinewidth\":0,\"ticks\":\"\"}},\"colorscale\":{\"sequential\":[[0.0,\"#0d0887\"],[0.1111111111111111,\"#46039f\"],[0.2222222222222222,\"#7201a8\"],[0.3333333333333333,\"#9c179e\"],[0.4444444444444444,\"#bd3786\"],[0.5555555555555556,\"#d8576b\"],[0.6666666666666666,\"#ed7953\"],[0.7777777777777778,\"#fb9f3a\"],[0.8888888888888888,\"#fdca26\"],[1.0,\"#f0f921\"]],\"sequentialminus\":[[0.0,\"#0d0887\"],[0.1111111111111111,\"#46039f\"],[0.2222222222222222,\"#7201a8\"],[0.3333333333333333,\"#9c179e\"],[0.4444444444444444,\"#bd3786\"],[0.5555555555555556,\"#d8576b\"],[0.6666666666666666,\"#ed7953\"],[0.7777777777777778,\"#fb9f3a\"],[0.8888888888888888,\"#fdca26\"],[1.0,\"#f0f921\"]],\"diverging\":[[0,\"#8e0152\"],[0.1,\"#c51b7d\"],[0.2,\"#de77ae\"],[0.3,\"#f1b6da\"],[0.4,\"#fde0ef\"],[0.5,\"#f7f7f7\"],[0.6,\"#e6f5d0\"],[0.7,\"#b8e186\"],[0.8,\"#7fbc41\"],[0.9,\"#4d9221\"],[1,\"#276419\"]]},\"xaxis\":{\"gridcolor\":\"white\",\"linecolor\":\"white\",\"ticks\":\"\",\"title\":{\"standoff\":15},\"zerolinecolor\":\"white\",\"automargin\":true,\"zerolinewidth\":2},\"yaxis\":{\"gridcolor\":\"white\",\"linecolor\":\"white\",\"ticks\":\"\",\"title\":{\"standoff\":15},\"zerolinecolor\":\"white\",\"automargin\":true,\"zerolinewidth\":2},\"scene\":{\"xaxis\":{\"backgroundcolor\":\"#E5ECF6\",\"gridcolor\":\"white\",\"linecolor\":\"white\",\"showbackground\":true,\"ticks\":\"\",\"zerolinecolor\":\"white\",\"gridwidth\":2},\"yaxis\":{\"backgroundcolor\":\"#E5ECF6\",\"gridcolor\":\"white\",\"linecolor\":\"white\",\"showbackground\":true,\"ticks\":\"\",\"zerolinecolor\":\"white\",\"gridwidth\":2},\"zaxis\":{\"backgroundcolor\":\"#E5ECF6\",\"gridcolor\":\"white\",\"linecolor\":\"white\",\"showbackground\":true,\"ticks\":\"\",\"zerolinecolor\":\"white\",\"gridwidth\":2}},\"shapedefaults\":{\"line\":{\"color\":\"#2a3f5f\"}},\"annotationdefaults\":{\"arrowcolor\":\"#2a3f5f\",\"arrowhead\":0,\"arrowwidth\":1},\"geo\":{\"bgcolor\":\"white\",\"landcolor\":\"#E5ECF6\",\"subunitcolor\":\"white\",\"showland\":true,\"showlakes\":true,\"lakecolor\":\"white\"},\"title\":{\"x\":0.05},\"mapbox\":{\"style\":\"light\"}}},\"xaxis\":{\"anchor\":\"y\",\"domain\":[0.0,1.0],\"title\":{\"text\":\"counts\"}},\"yaxis\":{\"anchor\":\"x\",\"domain\":[0.0,1.0],\"title\":{\"text\":\"Type\"}},\"legend\":{\"tracegroupgap\":0},\"title\":{\"text\":\"Units available according to Type\"},\"barmode\":\"relative\"},                        {\"responsive\": true}                    ).then(function(){\n",
       "                            \n",
       "var gd = document.getElementById('76956474-147f-4ea7-b804-97bfd1bbf878');\n",
       "var x = new MutationObserver(function (mutations, observer) {{\n",
       "        var display = window.getComputedStyle(gd).display;\n",
       "        if (!display || display === 'none') {{\n",
       "            console.log([gd, 'removed!']);\n",
       "            Plotly.purge(gd);\n",
       "            observer.disconnect();\n",
       "        }}\n",
       "}});\n",
       "\n",
       "// Listen for the removal of the full notebook cells\n",
       "var notebookContainer = gd.closest('#notebook-container');\n",
       "if (notebookContainer) {{\n",
       "    x.observe(notebookContainer, {childList: true});\n",
       "}}\n",
       "\n",
       "// Listen for the clearing of the current output cell\n",
       "var outputEl = gd.closest('.output');\n",
       "if (outputEl) {{\n",
       "    x.observe(outputEl, {childList: true});\n",
       "}}\n",
       "\n",
       "                        })                };                });            </script>        </div>"
      ]
     },
     "metadata": {},
     "output_type": "display_data"
    }
   ],
   "source": [
    "types = df.groupby(\"Type\").size().sort_values(ascending =True).reset_index(name='counts')\n",
    "\n",
    "px.bar(x=\"counts\",y=\"Type\",data_frame=types,color_discrete_sequence=px.colors.qualitative.Dark2,title = \"Units available according to Type\")"
   ]
  },
  {
   "cell_type": "code",
   "execution_count": 152,
   "metadata": {},
   "outputs": [
    {
     "data": {
      "application/vnd.plotly.v1+json": {
       "config": {
        "plotlyServerURL": "https://plot.ly"
       },
       "data": [
        {
         "domain": {
          "x": [
           0,
           1
          ],
          "y": [
           0,
           1
          ]
         },
         "hovertemplate": "Delivery_Term=%{label}<br>counts=%{value}<extra></extra>",
         "labels": [
          "Core & Shell",
          "Not Finished",
          "Semi Finished",
          "Finished"
         ],
         "legendgroup": "",
         "name": "",
         "showlegend": true,
         "type": "pie",
         "values": [
          235,
          265,
          1024,
          3557
         ]
        }
       ],
       "layout": {
        "legend": {
         "tracegroupgap": 0
        },
        "margin": {
         "t": 60
        },
        "piecolorway": [
         "rgb(8,64,129)",
         "rgb(8,104,172)",
         "rgb(43,140,190)",
         "rgb(78,179,211)",
         "rgb(123,204,196)",
         "rgb(168,221,181)",
         "rgb(204,235,197)",
         "rgb(224,243,219)",
         "rgb(247,252,240)"
        ],
        "template": {
         "data": {
          "bar": [
           {
            "error_x": {
             "color": "#2a3f5f"
            },
            "error_y": {
             "color": "#2a3f5f"
            },
            "marker": {
             "line": {
              "color": "#E5ECF6",
              "width": 0.5
             },
             "pattern": {
              "fillmode": "overlay",
              "size": 10,
              "solidity": 0.2
             }
            },
            "type": "bar"
           }
          ],
          "barpolar": [
           {
            "marker": {
             "line": {
              "color": "#E5ECF6",
              "width": 0.5
             },
             "pattern": {
              "fillmode": "overlay",
              "size": 10,
              "solidity": 0.2
             }
            },
            "type": "barpolar"
           }
          ],
          "carpet": [
           {
            "aaxis": {
             "endlinecolor": "#2a3f5f",
             "gridcolor": "white",
             "linecolor": "white",
             "minorgridcolor": "white",
             "startlinecolor": "#2a3f5f"
            },
            "baxis": {
             "endlinecolor": "#2a3f5f",
             "gridcolor": "white",
             "linecolor": "white",
             "minorgridcolor": "white",
             "startlinecolor": "#2a3f5f"
            },
            "type": "carpet"
           }
          ],
          "choropleth": [
           {
            "colorbar": {
             "outlinewidth": 0,
             "ticks": ""
            },
            "type": "choropleth"
           }
          ],
          "contour": [
           {
            "colorbar": {
             "outlinewidth": 0,
             "ticks": ""
            },
            "colorscale": [
             [
              0,
              "#0d0887"
             ],
             [
              0.1111111111111111,
              "#46039f"
             ],
             [
              0.2222222222222222,
              "#7201a8"
             ],
             [
              0.3333333333333333,
              "#9c179e"
             ],
             [
              0.4444444444444444,
              "#bd3786"
             ],
             [
              0.5555555555555556,
              "#d8576b"
             ],
             [
              0.6666666666666666,
              "#ed7953"
             ],
             [
              0.7777777777777778,
              "#fb9f3a"
             ],
             [
              0.8888888888888888,
              "#fdca26"
             ],
             [
              1,
              "#f0f921"
             ]
            ],
            "type": "contour"
           }
          ],
          "contourcarpet": [
           {
            "colorbar": {
             "outlinewidth": 0,
             "ticks": ""
            },
            "type": "contourcarpet"
           }
          ],
          "heatmap": [
           {
            "colorbar": {
             "outlinewidth": 0,
             "ticks": ""
            },
            "colorscale": [
             [
              0,
              "#0d0887"
             ],
             [
              0.1111111111111111,
              "#46039f"
             ],
             [
              0.2222222222222222,
              "#7201a8"
             ],
             [
              0.3333333333333333,
              "#9c179e"
             ],
             [
              0.4444444444444444,
              "#bd3786"
             ],
             [
              0.5555555555555556,
              "#d8576b"
             ],
             [
              0.6666666666666666,
              "#ed7953"
             ],
             [
              0.7777777777777778,
              "#fb9f3a"
             ],
             [
              0.8888888888888888,
              "#fdca26"
             ],
             [
              1,
              "#f0f921"
             ]
            ],
            "type": "heatmap"
           }
          ],
          "heatmapgl": [
           {
            "colorbar": {
             "outlinewidth": 0,
             "ticks": ""
            },
            "colorscale": [
             [
              0,
              "#0d0887"
             ],
             [
              0.1111111111111111,
              "#46039f"
             ],
             [
              0.2222222222222222,
              "#7201a8"
             ],
             [
              0.3333333333333333,
              "#9c179e"
             ],
             [
              0.4444444444444444,
              "#bd3786"
             ],
             [
              0.5555555555555556,
              "#d8576b"
             ],
             [
              0.6666666666666666,
              "#ed7953"
             ],
             [
              0.7777777777777778,
              "#fb9f3a"
             ],
             [
              0.8888888888888888,
              "#fdca26"
             ],
             [
              1,
              "#f0f921"
             ]
            ],
            "type": "heatmapgl"
           }
          ],
          "histogram": [
           {
            "marker": {
             "pattern": {
              "fillmode": "overlay",
              "size": 10,
              "solidity": 0.2
             }
            },
            "type": "histogram"
           }
          ],
          "histogram2d": [
           {
            "colorbar": {
             "outlinewidth": 0,
             "ticks": ""
            },
            "colorscale": [
             [
              0,
              "#0d0887"
             ],
             [
              0.1111111111111111,
              "#46039f"
             ],
             [
              0.2222222222222222,
              "#7201a8"
             ],
             [
              0.3333333333333333,
              "#9c179e"
             ],
             [
              0.4444444444444444,
              "#bd3786"
             ],
             [
              0.5555555555555556,
              "#d8576b"
             ],
             [
              0.6666666666666666,
              "#ed7953"
             ],
             [
              0.7777777777777778,
              "#fb9f3a"
             ],
             [
              0.8888888888888888,
              "#fdca26"
             ],
             [
              1,
              "#f0f921"
             ]
            ],
            "type": "histogram2d"
           }
          ],
          "histogram2dcontour": [
           {
            "colorbar": {
             "outlinewidth": 0,
             "ticks": ""
            },
            "colorscale": [
             [
              0,
              "#0d0887"
             ],
             [
              0.1111111111111111,
              "#46039f"
             ],
             [
              0.2222222222222222,
              "#7201a8"
             ],
             [
              0.3333333333333333,
              "#9c179e"
             ],
             [
              0.4444444444444444,
              "#bd3786"
             ],
             [
              0.5555555555555556,
              "#d8576b"
             ],
             [
              0.6666666666666666,
              "#ed7953"
             ],
             [
              0.7777777777777778,
              "#fb9f3a"
             ],
             [
              0.8888888888888888,
              "#fdca26"
             ],
             [
              1,
              "#f0f921"
             ]
            ],
            "type": "histogram2dcontour"
           }
          ],
          "mesh3d": [
           {
            "colorbar": {
             "outlinewidth": 0,
             "ticks": ""
            },
            "type": "mesh3d"
           }
          ],
          "parcoords": [
           {
            "line": {
             "colorbar": {
              "outlinewidth": 0,
              "ticks": ""
             }
            },
            "type": "parcoords"
           }
          ],
          "pie": [
           {
            "automargin": true,
            "type": "pie"
           }
          ],
          "scatter": [
           {
            "fillpattern": {
             "fillmode": "overlay",
             "size": 10,
             "solidity": 0.2
            },
            "type": "scatter"
           }
          ],
          "scatter3d": [
           {
            "line": {
             "colorbar": {
              "outlinewidth": 0,
              "ticks": ""
             }
            },
            "marker": {
             "colorbar": {
              "outlinewidth": 0,
              "ticks": ""
             }
            },
            "type": "scatter3d"
           }
          ],
          "scattercarpet": [
           {
            "marker": {
             "colorbar": {
              "outlinewidth": 0,
              "ticks": ""
             }
            },
            "type": "scattercarpet"
           }
          ],
          "scattergeo": [
           {
            "marker": {
             "colorbar": {
              "outlinewidth": 0,
              "ticks": ""
             }
            },
            "type": "scattergeo"
           }
          ],
          "scattergl": [
           {
            "marker": {
             "colorbar": {
              "outlinewidth": 0,
              "ticks": ""
             }
            },
            "type": "scattergl"
           }
          ],
          "scattermapbox": [
           {
            "marker": {
             "colorbar": {
              "outlinewidth": 0,
              "ticks": ""
             }
            },
            "type": "scattermapbox"
           }
          ],
          "scatterpolar": [
           {
            "marker": {
             "colorbar": {
              "outlinewidth": 0,
              "ticks": ""
             }
            },
            "type": "scatterpolar"
           }
          ],
          "scatterpolargl": [
           {
            "marker": {
             "colorbar": {
              "outlinewidth": 0,
              "ticks": ""
             }
            },
            "type": "scatterpolargl"
           }
          ],
          "scatterternary": [
           {
            "marker": {
             "colorbar": {
              "outlinewidth": 0,
              "ticks": ""
             }
            },
            "type": "scatterternary"
           }
          ],
          "surface": [
           {
            "colorbar": {
             "outlinewidth": 0,
             "ticks": ""
            },
            "colorscale": [
             [
              0,
              "#0d0887"
             ],
             [
              0.1111111111111111,
              "#46039f"
             ],
             [
              0.2222222222222222,
              "#7201a8"
             ],
             [
              0.3333333333333333,
              "#9c179e"
             ],
             [
              0.4444444444444444,
              "#bd3786"
             ],
             [
              0.5555555555555556,
              "#d8576b"
             ],
             [
              0.6666666666666666,
              "#ed7953"
             ],
             [
              0.7777777777777778,
              "#fb9f3a"
             ],
             [
              0.8888888888888888,
              "#fdca26"
             ],
             [
              1,
              "#f0f921"
             ]
            ],
            "type": "surface"
           }
          ],
          "table": [
           {
            "cells": {
             "fill": {
              "color": "#EBF0F8"
             },
             "line": {
              "color": "white"
             }
            },
            "header": {
             "fill": {
              "color": "#C8D4E3"
             },
             "line": {
              "color": "white"
             }
            },
            "type": "table"
           }
          ]
         },
         "layout": {
          "annotationdefaults": {
           "arrowcolor": "#2a3f5f",
           "arrowhead": 0,
           "arrowwidth": 1
          },
          "autotypenumbers": "strict",
          "coloraxis": {
           "colorbar": {
            "outlinewidth": 0,
            "ticks": ""
           }
          },
          "colorscale": {
           "diverging": [
            [
             0,
             "#8e0152"
            ],
            [
             0.1,
             "#c51b7d"
            ],
            [
             0.2,
             "#de77ae"
            ],
            [
             0.3,
             "#f1b6da"
            ],
            [
             0.4,
             "#fde0ef"
            ],
            [
             0.5,
             "#f7f7f7"
            ],
            [
             0.6,
             "#e6f5d0"
            ],
            [
             0.7,
             "#b8e186"
            ],
            [
             0.8,
             "#7fbc41"
            ],
            [
             0.9,
             "#4d9221"
            ],
            [
             1,
             "#276419"
            ]
           ],
           "sequential": [
            [
             0,
             "#0d0887"
            ],
            [
             0.1111111111111111,
             "#46039f"
            ],
            [
             0.2222222222222222,
             "#7201a8"
            ],
            [
             0.3333333333333333,
             "#9c179e"
            ],
            [
             0.4444444444444444,
             "#bd3786"
            ],
            [
             0.5555555555555556,
             "#d8576b"
            ],
            [
             0.6666666666666666,
             "#ed7953"
            ],
            [
             0.7777777777777778,
             "#fb9f3a"
            ],
            [
             0.8888888888888888,
             "#fdca26"
            ],
            [
             1,
             "#f0f921"
            ]
           ],
           "sequentialminus": [
            [
             0,
             "#0d0887"
            ],
            [
             0.1111111111111111,
             "#46039f"
            ],
            [
             0.2222222222222222,
             "#7201a8"
            ],
            [
             0.3333333333333333,
             "#9c179e"
            ],
            [
             0.4444444444444444,
             "#bd3786"
            ],
            [
             0.5555555555555556,
             "#d8576b"
            ],
            [
             0.6666666666666666,
             "#ed7953"
            ],
            [
             0.7777777777777778,
             "#fb9f3a"
            ],
            [
             0.8888888888888888,
             "#fdca26"
            ],
            [
             1,
             "#f0f921"
            ]
           ]
          },
          "colorway": [
           "#636efa",
           "#EF553B",
           "#00cc96",
           "#ab63fa",
           "#FFA15A",
           "#19d3f3",
           "#FF6692",
           "#B6E880",
           "#FF97FF",
           "#FECB52"
          ],
          "font": {
           "color": "#2a3f5f"
          },
          "geo": {
           "bgcolor": "white",
           "lakecolor": "white",
           "landcolor": "#E5ECF6",
           "showlakes": true,
           "showland": true,
           "subunitcolor": "white"
          },
          "hoverlabel": {
           "align": "left"
          },
          "hovermode": "closest",
          "mapbox": {
           "style": "light"
          },
          "paper_bgcolor": "white",
          "plot_bgcolor": "#E5ECF6",
          "polar": {
           "angularaxis": {
            "gridcolor": "white",
            "linecolor": "white",
            "ticks": ""
           },
           "bgcolor": "#E5ECF6",
           "radialaxis": {
            "gridcolor": "white",
            "linecolor": "white",
            "ticks": ""
           }
          },
          "scene": {
           "xaxis": {
            "backgroundcolor": "#E5ECF6",
            "gridcolor": "white",
            "gridwidth": 2,
            "linecolor": "white",
            "showbackground": true,
            "ticks": "",
            "zerolinecolor": "white"
           },
           "yaxis": {
            "backgroundcolor": "#E5ECF6",
            "gridcolor": "white",
            "gridwidth": 2,
            "linecolor": "white",
            "showbackground": true,
            "ticks": "",
            "zerolinecolor": "white"
           },
           "zaxis": {
            "backgroundcolor": "#E5ECF6",
            "gridcolor": "white",
            "gridwidth": 2,
            "linecolor": "white",
            "showbackground": true,
            "ticks": "",
            "zerolinecolor": "white"
           }
          },
          "shapedefaults": {
           "line": {
            "color": "#2a3f5f"
           }
          },
          "ternary": {
           "aaxis": {
            "gridcolor": "white",
            "linecolor": "white",
            "ticks": ""
           },
           "baxis": {
            "gridcolor": "white",
            "linecolor": "white",
            "ticks": ""
           },
           "bgcolor": "#E5ECF6",
           "caxis": {
            "gridcolor": "white",
            "linecolor": "white",
            "ticks": ""
           }
          },
          "title": {
           "x": 0.05
          },
          "xaxis": {
           "automargin": true,
           "gridcolor": "white",
           "linecolor": "white",
           "ticks": "",
           "title": {
            "standoff": 15
           },
           "zerolinecolor": "white",
           "zerolinewidth": 2
          },
          "yaxis": {
           "automargin": true,
           "gridcolor": "white",
           "linecolor": "white",
           "ticks": "",
           "title": {
            "standoff": 15
           },
           "zerolinecolor": "white",
           "zerolinewidth": 2
          }
         }
        }
       }
      },
      "text/html": [
       "<div>                            <div id=\"01f9e374-341c-43e1-a41f-ecc71096f3e5\" class=\"plotly-graph-div\" style=\"height:525px; width:100%;\"></div>            <script type=\"text/javascript\">                require([\"plotly\"], function(Plotly) {                    window.PLOTLYENV=window.PLOTLYENV || {};                                    if (document.getElementById(\"01f9e374-341c-43e1-a41f-ecc71096f3e5\")) {                    Plotly.newPlot(                        \"01f9e374-341c-43e1-a41f-ecc71096f3e5\",                        [{\"domain\":{\"x\":[0.0,1.0],\"y\":[0.0,1.0]},\"hovertemplate\":\"Delivery_Term=%{label}\\u003cbr\\u003ecounts=%{value}\\u003cextra\\u003e\\u003c\\u002fextra\\u003e\",\"labels\":[\"Core & Shell\",\"Not Finished\",\"Semi Finished\",\"Finished\"],\"legendgroup\":\"\",\"name\":\"\",\"showlegend\":true,\"values\":[235,265,1024,3557],\"type\":\"pie\"}],                        {\"template\":{\"data\":{\"histogram2dcontour\":[{\"type\":\"histogram2dcontour\",\"colorbar\":{\"outlinewidth\":0,\"ticks\":\"\"},\"colorscale\":[[0.0,\"#0d0887\"],[0.1111111111111111,\"#46039f\"],[0.2222222222222222,\"#7201a8\"],[0.3333333333333333,\"#9c179e\"],[0.4444444444444444,\"#bd3786\"],[0.5555555555555556,\"#d8576b\"],[0.6666666666666666,\"#ed7953\"],[0.7777777777777778,\"#fb9f3a\"],[0.8888888888888888,\"#fdca26\"],[1.0,\"#f0f921\"]]}],\"choropleth\":[{\"type\":\"choropleth\",\"colorbar\":{\"outlinewidth\":0,\"ticks\":\"\"}}],\"histogram2d\":[{\"type\":\"histogram2d\",\"colorbar\":{\"outlinewidth\":0,\"ticks\":\"\"},\"colorscale\":[[0.0,\"#0d0887\"],[0.1111111111111111,\"#46039f\"],[0.2222222222222222,\"#7201a8\"],[0.3333333333333333,\"#9c179e\"],[0.4444444444444444,\"#bd3786\"],[0.5555555555555556,\"#d8576b\"],[0.6666666666666666,\"#ed7953\"],[0.7777777777777778,\"#fb9f3a\"],[0.8888888888888888,\"#fdca26\"],[1.0,\"#f0f921\"]]}],\"heatmap\":[{\"type\":\"heatmap\",\"colorbar\":{\"outlinewidth\":0,\"ticks\":\"\"},\"colorscale\":[[0.0,\"#0d0887\"],[0.1111111111111111,\"#46039f\"],[0.2222222222222222,\"#7201a8\"],[0.3333333333333333,\"#9c179e\"],[0.4444444444444444,\"#bd3786\"],[0.5555555555555556,\"#d8576b\"],[0.6666666666666666,\"#ed7953\"],[0.7777777777777778,\"#fb9f3a\"],[0.8888888888888888,\"#fdca26\"],[1.0,\"#f0f921\"]]}],\"heatmapgl\":[{\"type\":\"heatmapgl\",\"colorbar\":{\"outlinewidth\":0,\"ticks\":\"\"},\"colorscale\":[[0.0,\"#0d0887\"],[0.1111111111111111,\"#46039f\"],[0.2222222222222222,\"#7201a8\"],[0.3333333333333333,\"#9c179e\"],[0.4444444444444444,\"#bd3786\"],[0.5555555555555556,\"#d8576b\"],[0.6666666666666666,\"#ed7953\"],[0.7777777777777778,\"#fb9f3a\"],[0.8888888888888888,\"#fdca26\"],[1.0,\"#f0f921\"]]}],\"contourcarpet\":[{\"type\":\"contourcarpet\",\"colorbar\":{\"outlinewidth\":0,\"ticks\":\"\"}}],\"contour\":[{\"type\":\"contour\",\"colorbar\":{\"outlinewidth\":0,\"ticks\":\"\"},\"colorscale\":[[0.0,\"#0d0887\"],[0.1111111111111111,\"#46039f\"],[0.2222222222222222,\"#7201a8\"],[0.3333333333333333,\"#9c179e\"],[0.4444444444444444,\"#bd3786\"],[0.5555555555555556,\"#d8576b\"],[0.6666666666666666,\"#ed7953\"],[0.7777777777777778,\"#fb9f3a\"],[0.8888888888888888,\"#fdca26\"],[1.0,\"#f0f921\"]]}],\"surface\":[{\"type\":\"surface\",\"colorbar\":{\"outlinewidth\":0,\"ticks\":\"\"},\"colorscale\":[[0.0,\"#0d0887\"],[0.1111111111111111,\"#46039f\"],[0.2222222222222222,\"#7201a8\"],[0.3333333333333333,\"#9c179e\"],[0.4444444444444444,\"#bd3786\"],[0.5555555555555556,\"#d8576b\"],[0.6666666666666666,\"#ed7953\"],[0.7777777777777778,\"#fb9f3a\"],[0.8888888888888888,\"#fdca26\"],[1.0,\"#f0f921\"]]}],\"mesh3d\":[{\"type\":\"mesh3d\",\"colorbar\":{\"outlinewidth\":0,\"ticks\":\"\"}}],\"scatter\":[{\"fillpattern\":{\"fillmode\":\"overlay\",\"size\":10,\"solidity\":0.2},\"type\":\"scatter\"}],\"parcoords\":[{\"type\":\"parcoords\",\"line\":{\"colorbar\":{\"outlinewidth\":0,\"ticks\":\"\"}}}],\"scatterpolargl\":[{\"type\":\"scatterpolargl\",\"marker\":{\"colorbar\":{\"outlinewidth\":0,\"ticks\":\"\"}}}],\"bar\":[{\"error_x\":{\"color\":\"#2a3f5f\"},\"error_y\":{\"color\":\"#2a3f5f\"},\"marker\":{\"line\":{\"color\":\"#E5ECF6\",\"width\":0.5},\"pattern\":{\"fillmode\":\"overlay\",\"size\":10,\"solidity\":0.2}},\"type\":\"bar\"}],\"scattergeo\":[{\"type\":\"scattergeo\",\"marker\":{\"colorbar\":{\"outlinewidth\":0,\"ticks\":\"\"}}}],\"scatterpolar\":[{\"type\":\"scatterpolar\",\"marker\":{\"colorbar\":{\"outlinewidth\":0,\"ticks\":\"\"}}}],\"histogram\":[{\"marker\":{\"pattern\":{\"fillmode\":\"overlay\",\"size\":10,\"solidity\":0.2}},\"type\":\"histogram\"}],\"scattergl\":[{\"type\":\"scattergl\",\"marker\":{\"colorbar\":{\"outlinewidth\":0,\"ticks\":\"\"}}}],\"scatter3d\":[{\"type\":\"scatter3d\",\"line\":{\"colorbar\":{\"outlinewidth\":0,\"ticks\":\"\"}},\"marker\":{\"colorbar\":{\"outlinewidth\":0,\"ticks\":\"\"}}}],\"scattermapbox\":[{\"type\":\"scattermapbox\",\"marker\":{\"colorbar\":{\"outlinewidth\":0,\"ticks\":\"\"}}}],\"scatterternary\":[{\"type\":\"scatterternary\",\"marker\":{\"colorbar\":{\"outlinewidth\":0,\"ticks\":\"\"}}}],\"scattercarpet\":[{\"type\":\"scattercarpet\",\"marker\":{\"colorbar\":{\"outlinewidth\":0,\"ticks\":\"\"}}}],\"carpet\":[{\"aaxis\":{\"endlinecolor\":\"#2a3f5f\",\"gridcolor\":\"white\",\"linecolor\":\"white\",\"minorgridcolor\":\"white\",\"startlinecolor\":\"#2a3f5f\"},\"baxis\":{\"endlinecolor\":\"#2a3f5f\",\"gridcolor\":\"white\",\"linecolor\":\"white\",\"minorgridcolor\":\"white\",\"startlinecolor\":\"#2a3f5f\"},\"type\":\"carpet\"}],\"table\":[{\"cells\":{\"fill\":{\"color\":\"#EBF0F8\"},\"line\":{\"color\":\"white\"}},\"header\":{\"fill\":{\"color\":\"#C8D4E3\"},\"line\":{\"color\":\"white\"}},\"type\":\"table\"}],\"barpolar\":[{\"marker\":{\"line\":{\"color\":\"#E5ECF6\",\"width\":0.5},\"pattern\":{\"fillmode\":\"overlay\",\"size\":10,\"solidity\":0.2}},\"type\":\"barpolar\"}],\"pie\":[{\"automargin\":true,\"type\":\"pie\"}]},\"layout\":{\"autotypenumbers\":\"strict\",\"colorway\":[\"#636efa\",\"#EF553B\",\"#00cc96\",\"#ab63fa\",\"#FFA15A\",\"#19d3f3\",\"#FF6692\",\"#B6E880\",\"#FF97FF\",\"#FECB52\"],\"font\":{\"color\":\"#2a3f5f\"},\"hovermode\":\"closest\",\"hoverlabel\":{\"align\":\"left\"},\"paper_bgcolor\":\"white\",\"plot_bgcolor\":\"#E5ECF6\",\"polar\":{\"bgcolor\":\"#E5ECF6\",\"angularaxis\":{\"gridcolor\":\"white\",\"linecolor\":\"white\",\"ticks\":\"\"},\"radialaxis\":{\"gridcolor\":\"white\",\"linecolor\":\"white\",\"ticks\":\"\"}},\"ternary\":{\"bgcolor\":\"#E5ECF6\",\"aaxis\":{\"gridcolor\":\"white\",\"linecolor\":\"white\",\"ticks\":\"\"},\"baxis\":{\"gridcolor\":\"white\",\"linecolor\":\"white\",\"ticks\":\"\"},\"caxis\":{\"gridcolor\":\"white\",\"linecolor\":\"white\",\"ticks\":\"\"}},\"coloraxis\":{\"colorbar\":{\"outlinewidth\":0,\"ticks\":\"\"}},\"colorscale\":{\"sequential\":[[0.0,\"#0d0887\"],[0.1111111111111111,\"#46039f\"],[0.2222222222222222,\"#7201a8\"],[0.3333333333333333,\"#9c179e\"],[0.4444444444444444,\"#bd3786\"],[0.5555555555555556,\"#d8576b\"],[0.6666666666666666,\"#ed7953\"],[0.7777777777777778,\"#fb9f3a\"],[0.8888888888888888,\"#fdca26\"],[1.0,\"#f0f921\"]],\"sequentialminus\":[[0.0,\"#0d0887\"],[0.1111111111111111,\"#46039f\"],[0.2222222222222222,\"#7201a8\"],[0.3333333333333333,\"#9c179e\"],[0.4444444444444444,\"#bd3786\"],[0.5555555555555556,\"#d8576b\"],[0.6666666666666666,\"#ed7953\"],[0.7777777777777778,\"#fb9f3a\"],[0.8888888888888888,\"#fdca26\"],[1.0,\"#f0f921\"]],\"diverging\":[[0,\"#8e0152\"],[0.1,\"#c51b7d\"],[0.2,\"#de77ae\"],[0.3,\"#f1b6da\"],[0.4,\"#fde0ef\"],[0.5,\"#f7f7f7\"],[0.6,\"#e6f5d0\"],[0.7,\"#b8e186\"],[0.8,\"#7fbc41\"],[0.9,\"#4d9221\"],[1,\"#276419\"]]},\"xaxis\":{\"gridcolor\":\"white\",\"linecolor\":\"white\",\"ticks\":\"\",\"title\":{\"standoff\":15},\"zerolinecolor\":\"white\",\"automargin\":true,\"zerolinewidth\":2},\"yaxis\":{\"gridcolor\":\"white\",\"linecolor\":\"white\",\"ticks\":\"\",\"title\":{\"standoff\":15},\"zerolinecolor\":\"white\",\"automargin\":true,\"zerolinewidth\":2},\"scene\":{\"xaxis\":{\"backgroundcolor\":\"#E5ECF6\",\"gridcolor\":\"white\",\"linecolor\":\"white\",\"showbackground\":true,\"ticks\":\"\",\"zerolinecolor\":\"white\",\"gridwidth\":2},\"yaxis\":{\"backgroundcolor\":\"#E5ECF6\",\"gridcolor\":\"white\",\"linecolor\":\"white\",\"showbackground\":true,\"ticks\":\"\",\"zerolinecolor\":\"white\",\"gridwidth\":2},\"zaxis\":{\"backgroundcolor\":\"#E5ECF6\",\"gridcolor\":\"white\",\"linecolor\":\"white\",\"showbackground\":true,\"ticks\":\"\",\"zerolinecolor\":\"white\",\"gridwidth\":2}},\"shapedefaults\":{\"line\":{\"color\":\"#2a3f5f\"}},\"annotationdefaults\":{\"arrowcolor\":\"#2a3f5f\",\"arrowhead\":0,\"arrowwidth\":1},\"geo\":{\"bgcolor\":\"white\",\"landcolor\":\"#E5ECF6\",\"subunitcolor\":\"white\",\"showland\":true,\"showlakes\":true,\"lakecolor\":\"white\"},\"title\":{\"x\":0.05},\"mapbox\":{\"style\":\"light\"}}},\"legend\":{\"tracegroupgap\":0},\"margin\":{\"t\":60},\"piecolorway\":[\"rgb(8,64,129)\",\"rgb(8,104,172)\",\"rgb(43,140,190)\",\"rgb(78,179,211)\",\"rgb(123,204,196)\",\"rgb(168,221,181)\",\"rgb(204,235,197)\",\"rgb(224,243,219)\",\"rgb(247,252,240)\"]},                        {\"responsive\": true}                    ).then(function(){\n",
       "                            \n",
       "var gd = document.getElementById('01f9e374-341c-43e1-a41f-ecc71096f3e5');\n",
       "var x = new MutationObserver(function (mutations, observer) {{\n",
       "        var display = window.getComputedStyle(gd).display;\n",
       "        if (!display || display === 'none') {{\n",
       "            console.log([gd, 'removed!']);\n",
       "            Plotly.purge(gd);\n",
       "            observer.disconnect();\n",
       "        }}\n",
       "}});\n",
       "\n",
       "// Listen for the removal of the full notebook cells\n",
       "var notebookContainer = gd.closest('#notebook-container');\n",
       "if (notebookContainer) {{\n",
       "    x.observe(notebookContainer, {childList: true});\n",
       "}}\n",
       "\n",
       "// Listen for the clearing of the current output cell\n",
       "var outputEl = gd.closest('.output');\n",
       "if (outputEl) {{\n",
       "    x.observe(outputEl, {childList: true});\n",
       "}}\n",
       "\n",
       "                        })                };                });            </script>        </div>"
      ]
     },
     "metadata": {},
     "output_type": "display_data"
    }
   ],
   "source": [
    "Delivery_Term = df.groupby(\"Delivery_Term\").size().sort_values(ascending =True).reset_index(name='counts')\n",
    "px.pie(data_frame = Delivery_Term ,names= \"Delivery_Term\",values =\"counts\",color_discrete_sequence = px.colors.sequential.GnBu_r)"
   ]
  },
  {
   "cell_type": "code",
   "execution_count": 153,
   "metadata": {},
   "outputs": [
    {
     "data": {
      "application/vnd.plotly.v1+json": {
       "config": {
        "plotlyServerURL": "https://plot.ly"
       },
       "data": [
        {
         "alignmentgroup": "True",
         "hovertemplate": "Type=Twin house<br>counts=%{x}<br>Delivery_Term=%{y}<extra></extra>",
         "legendgroup": "Twin house",
         "marker": {
          "color": "rgb(127, 60, 141)",
          "pattern": {
           "shape": ""
          }
         },
         "name": "Twin house",
         "offsetgroup": "Twin house",
         "orientation": "h",
         "showlegend": true,
         "textposition": "auto",
         "type": "bar",
         "x": [
          1,
          11,
          27,
          97
         ],
         "xaxis": "x",
         "y": [
          "Core & Shell",
          "Not Finished",
          "Semi Finished",
          "Finished"
         ],
         "yaxis": "y"
        },
        {
         "alignmentgroup": "True",
         "hovertemplate": "Type=Standalone Villa<br>counts=%{x}<br>Delivery_Term=%{y}<extra></extra>",
         "legendgroup": "Standalone Villa",
         "marker": {
          "color": "rgb(17, 165, 121)",
          "pattern": {
           "shape": ""
          }
         },
         "name": "Standalone Villa",
         "offsetgroup": "Standalone Villa",
         "orientation": "h",
         "showlegend": true,
         "textposition": "auto",
         "type": "bar",
         "x": [
          2,
          7,
          17,
          139
         ],
         "xaxis": "x",
         "y": [
          "Core & Shell",
          "Not Finished",
          "Semi Finished",
          "Finished"
         ],
         "yaxis": "y"
        },
        {
         "alignmentgroup": "True",
         "hovertemplate": "Type=Town House<br>counts=%{x}<br>Delivery_Term=%{y}<extra></extra>",
         "legendgroup": "Town House",
         "marker": {
          "color": "rgb(57, 105, 172)",
          "pattern": {
           "shape": ""
          }
         },
         "name": "Town House",
         "offsetgroup": "Town House",
         "orientation": "h",
         "showlegend": true,
         "textposition": "auto",
         "type": "bar",
         "x": [
          4,
          5,
          11,
          41
         ],
         "xaxis": "x",
         "y": [
          "Not Finished",
          "Core & Shell",
          "Semi Finished",
          "Finished"
         ],
         "yaxis": "y"
        },
        {
         "alignmentgroup": "True",
         "hovertemplate": "Type=Studio<br>counts=%{x}<br>Delivery_Term=%{y}<extra></extra>",
         "legendgroup": "Studio",
         "marker": {
          "color": "rgb(242, 183, 1)",
          "pattern": {
           "shape": ""
          }
         },
         "name": "Studio",
         "offsetgroup": "Studio",
         "orientation": "h",
         "showlegend": true,
         "textposition": "auto",
         "type": "bar",
         "x": [
          4,
          8,
          8,
          56
         ],
         "xaxis": "x",
         "y": [
          "Not Finished",
          "Semi Finished",
          "Core & Shell",
          "Finished"
         ],
         "yaxis": "y"
        },
        {
         "alignmentgroup": "True",
         "hovertemplate": "Type=Penthouse<br>counts=%{x}<br>Delivery_Term=%{y}<extra></extra>",
         "legendgroup": "Penthouse",
         "marker": {
          "color": "rgb(231, 63, 116)",
          "pattern": {
           "shape": ""
          }
         },
         "name": "Penthouse",
         "offsetgroup": "Penthouse",
         "orientation": "h",
         "showlegend": true,
         "textposition": "auto",
         "type": "bar",
         "x": [
          6,
          8,
          60,
          140
         ],
         "xaxis": "x",
         "y": [
          "Core & Shell",
          "Not Finished",
          "Semi Finished",
          "Finished"
         ],
         "yaxis": "y"
        },
        {
         "alignmentgroup": "True",
         "hovertemplate": "Type=Chalet<br>counts=%{x}<br>Delivery_Term=%{y}<extra></extra>",
         "legendgroup": "Chalet",
         "marker": {
          "color": "rgb(128, 186, 90)",
          "pattern": {
           "shape": ""
          }
         },
         "name": "Chalet",
         "offsetgroup": "Chalet",
         "orientation": "h",
         "showlegend": true,
         "textposition": "auto",
         "type": "bar",
         "x": [
          12,
          25,
          38,
          1681
         ],
         "xaxis": "x",
         "y": [
          "Core & Shell",
          "Not Finished",
          "Semi Finished",
          "Finished"
         ],
         "yaxis": "y"
        },
        {
         "alignmentgroup": "True",
         "hovertemplate": "Type=Duplex<br>counts=%{x}<br>Delivery_Term=%{y}<extra></extra>",
         "legendgroup": "Duplex",
         "marker": {
          "color": "rgb(230, 131, 16)",
          "pattern": {
           "shape": ""
          }
         },
         "name": "Duplex",
         "offsetgroup": "Duplex",
         "orientation": "h",
         "showlegend": true,
         "textposition": "auto",
         "type": "bar",
         "x": [
          15,
          26,
          94,
          133
         ],
         "xaxis": "x",
         "y": [
          "Core & Shell",
          "Not Finished",
          "Semi Finished",
          "Finished"
         ],
         "yaxis": "y"
        },
        {
         "alignmentgroup": "True",
         "hovertemplate": "Type=Apartment<br>counts=%{x}<br>Delivery_Term=%{y}<extra></extra>",
         "legendgroup": "Apartment",
         "marker": {
          "color": "rgb(0, 134, 149)",
          "pattern": {
           "shape": ""
          }
         },
         "name": "Apartment",
         "offsetgroup": "Apartment",
         "orientation": "h",
         "showlegend": true,
         "textposition": "auto",
         "type": "bar",
         "x": [
          180,
          186,
          769,
          1270
         ],
         "xaxis": "x",
         "y": [
          "Not Finished",
          "Core & Shell",
          "Semi Finished",
          "Finished"
         ],
         "yaxis": "y"
        }
       ],
       "layout": {
        "barmode": "relative",
        "legend": {
         "title": {
          "text": "Type"
         },
         "tracegroupgap": 0
        },
        "margin": {
         "t": 60
        },
        "template": {
         "data": {
          "bar": [
           {
            "error_x": {
             "color": "#2a3f5f"
            },
            "error_y": {
             "color": "#2a3f5f"
            },
            "marker": {
             "line": {
              "color": "#E5ECF6",
              "width": 0.5
             },
             "pattern": {
              "fillmode": "overlay",
              "size": 10,
              "solidity": 0.2
             }
            },
            "type": "bar"
           }
          ],
          "barpolar": [
           {
            "marker": {
             "line": {
              "color": "#E5ECF6",
              "width": 0.5
             },
             "pattern": {
              "fillmode": "overlay",
              "size": 10,
              "solidity": 0.2
             }
            },
            "type": "barpolar"
           }
          ],
          "carpet": [
           {
            "aaxis": {
             "endlinecolor": "#2a3f5f",
             "gridcolor": "white",
             "linecolor": "white",
             "minorgridcolor": "white",
             "startlinecolor": "#2a3f5f"
            },
            "baxis": {
             "endlinecolor": "#2a3f5f",
             "gridcolor": "white",
             "linecolor": "white",
             "minorgridcolor": "white",
             "startlinecolor": "#2a3f5f"
            },
            "type": "carpet"
           }
          ],
          "choropleth": [
           {
            "colorbar": {
             "outlinewidth": 0,
             "ticks": ""
            },
            "type": "choropleth"
           }
          ],
          "contour": [
           {
            "colorbar": {
             "outlinewidth": 0,
             "ticks": ""
            },
            "colorscale": [
             [
              0,
              "#0d0887"
             ],
             [
              0.1111111111111111,
              "#46039f"
             ],
             [
              0.2222222222222222,
              "#7201a8"
             ],
             [
              0.3333333333333333,
              "#9c179e"
             ],
             [
              0.4444444444444444,
              "#bd3786"
             ],
             [
              0.5555555555555556,
              "#d8576b"
             ],
             [
              0.6666666666666666,
              "#ed7953"
             ],
             [
              0.7777777777777778,
              "#fb9f3a"
             ],
             [
              0.8888888888888888,
              "#fdca26"
             ],
             [
              1,
              "#f0f921"
             ]
            ],
            "type": "contour"
           }
          ],
          "contourcarpet": [
           {
            "colorbar": {
             "outlinewidth": 0,
             "ticks": ""
            },
            "type": "contourcarpet"
           }
          ],
          "heatmap": [
           {
            "colorbar": {
             "outlinewidth": 0,
             "ticks": ""
            },
            "colorscale": [
             [
              0,
              "#0d0887"
             ],
             [
              0.1111111111111111,
              "#46039f"
             ],
             [
              0.2222222222222222,
              "#7201a8"
             ],
             [
              0.3333333333333333,
              "#9c179e"
             ],
             [
              0.4444444444444444,
              "#bd3786"
             ],
             [
              0.5555555555555556,
              "#d8576b"
             ],
             [
              0.6666666666666666,
              "#ed7953"
             ],
             [
              0.7777777777777778,
              "#fb9f3a"
             ],
             [
              0.8888888888888888,
              "#fdca26"
             ],
             [
              1,
              "#f0f921"
             ]
            ],
            "type": "heatmap"
           }
          ],
          "heatmapgl": [
           {
            "colorbar": {
             "outlinewidth": 0,
             "ticks": ""
            },
            "colorscale": [
             [
              0,
              "#0d0887"
             ],
             [
              0.1111111111111111,
              "#46039f"
             ],
             [
              0.2222222222222222,
              "#7201a8"
             ],
             [
              0.3333333333333333,
              "#9c179e"
             ],
             [
              0.4444444444444444,
              "#bd3786"
             ],
             [
              0.5555555555555556,
              "#d8576b"
             ],
             [
              0.6666666666666666,
              "#ed7953"
             ],
             [
              0.7777777777777778,
              "#fb9f3a"
             ],
             [
              0.8888888888888888,
              "#fdca26"
             ],
             [
              1,
              "#f0f921"
             ]
            ],
            "type": "heatmapgl"
           }
          ],
          "histogram": [
           {
            "marker": {
             "pattern": {
              "fillmode": "overlay",
              "size": 10,
              "solidity": 0.2
             }
            },
            "type": "histogram"
           }
          ],
          "histogram2d": [
           {
            "colorbar": {
             "outlinewidth": 0,
             "ticks": ""
            },
            "colorscale": [
             [
              0,
              "#0d0887"
             ],
             [
              0.1111111111111111,
              "#46039f"
             ],
             [
              0.2222222222222222,
              "#7201a8"
             ],
             [
              0.3333333333333333,
              "#9c179e"
             ],
             [
              0.4444444444444444,
              "#bd3786"
             ],
             [
              0.5555555555555556,
              "#d8576b"
             ],
             [
              0.6666666666666666,
              "#ed7953"
             ],
             [
              0.7777777777777778,
              "#fb9f3a"
             ],
             [
              0.8888888888888888,
              "#fdca26"
             ],
             [
              1,
              "#f0f921"
             ]
            ],
            "type": "histogram2d"
           }
          ],
          "histogram2dcontour": [
           {
            "colorbar": {
             "outlinewidth": 0,
             "ticks": ""
            },
            "colorscale": [
             [
              0,
              "#0d0887"
             ],
             [
              0.1111111111111111,
              "#46039f"
             ],
             [
              0.2222222222222222,
              "#7201a8"
             ],
             [
              0.3333333333333333,
              "#9c179e"
             ],
             [
              0.4444444444444444,
              "#bd3786"
             ],
             [
              0.5555555555555556,
              "#d8576b"
             ],
             [
              0.6666666666666666,
              "#ed7953"
             ],
             [
              0.7777777777777778,
              "#fb9f3a"
             ],
             [
              0.8888888888888888,
              "#fdca26"
             ],
             [
              1,
              "#f0f921"
             ]
            ],
            "type": "histogram2dcontour"
           }
          ],
          "mesh3d": [
           {
            "colorbar": {
             "outlinewidth": 0,
             "ticks": ""
            },
            "type": "mesh3d"
           }
          ],
          "parcoords": [
           {
            "line": {
             "colorbar": {
              "outlinewidth": 0,
              "ticks": ""
             }
            },
            "type": "parcoords"
           }
          ],
          "pie": [
           {
            "automargin": true,
            "type": "pie"
           }
          ],
          "scatter": [
           {
            "fillpattern": {
             "fillmode": "overlay",
             "size": 10,
             "solidity": 0.2
            },
            "type": "scatter"
           }
          ],
          "scatter3d": [
           {
            "line": {
             "colorbar": {
              "outlinewidth": 0,
              "ticks": ""
             }
            },
            "marker": {
             "colorbar": {
              "outlinewidth": 0,
              "ticks": ""
             }
            },
            "type": "scatter3d"
           }
          ],
          "scattercarpet": [
           {
            "marker": {
             "colorbar": {
              "outlinewidth": 0,
              "ticks": ""
             }
            },
            "type": "scattercarpet"
           }
          ],
          "scattergeo": [
           {
            "marker": {
             "colorbar": {
              "outlinewidth": 0,
              "ticks": ""
             }
            },
            "type": "scattergeo"
           }
          ],
          "scattergl": [
           {
            "marker": {
             "colorbar": {
              "outlinewidth": 0,
              "ticks": ""
             }
            },
            "type": "scattergl"
           }
          ],
          "scattermapbox": [
           {
            "marker": {
             "colorbar": {
              "outlinewidth": 0,
              "ticks": ""
             }
            },
            "type": "scattermapbox"
           }
          ],
          "scatterpolar": [
           {
            "marker": {
             "colorbar": {
              "outlinewidth": 0,
              "ticks": ""
             }
            },
            "type": "scatterpolar"
           }
          ],
          "scatterpolargl": [
           {
            "marker": {
             "colorbar": {
              "outlinewidth": 0,
              "ticks": ""
             }
            },
            "type": "scatterpolargl"
           }
          ],
          "scatterternary": [
           {
            "marker": {
             "colorbar": {
              "outlinewidth": 0,
              "ticks": ""
             }
            },
            "type": "scatterternary"
           }
          ],
          "surface": [
           {
            "colorbar": {
             "outlinewidth": 0,
             "ticks": ""
            },
            "colorscale": [
             [
              0,
              "#0d0887"
             ],
             [
              0.1111111111111111,
              "#46039f"
             ],
             [
              0.2222222222222222,
              "#7201a8"
             ],
             [
              0.3333333333333333,
              "#9c179e"
             ],
             [
              0.4444444444444444,
              "#bd3786"
             ],
             [
              0.5555555555555556,
              "#d8576b"
             ],
             [
              0.6666666666666666,
              "#ed7953"
             ],
             [
              0.7777777777777778,
              "#fb9f3a"
             ],
             [
              0.8888888888888888,
              "#fdca26"
             ],
             [
              1,
              "#f0f921"
             ]
            ],
            "type": "surface"
           }
          ],
          "table": [
           {
            "cells": {
             "fill": {
              "color": "#EBF0F8"
             },
             "line": {
              "color": "white"
             }
            },
            "header": {
             "fill": {
              "color": "#C8D4E3"
             },
             "line": {
              "color": "white"
             }
            },
            "type": "table"
           }
          ]
         },
         "layout": {
          "annotationdefaults": {
           "arrowcolor": "#2a3f5f",
           "arrowhead": 0,
           "arrowwidth": 1
          },
          "autotypenumbers": "strict",
          "coloraxis": {
           "colorbar": {
            "outlinewidth": 0,
            "ticks": ""
           }
          },
          "colorscale": {
           "diverging": [
            [
             0,
             "#8e0152"
            ],
            [
             0.1,
             "#c51b7d"
            ],
            [
             0.2,
             "#de77ae"
            ],
            [
             0.3,
             "#f1b6da"
            ],
            [
             0.4,
             "#fde0ef"
            ],
            [
             0.5,
             "#f7f7f7"
            ],
            [
             0.6,
             "#e6f5d0"
            ],
            [
             0.7,
             "#b8e186"
            ],
            [
             0.8,
             "#7fbc41"
            ],
            [
             0.9,
             "#4d9221"
            ],
            [
             1,
             "#276419"
            ]
           ],
           "sequential": [
            [
             0,
             "#0d0887"
            ],
            [
             0.1111111111111111,
             "#46039f"
            ],
            [
             0.2222222222222222,
             "#7201a8"
            ],
            [
             0.3333333333333333,
             "#9c179e"
            ],
            [
             0.4444444444444444,
             "#bd3786"
            ],
            [
             0.5555555555555556,
             "#d8576b"
            ],
            [
             0.6666666666666666,
             "#ed7953"
            ],
            [
             0.7777777777777778,
             "#fb9f3a"
            ],
            [
             0.8888888888888888,
             "#fdca26"
            ],
            [
             1,
             "#f0f921"
            ]
           ],
           "sequentialminus": [
            [
             0,
             "#0d0887"
            ],
            [
             0.1111111111111111,
             "#46039f"
            ],
            [
             0.2222222222222222,
             "#7201a8"
            ],
            [
             0.3333333333333333,
             "#9c179e"
            ],
            [
             0.4444444444444444,
             "#bd3786"
            ],
            [
             0.5555555555555556,
             "#d8576b"
            ],
            [
             0.6666666666666666,
             "#ed7953"
            ],
            [
             0.7777777777777778,
             "#fb9f3a"
            ],
            [
             0.8888888888888888,
             "#fdca26"
            ],
            [
             1,
             "#f0f921"
            ]
           ]
          },
          "colorway": [
           "#636efa",
           "#EF553B",
           "#00cc96",
           "#ab63fa",
           "#FFA15A",
           "#19d3f3",
           "#FF6692",
           "#B6E880",
           "#FF97FF",
           "#FECB52"
          ],
          "font": {
           "color": "#2a3f5f"
          },
          "geo": {
           "bgcolor": "white",
           "lakecolor": "white",
           "landcolor": "#E5ECF6",
           "showlakes": true,
           "showland": true,
           "subunitcolor": "white"
          },
          "hoverlabel": {
           "align": "left"
          },
          "hovermode": "closest",
          "mapbox": {
           "style": "light"
          },
          "paper_bgcolor": "white",
          "plot_bgcolor": "#E5ECF6",
          "polar": {
           "angularaxis": {
            "gridcolor": "white",
            "linecolor": "white",
            "ticks": ""
           },
           "bgcolor": "#E5ECF6",
           "radialaxis": {
            "gridcolor": "white",
            "linecolor": "white",
            "ticks": ""
           }
          },
          "scene": {
           "xaxis": {
            "backgroundcolor": "#E5ECF6",
            "gridcolor": "white",
            "gridwidth": 2,
            "linecolor": "white",
            "showbackground": true,
            "ticks": "",
            "zerolinecolor": "white"
           },
           "yaxis": {
            "backgroundcolor": "#E5ECF6",
            "gridcolor": "white",
            "gridwidth": 2,
            "linecolor": "white",
            "showbackground": true,
            "ticks": "",
            "zerolinecolor": "white"
           },
           "zaxis": {
            "backgroundcolor": "#E5ECF6",
            "gridcolor": "white",
            "gridwidth": 2,
            "linecolor": "white",
            "showbackground": true,
            "ticks": "",
            "zerolinecolor": "white"
           }
          },
          "shapedefaults": {
           "line": {
            "color": "#2a3f5f"
           }
          },
          "ternary": {
           "aaxis": {
            "gridcolor": "white",
            "linecolor": "white",
            "ticks": ""
           },
           "baxis": {
            "gridcolor": "white",
            "linecolor": "white",
            "ticks": ""
           },
           "bgcolor": "#E5ECF6",
           "caxis": {
            "gridcolor": "white",
            "linecolor": "white",
            "ticks": ""
           }
          },
          "title": {
           "x": 0.05
          },
          "xaxis": {
           "automargin": true,
           "gridcolor": "white",
           "linecolor": "white",
           "ticks": "",
           "title": {
            "standoff": 15
           },
           "zerolinecolor": "white",
           "zerolinewidth": 2
          },
          "yaxis": {
           "automargin": true,
           "gridcolor": "white",
           "linecolor": "white",
           "ticks": "",
           "title": {
            "standoff": 15
           },
           "zerolinecolor": "white",
           "zerolinewidth": 2
          }
         }
        },
        "xaxis": {
         "anchor": "y",
         "domain": [
          0,
          1
         ],
         "title": {
          "text": "counts"
         }
        },
        "yaxis": {
         "anchor": "x",
         "domain": [
          0,
          1
         ],
         "title": {
          "text": "Delivery_Term"
         }
        }
       }
      },
      "text/html": [
       "<div>                            <div id=\"39482d39-c18d-4475-b321-f14642be3c0c\" class=\"plotly-graph-div\" style=\"height:525px; width:100%;\"></div>            <script type=\"text/javascript\">                require([\"plotly\"], function(Plotly) {                    window.PLOTLYENV=window.PLOTLYENV || {};                                    if (document.getElementById(\"39482d39-c18d-4475-b321-f14642be3c0c\")) {                    Plotly.newPlot(                        \"39482d39-c18d-4475-b321-f14642be3c0c\",                        [{\"alignmentgroup\":\"True\",\"hovertemplate\":\"Type=Twin house\\u003cbr\\u003ecounts=%{x}\\u003cbr\\u003eDelivery_Term=%{y}\\u003cextra\\u003e\\u003c\\u002fextra\\u003e\",\"legendgroup\":\"Twin house\",\"marker\":{\"color\":\"rgb(127, 60, 141)\",\"pattern\":{\"shape\":\"\"}},\"name\":\"Twin house\",\"offsetgroup\":\"Twin house\",\"orientation\":\"h\",\"showlegend\":true,\"textposition\":\"auto\",\"x\":[1,11,27,97],\"xaxis\":\"x\",\"y\":[\"Core & Shell\",\"Not Finished\",\"Semi Finished\",\"Finished\"],\"yaxis\":\"y\",\"type\":\"bar\"},{\"alignmentgroup\":\"True\",\"hovertemplate\":\"Type=Standalone Villa\\u003cbr\\u003ecounts=%{x}\\u003cbr\\u003eDelivery_Term=%{y}\\u003cextra\\u003e\\u003c\\u002fextra\\u003e\",\"legendgroup\":\"Standalone Villa\",\"marker\":{\"color\":\"rgb(17, 165, 121)\",\"pattern\":{\"shape\":\"\"}},\"name\":\"Standalone Villa\",\"offsetgroup\":\"Standalone Villa\",\"orientation\":\"h\",\"showlegend\":true,\"textposition\":\"auto\",\"x\":[2,7,17,139],\"xaxis\":\"x\",\"y\":[\"Core & Shell\",\"Not Finished\",\"Semi Finished\",\"Finished\"],\"yaxis\":\"y\",\"type\":\"bar\"},{\"alignmentgroup\":\"True\",\"hovertemplate\":\"Type=Town House\\u003cbr\\u003ecounts=%{x}\\u003cbr\\u003eDelivery_Term=%{y}\\u003cextra\\u003e\\u003c\\u002fextra\\u003e\",\"legendgroup\":\"Town House\",\"marker\":{\"color\":\"rgb(57, 105, 172)\",\"pattern\":{\"shape\":\"\"}},\"name\":\"Town House\",\"offsetgroup\":\"Town House\",\"orientation\":\"h\",\"showlegend\":true,\"textposition\":\"auto\",\"x\":[4,5,11,41],\"xaxis\":\"x\",\"y\":[\"Not Finished\",\"Core & Shell\",\"Semi Finished\",\"Finished\"],\"yaxis\":\"y\",\"type\":\"bar\"},{\"alignmentgroup\":\"True\",\"hovertemplate\":\"Type=Studio\\u003cbr\\u003ecounts=%{x}\\u003cbr\\u003eDelivery_Term=%{y}\\u003cextra\\u003e\\u003c\\u002fextra\\u003e\",\"legendgroup\":\"Studio\",\"marker\":{\"color\":\"rgb(242, 183, 1)\",\"pattern\":{\"shape\":\"\"}},\"name\":\"Studio\",\"offsetgroup\":\"Studio\",\"orientation\":\"h\",\"showlegend\":true,\"textposition\":\"auto\",\"x\":[4,8,8,56],\"xaxis\":\"x\",\"y\":[\"Not Finished\",\"Semi Finished\",\"Core & Shell\",\"Finished\"],\"yaxis\":\"y\",\"type\":\"bar\"},{\"alignmentgroup\":\"True\",\"hovertemplate\":\"Type=Penthouse\\u003cbr\\u003ecounts=%{x}\\u003cbr\\u003eDelivery_Term=%{y}\\u003cextra\\u003e\\u003c\\u002fextra\\u003e\",\"legendgroup\":\"Penthouse\",\"marker\":{\"color\":\"rgb(231, 63, 116)\",\"pattern\":{\"shape\":\"\"}},\"name\":\"Penthouse\",\"offsetgroup\":\"Penthouse\",\"orientation\":\"h\",\"showlegend\":true,\"textposition\":\"auto\",\"x\":[6,8,60,140],\"xaxis\":\"x\",\"y\":[\"Core & Shell\",\"Not Finished\",\"Semi Finished\",\"Finished\"],\"yaxis\":\"y\",\"type\":\"bar\"},{\"alignmentgroup\":\"True\",\"hovertemplate\":\"Type=Chalet\\u003cbr\\u003ecounts=%{x}\\u003cbr\\u003eDelivery_Term=%{y}\\u003cextra\\u003e\\u003c\\u002fextra\\u003e\",\"legendgroup\":\"Chalet\",\"marker\":{\"color\":\"rgb(128, 186, 90)\",\"pattern\":{\"shape\":\"\"}},\"name\":\"Chalet\",\"offsetgroup\":\"Chalet\",\"orientation\":\"h\",\"showlegend\":true,\"textposition\":\"auto\",\"x\":[12,25,38,1681],\"xaxis\":\"x\",\"y\":[\"Core & Shell\",\"Not Finished\",\"Semi Finished\",\"Finished\"],\"yaxis\":\"y\",\"type\":\"bar\"},{\"alignmentgroup\":\"True\",\"hovertemplate\":\"Type=Duplex\\u003cbr\\u003ecounts=%{x}\\u003cbr\\u003eDelivery_Term=%{y}\\u003cextra\\u003e\\u003c\\u002fextra\\u003e\",\"legendgroup\":\"Duplex\",\"marker\":{\"color\":\"rgb(230, 131, 16)\",\"pattern\":{\"shape\":\"\"}},\"name\":\"Duplex\",\"offsetgroup\":\"Duplex\",\"orientation\":\"h\",\"showlegend\":true,\"textposition\":\"auto\",\"x\":[15,26,94,133],\"xaxis\":\"x\",\"y\":[\"Core & Shell\",\"Not Finished\",\"Semi Finished\",\"Finished\"],\"yaxis\":\"y\",\"type\":\"bar\"},{\"alignmentgroup\":\"True\",\"hovertemplate\":\"Type=Apartment\\u003cbr\\u003ecounts=%{x}\\u003cbr\\u003eDelivery_Term=%{y}\\u003cextra\\u003e\\u003c\\u002fextra\\u003e\",\"legendgroup\":\"Apartment\",\"marker\":{\"color\":\"rgb(0, 134, 149)\",\"pattern\":{\"shape\":\"\"}},\"name\":\"Apartment\",\"offsetgroup\":\"Apartment\",\"orientation\":\"h\",\"showlegend\":true,\"textposition\":\"auto\",\"x\":[180,186,769,1270],\"xaxis\":\"x\",\"y\":[\"Not Finished\",\"Core & Shell\",\"Semi Finished\",\"Finished\"],\"yaxis\":\"y\",\"type\":\"bar\"}],                        {\"template\":{\"data\":{\"histogram2dcontour\":[{\"type\":\"histogram2dcontour\",\"colorbar\":{\"outlinewidth\":0,\"ticks\":\"\"},\"colorscale\":[[0.0,\"#0d0887\"],[0.1111111111111111,\"#46039f\"],[0.2222222222222222,\"#7201a8\"],[0.3333333333333333,\"#9c179e\"],[0.4444444444444444,\"#bd3786\"],[0.5555555555555556,\"#d8576b\"],[0.6666666666666666,\"#ed7953\"],[0.7777777777777778,\"#fb9f3a\"],[0.8888888888888888,\"#fdca26\"],[1.0,\"#f0f921\"]]}],\"choropleth\":[{\"type\":\"choropleth\",\"colorbar\":{\"outlinewidth\":0,\"ticks\":\"\"}}],\"histogram2d\":[{\"type\":\"histogram2d\",\"colorbar\":{\"outlinewidth\":0,\"ticks\":\"\"},\"colorscale\":[[0.0,\"#0d0887\"],[0.1111111111111111,\"#46039f\"],[0.2222222222222222,\"#7201a8\"],[0.3333333333333333,\"#9c179e\"],[0.4444444444444444,\"#bd3786\"],[0.5555555555555556,\"#d8576b\"],[0.6666666666666666,\"#ed7953\"],[0.7777777777777778,\"#fb9f3a\"],[0.8888888888888888,\"#fdca26\"],[1.0,\"#f0f921\"]]}],\"heatmap\":[{\"type\":\"heatmap\",\"colorbar\":{\"outlinewidth\":0,\"ticks\":\"\"},\"colorscale\":[[0.0,\"#0d0887\"],[0.1111111111111111,\"#46039f\"],[0.2222222222222222,\"#7201a8\"],[0.3333333333333333,\"#9c179e\"],[0.4444444444444444,\"#bd3786\"],[0.5555555555555556,\"#d8576b\"],[0.6666666666666666,\"#ed7953\"],[0.7777777777777778,\"#fb9f3a\"],[0.8888888888888888,\"#fdca26\"],[1.0,\"#f0f921\"]]}],\"heatmapgl\":[{\"type\":\"heatmapgl\",\"colorbar\":{\"outlinewidth\":0,\"ticks\":\"\"},\"colorscale\":[[0.0,\"#0d0887\"],[0.1111111111111111,\"#46039f\"],[0.2222222222222222,\"#7201a8\"],[0.3333333333333333,\"#9c179e\"],[0.4444444444444444,\"#bd3786\"],[0.5555555555555556,\"#d8576b\"],[0.6666666666666666,\"#ed7953\"],[0.7777777777777778,\"#fb9f3a\"],[0.8888888888888888,\"#fdca26\"],[1.0,\"#f0f921\"]]}],\"contourcarpet\":[{\"type\":\"contourcarpet\",\"colorbar\":{\"outlinewidth\":0,\"ticks\":\"\"}}],\"contour\":[{\"type\":\"contour\",\"colorbar\":{\"outlinewidth\":0,\"ticks\":\"\"},\"colorscale\":[[0.0,\"#0d0887\"],[0.1111111111111111,\"#46039f\"],[0.2222222222222222,\"#7201a8\"],[0.3333333333333333,\"#9c179e\"],[0.4444444444444444,\"#bd3786\"],[0.5555555555555556,\"#d8576b\"],[0.6666666666666666,\"#ed7953\"],[0.7777777777777778,\"#fb9f3a\"],[0.8888888888888888,\"#fdca26\"],[1.0,\"#f0f921\"]]}],\"surface\":[{\"type\":\"surface\",\"colorbar\":{\"outlinewidth\":0,\"ticks\":\"\"},\"colorscale\":[[0.0,\"#0d0887\"],[0.1111111111111111,\"#46039f\"],[0.2222222222222222,\"#7201a8\"],[0.3333333333333333,\"#9c179e\"],[0.4444444444444444,\"#bd3786\"],[0.5555555555555556,\"#d8576b\"],[0.6666666666666666,\"#ed7953\"],[0.7777777777777778,\"#fb9f3a\"],[0.8888888888888888,\"#fdca26\"],[1.0,\"#f0f921\"]]}],\"mesh3d\":[{\"type\":\"mesh3d\",\"colorbar\":{\"outlinewidth\":0,\"ticks\":\"\"}}],\"scatter\":[{\"fillpattern\":{\"fillmode\":\"overlay\",\"size\":10,\"solidity\":0.2},\"type\":\"scatter\"}],\"parcoords\":[{\"type\":\"parcoords\",\"line\":{\"colorbar\":{\"outlinewidth\":0,\"ticks\":\"\"}}}],\"scatterpolargl\":[{\"type\":\"scatterpolargl\",\"marker\":{\"colorbar\":{\"outlinewidth\":0,\"ticks\":\"\"}}}],\"bar\":[{\"error_x\":{\"color\":\"#2a3f5f\"},\"error_y\":{\"color\":\"#2a3f5f\"},\"marker\":{\"line\":{\"color\":\"#E5ECF6\",\"width\":0.5},\"pattern\":{\"fillmode\":\"overlay\",\"size\":10,\"solidity\":0.2}},\"type\":\"bar\"}],\"scattergeo\":[{\"type\":\"scattergeo\",\"marker\":{\"colorbar\":{\"outlinewidth\":0,\"ticks\":\"\"}}}],\"scatterpolar\":[{\"type\":\"scatterpolar\",\"marker\":{\"colorbar\":{\"outlinewidth\":0,\"ticks\":\"\"}}}],\"histogram\":[{\"marker\":{\"pattern\":{\"fillmode\":\"overlay\",\"size\":10,\"solidity\":0.2}},\"type\":\"histogram\"}],\"scattergl\":[{\"type\":\"scattergl\",\"marker\":{\"colorbar\":{\"outlinewidth\":0,\"ticks\":\"\"}}}],\"scatter3d\":[{\"type\":\"scatter3d\",\"line\":{\"colorbar\":{\"outlinewidth\":0,\"ticks\":\"\"}},\"marker\":{\"colorbar\":{\"outlinewidth\":0,\"ticks\":\"\"}}}],\"scattermapbox\":[{\"type\":\"scattermapbox\",\"marker\":{\"colorbar\":{\"outlinewidth\":0,\"ticks\":\"\"}}}],\"scatterternary\":[{\"type\":\"scatterternary\",\"marker\":{\"colorbar\":{\"outlinewidth\":0,\"ticks\":\"\"}}}],\"scattercarpet\":[{\"type\":\"scattercarpet\",\"marker\":{\"colorbar\":{\"outlinewidth\":0,\"ticks\":\"\"}}}],\"carpet\":[{\"aaxis\":{\"endlinecolor\":\"#2a3f5f\",\"gridcolor\":\"white\",\"linecolor\":\"white\",\"minorgridcolor\":\"white\",\"startlinecolor\":\"#2a3f5f\"},\"baxis\":{\"endlinecolor\":\"#2a3f5f\",\"gridcolor\":\"white\",\"linecolor\":\"white\",\"minorgridcolor\":\"white\",\"startlinecolor\":\"#2a3f5f\"},\"type\":\"carpet\"}],\"table\":[{\"cells\":{\"fill\":{\"color\":\"#EBF0F8\"},\"line\":{\"color\":\"white\"}},\"header\":{\"fill\":{\"color\":\"#C8D4E3\"},\"line\":{\"color\":\"white\"}},\"type\":\"table\"}],\"barpolar\":[{\"marker\":{\"line\":{\"color\":\"#E5ECF6\",\"width\":0.5},\"pattern\":{\"fillmode\":\"overlay\",\"size\":10,\"solidity\":0.2}},\"type\":\"barpolar\"}],\"pie\":[{\"automargin\":true,\"type\":\"pie\"}]},\"layout\":{\"autotypenumbers\":\"strict\",\"colorway\":[\"#636efa\",\"#EF553B\",\"#00cc96\",\"#ab63fa\",\"#FFA15A\",\"#19d3f3\",\"#FF6692\",\"#B6E880\",\"#FF97FF\",\"#FECB52\"],\"font\":{\"color\":\"#2a3f5f\"},\"hovermode\":\"closest\",\"hoverlabel\":{\"align\":\"left\"},\"paper_bgcolor\":\"white\",\"plot_bgcolor\":\"#E5ECF6\",\"polar\":{\"bgcolor\":\"#E5ECF6\",\"angularaxis\":{\"gridcolor\":\"white\",\"linecolor\":\"white\",\"ticks\":\"\"},\"radialaxis\":{\"gridcolor\":\"white\",\"linecolor\":\"white\",\"ticks\":\"\"}},\"ternary\":{\"bgcolor\":\"#E5ECF6\",\"aaxis\":{\"gridcolor\":\"white\",\"linecolor\":\"white\",\"ticks\":\"\"},\"baxis\":{\"gridcolor\":\"white\",\"linecolor\":\"white\",\"ticks\":\"\"},\"caxis\":{\"gridcolor\":\"white\",\"linecolor\":\"white\",\"ticks\":\"\"}},\"coloraxis\":{\"colorbar\":{\"outlinewidth\":0,\"ticks\":\"\"}},\"colorscale\":{\"sequential\":[[0.0,\"#0d0887\"],[0.1111111111111111,\"#46039f\"],[0.2222222222222222,\"#7201a8\"],[0.3333333333333333,\"#9c179e\"],[0.4444444444444444,\"#bd3786\"],[0.5555555555555556,\"#d8576b\"],[0.6666666666666666,\"#ed7953\"],[0.7777777777777778,\"#fb9f3a\"],[0.8888888888888888,\"#fdca26\"],[1.0,\"#f0f921\"]],\"sequentialminus\":[[0.0,\"#0d0887\"],[0.1111111111111111,\"#46039f\"],[0.2222222222222222,\"#7201a8\"],[0.3333333333333333,\"#9c179e\"],[0.4444444444444444,\"#bd3786\"],[0.5555555555555556,\"#d8576b\"],[0.6666666666666666,\"#ed7953\"],[0.7777777777777778,\"#fb9f3a\"],[0.8888888888888888,\"#fdca26\"],[1.0,\"#f0f921\"]],\"diverging\":[[0,\"#8e0152\"],[0.1,\"#c51b7d\"],[0.2,\"#de77ae\"],[0.3,\"#f1b6da\"],[0.4,\"#fde0ef\"],[0.5,\"#f7f7f7\"],[0.6,\"#e6f5d0\"],[0.7,\"#b8e186\"],[0.8,\"#7fbc41\"],[0.9,\"#4d9221\"],[1,\"#276419\"]]},\"xaxis\":{\"gridcolor\":\"white\",\"linecolor\":\"white\",\"ticks\":\"\",\"title\":{\"standoff\":15},\"zerolinecolor\":\"white\",\"automargin\":true,\"zerolinewidth\":2},\"yaxis\":{\"gridcolor\":\"white\",\"linecolor\":\"white\",\"ticks\":\"\",\"title\":{\"standoff\":15},\"zerolinecolor\":\"white\",\"automargin\":true,\"zerolinewidth\":2},\"scene\":{\"xaxis\":{\"backgroundcolor\":\"#E5ECF6\",\"gridcolor\":\"white\",\"linecolor\":\"white\",\"showbackground\":true,\"ticks\":\"\",\"zerolinecolor\":\"white\",\"gridwidth\":2},\"yaxis\":{\"backgroundcolor\":\"#E5ECF6\",\"gridcolor\":\"white\",\"linecolor\":\"white\",\"showbackground\":true,\"ticks\":\"\",\"zerolinecolor\":\"white\",\"gridwidth\":2},\"zaxis\":{\"backgroundcolor\":\"#E5ECF6\",\"gridcolor\":\"white\",\"linecolor\":\"white\",\"showbackground\":true,\"ticks\":\"\",\"zerolinecolor\":\"white\",\"gridwidth\":2}},\"shapedefaults\":{\"line\":{\"color\":\"#2a3f5f\"}},\"annotationdefaults\":{\"arrowcolor\":\"#2a3f5f\",\"arrowhead\":0,\"arrowwidth\":1},\"geo\":{\"bgcolor\":\"white\",\"landcolor\":\"#E5ECF6\",\"subunitcolor\":\"white\",\"showland\":true,\"showlakes\":true,\"lakecolor\":\"white\"},\"title\":{\"x\":0.05},\"mapbox\":{\"style\":\"light\"}}},\"xaxis\":{\"anchor\":\"y\",\"domain\":[0.0,1.0],\"title\":{\"text\":\"counts\"}},\"yaxis\":{\"anchor\":\"x\",\"domain\":[0.0,1.0],\"title\":{\"text\":\"Delivery_Term\"}},\"legend\":{\"title\":{\"text\":\"Type\"},\"tracegroupgap\":0},\"margin\":{\"t\":60},\"barmode\":\"relative\"},                        {\"responsive\": true}                    ).then(function(){\n",
       "                            \n",
       "var gd = document.getElementById('39482d39-c18d-4475-b321-f14642be3c0c');\n",
       "var x = new MutationObserver(function (mutations, observer) {{\n",
       "        var display = window.getComputedStyle(gd).display;\n",
       "        if (!display || display === 'none') {{\n",
       "            console.log([gd, 'removed!']);\n",
       "            Plotly.purge(gd);\n",
       "            observer.disconnect();\n",
       "        }}\n",
       "}});\n",
       "\n",
       "// Listen for the removal of the full notebook cells\n",
       "var notebookContainer = gd.closest('#notebook-container');\n",
       "if (notebookContainer) {{\n",
       "    x.observe(notebookContainer, {childList: true});\n",
       "}}\n",
       "\n",
       "// Listen for the clearing of the current output cell\n",
       "var outputEl = gd.closest('.output');\n",
       "if (outputEl) {{\n",
       "    x.observe(outputEl, {childList: true});\n",
       "}}\n",
       "\n",
       "                        })                };                });            </script>        </div>"
      ]
     },
     "metadata": {},
     "output_type": "display_data"
    }
   ],
   "source": [
    "Delivery_Term = df.groupby(['Delivery_Term',\"Type\"]).size().sort_values(ascending =True).reset_index(name='counts')\n",
    "px.bar(x=\"counts\",y=\"Delivery_Term\",data_frame=Delivery_Term, color = \"Type\",\n",
    "       color_discrete_sequence=px.colors.qualitative.Bold)"
   ]
  },
  {
   "cell_type": "code",
   "execution_count": 164,
   "metadata": {},
   "outputs": [
    {
     "name": "stdout",
     "output_type": "stream",
     "text": [
      "<class 'pandas.core.frame.DataFrame'>\n",
      "RangeIndex: 60 entries, 0 to 59\n",
      "Data columns (total 3 columns):\n",
      " #   Column         Non-Null Count  Dtype \n",
      "---  ------         --------------  ----- \n",
      " 0   Delivery_Date  60 non-null     string\n",
      " 1   Type           60 non-null     string\n",
      " 2   counts         60 non-null     Int64 \n",
      "dtypes: Int64(1), string(2)\n",
      "memory usage: 1.6 KB\n"
     ]
    }
   ],
   "source": [
    "Delivery_Date = df.groupby(['Delivery_Date',\"Type\"]).size().sort_values(ascending =True).reset_index(name='counts')\n",
    "Delivery_Date = Delivery_Date.convert_dtypes()\n",
    "Delivery_Date.info()"
   ]
  },
  {
   "cell_type": "code",
   "execution_count": 177,
   "metadata": {},
   "outputs": [
    {
     "data": {
      "application/vnd.plotly.v1+json": {
       "config": {
        "plotlyServerURL": "https://plot.ly"
       },
       "data": [
        {
         "alignmentgroup": "True",
         "hovertemplate": "Type=Studio<br>counts=%{x}<br>Delivery_Date=%{y}<extra></extra>",
         "legendgroup": "Studio",
         "marker": {
          "color": "#ff9999",
          "pattern": {
           "shape": ""
          }
         },
         "name": "Studio",
         "offsetgroup": "Studio",
         "orientation": "h",
         "showlegend": true,
         "textposition": "auto",
         "type": "bar",
         "x": [
          1,
          1,
          3,
          3,
          4,
          11,
          53
         ],
         "xaxis": "x",
         "y": [
          "2022",
          "soon",
          "2025",
          "2026",
          "2023",
          "2024",
          "Ready to move"
         ],
         "yaxis": "y"
        },
        {
         "alignmentgroup": "True",
         "hovertemplate": "Type=Town House<br>counts=%{x}<br>Delivery_Date=%{y}<extra></extra>",
         "legendgroup": "Town House",
         "marker": {
          "color": "#66b3ff",
          "pattern": {
           "shape": ""
          }
         },
         "name": "Town House",
         "offsetgroup": "Town House",
         "orientation": "h",
         "showlegend": true,
         "textposition": "auto",
         "type": "bar",
         "x": [
          2,
          3,
          5,
          5,
          15,
          15,
          16
         ],
         "xaxis": "x",
         "y": [
          "within 6 months",
          "2024",
          "2023",
          "2026",
          "2025",
          "Ready to move",
          "soon"
         ],
         "yaxis": "y"
        },
        {
         "alignmentgroup": "True",
         "hovertemplate": "Type=Duplex<br>counts=%{x}<br>Delivery_Date=%{y}<extra></extra>",
         "legendgroup": "Duplex",
         "marker": {
          "color": "#AF0038",
          "pattern": {
           "shape": ""
          }
         },
         "name": "Duplex",
         "offsetgroup": "Duplex",
         "orientation": "h",
         "showlegend": true,
         "textposition": "auto",
         "type": "bar",
         "x": [
          2,
          4,
          8,
          11,
          15,
          15,
          28,
          185
         ],
         "xaxis": "x",
         "y": [
          "within 6 months",
          "2022",
          "2026",
          "2023",
          "2025",
          "2024",
          "soon",
          "Ready to move"
         ],
         "yaxis": "y"
        },
        {
         "alignmentgroup": "True",
         "hovertemplate": "Type=Standalone Villa<br>counts=%{x}<br>Delivery_Date=%{y}<extra></extra>",
         "legendgroup": "Standalone Villa",
         "marker": {
          "color": "#ffcc99",
          "pattern": {
           "shape": ""
          }
         },
         "name": "Standalone Villa",
         "offsetgroup": "Standalone Villa",
         "orientation": "h",
         "showlegend": true,
         "textposition": "auto",
         "type": "bar",
         "x": [
          2,
          3,
          3,
          5,
          6,
          14,
          132
         ],
         "xaxis": "x",
         "y": [
          "2022",
          "2026",
          "2025",
          "2023",
          "2024",
          "soon",
          "Ready to move"
         ],
         "yaxis": "y"
        },
        {
         "alignmentgroup": "True",
         "hovertemplate": "Type=Penthouse<br>counts=%{x}<br>Delivery_Date=%{y}<extra></extra>",
         "legendgroup": "Penthouse",
         "marker": {
          "color": "#00A08B",
          "pattern": {
           "shape": ""
          }
         },
         "name": "Penthouse",
         "offsetgroup": "Penthouse",
         "orientation": "h",
         "showlegend": true,
         "textposition": "auto",
         "type": "bar",
         "x": [
          2,
          3,
          3,
          4,
          6,
          8,
          17,
          171
         ],
         "xaxis": "x",
         "y": [
          "2026",
          "within 6 months",
          "2025",
          "2022",
          "2024",
          "2023",
          "soon",
          "Ready to move"
         ],
         "yaxis": "y"
        },
        {
         "alignmentgroup": "True",
         "hovertemplate": "Type=Twin house<br>counts=%{x}<br>Delivery_Date=%{y}<extra></extra>",
         "legendgroup": "Twin house",
         "marker": {
          "color": "yellow",
          "pattern": {
           "shape": ""
          }
         },
         "name": "Twin house",
         "offsetgroup": "Twin house",
         "orientation": "h",
         "showlegend": true,
         "textposition": "auto",
         "type": "bar",
         "x": [
          3,
          7,
          7,
          10,
          13,
          96
         ],
         "xaxis": "x",
         "y": [
          "2026",
          "2025",
          "2023",
          "2024",
          "soon",
          "Ready to move"
         ],
         "yaxis": "y"
        },
        {
         "alignmentgroup": "True",
         "hovertemplate": "Type=Chalet<br>counts=%{x}<br>Delivery_Date=%{y}<extra></extra>",
         "legendgroup": "Chalet",
         "marker": {
          "color": "#cea9bc",
          "pattern": {
           "shape": ""
          }
         },
         "name": "Chalet",
         "offsetgroup": "Chalet",
         "orientation": "h",
         "showlegend": true,
         "textposition": "auto",
         "type": "bar",
         "x": [
          3,
          16,
          17,
          75,
          94,
          98,
          136,
          230,
          1087
         ],
         "xaxis": "x",
         "y": [
          "2027",
          "within 6 months",
          "2022",
          "2023",
          "2024",
          "2026",
          "2025",
          "soon",
          "Ready to move"
         ],
         "yaxis": "y"
        },
        {
         "alignmentgroup": "True",
         "hovertemplate": "Type=Apartment<br>counts=%{x}<br>Delivery_Date=%{y}<extra></extra>",
         "legendgroup": "Apartment",
         "marker": {
          "color": "#0a417a",
          "pattern": {
           "shape": ""
          }
         },
         "name": "Apartment",
         "offsetgroup": "Apartment",
         "orientation": "h",
         "showlegend": true,
         "textposition": "auto",
         "type": "bar",
         "x": [
          23,
          25,
          30,
          120,
          123,
          189,
          192,
          1703
         ],
         "xaxis": "x",
         "y": [
          "2022",
          "2026",
          "within 6 months",
          "2025",
          "2023",
          "soon",
          "2024",
          "Ready to move"
         ],
         "yaxis": "y"
        }
       ],
       "layout": {
        "barmode": "relative",
        "height": 500,
        "legend": {
         "title": {
          "text": "Type"
         },
         "tracegroupgap": 0
        },
        "template": {
         "data": {
          "bar": [
           {
            "error_x": {
             "color": "#2a3f5f"
            },
            "error_y": {
             "color": "#2a3f5f"
            },
            "marker": {
             "line": {
              "color": "#E5ECF6",
              "width": 0.5
             },
             "pattern": {
              "fillmode": "overlay",
              "size": 10,
              "solidity": 0.2
             }
            },
            "type": "bar"
           }
          ],
          "barpolar": [
           {
            "marker": {
             "line": {
              "color": "#E5ECF6",
              "width": 0.5
             },
             "pattern": {
              "fillmode": "overlay",
              "size": 10,
              "solidity": 0.2
             }
            },
            "type": "barpolar"
           }
          ],
          "carpet": [
           {
            "aaxis": {
             "endlinecolor": "#2a3f5f",
             "gridcolor": "white",
             "linecolor": "white",
             "minorgridcolor": "white",
             "startlinecolor": "#2a3f5f"
            },
            "baxis": {
             "endlinecolor": "#2a3f5f",
             "gridcolor": "white",
             "linecolor": "white",
             "minorgridcolor": "white",
             "startlinecolor": "#2a3f5f"
            },
            "type": "carpet"
           }
          ],
          "choropleth": [
           {
            "colorbar": {
             "outlinewidth": 0,
             "ticks": ""
            },
            "type": "choropleth"
           }
          ],
          "contour": [
           {
            "colorbar": {
             "outlinewidth": 0,
             "ticks": ""
            },
            "colorscale": [
             [
              0,
              "#0d0887"
             ],
             [
              0.1111111111111111,
              "#46039f"
             ],
             [
              0.2222222222222222,
              "#7201a8"
             ],
             [
              0.3333333333333333,
              "#9c179e"
             ],
             [
              0.4444444444444444,
              "#bd3786"
             ],
             [
              0.5555555555555556,
              "#d8576b"
             ],
             [
              0.6666666666666666,
              "#ed7953"
             ],
             [
              0.7777777777777778,
              "#fb9f3a"
             ],
             [
              0.8888888888888888,
              "#fdca26"
             ],
             [
              1,
              "#f0f921"
             ]
            ],
            "type": "contour"
           }
          ],
          "contourcarpet": [
           {
            "colorbar": {
             "outlinewidth": 0,
             "ticks": ""
            },
            "type": "contourcarpet"
           }
          ],
          "heatmap": [
           {
            "colorbar": {
             "outlinewidth": 0,
             "ticks": ""
            },
            "colorscale": [
             [
              0,
              "#0d0887"
             ],
             [
              0.1111111111111111,
              "#46039f"
             ],
             [
              0.2222222222222222,
              "#7201a8"
             ],
             [
              0.3333333333333333,
              "#9c179e"
             ],
             [
              0.4444444444444444,
              "#bd3786"
             ],
             [
              0.5555555555555556,
              "#d8576b"
             ],
             [
              0.6666666666666666,
              "#ed7953"
             ],
             [
              0.7777777777777778,
              "#fb9f3a"
             ],
             [
              0.8888888888888888,
              "#fdca26"
             ],
             [
              1,
              "#f0f921"
             ]
            ],
            "type": "heatmap"
           }
          ],
          "heatmapgl": [
           {
            "colorbar": {
             "outlinewidth": 0,
             "ticks": ""
            },
            "colorscale": [
             [
              0,
              "#0d0887"
             ],
             [
              0.1111111111111111,
              "#46039f"
             ],
             [
              0.2222222222222222,
              "#7201a8"
             ],
             [
              0.3333333333333333,
              "#9c179e"
             ],
             [
              0.4444444444444444,
              "#bd3786"
             ],
             [
              0.5555555555555556,
              "#d8576b"
             ],
             [
              0.6666666666666666,
              "#ed7953"
             ],
             [
              0.7777777777777778,
              "#fb9f3a"
             ],
             [
              0.8888888888888888,
              "#fdca26"
             ],
             [
              1,
              "#f0f921"
             ]
            ],
            "type": "heatmapgl"
           }
          ],
          "histogram": [
           {
            "marker": {
             "pattern": {
              "fillmode": "overlay",
              "size": 10,
              "solidity": 0.2
             }
            },
            "type": "histogram"
           }
          ],
          "histogram2d": [
           {
            "colorbar": {
             "outlinewidth": 0,
             "ticks": ""
            },
            "colorscale": [
             [
              0,
              "#0d0887"
             ],
             [
              0.1111111111111111,
              "#46039f"
             ],
             [
              0.2222222222222222,
              "#7201a8"
             ],
             [
              0.3333333333333333,
              "#9c179e"
             ],
             [
              0.4444444444444444,
              "#bd3786"
             ],
             [
              0.5555555555555556,
              "#d8576b"
             ],
             [
              0.6666666666666666,
              "#ed7953"
             ],
             [
              0.7777777777777778,
              "#fb9f3a"
             ],
             [
              0.8888888888888888,
              "#fdca26"
             ],
             [
              1,
              "#f0f921"
             ]
            ],
            "type": "histogram2d"
           }
          ],
          "histogram2dcontour": [
           {
            "colorbar": {
             "outlinewidth": 0,
             "ticks": ""
            },
            "colorscale": [
             [
              0,
              "#0d0887"
             ],
             [
              0.1111111111111111,
              "#46039f"
             ],
             [
              0.2222222222222222,
              "#7201a8"
             ],
             [
              0.3333333333333333,
              "#9c179e"
             ],
             [
              0.4444444444444444,
              "#bd3786"
             ],
             [
              0.5555555555555556,
              "#d8576b"
             ],
             [
              0.6666666666666666,
              "#ed7953"
             ],
             [
              0.7777777777777778,
              "#fb9f3a"
             ],
             [
              0.8888888888888888,
              "#fdca26"
             ],
             [
              1,
              "#f0f921"
             ]
            ],
            "type": "histogram2dcontour"
           }
          ],
          "mesh3d": [
           {
            "colorbar": {
             "outlinewidth": 0,
             "ticks": ""
            },
            "type": "mesh3d"
           }
          ],
          "parcoords": [
           {
            "line": {
             "colorbar": {
              "outlinewidth": 0,
              "ticks": ""
             }
            },
            "type": "parcoords"
           }
          ],
          "pie": [
           {
            "automargin": true,
            "type": "pie"
           }
          ],
          "scatter": [
           {
            "fillpattern": {
             "fillmode": "overlay",
             "size": 10,
             "solidity": 0.2
            },
            "type": "scatter"
           }
          ],
          "scatter3d": [
           {
            "line": {
             "colorbar": {
              "outlinewidth": 0,
              "ticks": ""
             }
            },
            "marker": {
             "colorbar": {
              "outlinewidth": 0,
              "ticks": ""
             }
            },
            "type": "scatter3d"
           }
          ],
          "scattercarpet": [
           {
            "marker": {
             "colorbar": {
              "outlinewidth": 0,
              "ticks": ""
             }
            },
            "type": "scattercarpet"
           }
          ],
          "scattergeo": [
           {
            "marker": {
             "colorbar": {
              "outlinewidth": 0,
              "ticks": ""
             }
            },
            "type": "scattergeo"
           }
          ],
          "scattergl": [
           {
            "marker": {
             "colorbar": {
              "outlinewidth": 0,
              "ticks": ""
             }
            },
            "type": "scattergl"
           }
          ],
          "scattermapbox": [
           {
            "marker": {
             "colorbar": {
              "outlinewidth": 0,
              "ticks": ""
             }
            },
            "type": "scattermapbox"
           }
          ],
          "scatterpolar": [
           {
            "marker": {
             "colorbar": {
              "outlinewidth": 0,
              "ticks": ""
             }
            },
            "type": "scatterpolar"
           }
          ],
          "scatterpolargl": [
           {
            "marker": {
             "colorbar": {
              "outlinewidth": 0,
              "ticks": ""
             }
            },
            "type": "scatterpolargl"
           }
          ],
          "scatterternary": [
           {
            "marker": {
             "colorbar": {
              "outlinewidth": 0,
              "ticks": ""
             }
            },
            "type": "scatterternary"
           }
          ],
          "surface": [
           {
            "colorbar": {
             "outlinewidth": 0,
             "ticks": ""
            },
            "colorscale": [
             [
              0,
              "#0d0887"
             ],
             [
              0.1111111111111111,
              "#46039f"
             ],
             [
              0.2222222222222222,
              "#7201a8"
             ],
             [
              0.3333333333333333,
              "#9c179e"
             ],
             [
              0.4444444444444444,
              "#bd3786"
             ],
             [
              0.5555555555555556,
              "#d8576b"
             ],
             [
              0.6666666666666666,
              "#ed7953"
             ],
             [
              0.7777777777777778,
              "#fb9f3a"
             ],
             [
              0.8888888888888888,
              "#fdca26"
             ],
             [
              1,
              "#f0f921"
             ]
            ],
            "type": "surface"
           }
          ],
          "table": [
           {
            "cells": {
             "fill": {
              "color": "#EBF0F8"
             },
             "line": {
              "color": "white"
             }
            },
            "header": {
             "fill": {
              "color": "#C8D4E3"
             },
             "line": {
              "color": "white"
             }
            },
            "type": "table"
           }
          ]
         },
         "layout": {
          "annotationdefaults": {
           "arrowcolor": "#2a3f5f",
           "arrowhead": 0,
           "arrowwidth": 1
          },
          "autotypenumbers": "strict",
          "coloraxis": {
           "colorbar": {
            "outlinewidth": 0,
            "ticks": ""
           }
          },
          "colorscale": {
           "diverging": [
            [
             0,
             "#8e0152"
            ],
            [
             0.1,
             "#c51b7d"
            ],
            [
             0.2,
             "#de77ae"
            ],
            [
             0.3,
             "#f1b6da"
            ],
            [
             0.4,
             "#fde0ef"
            ],
            [
             0.5,
             "#f7f7f7"
            ],
            [
             0.6,
             "#e6f5d0"
            ],
            [
             0.7,
             "#b8e186"
            ],
            [
             0.8,
             "#7fbc41"
            ],
            [
             0.9,
             "#4d9221"
            ],
            [
             1,
             "#276419"
            ]
           ],
           "sequential": [
            [
             0,
             "#0d0887"
            ],
            [
             0.1111111111111111,
             "#46039f"
            ],
            [
             0.2222222222222222,
             "#7201a8"
            ],
            [
             0.3333333333333333,
             "#9c179e"
            ],
            [
             0.4444444444444444,
             "#bd3786"
            ],
            [
             0.5555555555555556,
             "#d8576b"
            ],
            [
             0.6666666666666666,
             "#ed7953"
            ],
            [
             0.7777777777777778,
             "#fb9f3a"
            ],
            [
             0.8888888888888888,
             "#fdca26"
            ],
            [
             1,
             "#f0f921"
            ]
           ],
           "sequentialminus": [
            [
             0,
             "#0d0887"
            ],
            [
             0.1111111111111111,
             "#46039f"
            ],
            [
             0.2222222222222222,
             "#7201a8"
            ],
            [
             0.3333333333333333,
             "#9c179e"
            ],
            [
             0.4444444444444444,
             "#bd3786"
            ],
            [
             0.5555555555555556,
             "#d8576b"
            ],
            [
             0.6666666666666666,
             "#ed7953"
            ],
            [
             0.7777777777777778,
             "#fb9f3a"
            ],
            [
             0.8888888888888888,
             "#fdca26"
            ],
            [
             1,
             "#f0f921"
            ]
           ]
          },
          "colorway": [
           "#636efa",
           "#EF553B",
           "#00cc96",
           "#ab63fa",
           "#FFA15A",
           "#19d3f3",
           "#FF6692",
           "#B6E880",
           "#FF97FF",
           "#FECB52"
          ],
          "font": {
           "color": "#2a3f5f"
          },
          "geo": {
           "bgcolor": "white",
           "lakecolor": "white",
           "landcolor": "#E5ECF6",
           "showlakes": true,
           "showland": true,
           "subunitcolor": "white"
          },
          "hoverlabel": {
           "align": "left"
          },
          "hovermode": "closest",
          "mapbox": {
           "style": "light"
          },
          "paper_bgcolor": "white",
          "plot_bgcolor": "#E5ECF6",
          "polar": {
           "angularaxis": {
            "gridcolor": "white",
            "linecolor": "white",
            "ticks": ""
           },
           "bgcolor": "#E5ECF6",
           "radialaxis": {
            "gridcolor": "white",
            "linecolor": "white",
            "ticks": ""
           }
          },
          "scene": {
           "xaxis": {
            "backgroundcolor": "#E5ECF6",
            "gridcolor": "white",
            "gridwidth": 2,
            "linecolor": "white",
            "showbackground": true,
            "ticks": "",
            "zerolinecolor": "white"
           },
           "yaxis": {
            "backgroundcolor": "#E5ECF6",
            "gridcolor": "white",
            "gridwidth": 2,
            "linecolor": "white",
            "showbackground": true,
            "ticks": "",
            "zerolinecolor": "white"
           },
           "zaxis": {
            "backgroundcolor": "#E5ECF6",
            "gridcolor": "white",
            "gridwidth": 2,
            "linecolor": "white",
            "showbackground": true,
            "ticks": "",
            "zerolinecolor": "white"
           }
          },
          "shapedefaults": {
           "line": {
            "color": "#2a3f5f"
           }
          },
          "ternary": {
           "aaxis": {
            "gridcolor": "white",
            "linecolor": "white",
            "ticks": ""
           },
           "baxis": {
            "gridcolor": "white",
            "linecolor": "white",
            "ticks": ""
           },
           "bgcolor": "#E5ECF6",
           "caxis": {
            "gridcolor": "white",
            "linecolor": "white",
            "ticks": ""
           }
          },
          "title": {
           "x": 0.05
          },
          "xaxis": {
           "automargin": true,
           "gridcolor": "white",
           "linecolor": "white",
           "ticks": "",
           "title": {
            "standoff": 15
           },
           "zerolinecolor": "white",
           "zerolinewidth": 2
          },
          "yaxis": {
           "automargin": true,
           "gridcolor": "white",
           "linecolor": "white",
           "ticks": "",
           "title": {
            "standoff": 15
           },
           "zerolinecolor": "white",
           "zerolinewidth": 2
          }
         }
        },
        "title": {
         "text": "Date of Receiving the units"
        },
        "width": 1000,
        "xaxis": {
         "anchor": "y",
         "domain": [
          0,
          1
         ],
         "title": {
          "text": "counts"
         }
        },
        "yaxis": {
         "anchor": "x",
         "domain": [
          0,
          1
         ],
         "title": {
          "text": "Delivery_Date"
         }
        }
       }
      },
      "text/html": [
       "<div>                            <div id=\"a4608f11-0bc0-45d2-bb56-38a47a2f2b63\" class=\"plotly-graph-div\" style=\"height:500px; width:1000px;\"></div>            <script type=\"text/javascript\">                require([\"plotly\"], function(Plotly) {                    window.PLOTLYENV=window.PLOTLYENV || {};                                    if (document.getElementById(\"a4608f11-0bc0-45d2-bb56-38a47a2f2b63\")) {                    Plotly.newPlot(                        \"a4608f11-0bc0-45d2-bb56-38a47a2f2b63\",                        [{\"alignmentgroup\":\"True\",\"hovertemplate\":\"Type=Studio\\u003cbr\\u003ecounts=%{x}\\u003cbr\\u003eDelivery_Date=%{y}\\u003cextra\\u003e\\u003c\\u002fextra\\u003e\",\"legendgroup\":\"Studio\",\"marker\":{\"color\":\"#ff9999\",\"pattern\":{\"shape\":\"\"}},\"name\":\"Studio\",\"offsetgroup\":\"Studio\",\"orientation\":\"h\",\"showlegend\":true,\"textposition\":\"auto\",\"x\":[1,1,3,3,4,11,53],\"xaxis\":\"x\",\"y\":[\"2022\",\"soon\",\"2025\",\"2026\",\"2023\",\"2024\",\"Ready to move\"],\"yaxis\":\"y\",\"type\":\"bar\"},{\"alignmentgroup\":\"True\",\"hovertemplate\":\"Type=Town House\\u003cbr\\u003ecounts=%{x}\\u003cbr\\u003eDelivery_Date=%{y}\\u003cextra\\u003e\\u003c\\u002fextra\\u003e\",\"legendgroup\":\"Town House\",\"marker\":{\"color\":\"#66b3ff\",\"pattern\":{\"shape\":\"\"}},\"name\":\"Town House\",\"offsetgroup\":\"Town House\",\"orientation\":\"h\",\"showlegend\":true,\"textposition\":\"auto\",\"x\":[2,3,5,5,15,15,16],\"xaxis\":\"x\",\"y\":[\"within 6 months\",\"2024\",\"2023\",\"2026\",\"2025\",\"Ready to move\",\"soon\"],\"yaxis\":\"y\",\"type\":\"bar\"},{\"alignmentgroup\":\"True\",\"hovertemplate\":\"Type=Duplex\\u003cbr\\u003ecounts=%{x}\\u003cbr\\u003eDelivery_Date=%{y}\\u003cextra\\u003e\\u003c\\u002fextra\\u003e\",\"legendgroup\":\"Duplex\",\"marker\":{\"color\":\"#AF0038\",\"pattern\":{\"shape\":\"\"}},\"name\":\"Duplex\",\"offsetgroup\":\"Duplex\",\"orientation\":\"h\",\"showlegend\":true,\"textposition\":\"auto\",\"x\":[2,4,8,11,15,15,28,185],\"xaxis\":\"x\",\"y\":[\"within 6 months\",\"2022\",\"2026\",\"2023\",\"2025\",\"2024\",\"soon\",\"Ready to move\"],\"yaxis\":\"y\",\"type\":\"bar\"},{\"alignmentgroup\":\"True\",\"hovertemplate\":\"Type=Standalone Villa\\u003cbr\\u003ecounts=%{x}\\u003cbr\\u003eDelivery_Date=%{y}\\u003cextra\\u003e\\u003c\\u002fextra\\u003e\",\"legendgroup\":\"Standalone Villa\",\"marker\":{\"color\":\"#ffcc99\",\"pattern\":{\"shape\":\"\"}},\"name\":\"Standalone Villa\",\"offsetgroup\":\"Standalone Villa\",\"orientation\":\"h\",\"showlegend\":true,\"textposition\":\"auto\",\"x\":[2,3,3,5,6,14,132],\"xaxis\":\"x\",\"y\":[\"2022\",\"2026\",\"2025\",\"2023\",\"2024\",\"soon\",\"Ready to move\"],\"yaxis\":\"y\",\"type\":\"bar\"},{\"alignmentgroup\":\"True\",\"hovertemplate\":\"Type=Penthouse\\u003cbr\\u003ecounts=%{x}\\u003cbr\\u003eDelivery_Date=%{y}\\u003cextra\\u003e\\u003c\\u002fextra\\u003e\",\"legendgroup\":\"Penthouse\",\"marker\":{\"color\":\"#00A08B\",\"pattern\":{\"shape\":\"\"}},\"name\":\"Penthouse\",\"offsetgroup\":\"Penthouse\",\"orientation\":\"h\",\"showlegend\":true,\"textposition\":\"auto\",\"x\":[2,3,3,4,6,8,17,171],\"xaxis\":\"x\",\"y\":[\"2026\",\"within 6 months\",\"2025\",\"2022\",\"2024\",\"2023\",\"soon\",\"Ready to move\"],\"yaxis\":\"y\",\"type\":\"bar\"},{\"alignmentgroup\":\"True\",\"hovertemplate\":\"Type=Twin house\\u003cbr\\u003ecounts=%{x}\\u003cbr\\u003eDelivery_Date=%{y}\\u003cextra\\u003e\\u003c\\u002fextra\\u003e\",\"legendgroup\":\"Twin house\",\"marker\":{\"color\":\"yellow\",\"pattern\":{\"shape\":\"\"}},\"name\":\"Twin house\",\"offsetgroup\":\"Twin house\",\"orientation\":\"h\",\"showlegend\":true,\"textposition\":\"auto\",\"x\":[3,7,7,10,13,96],\"xaxis\":\"x\",\"y\":[\"2026\",\"2025\",\"2023\",\"2024\",\"soon\",\"Ready to move\"],\"yaxis\":\"y\",\"type\":\"bar\"},{\"alignmentgroup\":\"True\",\"hovertemplate\":\"Type=Chalet\\u003cbr\\u003ecounts=%{x}\\u003cbr\\u003eDelivery_Date=%{y}\\u003cextra\\u003e\\u003c\\u002fextra\\u003e\",\"legendgroup\":\"Chalet\",\"marker\":{\"color\":\"#cea9bc\",\"pattern\":{\"shape\":\"\"}},\"name\":\"Chalet\",\"offsetgroup\":\"Chalet\",\"orientation\":\"h\",\"showlegend\":true,\"textposition\":\"auto\",\"x\":[3,16,17,75,94,98,136,230,1087],\"xaxis\":\"x\",\"y\":[\"2027\",\"within 6 months\",\"2022\",\"2023\",\"2024\",\"2026\",\"2025\",\"soon\",\"Ready to move\"],\"yaxis\":\"y\",\"type\":\"bar\"},{\"alignmentgroup\":\"True\",\"hovertemplate\":\"Type=Apartment\\u003cbr\\u003ecounts=%{x}\\u003cbr\\u003eDelivery_Date=%{y}\\u003cextra\\u003e\\u003c\\u002fextra\\u003e\",\"legendgroup\":\"Apartment\",\"marker\":{\"color\":\"#0a417a\",\"pattern\":{\"shape\":\"\"}},\"name\":\"Apartment\",\"offsetgroup\":\"Apartment\",\"orientation\":\"h\",\"showlegend\":true,\"textposition\":\"auto\",\"x\":[23,25,30,120,123,189,192,1703],\"xaxis\":\"x\",\"y\":[\"2022\",\"2026\",\"within 6 months\",\"2025\",\"2023\",\"soon\",\"2024\",\"Ready to move\"],\"yaxis\":\"y\",\"type\":\"bar\"}],                        {\"template\":{\"data\":{\"histogram2dcontour\":[{\"type\":\"histogram2dcontour\",\"colorbar\":{\"outlinewidth\":0,\"ticks\":\"\"},\"colorscale\":[[0.0,\"#0d0887\"],[0.1111111111111111,\"#46039f\"],[0.2222222222222222,\"#7201a8\"],[0.3333333333333333,\"#9c179e\"],[0.4444444444444444,\"#bd3786\"],[0.5555555555555556,\"#d8576b\"],[0.6666666666666666,\"#ed7953\"],[0.7777777777777778,\"#fb9f3a\"],[0.8888888888888888,\"#fdca26\"],[1.0,\"#f0f921\"]]}],\"choropleth\":[{\"type\":\"choropleth\",\"colorbar\":{\"outlinewidth\":0,\"ticks\":\"\"}}],\"histogram2d\":[{\"type\":\"histogram2d\",\"colorbar\":{\"outlinewidth\":0,\"ticks\":\"\"},\"colorscale\":[[0.0,\"#0d0887\"],[0.1111111111111111,\"#46039f\"],[0.2222222222222222,\"#7201a8\"],[0.3333333333333333,\"#9c179e\"],[0.4444444444444444,\"#bd3786\"],[0.5555555555555556,\"#d8576b\"],[0.6666666666666666,\"#ed7953\"],[0.7777777777777778,\"#fb9f3a\"],[0.8888888888888888,\"#fdca26\"],[1.0,\"#f0f921\"]]}],\"heatmap\":[{\"type\":\"heatmap\",\"colorbar\":{\"outlinewidth\":0,\"ticks\":\"\"},\"colorscale\":[[0.0,\"#0d0887\"],[0.1111111111111111,\"#46039f\"],[0.2222222222222222,\"#7201a8\"],[0.3333333333333333,\"#9c179e\"],[0.4444444444444444,\"#bd3786\"],[0.5555555555555556,\"#d8576b\"],[0.6666666666666666,\"#ed7953\"],[0.7777777777777778,\"#fb9f3a\"],[0.8888888888888888,\"#fdca26\"],[1.0,\"#f0f921\"]]}],\"heatmapgl\":[{\"type\":\"heatmapgl\",\"colorbar\":{\"outlinewidth\":0,\"ticks\":\"\"},\"colorscale\":[[0.0,\"#0d0887\"],[0.1111111111111111,\"#46039f\"],[0.2222222222222222,\"#7201a8\"],[0.3333333333333333,\"#9c179e\"],[0.4444444444444444,\"#bd3786\"],[0.5555555555555556,\"#d8576b\"],[0.6666666666666666,\"#ed7953\"],[0.7777777777777778,\"#fb9f3a\"],[0.8888888888888888,\"#fdca26\"],[1.0,\"#f0f921\"]]}],\"contourcarpet\":[{\"type\":\"contourcarpet\",\"colorbar\":{\"outlinewidth\":0,\"ticks\":\"\"}}],\"contour\":[{\"type\":\"contour\",\"colorbar\":{\"outlinewidth\":0,\"ticks\":\"\"},\"colorscale\":[[0.0,\"#0d0887\"],[0.1111111111111111,\"#46039f\"],[0.2222222222222222,\"#7201a8\"],[0.3333333333333333,\"#9c179e\"],[0.4444444444444444,\"#bd3786\"],[0.5555555555555556,\"#d8576b\"],[0.6666666666666666,\"#ed7953\"],[0.7777777777777778,\"#fb9f3a\"],[0.8888888888888888,\"#fdca26\"],[1.0,\"#f0f921\"]]}],\"surface\":[{\"type\":\"surface\",\"colorbar\":{\"outlinewidth\":0,\"ticks\":\"\"},\"colorscale\":[[0.0,\"#0d0887\"],[0.1111111111111111,\"#46039f\"],[0.2222222222222222,\"#7201a8\"],[0.3333333333333333,\"#9c179e\"],[0.4444444444444444,\"#bd3786\"],[0.5555555555555556,\"#d8576b\"],[0.6666666666666666,\"#ed7953\"],[0.7777777777777778,\"#fb9f3a\"],[0.8888888888888888,\"#fdca26\"],[1.0,\"#f0f921\"]]}],\"mesh3d\":[{\"type\":\"mesh3d\",\"colorbar\":{\"outlinewidth\":0,\"ticks\":\"\"}}],\"scatter\":[{\"fillpattern\":{\"fillmode\":\"overlay\",\"size\":10,\"solidity\":0.2},\"type\":\"scatter\"}],\"parcoords\":[{\"type\":\"parcoords\",\"line\":{\"colorbar\":{\"outlinewidth\":0,\"ticks\":\"\"}}}],\"scatterpolargl\":[{\"type\":\"scatterpolargl\",\"marker\":{\"colorbar\":{\"outlinewidth\":0,\"ticks\":\"\"}}}],\"bar\":[{\"error_x\":{\"color\":\"#2a3f5f\"},\"error_y\":{\"color\":\"#2a3f5f\"},\"marker\":{\"line\":{\"color\":\"#E5ECF6\",\"width\":0.5},\"pattern\":{\"fillmode\":\"overlay\",\"size\":10,\"solidity\":0.2}},\"type\":\"bar\"}],\"scattergeo\":[{\"type\":\"scattergeo\",\"marker\":{\"colorbar\":{\"outlinewidth\":0,\"ticks\":\"\"}}}],\"scatterpolar\":[{\"type\":\"scatterpolar\",\"marker\":{\"colorbar\":{\"outlinewidth\":0,\"ticks\":\"\"}}}],\"histogram\":[{\"marker\":{\"pattern\":{\"fillmode\":\"overlay\",\"size\":10,\"solidity\":0.2}},\"type\":\"histogram\"}],\"scattergl\":[{\"type\":\"scattergl\",\"marker\":{\"colorbar\":{\"outlinewidth\":0,\"ticks\":\"\"}}}],\"scatter3d\":[{\"type\":\"scatter3d\",\"line\":{\"colorbar\":{\"outlinewidth\":0,\"ticks\":\"\"}},\"marker\":{\"colorbar\":{\"outlinewidth\":0,\"ticks\":\"\"}}}],\"scattermapbox\":[{\"type\":\"scattermapbox\",\"marker\":{\"colorbar\":{\"outlinewidth\":0,\"ticks\":\"\"}}}],\"scatterternary\":[{\"type\":\"scatterternary\",\"marker\":{\"colorbar\":{\"outlinewidth\":0,\"ticks\":\"\"}}}],\"scattercarpet\":[{\"type\":\"scattercarpet\",\"marker\":{\"colorbar\":{\"outlinewidth\":0,\"ticks\":\"\"}}}],\"carpet\":[{\"aaxis\":{\"endlinecolor\":\"#2a3f5f\",\"gridcolor\":\"white\",\"linecolor\":\"white\",\"minorgridcolor\":\"white\",\"startlinecolor\":\"#2a3f5f\"},\"baxis\":{\"endlinecolor\":\"#2a3f5f\",\"gridcolor\":\"white\",\"linecolor\":\"white\",\"minorgridcolor\":\"white\",\"startlinecolor\":\"#2a3f5f\"},\"type\":\"carpet\"}],\"table\":[{\"cells\":{\"fill\":{\"color\":\"#EBF0F8\"},\"line\":{\"color\":\"white\"}},\"header\":{\"fill\":{\"color\":\"#C8D4E3\"},\"line\":{\"color\":\"white\"}},\"type\":\"table\"}],\"barpolar\":[{\"marker\":{\"line\":{\"color\":\"#E5ECF6\",\"width\":0.5},\"pattern\":{\"fillmode\":\"overlay\",\"size\":10,\"solidity\":0.2}},\"type\":\"barpolar\"}],\"pie\":[{\"automargin\":true,\"type\":\"pie\"}]},\"layout\":{\"autotypenumbers\":\"strict\",\"colorway\":[\"#636efa\",\"#EF553B\",\"#00cc96\",\"#ab63fa\",\"#FFA15A\",\"#19d3f3\",\"#FF6692\",\"#B6E880\",\"#FF97FF\",\"#FECB52\"],\"font\":{\"color\":\"#2a3f5f\"},\"hovermode\":\"closest\",\"hoverlabel\":{\"align\":\"left\"},\"paper_bgcolor\":\"white\",\"plot_bgcolor\":\"#E5ECF6\",\"polar\":{\"bgcolor\":\"#E5ECF6\",\"angularaxis\":{\"gridcolor\":\"white\",\"linecolor\":\"white\",\"ticks\":\"\"},\"radialaxis\":{\"gridcolor\":\"white\",\"linecolor\":\"white\",\"ticks\":\"\"}},\"ternary\":{\"bgcolor\":\"#E5ECF6\",\"aaxis\":{\"gridcolor\":\"white\",\"linecolor\":\"white\",\"ticks\":\"\"},\"baxis\":{\"gridcolor\":\"white\",\"linecolor\":\"white\",\"ticks\":\"\"},\"caxis\":{\"gridcolor\":\"white\",\"linecolor\":\"white\",\"ticks\":\"\"}},\"coloraxis\":{\"colorbar\":{\"outlinewidth\":0,\"ticks\":\"\"}},\"colorscale\":{\"sequential\":[[0.0,\"#0d0887\"],[0.1111111111111111,\"#46039f\"],[0.2222222222222222,\"#7201a8\"],[0.3333333333333333,\"#9c179e\"],[0.4444444444444444,\"#bd3786\"],[0.5555555555555556,\"#d8576b\"],[0.6666666666666666,\"#ed7953\"],[0.7777777777777778,\"#fb9f3a\"],[0.8888888888888888,\"#fdca26\"],[1.0,\"#f0f921\"]],\"sequentialminus\":[[0.0,\"#0d0887\"],[0.1111111111111111,\"#46039f\"],[0.2222222222222222,\"#7201a8\"],[0.3333333333333333,\"#9c179e\"],[0.4444444444444444,\"#bd3786\"],[0.5555555555555556,\"#d8576b\"],[0.6666666666666666,\"#ed7953\"],[0.7777777777777778,\"#fb9f3a\"],[0.8888888888888888,\"#fdca26\"],[1.0,\"#f0f921\"]],\"diverging\":[[0,\"#8e0152\"],[0.1,\"#c51b7d\"],[0.2,\"#de77ae\"],[0.3,\"#f1b6da\"],[0.4,\"#fde0ef\"],[0.5,\"#f7f7f7\"],[0.6,\"#e6f5d0\"],[0.7,\"#b8e186\"],[0.8,\"#7fbc41\"],[0.9,\"#4d9221\"],[1,\"#276419\"]]},\"xaxis\":{\"gridcolor\":\"white\",\"linecolor\":\"white\",\"ticks\":\"\",\"title\":{\"standoff\":15},\"zerolinecolor\":\"white\",\"automargin\":true,\"zerolinewidth\":2},\"yaxis\":{\"gridcolor\":\"white\",\"linecolor\":\"white\",\"ticks\":\"\",\"title\":{\"standoff\":15},\"zerolinecolor\":\"white\",\"automargin\":true,\"zerolinewidth\":2},\"scene\":{\"xaxis\":{\"backgroundcolor\":\"#E5ECF6\",\"gridcolor\":\"white\",\"linecolor\":\"white\",\"showbackground\":true,\"ticks\":\"\",\"zerolinecolor\":\"white\",\"gridwidth\":2},\"yaxis\":{\"backgroundcolor\":\"#E5ECF6\",\"gridcolor\":\"white\",\"linecolor\":\"white\",\"showbackground\":true,\"ticks\":\"\",\"zerolinecolor\":\"white\",\"gridwidth\":2},\"zaxis\":{\"backgroundcolor\":\"#E5ECF6\",\"gridcolor\":\"white\",\"linecolor\":\"white\",\"showbackground\":true,\"ticks\":\"\",\"zerolinecolor\":\"white\",\"gridwidth\":2}},\"shapedefaults\":{\"line\":{\"color\":\"#2a3f5f\"}},\"annotationdefaults\":{\"arrowcolor\":\"#2a3f5f\",\"arrowhead\":0,\"arrowwidth\":1},\"geo\":{\"bgcolor\":\"white\",\"landcolor\":\"#E5ECF6\",\"subunitcolor\":\"white\",\"showland\":true,\"showlakes\":true,\"lakecolor\":\"white\"},\"title\":{\"x\":0.05},\"mapbox\":{\"style\":\"light\"}}},\"xaxis\":{\"anchor\":\"y\",\"domain\":[0.0,1.0],\"title\":{\"text\":\"counts\"}},\"yaxis\":{\"anchor\":\"x\",\"domain\":[0.0,1.0],\"title\":{\"text\":\"Delivery_Date\"}},\"legend\":{\"title\":{\"text\":\"Type\"},\"tracegroupgap\":0},\"title\":{\"text\":\"Date of Receiving the units\"},\"barmode\":\"relative\",\"height\":500,\"width\":1000},                        {\"responsive\": true}                    ).then(function(){\n",
       "                            \n",
       "var gd = document.getElementById('a4608f11-0bc0-45d2-bb56-38a47a2f2b63');\n",
       "var x = new MutationObserver(function (mutations, observer) {{\n",
       "        var display = window.getComputedStyle(gd).display;\n",
       "        if (!display || display === 'none') {{\n",
       "            console.log([gd, 'removed!']);\n",
       "            Plotly.purge(gd);\n",
       "            observer.disconnect();\n",
       "        }}\n",
       "}});\n",
       "\n",
       "// Listen for the removal of the full notebook cells\n",
       "var notebookContainer = gd.closest('#notebook-container');\n",
       "if (notebookContainer) {{\n",
       "    x.observe(notebookContainer, {childList: true});\n",
       "}}\n",
       "\n",
       "// Listen for the clearing of the current output cell\n",
       "var outputEl = gd.closest('.output');\n",
       "if (outputEl) {{\n",
       "    x.observe(outputEl, {childList: true});\n",
       "}}\n",
       "\n",
       "                        })                };                });            </script>        </div>"
      ]
     },
     "metadata": {},
     "output_type": "display_data"
    }
   ],
   "source": [
    "fig = px.bar(x=\"counts\",y=\"Delivery_Date\",data_frame=Delivery_Date,color = \"Type\",title = \"Date of Receiving the units\",\n",
    "       color_discrete_sequence=['#ff9999','#66b3ff','#AF0038','#ffcc99',\"#00A08B\",\"yellow\",\"#cea9bc\",\"#0a417a\",\"#A777F1\",\"#005F60\"])\n",
    "fig.update_layout(height=500,width = 1000)\n",
    "fig.show()"
   ]
  },
  {
   "cell_type": "code",
   "execution_count": 156,
   "metadata": {},
   "outputs": [
    {
     "data": {
      "text/plain": [
       "Delivery_Date\n",
       "2022                 51\n",
       "2023                238\n",
       "2024                337\n",
       "2025                302\n",
       "2026                147\n",
       "2027                  3\n",
       "Ready to move      3442\n",
       "soon                508\n",
       "within 6 months      53\n",
       "Name: counts, dtype: Int64"
      ]
     },
     "execution_count": 156,
     "metadata": {},
     "output_type": "execute_result"
    }
   ],
   "source": [
    "Delivery_Date.groupby(\"Delivery_Date\")[\"counts\"].sum()"
   ]
  },
  {
   "cell_type": "code",
   "execution_count": 157,
   "metadata": {},
   "outputs": [
    {
     "data": {
      "text/html": [
       "<div>\n",
       "<style scoped>\n",
       "    .dataframe tbody tr th:only-of-type {\n",
       "        vertical-align: middle;\n",
       "    }\n",
       "\n",
       "    .dataframe tbody tr th {\n",
       "        vertical-align: top;\n",
       "    }\n",
       "\n",
       "    .dataframe thead th {\n",
       "        text-align: right;\n",
       "    }\n",
       "</style>\n",
       "<table border=\"1\" class=\"dataframe\">\n",
       "  <thead>\n",
       "    <tr style=\"text-align: right;\">\n",
       "      <th></th>\n",
       "      <th>Ready to receive</th>\n",
       "      <th>Soon</th>\n",
       "      <th>by 2022</th>\n",
       "      <th>by 2023</th>\n",
       "      <th>by 2024</th>\n",
       "      <th>by 2025</th>\n",
       "      <th>by 2026</th>\n",
       "      <th>by 2027</th>\n",
       "      <th>within 6 months</th>\n",
       "    </tr>\n",
       "  </thead>\n",
       "  <tbody>\n",
       "    <tr>\n",
       "      <th>0</th>\n",
       "      <td>3442</td>\n",
       "      <td>508</td>\n",
       "      <td>51</td>\n",
       "      <td>238</td>\n",
       "      <td>337</td>\n",
       "      <td>302</td>\n",
       "      <td>147</td>\n",
       "      <td>3</td>\n",
       "      <td>53</td>\n",
       "    </tr>\n",
       "  </tbody>\n",
       "</table>\n",
       "</div>"
      ],
      "text/plain": [
       "   Ready to receive  Soon  by 2022  by 2023  by 2024  by 2025  by 2026  \\\n",
       "0              3442   508       51      238      337      302      147   \n",
       "\n",
       "   by 2027  within 6 months  \n",
       "0        3               53  "
      ]
     },
     "execution_count": 157,
     "metadata": {},
     "output_type": "execute_result"
    }
   ],
   "source": [
    "Date_of_Receiving_the_units = pd.DataFrame(data = \n",
    "                                           {\"Ready to receive\":3442,\n",
    "                                            \"Soon\":508,\n",
    "                                            \"by 2022\":51,\n",
    "                                            \"by 2023\":238,\n",
    "                                            \"by 2024\":337,\n",
    "                                            \"by 2025\":302,\n",
    "                                            \"by 2026\":147,\n",
    "                                            \"by 2027\":3,\n",
    "                                            \"within 6 months\" :53\n",
    "                                           },index=[0])\n",
    "Date_of_Receiving_the_units"
   ]
  },
  {
   "cell_type": "markdown",
   "metadata": {},
   "source": [
    "## Cash or installmeent"
   ]
  },
  {
   "cell_type": "code",
   "execution_count": 158,
   "metadata": {},
   "outputs": [
    {
     "data": {
      "text/plain": [
       "<StringArray>\n",
       "['Cash', 'Cash or Installment', 'Installment']\n",
       "Length: 3, dtype: string"
      ]
     },
     "execution_count": 158,
     "metadata": {},
     "output_type": "execute_result"
    }
   ],
   "source": [
    "index = pd.DataFrame(data = df[df[\"Payment_Option\"] != \"Unknown Payment\"])[\"Payment_Option\"].reset_index()\n",
    "index[\"Payment_Option\"].unique()"
   ]
  },
  {
   "cell_type": "code",
   "execution_count": 159,
   "metadata": {},
   "outputs": [],
   "source": [
    "indexpie= index[\"Payment_Option\"].value_counts().reset_index()\n",
    "indexpie.reset_index()\n",
    "indexpie[[\"Payment_Option\",\"count\"]] = indexpie[[\"index\",\"Payment_Option\"]]\n"
   ]
  },
  {
   "cell_type": "code",
   "execution_count": 160,
   "metadata": {},
   "outputs": [
    {
     "data": {
      "image/png": "[encoded data removed]",
      "text/plain": [
       "<Figure size 720x360 with 1 Axes>"
      ]
     },
     "metadata": {
      "needs_background": "light"
     },
     "output_type": "display_data"
    }
   ],
   "source": [
    "plt.figure(figsize =(10,5))\n",
    "sns.countplot(x=\"Payment_Option\",data=index,palette=\"icefire\")\n",
    "plt.xlabel(\"Payment_Option\",fontsize=10,color=\"black\")\n",
    "plt.ylabel(\"COUNT\",fontsize=10,color=\"black\")\n",
    "plt.title(\"Payment Methods\",fontsize=20)\n",
    "plt.show()"
   ]
  },
  {
   "cell_type": "code",
   "execution_count": 161,
   "metadata": {},
   "outputs": [
    {
     "data": {
      "application/vnd.plotly.v1+json": {
       "config": {
        "plotlyServerURL": "https://plot.ly"
       },
       "data": [
        {
         "domain": {
          "x": [
           0,
           1
          ],
          "y": [
           0,
           1
          ]
         },
         "hovertemplate": "Payment_Option=%{label}<br>count=%{value}<extra></extra>",
         "labels": [
          "Cash",
          "Cash or Installment",
          "Installment"
         ],
         "legendgroup": "",
         "name": "",
         "showlegend": true,
         "type": "pie",
         "values": [
          2382,
          1575,
          943
         ]
        }
       ],
       "layout": {
        "legend": {
         "tracegroupgap": 0
        },
        "margin": {
         "t": 60
        },
        "template": {
         "data": {
          "bar": [
           {
            "error_x": {
             "color": "#2a3f5f"
            },
            "error_y": {
             "color": "#2a3f5f"
            },
            "marker": {
             "line": {
              "color": "#E5ECF6",
              "width": 0.5
             },
             "pattern": {
              "fillmode": "overlay",
              "size": 10,
              "solidity": 0.2
             }
            },
            "type": "bar"
           }
          ],
          "barpolar": [
           {
            "marker": {
             "line": {
              "color": "#E5ECF6",
              "width": 0.5
             },
             "pattern": {
              "fillmode": "overlay",
              "size": 10,
              "solidity": 0.2
             }
            },
            "type": "barpolar"
           }
          ],
          "carpet": [
           {
            "aaxis": {
             "endlinecolor": "#2a3f5f",
             "gridcolor": "white",
             "linecolor": "white",
             "minorgridcolor": "white",
             "startlinecolor": "#2a3f5f"
            },
            "baxis": {
             "endlinecolor": "#2a3f5f",
             "gridcolor": "white",
             "linecolor": "white",
             "minorgridcolor": "white",
             "startlinecolor": "#2a3f5f"
            },
            "type": "carpet"
           }
          ],
          "choropleth": [
           {
            "colorbar": {
             "outlinewidth": 0,
             "ticks": ""
            },
            "type": "choropleth"
           }
          ],
          "contour": [
           {
            "colorbar": {
             "outlinewidth": 0,
             "ticks": ""
            },
            "colorscale": [
             [
              0,
              "#0d0887"
             ],
             [
              0.1111111111111111,
              "#46039f"
             ],
             [
              0.2222222222222222,
              "#7201a8"
             ],
             [
              0.3333333333333333,
              "#9c179e"
             ],
             [
              0.4444444444444444,
              "#bd3786"
             ],
             [
              0.5555555555555556,
              "#d8576b"
             ],
             [
              0.6666666666666666,
              "#ed7953"
             ],
             [
              0.7777777777777778,
              "#fb9f3a"
             ],
             [
              0.8888888888888888,
              "#fdca26"
             ],
             [
              1,
              "#f0f921"
             ]
            ],
            "type": "contour"
           }
          ],
          "contourcarpet": [
           {
            "colorbar": {
             "outlinewidth": 0,
             "ticks": ""
            },
            "type": "contourcarpet"
           }
          ],
          "heatmap": [
           {
            "colorbar": {
             "outlinewidth": 0,
             "ticks": ""
            },
            "colorscale": [
             [
              0,
              "#0d0887"
             ],
             [
              0.1111111111111111,
              "#46039f"
             ],
             [
              0.2222222222222222,
              "#7201a8"
             ],
             [
              0.3333333333333333,
              "#9c179e"
             ],
             [
              0.4444444444444444,
              "#bd3786"
             ],
             [
              0.5555555555555556,
              "#d8576b"
             ],
             [
              0.6666666666666666,
              "#ed7953"
             ],
             [
              0.7777777777777778,
              "#fb9f3a"
             ],
             [
              0.8888888888888888,
              "#fdca26"
             ],
             [
              1,
              "#f0f921"
             ]
            ],
            "type": "heatmap"
           }
          ],
          "heatmapgl": [
           {
            "colorbar": {
             "outlinewidth": 0,
             "ticks": ""
            },
            "colorscale": [
             [
              0,
              "#0d0887"
             ],
             [
              0.1111111111111111,
              "#46039f"
             ],
             [
              0.2222222222222222,
              "#7201a8"
             ],
             [
              0.3333333333333333,
              "#9c179e"
             ],
             [
              0.4444444444444444,
              "#bd3786"
             ],
             [
              0.5555555555555556,
              "#d8576b"
             ],
             [
              0.6666666666666666,
              "#ed7953"
             ],
             [
              0.7777777777777778,
              "#fb9f3a"
             ],
             [
              0.8888888888888888,
              "#fdca26"
             ],
             [
              1,
              "#f0f921"
             ]
            ],
            "type": "heatmapgl"
           }
          ],
          "histogram": [
           {
            "marker": {
             "pattern": {
              "fillmode": "overlay",
              "size": 10,
              "solidity": 0.2
             }
            },
            "type": "histogram"
           }
          ],
          "histogram2d": [
           {
            "colorbar": {
             "outlinewidth": 0,
             "ticks": ""
            },
            "colorscale": [
             [
              0,
              "#0d0887"
             ],
             [
              0.1111111111111111,
              "#46039f"
             ],
             [
              0.2222222222222222,
              "#7201a8"
             ],
             [
              0.3333333333333333,
              "#9c179e"
             ],
             [
              0.4444444444444444,
              "#bd3786"
             ],
             [
              0.5555555555555556,
              "#d8576b"
             ],
             [
              0.6666666666666666,
              "#ed7953"
             ],
             [
              0.7777777777777778,
              "#fb9f3a"
             ],
             [
              0.8888888888888888,
              "#fdca26"
             ],
             [
              1,
              "#f0f921"
             ]
            ],
            "type": "histogram2d"
           }
          ],
          "histogram2dcontour": [
           {
            "colorbar": {
             "outlinewidth": 0,
             "ticks": ""
            },
            "colorscale": [
             [
              0,
              "#0d0887"
             ],
             [
              0.1111111111111111,
              "#46039f"
             ],
             [
              0.2222222222222222,
              "#7201a8"
             ],
             [
              0.3333333333333333,
              "#9c179e"
             ],
             [
              0.4444444444444444,
              "#bd3786"
             ],
             [
              0.5555555555555556,
              "#d8576b"
             ],
             [
              0.6666666666666666,
              "#ed7953"
             ],
             [
              0.7777777777777778,
              "#fb9f3a"
             ],
             [
              0.8888888888888888,
              "#fdca26"
             ],
             [
              1,
              "#f0f921"
             ]
            ],
            "type": "histogram2dcontour"
           }
          ],
          "mesh3d": [
           {
            "colorbar": {
             "outlinewidth": 0,
             "ticks": ""
            },
            "type": "mesh3d"
           }
          ],
          "parcoords": [
           {
            "line": {
             "colorbar": {
              "outlinewidth": 0,
              "ticks": ""
             }
            },
            "type": "parcoords"
           }
          ],
          "pie": [
           {
            "automargin": true,
            "type": "pie"
           }
          ],
          "scatter": [
           {
            "fillpattern": {
             "fillmode": "overlay",
             "size": 10,
             "solidity": 0.2
            },
            "type": "scatter"
           }
          ],
          "scatter3d": [
           {
            "line": {
             "colorbar": {
              "outlinewidth": 0,
              "ticks": ""
             }
            },
            "marker": {
             "colorbar": {
              "outlinewidth": 0,
              "ticks": ""
             }
            },
            "type": "scatter3d"
           }
          ],
          "scattercarpet": [
           {
            "marker": {
             "colorbar": {
              "outlinewidth": 0,
              "ticks": ""
             }
            },
            "type": "scattercarpet"
           }
          ],
          "scattergeo": [
           {
            "marker": {
             "colorbar": {
              "outlinewidth": 0,
              "ticks": ""
             }
            },
            "type": "scattergeo"
           }
          ],
          "scattergl": [
           {
            "marker": {
             "colorbar": {
              "outlinewidth": 0,
              "ticks": ""
             }
            },
            "type": "scattergl"
           }
          ],
          "scattermapbox": [
           {
            "marker": {
             "colorbar": {
              "outlinewidth": 0,
              "ticks": ""
             }
            },
            "type": "scattermapbox"
           }
          ],
          "scatterpolar": [
           {
            "marker": {
             "colorbar": {
              "outlinewidth": 0,
              "ticks": ""
             }
            },
            "type": "scatterpolar"
           }
          ],
          "scatterpolargl": [
           {
            "marker": {
             "colorbar": {
              "outlinewidth": 0,
              "ticks": ""
             }
            },
            "type": "scatterpolargl"
           }
          ],
          "scatterternary": [
           {
            "marker": {
             "colorbar": {
              "outlinewidth": 0,
              "ticks": ""
             }
            },
            "type": "scatterternary"
           }
          ],
          "surface": [
           {
            "colorbar": {
             "outlinewidth": 0,
             "ticks": ""
            },
            "colorscale": [
             [
              0,
              "#0d0887"
             ],
             [
              0.1111111111111111,
              "#46039f"
             ],
             [
              0.2222222222222222,
              "#7201a8"
             ],
             [
              0.3333333333333333,
              "#9c179e"
             ],
             [
              0.4444444444444444,
              "#bd3786"
             ],
             [
              0.5555555555555556,
              "#d8576b"
             ],
             [
              0.6666666666666666,
              "#ed7953"
             ],
             [
              0.7777777777777778,
              "#fb9f3a"
             ],
             [
              0.8888888888888888,
              "#fdca26"
             ],
             [
              1,
              "#f0f921"
             ]
            ],
            "type": "surface"
           }
          ],
          "table": [
           {
            "cells": {
             "fill": {
              "color": "#EBF0F8"
             },
             "line": {
              "color": "white"
             }
            },
            "header": {
             "fill": {
              "color": "#C8D4E3"
             },
             "line": {
              "color": "white"
             }
            },
            "type": "table"
           }
          ]
         },
         "layout": {
          "annotationdefaults": {
           "arrowcolor": "#2a3f5f",
           "arrowhead": 0,
           "arrowwidth": 1
          },
          "autotypenumbers": "strict",
          "coloraxis": {
           "colorbar": {
            "outlinewidth": 0,
            "ticks": ""
           }
          },
          "colorscale": {
           "diverging": [
            [
             0,
             "#8e0152"
            ],
            [
             0.1,
             "#c51b7d"
            ],
            [
             0.2,
             "#de77ae"
            ],
            [
             0.3,
             "#f1b6da"
            ],
            [
             0.4,
             "#fde0ef"
            ],
            [
             0.5,
             "#f7f7f7"
            ],
            [
             0.6,
             "#e6f5d0"
            ],
            [
             0.7,
             "#b8e186"
            ],
            [
             0.8,
             "#7fbc41"
            ],
            [
             0.9,
             "#4d9221"
            ],
            [
             1,
             "#276419"
            ]
           ],
           "sequential": [
            [
             0,
             "#0d0887"
            ],
            [
             0.1111111111111111,
             "#46039f"
            ],
            [
             0.2222222222222222,
             "#7201a8"
            ],
            [
             0.3333333333333333,
             "#9c179e"
            ],
            [
             0.4444444444444444,
             "#bd3786"
            ],
            [
             0.5555555555555556,
             "#d8576b"
            ],
            [
             0.6666666666666666,
             "#ed7953"
            ],
            [
             0.7777777777777778,
             "#fb9f3a"
            ],
            [
             0.8888888888888888,
             "#fdca26"
            ],
            [
             1,
             "#f0f921"
            ]
           ],
           "sequentialminus": [
            [
             0,
             "#0d0887"
            ],
            [
             0.1111111111111111,
             "#46039f"
            ],
            [
             0.2222222222222222,
             "#7201a8"
            ],
            [
             0.3333333333333333,
             "#9c179e"
            ],
            [
             0.4444444444444444,
             "#bd3786"
            ],
            [
             0.5555555555555556,
             "#d8576b"
            ],
            [
             0.6666666666666666,
             "#ed7953"
            ],
            [
             0.7777777777777778,
             "#fb9f3a"
            ],
            [
             0.8888888888888888,
             "#fdca26"
            ],
            [
             1,
             "#f0f921"
            ]
           ]
          },
          "colorway": [
           "#636efa",
           "#EF553B",
           "#00cc96",
           "#ab63fa",
           "#FFA15A",
           "#19d3f3",
           "#FF6692",
           "#B6E880",
           "#FF97FF",
           "#FECB52"
          ],
          "font": {
           "color": "#2a3f5f"
          },
          "geo": {
           "bgcolor": "white",
           "lakecolor": "white",
           "landcolor": "#E5ECF6",
           "showlakes": true,
           "showland": true,
           "subunitcolor": "white"
          },
          "hoverlabel": {
           "align": "left"
          },
          "hovermode": "closest",
          "mapbox": {
           "style": "light"
          },
          "paper_bgcolor": "white",
          "plot_bgcolor": "#E5ECF6",
          "polar": {
           "angularaxis": {
            "gridcolor": "white",
            "linecolor": "white",
            "ticks": ""
           },
           "bgcolor": "#E5ECF6",
           "radialaxis": {
            "gridcolor": "white",
            "linecolor": "white",
            "ticks": ""
           }
          },
          "scene": {
           "xaxis": {
            "backgroundcolor": "#E5ECF6",
            "gridcolor": "white",
            "gridwidth": 2,
            "linecolor": "white",
            "showbackground": true,
            "ticks": "",
            "zerolinecolor": "white"
           },
           "yaxis": {
            "backgroundcolor": "#E5ECF6",
            "gridcolor": "white",
            "gridwidth": 2,
            "linecolor": "white",
            "showbackground": true,
            "ticks": "",
            "zerolinecolor": "white"
           },
           "zaxis": {
            "backgroundcolor": "#E5ECF6",
            "gridcolor": "white",
            "gridwidth": 2,
            "linecolor": "white",
            "showbackground": true,
            "ticks": "",
            "zerolinecolor": "white"
           }
          },
          "shapedefaults": {
           "line": {
            "color": "#2a3f5f"
           }
          },
          "ternary": {
           "aaxis": {
            "gridcolor": "white",
            "linecolor": "white",
            "ticks": ""
           },
           "baxis": {
            "gridcolor": "white",
            "linecolor": "white",
            "ticks": ""
           },
           "bgcolor": "#E5ECF6",
           "caxis": {
            "gridcolor": "white",
            "linecolor": "white",
            "ticks": ""
           }
          },
          "title": {
           "x": 0.05
          },
          "xaxis": {
           "automargin": true,
           "gridcolor": "white",
           "linecolor": "white",
           "ticks": "",
           "title": {
            "standoff": 15
           },
           "zerolinecolor": "white",
           "zerolinewidth": 2
          },
          "yaxis": {
           "automargin": true,
           "gridcolor": "white",
           "linecolor": "white",
           "ticks": "",
           "title": {
            "standoff": 15
           },
           "zerolinecolor": "white",
           "zerolinewidth": 2
          }
         }
        }
       }
      },
      "text/html": [
       "<div>                            <div id=\"36da23a9-ec40-4ac8-a825-f32dfe730cf1\" class=\"plotly-graph-div\" style=\"height:525px; width:100%;\"></div>            <script type=\"text/javascript\">                require([\"plotly\"], function(Plotly) {                    window.PLOTLYENV=window.PLOTLYENV || {};                                    if (document.getElementById(\"36da23a9-ec40-4ac8-a825-f32dfe730cf1\")) {                    Plotly.newPlot(                        \"36da23a9-ec40-4ac8-a825-f32dfe730cf1\",                        [{\"domain\":{\"x\":[0.0,1.0],\"y\":[0.0,1.0]},\"hovertemplate\":\"Payment_Option=%{label}\\u003cbr\\u003ecount=%{value}\\u003cextra\\u003e\\u003c\\u002fextra\\u003e\",\"labels\":[\"Cash\",\"Cash or Installment\",\"Installment\"],\"legendgroup\":\"\",\"name\":\"\",\"showlegend\":true,\"values\":[2382,1575,943],\"type\":\"pie\"}],                        {\"template\":{\"data\":{\"histogram2dcontour\":[{\"type\":\"histogram2dcontour\",\"colorbar\":{\"outlinewidth\":0,\"ticks\":\"\"},\"colorscale\":[[0.0,\"#0d0887\"],[0.1111111111111111,\"#46039f\"],[0.2222222222222222,\"#7201a8\"],[0.3333333333333333,\"#9c179e\"],[0.4444444444444444,\"#bd3786\"],[0.5555555555555556,\"#d8576b\"],[0.6666666666666666,\"#ed7953\"],[0.7777777777777778,\"#fb9f3a\"],[0.8888888888888888,\"#fdca26\"],[1.0,\"#f0f921\"]]}],\"choropleth\":[{\"type\":\"choropleth\",\"colorbar\":{\"outlinewidth\":0,\"ticks\":\"\"}}],\"histogram2d\":[{\"type\":\"histogram2d\",\"colorbar\":{\"outlinewidth\":0,\"ticks\":\"\"},\"colorscale\":[[0.0,\"#0d0887\"],[0.1111111111111111,\"#46039f\"],[0.2222222222222222,\"#7201a8\"],[0.3333333333333333,\"#9c179e\"],[0.4444444444444444,\"#bd3786\"],[0.5555555555555556,\"#d8576b\"],[0.6666666666666666,\"#ed7953\"],[0.7777777777777778,\"#fb9f3a\"],[0.8888888888888888,\"#fdca26\"],[1.0,\"#f0f921\"]]}],\"heatmap\":[{\"type\":\"heatmap\",\"colorbar\":{\"outlinewidth\":0,\"ticks\":\"\"},\"colorscale\":[[0.0,\"#0d0887\"],[0.1111111111111111,\"#46039f\"],[0.2222222222222222,\"#7201a8\"],[0.3333333333333333,\"#9c179e\"],[0.4444444444444444,\"#bd3786\"],[0.5555555555555556,\"#d8576b\"],[0.6666666666666666,\"#ed7953\"],[0.7777777777777778,\"#fb9f3a\"],[0.8888888888888888,\"#fdca26\"],[1.0,\"#f0f921\"]]}],\"heatmapgl\":[{\"type\":\"heatmapgl\",\"colorbar\":{\"outlinewidth\":0,\"ticks\":\"\"},\"colorscale\":[[0.0,\"#0d0887\"],[0.1111111111111111,\"#46039f\"],[0.2222222222222222,\"#7201a8\"],[0.3333333333333333,\"#9c179e\"],[0.4444444444444444,\"#bd3786\"],[0.5555555555555556,\"#d8576b\"],[0.6666666666666666,\"#ed7953\"],[0.7777777777777778,\"#fb9f3a\"],[0.8888888888888888,\"#fdca26\"],[1.0,\"#f0f921\"]]}],\"contourcarpet\":[{\"type\":\"contourcarpet\",\"colorbar\":{\"outlinewidth\":0,\"ticks\":\"\"}}],\"contour\":[{\"type\":\"contour\",\"colorbar\":{\"outlinewidth\":0,\"ticks\":\"\"},\"colorscale\":[[0.0,\"#0d0887\"],[0.1111111111111111,\"#46039f\"],[0.2222222222222222,\"#7201a8\"],[0.3333333333333333,\"#9c179e\"],[0.4444444444444444,\"#bd3786\"],[0.5555555555555556,\"#d8576b\"],[0.6666666666666666,\"#ed7953\"],[0.7777777777777778,\"#fb9f3a\"],[0.8888888888888888,\"#fdca26\"],[1.0,\"#f0f921\"]]}],\"surface\":[{\"type\":\"surface\",\"colorbar\":{\"outlinewidth\":0,\"ticks\":\"\"},\"colorscale\":[[0.0,\"#0d0887\"],[0.1111111111111111,\"#46039f\"],[0.2222222222222222,\"#7201a8\"],[0.3333333333333333,\"#9c179e\"],[0.4444444444444444,\"#bd3786\"],[0.5555555555555556,\"#d8576b\"],[0.6666666666666666,\"#ed7953\"],[0.7777777777777778,\"#fb9f3a\"],[0.8888888888888888,\"#fdca26\"],[1.0,\"#f0f921\"]]}],\"mesh3d\":[{\"type\":\"mesh3d\",\"colorbar\":{\"outlinewidth\":0,\"ticks\":\"\"}}],\"scatter\":[{\"fillpattern\":{\"fillmode\":\"overlay\",\"size\":10,\"solidity\":0.2},\"type\":\"scatter\"}],\"parcoords\":[{\"type\":\"parcoords\",\"line\":{\"colorbar\":{\"outlinewidth\":0,\"ticks\":\"\"}}}],\"scatterpolargl\":[{\"type\":\"scatterpolargl\",\"marker\":{\"colorbar\":{\"outlinewidth\":0,\"ticks\":\"\"}}}],\"bar\":[{\"error_x\":{\"color\":\"#2a3f5f\"},\"error_y\":{\"color\":\"#2a3f5f\"},\"marker\":{\"line\":{\"color\":\"#E5ECF6\",\"width\":0.5},\"pattern\":{\"fillmode\":\"overlay\",\"size\":10,\"solidity\":0.2}},\"type\":\"bar\"}],\"scattergeo\":[{\"type\":\"scattergeo\",\"marker\":{\"colorbar\":{\"outlinewidth\":0,\"ticks\":\"\"}}}],\"scatterpolar\":[{\"type\":\"scatterpolar\",\"marker\":{\"colorbar\":{\"outlinewidth\":0,\"ticks\":\"\"}}}],\"histogram\":[{\"marker\":{\"pattern\":{\"fillmode\":\"overlay\",\"size\":10,\"solidity\":0.2}},\"type\":\"histogram\"}],\"scattergl\":[{\"type\":\"scattergl\",\"marker\":{\"colorbar\":{\"outlinewidth\":0,\"ticks\":\"\"}}}],\"scatter3d\":[{\"type\":\"scatter3d\",\"line\":{\"colorbar\":{\"outlinewidth\":0,\"ticks\":\"\"}},\"marker\":{\"colorbar\":{\"outlinewidth\":0,\"ticks\":\"\"}}}],\"scattermapbox\":[{\"type\":\"scattermapbox\",\"marker\":{\"colorbar\":{\"outlinewidth\":0,\"ticks\":\"\"}}}],\"scatterternary\":[{\"type\":\"scatterternary\",\"marker\":{\"colorbar\":{\"outlinewidth\":0,\"ticks\":\"\"}}}],\"scattercarpet\":[{\"type\":\"scattercarpet\",\"marker\":{\"colorbar\":{\"outlinewidth\":0,\"ticks\":\"\"}}}],\"carpet\":[{\"aaxis\":{\"endlinecolor\":\"#2a3f5f\",\"gridcolor\":\"white\",\"linecolor\":\"white\",\"minorgridcolor\":\"white\",\"startlinecolor\":\"#2a3f5f\"},\"baxis\":{\"endlinecolor\":\"#2a3f5f\",\"gridcolor\":\"white\",\"linecolor\":\"white\",\"minorgridcolor\":\"white\",\"startlinecolor\":\"#2a3f5f\"},\"type\":\"carpet\"}],\"table\":[{\"cells\":{\"fill\":{\"color\":\"#EBF0F8\"},\"line\":{\"color\":\"white\"}},\"header\":{\"fill\":{\"color\":\"#C8D4E3\"},\"line\":{\"color\":\"white\"}},\"type\":\"table\"}],\"barpolar\":[{\"marker\":{\"line\":{\"color\":\"#E5ECF6\",\"width\":0.5},\"pattern\":{\"fillmode\":\"overlay\",\"size\":10,\"solidity\":0.2}},\"type\":\"barpolar\"}],\"pie\":[{\"automargin\":true,\"type\":\"pie\"}]},\"layout\":{\"autotypenumbers\":\"strict\",\"colorway\":[\"#636efa\",\"#EF553B\",\"#00cc96\",\"#ab63fa\",\"#FFA15A\",\"#19d3f3\",\"#FF6692\",\"#B6E880\",\"#FF97FF\",\"#FECB52\"],\"font\":{\"color\":\"#2a3f5f\"},\"hovermode\":\"closest\",\"hoverlabel\":{\"align\":\"left\"},\"paper_bgcolor\":\"white\",\"plot_bgcolor\":\"#E5ECF6\",\"polar\":{\"bgcolor\":\"#E5ECF6\",\"angularaxis\":{\"gridcolor\":\"white\",\"linecolor\":\"white\",\"ticks\":\"\"},\"radialaxis\":{\"gridcolor\":\"white\",\"linecolor\":\"white\",\"ticks\":\"\"}},\"ternary\":{\"bgcolor\":\"#E5ECF6\",\"aaxis\":{\"gridcolor\":\"white\",\"linecolor\":\"white\",\"ticks\":\"\"},\"baxis\":{\"gridcolor\":\"white\",\"linecolor\":\"white\",\"ticks\":\"\"},\"caxis\":{\"gridcolor\":\"white\",\"linecolor\":\"white\",\"ticks\":\"\"}},\"coloraxis\":{\"colorbar\":{\"outlinewidth\":0,\"ticks\":\"\"}},\"colorscale\":{\"sequential\":[[0.0,\"#0d0887\"],[0.1111111111111111,\"#46039f\"],[0.2222222222222222,\"#7201a8\"],[0.3333333333333333,\"#9c179e\"],[0.4444444444444444,\"#bd3786\"],[0.5555555555555556,\"#d8576b\"],[0.6666666666666666,\"#ed7953\"],[0.7777777777777778,\"#fb9f3a\"],[0.8888888888888888,\"#fdca26\"],[1.0,\"#f0f921\"]],\"sequentialminus\":[[0.0,\"#0d0887\"],[0.1111111111111111,\"#46039f\"],[0.2222222222222222,\"#7201a8\"],[0.3333333333333333,\"#9c179e\"],[0.4444444444444444,\"#bd3786\"],[0.5555555555555556,\"#d8576b\"],[0.6666666666666666,\"#ed7953\"],[0.7777777777777778,\"#fb9f3a\"],[0.8888888888888888,\"#fdca26\"],[1.0,\"#f0f921\"]],\"diverging\":[[0,\"#8e0152\"],[0.1,\"#c51b7d\"],[0.2,\"#de77ae\"],[0.3,\"#f1b6da\"],[0.4,\"#fde0ef\"],[0.5,\"#f7f7f7\"],[0.6,\"#e6f5d0\"],[0.7,\"#b8e186\"],[0.8,\"#7fbc41\"],[0.9,\"#4d9221\"],[1,\"#276419\"]]},\"xaxis\":{\"gridcolor\":\"white\",\"linecolor\":\"white\",\"ticks\":\"\",\"title\":{\"standoff\":15},\"zerolinecolor\":\"white\",\"automargin\":true,\"zerolinewidth\":2},\"yaxis\":{\"gridcolor\":\"white\",\"linecolor\":\"white\",\"ticks\":\"\",\"title\":{\"standoff\":15},\"zerolinecolor\":\"white\",\"automargin\":true,\"zerolinewidth\":2},\"scene\":{\"xaxis\":{\"backgroundcolor\":\"#E5ECF6\",\"gridcolor\":\"white\",\"linecolor\":\"white\",\"showbackground\":true,\"ticks\":\"\",\"zerolinecolor\":\"white\",\"gridwidth\":2},\"yaxis\":{\"backgroundcolor\":\"#E5ECF6\",\"gridcolor\":\"white\",\"linecolor\":\"white\",\"showbackground\":true,\"ticks\":\"\",\"zerolinecolor\":\"white\",\"gridwidth\":2},\"zaxis\":{\"backgroundcolor\":\"#E5ECF6\",\"gridcolor\":\"white\",\"linecolor\":\"white\",\"showbackground\":true,\"ticks\":\"\",\"zerolinecolor\":\"white\",\"gridwidth\":2}},\"shapedefaults\":{\"line\":{\"color\":\"#2a3f5f\"}},\"annotationdefaults\":{\"arrowcolor\":\"#2a3f5f\",\"arrowhead\":0,\"arrowwidth\":1},\"geo\":{\"bgcolor\":\"white\",\"landcolor\":\"#E5ECF6\",\"subunitcolor\":\"white\",\"showland\":true,\"showlakes\":true,\"lakecolor\":\"white\"},\"title\":{\"x\":0.05},\"mapbox\":{\"style\":\"light\"}}},\"legend\":{\"tracegroupgap\":0},\"margin\":{\"t\":60}},                        {\"responsive\": true}                    ).then(function(){\n",
       "                            \n",
       "var gd = document.getElementById('36da23a9-ec40-4ac8-a825-f32dfe730cf1');\n",
       "var x = new MutationObserver(function (mutations, observer) {{\n",
       "        var display = window.getComputedStyle(gd).display;\n",
       "        if (!display || display === 'none') {{\n",
       "            console.log([gd, 'removed!']);\n",
       "            Plotly.purge(gd);\n",
       "            observer.disconnect();\n",
       "        }}\n",
       "}});\n",
       "\n",
       "// Listen for the removal of the full notebook cells\n",
       "var notebookContainer = gd.closest('#notebook-container');\n",
       "if (notebookContainer) {{\n",
       "    x.observe(notebookContainer, {childList: true});\n",
       "}}\n",
       "\n",
       "// Listen for the clearing of the current output cell\n",
       "var outputEl = gd.closest('.output');\n",
       "if (outputEl) {{\n",
       "    x.observe(outputEl, {childList: true});\n",
       "}}\n",
       "\n",
       "                        })                };                });            </script>        </div>"
      ]
     },
     "metadata": {},
     "output_type": "display_data"
    }
   ],
   "source": [
    "px.pie(data_frame=indexpie,names=\"Payment_Option\",values=\"count\")"
   ]
  },
  {
   "cell_type": "markdown",
   "metadata": {},
   "source": [
    "<a id=\"1\"></a>\n",
    "# <p style=\"padding:10px;background-color:#00A08B;margin:0;color:White;font-family:Georgia;font-size:100%;text-align:center;border-radius: 15px 50px;overflow:hidden;font-weight:500\">Most of homes are bought in cash followed by cash or installment "
   ]
  },
  {
   "cell_type": "markdown",
   "metadata": {},
   "source": [
    "<a id=\"1\"></a>\n",
    "# <p style=\"padding:10px;background-color:#00A08B;margin:0;color:White;font-family:Georgia;font-size:100%;text-align:center;border-radius: 15px 50px;overflow:hidden;font-weight:500\">Result</p>"
   ]
  },
  {
   "cell_type": "markdown",
   "metadata": {},
   "source": [
    "As shown North Coast is the most frequent city\n",
    "Gouna has the hightest prices,the rest have close prices\n",
    "standalone vills are hightest in regard of prices\n",
    "\n",
    "It appears that first and last floors have highest prices\n",
    "\n",
    "70% of the projects are finished and read to be received"
   ]
  }
 ],
 "metadata": {
  "kernelspec": {
   "display_name": "Python 3",
   "language": "python",
   "name": "python3"
  },
  "language_info": {
   "codemirror_mode": {
    "name": "ipython",
    "version": 3
   },
   "file_extension": ".py",
   "mimetype": "text/x-python",
   "name": "python",
   "nbconvert_exporter": "python",
   "pygments_lexer": "ipython3",
   "version": "3.7.6"
  }
 },
 "nbformat": 4,
 "nbformat_minor": 4
}
